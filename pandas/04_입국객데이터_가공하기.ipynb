{
 "cells": [
  {
   "cell_type": "code",
   "execution_count": null,
   "metadata": {},
   "outputs": [],
   "source": [
    "for yyyy in range(2010,2020):\n",
    "    for mm in range(1, 13):\n",
    "        ym =(str(yyyy)+'-'+str(mm).zfill(2))\n",
    "        print(ym)\n"
   ]
  },
  {
   "cell_type": "code",
   "execution_count": 4,
   "metadata": {},
   "outputs": [],
   "source": [
    "import pandas as pd"
   ]
  },
  {
   "cell_type": "code",
   "execution_count": 9,
   "metadata": {},
   "outputs": [],
   "source": [
    "df = pd.DataFrame()\n",
    "\n",
    "ym =0\n",
    "#기준년월 만들기\n",
    "for yyyy in range(2010,2020,1):\n",
    "    for mm in range(1, 13,1):                \n",
    "        try :\n",
    "#기준년월 날짜 함수화        \n",
    "            ym = (str(yyyy)+str(mm).zfill(2))\n",
    "#kto 불러오기\n",
    "            kto_201901 = pd.read_excel(f'./files/kto_{ym}.xlsx',header = 1, skipfooter=4, usecols='A:G')\n",
    "#전처리 시작\n",
    "#0값이 너무 많아 이상치 확인     \n",
    "            condition = (kto_201901['관광'] == 0) | \\\n",
    "                (kto_201901['상용'] == 0) | \\\n",
    "                (kto_201901['공용'] == 0) | \\\n",
    "                (kto_201901['유학/연수'] == 0)\n",
    "#기준년월 추가\n",
    "            kto_201901['기준년월'] = ym\n",
    "#대륙을 없앨지 놔둘지 고민 후 대륙분류 작업\n",
    "            continents_list = ['아시아주','미주','구주','대양주',\n",
    "                                        '아프리카주','기타대륙','교포소계']\n",
    "# 국적 데이터에 continents_list에 대륙 이름이 없는 것만 필터링하기.\n",
    "            kto_201901_country = kto_201901[~kto_201901['국적'].isin(continents_list)]\n",
    "#대륙이름 없애고 인덱스 재설정\n",
    "            kto_201901_country_newindex = kto_201901_country.reset_index(drop=True)\n",
    "#변수 요약화\n",
    "            kt = kto_201901_country_newindex\n",
    "#인덱스별 대륙값 넣기        \n",
    "            continents = ['아시아']*25+['아메리카']*5+['유럽']*23+['오세아니아']*3+['아프리카']*2+['기타대륙']+['교포']\n",
    "\n",
    "            kt['대륙'] = continents\n",
    "#관광객비율 열 만들고 값넣기\n",
    "            kt['관광객비율(%)'] = round((kt['관광']/kt['계']*100),1)\n",
    "            kt.sort_values('관광객비율(%)',ascending=False)\n",
    "#전체비율 열 만들고 값넣기\n",
    "            kt['전체비율(%)'] = round(kt['관광'] / sum(kt['관광'])*100,1)\n",
    "\n",
    "\n",
    "#concat으로 파일들 합치기\n",
    "            df = pd.concat([df,kt], ignore_index=True)\n",
    "#예외처리\n",
    "        except:\n",
    "                pass\n",
    "         \n",
    "\n",
    "                df.to_excel('./kto_total.xlsx')"
   ]
  }
 ],
 "metadata": {
  "interpreter": {
   "hash": "610a6f344c2137faf927ea819c63f6cee33a2c04455044b28099f39fe9722347"
  },
  "kernelspec": {
   "display_name": "Python 3.9.12 ('base')",
   "language": "python",
   "name": "python3"
  },
  "language_info": {
   "codemirror_mode": {
    "name": "ipython",
    "version": 3
   },
   "file_extension": ".py",
   "mimetype": "text/x-python",
   "name": "python",
   "nbconvert_exporter": "python",
   "pygments_lexer": "ipython3",
   "version": "3.9.12"
  },
  "orig_nbformat": 4
 },
 "nbformat": 4,
 "nbformat_minor": 2
}
