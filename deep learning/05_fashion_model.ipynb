{
 "cells": [
  {
   "cell_type": "code",
   "execution_count": 1,
   "metadata": {},
   "outputs": [],
   "source": [
    "## 기본 모듈\n",
    "import numpy as np\n",
    "import pandas as pd\n",
    "import matplotlib.pyplot as plt\n",
    "import seaborn as sns\n",
    "from sklearn.model_selection import train_test_split\n",
    "\n",
    "## 모듈 import\n",
    "from tensorflow import keras\n",
    "from keras.models import Sequential, Model\n",
    "from keras.layers import Dense, Input\n",
    "from keras.utils import to_categorical, plot_model\n",
    "from keras.datasets import mnist\n",
    "from keras.optimizers import RMSprop\n",
    "from keras.losses import CategoricalCrossentropy"
   ]
  },
  {
   "cell_type": "code",
   "execution_count": 2,
   "metadata": {},
   "outputs": [],
   "source": [
    "###\n",
    "from keras.datasets import fashion_mnist"
   ]
  },
  {
   "cell_type": "code",
   "execution_count": 3,
   "metadata": {},
   "outputs": [],
   "source": [
    "fashion_dict = {0 : \"T-shirt/top\",\n",
    "1 : \"Trouser\",\n",
    "2 : \"Pullover\",\n",
    "3 : \"Dress\",\n",
    "4 : \"Coat\",\n",
    "5 : \"Sandal\",\n",
    "6 : \"Shirt\",\n",
    "7 : \"Sneaker\",\n",
    "8 : \"Bag\",\n",
    "9 : \"Ankel boot\",\n",
    "}"
   ]
  },
  {
   "cell_type": "code",
   "execution_count": 4,
   "metadata": {},
   "outputs": [
    {
     "name": "stdout",
     "output_type": "stream",
     "text": [
      "Downloading data from https://storage.googleapis.com/tensorflow/tf-keras-datasets/train-labels-idx1-ubyte.gz\n",
      "29515/29515 [==============================] - 0s 0us/step\n",
      "Downloading data from https://storage.googleapis.com/tensorflow/tf-keras-datasets/train-images-idx3-ubyte.gz\n",
      "26421880/26421880 [==============================] - 1s 0us/step\n",
      "Downloading data from https://storage.googleapis.com/tensorflow/tf-keras-datasets/t10k-labels-idx1-ubyte.gz\n",
      "5148/5148 [==============================] - 0s 0s/step\n",
      "Downloading data from https://storage.googleapis.com/tensorflow/tf-keras-datasets/t10k-images-idx3-ubyte.gz\n",
      "4422102/4422102 [==============================] - 0s 0us/step\n"
     ]
    }
   ],
   "source": [
    "(X_train_full, y_train_full), (X_test, y_test) = fashion_mnist.load_data()"
   ]
  },
  {
   "cell_type": "code",
   "execution_count": 5,
   "metadata": {},
   "outputs": [],
   "source": [
    "X_train, X_val, y_train, y_val = train_test_split(X_train_full, y_train_full)"
   ]
  },
  {
   "cell_type": "code",
   "execution_count": 6,
   "metadata": {},
   "outputs": [
    {
     "name": "stdout",
     "output_type": "stream",
     "text": [
      "Ankel boot\n"
     ]
    },
    {
     "data": {
      "image/png": "[encoded data removed]",
      "text/plain": [
       "<Figure size 432x288 with 1 Axes>"
      ]
     },
     "metadata": {
      "needs_background": "light"
     },
     "output_type": "display_data"
    }
   ],
   "source": [
    "plt.imshow(X_train[0])\n",
    "print(fashion_dict[y_train[0]])"
   ]
  },
  {
   "cell_type": "code",
   "execution_count": 7,
   "metadata": {},
   "outputs": [
    {
     "data": {
      "text/plain": [
       "(45000, 28, 28)"
      ]
     },
     "execution_count": 7,
     "metadata": {},
     "output_type": "execute_result"
    }
   ],
   "source": [
    "X_train.shape"
   ]
  },
  {
   "cell_type": "code",
   "execution_count": 8,
   "metadata": {},
   "outputs": [],
   "source": [
    "from keras.layers import Flatten"
   ]
  },
  {
   "cell_type": "markdown",
   "metadata": {},
   "source": [
    "### X_train --> Flatten --> Dense --> Dense --> Dense --> Dense(output)"
   ]
  },
  {
   "cell_type": "code",
   "execution_count": 9,
   "metadata": {},
   "outputs": [],
   "source": [
    "y_train = to_categorical(y_train)\n",
    "y_val = to_categorical(y_val)\n",
    "y_test = to_categorical(y_test)"
   ]
  },
  {
   "cell_type": "code",
   "execution_count": 10,
   "metadata": {},
   "outputs": [],
   "source": [
    "input_shape = X_train.shape[1:]\n",
    "output_shape = y_train.shape[1]\n",
    "\n",
    "model1 = Sequential(\n",
    "    [\n",
    "        Flatten(input_shape=input_shape),\n",
    "        Dense(2048,activation=\"relu\"),\n",
    "        Dense(1024,activation=\"relu\"),\n",
    "        Dense(512,activation=\"relu\"),\n",
    "        Dense(output_shape,activation=\"softmax\")\n",
    "    ]\n",
    ")\n",
    "\n",
    "model2 = Sequential(\n",
    "    [\n",
    "        Flatten(input_shape=input_shape),\n",
    "        Dense(2048,activation=\"sigmoid\"),\n",
    "        Dense(1024,activation=\"sigmoid\"),\n",
    "        Dense(512,activation=\"sigmoid\"),\n",
    "        Dense(output_shape,activation=\"softmax\")\n",
    "    ]\n",
    ")"
   ]
  },
  {
   "cell_type": "code",
   "execution_count": 11,
   "metadata": {},
   "outputs": [
    {
     "data": {
      "text/plain": [
       "True"
      ]
     },
     "execution_count": 11,
     "metadata": {},
     "output_type": "execute_result"
    }
   ],
   "source": [
    "for i in range(1,len(model1.layers)):\n",
    "    model2.layers[i].set_weights([model1.layers[i].get_weights()[0],\n",
    "                                model1.layers[i].get_weights()[1]])\n",
    "np.sum(model1.layers[1].get_weights()[0]) == np.sum(model2.layers[1].get_weights()[0])"
   ]
  },
  {
   "cell_type": "code",
   "execution_count": 12,
   "metadata": {},
   "outputs": [
    {
     "data": {
      "text/plain": [
       "<keras.callbacks.History at 0x16e19b5f8e0>"
      ]
     },
     "execution_count": 12,
     "metadata": {},
     "output_type": "execute_result"
    }
   ],
   "source": [
    "optimizer = \"adam\"\n",
    "loss = \"categorical_crossentropy\"\n",
    "metrics = [\"accuracy\"]\n",
    "\n",
    "model1.compile(optimizer=optimizer,\n",
    "            loss =loss,\n",
    "            metrics=metrics)\n",
    "model2.compile(optimizer=optimizer,\n",
    "            loss =loss,\n",
    "            metrics=metrics)\n",
    "\n",
    "model1.fit(X_train,\n",
    "        y_train,\n",
    "        epochs=10,\n",
    "        batch_size=400,\n",
    "        verbose=0\n",
    "        )\n",
    "model2.fit(X_train,\n",
    "        y_train,\n",
    "        epochs=10,\n",
    "        batch_size=400,\n",
    "        verbose=0\n",
    "        )"
   ]
  },
  {
   "cell_type": "code",
   "execution_count": 13,
   "metadata": {},
   "outputs": [
    {
     "name": "stdout",
     "output_type": "stream",
     "text": [
      "313/313 [==============================] - 5s 14ms/step - loss: 0.3793 - accuracy: 0.8710\n",
      "relu [0.37931007146835327, 0.8709999918937683]\n",
      "313/313 [==============================] - 5s 14ms/step - loss: 0.5606 - accuracy: 0.7934\n",
      "sigmoid [0.5606306791305542, 0.79339998960495]\n"
     ]
    }
   ],
   "source": [
    "print(\"relu\", model1.evaluate(X_test,y_test))\n",
    "print(\"sigmoid\", model2.evaluate(X_test,y_test))"
   ]
  },
  {
   "cell_type": "code",
   "execution_count": 14,
   "metadata": {},
   "outputs": [],
   "source": [
    "### 분포 값 변경 (relu)"
   ]
  },
  {
   "cell_type": "code",
   "execution_count": 15,
   "metadata": {},
   "outputs": [],
   "source": [
    "input_shape = X_train.shape[1:]\n",
    "output_shape = y_train.shape[1]"
   ]
  },
  {
   "cell_type": "code",
   "execution_count": 22,
   "metadata": {},
   "outputs": [],
   "source": [
    "model1 = Sequential(\n",
    "    [\n",
    "        Flatten(input_shape=input_shape),\n",
    "        Dense(2048,activation=\"relu\"),\n",
    "        Dense(1024,activation=\"relu\"),\n",
    "        Dense(516,activation=\"relu\"),\n",
    "        Dense(output_shape,activation=\"softmax\")\n",
    "    ]\n",
    ")\n",
    "\n",
    "model2 = Sequential(\n",
    "    [\n",
    "        Flatten(input_shape=input_shape),\n",
    "        Dense(2048,activation=\"relu\"),\n",
    "        Dense(1024,activation=\"relu\"),\n",
    "        Dense(512,activation=\"relu\"),\n",
    "        Dense(256,activation=\"relu\"),\n",
    "        Dense(128,activation=\"relu\"),\n",
    "        Dense(output_shape,activation=\"softmax\")\n",
    "    ]\n",
    ")"
   ]
  },
  {
   "cell_type": "code",
   "execution_count": 23,
   "metadata": {},
   "outputs": [
    {
     "data": {
      "text/plain": [
       "<keras.callbacks.History at 0x16e1b9da310>"
      ]
     },
     "execution_count": 23,
     "metadata": {},
     "output_type": "execute_result"
    }
   ],
   "source": [
    "optimizer = \"rmsprop\"\n",
    "loss = \"categorical_crossentropy\"\n",
    "metrics = [\"accuracy\"]\n",
    "\n",
    "model1.compile(optimizer=optimizer,\n",
    "            loss =loss,\n",
    "            metrics=metrics)\n",
    "model2.compile(optimizer=optimizer,\n",
    "            loss =loss,\n",
    "            metrics=metrics)\n",
    "\n",
    "model1.fit(X_train,\n",
    "        y_train,\n",
    "        epochs=10,\n",
    "        batch_size=400,\n",
    "        verbose=0\n",
    "        )\n",
    "model2.fit(X_train,\n",
    "        y_train,\n",
    "        epochs=10,\n",
    "        batch_size=400,\n",
    "        verbose=0\n",
    "        )"
   ]
  },
  {
   "cell_type": "code",
   "execution_count": 24,
   "metadata": {},
   "outputs": [
    {
     "name": "stdout",
     "output_type": "stream",
     "text": [
      "313/313 [==============================] - 5s 16ms/step - loss: 0.6802 - accuracy: 0.8075\n",
      "relu1 [0.6802361011505127, 0.8075000047683716]\n",
      "313/313 [==============================] - 5s 14ms/step - loss: 0.5321 - accuracy: 0.8337\n",
      "relu2 [0.532126247882843, 0.8337000012397766]\n"
     ]
    }
   ],
   "source": [
    "print(\"relu1\", model1.evaluate(X_test,y_test))\n",
    "print(\"relu2\", model2.evaluate(X_test,y_test))"
   ]
  },
  {
   "cell_type": "code",
   "execution_count": null,
   "metadata": {},
   "outputs": [],
   "source": [
    "model1 = Sequential()\n",
    "model1.add(Flatten(input_shape = input_shape))\n",
    "model1.add(Dense(1024,activation=\"relu\"))\n",
    "model1.add(Dense(1024,activation=\"relu\"))\n",
    "model1.add(Dense(516,activation=\"relu\"))\n",
    "model1.add(Dense(output_shape,activation=\"softmax\"))\n",
    "\n",
    "model2 = Sequential()\n",
    "model2.add(Flatten(input_shape = input_shape))\n",
    "model2.add(Dense(1024,activation=\"relu\"))\n",
    "model2.add(Dense(1024,activation=\"relu\"))\n",
    "model2.add(Dense(516,activation=\"relu\"))\n",
    "model2.add(Dense(output_shape,activation=\"softmax\"))\n"
   ]
  },
  {
   "cell_type": "code",
   "execution_count": null,
   "metadata": {},
   "outputs": [],
   "source": [
    "optimizer = \"adam\"\n",
    "loss = \"categorical_crossentropy\"\n",
    "metrics = [\"accuracy\"]\n",
    "\n",
    "model1.compile(optimizer=optimizer,\n",
    "            loss =loss,\n",
    "            metrics=metrics)\n",
    "model2.compile(optimizer=optimizer,\n",
    "            loss =loss,\n",
    "            metrics=metrics)"
   ]
  },
  {
   "cell_type": "code",
   "execution_count": null,
   "metadata": {},
   "outputs": [],
   "source": [
    "from datetime import datetime"
   ]
  },
  {
   "cell_type": "code",
   "execution_count": null,
   "metadata": {},
   "outputs": [],
   "source": [
    "model1_s = datetime.now()\n",
    "model1.fit(X_train,\n",
    "           y_train,\n",
    "           epochs=20,\n",
    "           batch_size=400,\n",
    "           verbose=0)\n",
    "model2.fit(X_train,\n",
    "           y_train,\n",
    "           epochs=20,\n",
    "           batch_size=400,\n",
    "           verbose=0)\n",
    "print(model1.evaluate(X_test,y_test))\n",
    "print(model2.evaluate(X_test,y_test))"
   ]
  },
  {
   "cell_type": "code",
   "execution_count": null,
   "metadata": {},
   "outputs": [],
   "source": [
    "len(X_train)"
   ]
  },
  {
   "cell_type": "code",
   "execution_count": 25,
   "metadata": {},
   "outputs": [],
   "source": [
    "from datetime import datetime"
   ]
  },
  {
   "cell_type": "code",
   "execution_count": null,
   "metadata": {},
   "outputs": [],
   "source": [
    "x"
   ]
  }
 ],
 "metadata": {
  "kernelspec": {
   "display_name": "Python 3.9.12 ('base')",
   "language": "python",
   "name": "python3"
  },
  "language_info": {
   "codemirror_mode": {
    "name": "ipython",
    "version": 3
   },
   "file_extension": ".py",
   "mimetype": "text/x-python",
   "name": "python",
   "nbconvert_exporter": "python",
   "pygments_lexer": "ipython3",
   "version": "3.9.12"
  },
  "orig_nbformat": 4,
  "vscode": {
   "interpreter": {
    "hash": "610a6f344c2137faf927ea819c63f6cee33a2c04455044b28099f39fe9722347"
   }
  }
 },
 "nbformat": 4,
 "nbformat_minor": 2
}
