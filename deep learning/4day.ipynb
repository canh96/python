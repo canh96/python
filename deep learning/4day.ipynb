{
 "cells": [
  {
   "cell_type": "code",
   "execution_count": 30,
   "metadata": {},
   "outputs": [],
   "source": [
    "import numpy as np"
   ]
  },
  {
   "cell_type": "code",
   "execution_count": 31,
   "metadata": {},
   "outputs": [],
   "source": [
    "from sklearn.datasets import load_iris"
   ]
  },
  {
   "cell_type": "code",
   "execution_count": 81,
   "metadata": {},
   "outputs": [],
   "source": [
    "data = load_iris()['data']\n",
    "target = load_iris()['target']\n"
   ]
  },
  {
   "cell_type": "code",
   "execution_count": 45,
   "metadata": {},
   "outputs": [],
   "source": [
    "def sigmoid(x) :\n",
    "    return 1/(1+np.exp(-x))"
   ]
  },
  {
   "cell_type": "code",
   "execution_count": 46,
   "metadata": {},
   "outputs": [],
   "source": [
    "def softmax(x) :\n",
    "    c = np.max(x, axis=1).reshape(-1,1)\n",
    "    x = x-c\n",
    "    return np.exp(x)/np.sum(np.exp(x), axis=1).reshape(-1,1)"
   ]
  },
  {
   "cell_type": "code",
   "execution_count": 72,
   "metadata": {},
   "outputs": [
    {
     "data": {
      "text/plain": [
       "150.0"
      ]
     },
     "execution_count": 72,
     "metadata": {},
     "output_type": "execute_result"
    }
   ],
   "source": [
    "np.sum(softmax(data))"
   ]
  },
  {
   "cell_type": "code",
   "execution_count": 48,
   "metadata": {},
   "outputs": [],
   "source": [
    "def categorical_crossentropy(t,y):\n",
    "    return np.mean(-t*np.log(y))"
   ]
  },
  {
   "cell_type": "code",
   "execution_count": 49,
   "metadata": {},
   "outputs": [],
   "source": [
    "def make_one(x):\n",
    "    result = np.zeros((x.size, np.unique(x).size))\n",
    "    for idx1, idx2 in enumerate(x):\n",
    "        result[idx1, idx2] = 1\n",
    "    return result\n",
    "    "
   ]
  },
  {
   "cell_type": "code",
   "execution_count": 73,
   "metadata": {},
   "outputs": [
    {
     "data": {
      "text/plain": [
       "(150, 4)"
      ]
     },
     "execution_count": 73,
     "metadata": {},
     "output_type": "execute_result"
    }
   ],
   "source": [
    "data.shape"
   ]
  },
  {
   "cell_type": "code",
   "execution_count": 82,
   "metadata": {},
   "outputs": [],
   "source": [
    "target= make_one(target)"
   ]
  },
  {
   "cell_type": "code",
   "execution_count": 83,
   "metadata": {},
   "outputs": [
    {
     "data": {
      "text/plain": [
       "array([[1., 0., 0.],\n",
       "       [1., 0., 0.],\n",
       "       [1., 0., 0.],\n",
       "       [1., 0., 0.],\n",
       "       [1., 0., 0.],\n",
       "       [1., 0., 0.],\n",
       "       [1., 0., 0.],\n",
       "       [1., 0., 0.],\n",
       "       [1., 0., 0.],\n",
       "       [1., 0., 0.],\n",
       "       [1., 0., 0.],\n",
       "       [1., 0., 0.],\n",
       "       [1., 0., 0.],\n",
       "       [1., 0., 0.],\n",
       "       [1., 0., 0.],\n",
       "       [1., 0., 0.],\n",
       "       [1., 0., 0.],\n",
       "       [1., 0., 0.],\n",
       "       [1., 0., 0.],\n",
       "       [1., 0., 0.],\n",
       "       [1., 0., 0.],\n",
       "       [1., 0., 0.],\n",
       "       [1., 0., 0.],\n",
       "       [1., 0., 0.],\n",
       "       [1., 0., 0.],\n",
       "       [1., 0., 0.],\n",
       "       [1., 0., 0.],\n",
       "       [1., 0., 0.],\n",
       "       [1., 0., 0.],\n",
       "       [1., 0., 0.],\n",
       "       [1., 0., 0.],\n",
       "       [1., 0., 0.],\n",
       "       [1., 0., 0.],\n",
       "       [1., 0., 0.],\n",
       "       [1., 0., 0.],\n",
       "       [1., 0., 0.],\n",
       "       [1., 0., 0.],\n",
       "       [1., 0., 0.],\n",
       "       [1., 0., 0.],\n",
       "       [1., 0., 0.],\n",
       "       [1., 0., 0.],\n",
       "       [1., 0., 0.],\n",
       "       [1., 0., 0.],\n",
       "       [1., 0., 0.],\n",
       "       [1., 0., 0.],\n",
       "       [1., 0., 0.],\n",
       "       [1., 0., 0.],\n",
       "       [1., 0., 0.],\n",
       "       [1., 0., 0.],\n",
       "       [1., 0., 0.],\n",
       "       [0., 1., 0.],\n",
       "       [0., 1., 0.],\n",
       "       [0., 1., 0.],\n",
       "       [0., 1., 0.],\n",
       "       [0., 1., 0.],\n",
       "       [0., 1., 0.],\n",
       "       [0., 1., 0.],\n",
       "       [0., 1., 0.],\n",
       "       [0., 1., 0.],\n",
       "       [0., 1., 0.],\n",
       "       [0., 1., 0.],\n",
       "       [0., 1., 0.],\n",
       "       [0., 1., 0.],\n",
       "       [0., 1., 0.],\n",
       "       [0., 1., 0.],\n",
       "       [0., 1., 0.],\n",
       "       [0., 1., 0.],\n",
       "       [0., 1., 0.],\n",
       "       [0., 1., 0.],\n",
       "       [0., 1., 0.],\n",
       "       [0., 1., 0.],\n",
       "       [0., 1., 0.],\n",
       "       [0., 1., 0.],\n",
       "       [0., 1., 0.],\n",
       "       [0., 1., 0.],\n",
       "       [0., 1., 0.],\n",
       "       [0., 1., 0.],\n",
       "       [0., 1., 0.],\n",
       "       [0., 1., 0.],\n",
       "       [0., 1., 0.],\n",
       "       [0., 1., 0.],\n",
       "       [0., 1., 0.],\n",
       "       [0., 1., 0.],\n",
       "       [0., 1., 0.],\n",
       "       [0., 1., 0.],\n",
       "       [0., 1., 0.],\n",
       "       [0., 1., 0.],\n",
       "       [0., 1., 0.],\n",
       "       [0., 1., 0.],\n",
       "       [0., 1., 0.],\n",
       "       [0., 1., 0.],\n",
       "       [0., 1., 0.],\n",
       "       [0., 1., 0.],\n",
       "       [0., 1., 0.],\n",
       "       [0., 1., 0.],\n",
       "       [0., 1., 0.],\n",
       "       [0., 1., 0.],\n",
       "       [0., 1., 0.],\n",
       "       [0., 1., 0.],\n",
       "       [0., 1., 0.],\n",
       "       [0., 0., 1.],\n",
       "       [0., 0., 1.],\n",
       "       [0., 0., 1.],\n",
       "       [0., 0., 1.],\n",
       "       [0., 0., 1.],\n",
       "       [0., 0., 1.],\n",
       "       [0., 0., 1.],\n",
       "       [0., 0., 1.],\n",
       "       [0., 0., 1.],\n",
       "       [0., 0., 1.],\n",
       "       [0., 0., 1.],\n",
       "       [0., 0., 1.],\n",
       "       [0., 0., 1.],\n",
       "       [0., 0., 1.],\n",
       "       [0., 0., 1.],\n",
       "       [0., 0., 1.],\n",
       "       [0., 0., 1.],\n",
       "       [0., 0., 1.],\n",
       "       [0., 0., 1.],\n",
       "       [0., 0., 1.],\n",
       "       [0., 0., 1.],\n",
       "       [0., 0., 1.],\n",
       "       [0., 0., 1.],\n",
       "       [0., 0., 1.],\n",
       "       [0., 0., 1.],\n",
       "       [0., 0., 1.],\n",
       "       [0., 0., 1.],\n",
       "       [0., 0., 1.],\n",
       "       [0., 0., 1.],\n",
       "       [0., 0., 1.],\n",
       "       [0., 0., 1.],\n",
       "       [0., 0., 1.],\n",
       "       [0., 0., 1.],\n",
       "       [0., 0., 1.],\n",
       "       [0., 0., 1.],\n",
       "       [0., 0., 1.],\n",
       "       [0., 0., 1.],\n",
       "       [0., 0., 1.],\n",
       "       [0., 0., 1.],\n",
       "       [0., 0., 1.],\n",
       "       [0., 0., 1.],\n",
       "       [0., 0., 1.],\n",
       "       [0., 0., 1.],\n",
       "       [0., 0., 1.],\n",
       "       [0., 0., 1.],\n",
       "       [0., 0., 1.],\n",
       "       [0., 0., 1.],\n",
       "       [0., 0., 1.],\n",
       "       [0., 0., 1.],\n",
       "       [0., 0., 1.]])"
      ]
     },
     "execution_count": 83,
     "metadata": {},
     "output_type": "execute_result"
    }
   ],
   "source": [
    "target"
   ]
  },
  {
   "cell_type": "code",
   "execution_count": 76,
   "metadata": {},
   "outputs": [],
   "source": [
    "input_shape = data.shape[1:]\n",
    "output_shape = target.shape[1:]"
   ]
  },
  {
   "cell_type": "code",
   "execution_count": 55,
   "metadata": {},
   "outputs": [],
   "source": [
    "W1 = np.random.randn(4,50)\n",
    "b1 = np.zeros(50)\n",
    "W2 = np.random.randn(50,3)\n",
    "b2 = np.zeros(3)\n",
    "\n"
   ]
  },
  {
   "cell_type": "code",
   "execution_count": 56,
   "metadata": {},
   "outputs": [],
   "source": [
    "def predict(x) :\n",
    "    W1 = np.random.randn(4,50)\n",
    "    b1 = np.zeros(50)\n",
    "    W2 = np.random.randn(50,3)\n",
    "    b2 = np.zeros(3)\n",
    "    layer1 = np.dot(x,W1) + b1\n",
    "    z1 = sigmoid(layer1)"
   ]
  },
  {
   "cell_type": "code",
   "execution_count": 77,
   "metadata": {},
   "outputs": [],
   "source": [
    "y_hat = predict(data)"
   ]
  },
  {
   "cell_type": "code",
   "execution_count": 78,
   "metadata": {},
   "outputs": [
    {
     "ename": "TypeError",
     "evalue": "loop of ufunc does not support argument 0 of type NoneType which has no callable log method",
     "output_type": "error",
     "traceback": [
      "\u001b[1;31m---------------------------------------------------------------------------\u001b[0m",
      "\u001b[1;31mAttributeError\u001b[0m                            Traceback (most recent call last)",
      "\u001b[1;31mAttributeError\u001b[0m: 'NoneType' object has no attribute 'log'",
      "\nThe above exception was the direct cause of the following exception:\n",
      "\u001b[1;31mTypeError\u001b[0m                                 Traceback (most recent call last)",
      "\u001b[1;32mc:\\Users\\admin\\STUDY\\딥러닝\\1day\\4day.ipynb 셀 16\u001b[0m in \u001b[0;36m<cell line: 1>\u001b[1;34m()\u001b[0m\n\u001b[1;32m----> <a href='vscode-notebook-cell:/c%3A/Users/admin/STUDY/%EB%94%A5%EB%9F%AC%EB%8B%9D/1day/4day.ipynb#X20sZmlsZQ%3D%3D?line=0'>1</a>\u001b[0m categorical_crossentropy(target,y_hat)\n",
      "\u001b[1;32mc:\\Users\\admin\\STUDY\\딥러닝\\1day\\4day.ipynb 셀 16\u001b[0m in \u001b[0;36mcategorical_crossentropy\u001b[1;34m(t, y)\u001b[0m\n\u001b[0;32m      <a href='vscode-notebook-cell:/c%3A/Users/admin/STUDY/%EB%94%A5%EB%9F%AC%EB%8B%9D/1day/4day.ipynb#X20sZmlsZQ%3D%3D?line=0'>1</a>\u001b[0m \u001b[39mdef\u001b[39;00m \u001b[39mcategorical_crossentropy\u001b[39m(t,y):\n\u001b[1;32m----> <a href='vscode-notebook-cell:/c%3A/Users/admin/STUDY/%EB%94%A5%EB%9F%AC%EB%8B%9D/1day/4day.ipynb#X20sZmlsZQ%3D%3D?line=1'>2</a>\u001b[0m     \u001b[39mreturn\u001b[39;00m np\u001b[39m.\u001b[39mmean(\u001b[39m-\u001b[39mt\u001b[39m*\u001b[39mnp\u001b[39m.\u001b[39;49mlog(y))\n",
      "\u001b[1;31mTypeError\u001b[0m: loop of ufunc does not support argument 0 of type NoneType which has no callable log method"
     ]
    }
   ],
   "source": [
    "categorical_crossentropy(target,y_hat)"
   ]
  },
  {
   "cell_type": "code",
   "execution_count": 79,
   "metadata": {},
   "outputs": [],
   "source": [
    "def numerical_gradient(f,x) :\n",
    "    h = 1e-4\n",
    "    grad = np.zeros_like(x)\n",
    "    it = np.nditer(x, flags=['multi_index'], op_flags=['readwrite'])\n",
    "    while not it.finished:\n",
    "        idx = it.multi_index\n",
    "        tmp_val = x[idx]\n",
    "        fxh = f(tmp_val+h)\n",
    "        fx = f(tmp_val)\n",
    "        grad[idx] = (fxh-fx)/h\n",
    "        it.iternext()\n",
    "    return grad"
   ]
  },
  {
   "cell_type": "code",
   "execution_count": null,
   "metadata": {},
   "outputs": [],
   "source": [
    "def gradient_descent(x,y):\n",
    "    y_hat = predict(x)\n",
    "    \n",
    "    W_loss = lambda W : categorical_crossentropy(y,t)\n",
    "    dW1 = numerical_gradient(W_loss,W1)\n",
    "    db1 = numerical_gradient(W_loss,b1)\n",
    "    dW2 = numerical_gradient(W_loss,W2)\n",
    "    db2 = numerical_gradient(W_loss,b2)\n",
    "    W1 -= dW1*lr\n",
    "    b1 -= db1*lr\n",
    "    W2 -= dW2*lr\n",
    "    b2 -= db2*lr"
   ]
  },
  {
   "cell_type": "code",
   "execution_count": null,
   "metadata": {},
   "outputs": [],
   "source": [
    "W1 = np.random.randn(4,50)\n",
    "b1 = np.zeros(50)\n",
    "W2 = np.random.randn(50,3)\n",
    "b2 = np.zeros(3)\n",
    "    "
   ]
  },
  {
   "cell_type": "code",
   "execution_count": 80,
   "metadata": {},
   "outputs": [
    {
     "ename": "TypeError",
     "evalue": "loop of ufunc does not support argument 0 of type NoneType which has no callable log method",
     "output_type": "error",
     "traceback": [
      "\u001b[1;31m---------------------------------------------------------------------------\u001b[0m",
      "\u001b[1;31mAttributeError\u001b[0m                            Traceback (most recent call last)",
      "\u001b[1;31mAttributeError\u001b[0m: 'NoneType' object has no attribute 'log'",
      "\nThe above exception was the direct cause of the following exception:\n",
      "\u001b[1;31mTypeError\u001b[0m                                 Traceback (most recent call last)",
      "\u001b[1;32mc:\\Users\\admin\\STUDY\\딥러닝\\1day\\4day.ipynb 셀 19\u001b[0m in \u001b[0;36m<cell line: 5>\u001b[1;34m()\u001b[0m\n\u001b[0;32m      <a href='vscode-notebook-cell:/c%3A/Users/admin/STUDY/%EB%94%A5%EB%9F%AC%EB%8B%9D/1day/4day.ipynb#X30sZmlsZQ%3D%3D?line=1'>2</a>\u001b[0m y_hat \u001b[39m=\u001b[39m predict(data)\n\u001b[0;32m      <a href='vscode-notebook-cell:/c%3A/Users/admin/STUDY/%EB%94%A5%EB%9F%AC%EB%8B%9D/1day/4day.ipynb#X30sZmlsZQ%3D%3D?line=3'>4</a>\u001b[0m W_loss \u001b[39m=\u001b[39m \u001b[39mlambda\u001b[39;00m W : categorical_crossentropy(target,y_hat)\n\u001b[1;32m----> <a href='vscode-notebook-cell:/c%3A/Users/admin/STUDY/%EB%94%A5%EB%9F%AC%EB%8B%9D/1day/4day.ipynb#X30sZmlsZQ%3D%3D?line=4'>5</a>\u001b[0m dW1 \u001b[39m=\u001b[39m numerical_gradient(W_loss,W1)\n\u001b[0;32m      <a href='vscode-notebook-cell:/c%3A/Users/admin/STUDY/%EB%94%A5%EB%9F%AC%EB%8B%9D/1day/4day.ipynb#X30sZmlsZQ%3D%3D?line=5'>6</a>\u001b[0m db1 \u001b[39m=\u001b[39m numerical_gradient(W_loss,b1)\n\u001b[0;32m      <a href='vscode-notebook-cell:/c%3A/Users/admin/STUDY/%EB%94%A5%EB%9F%AC%EB%8B%9D/1day/4day.ipynb#X30sZmlsZQ%3D%3D?line=6'>7</a>\u001b[0m dW2 \u001b[39m=\u001b[39m numerical_gradient(W_loss,W2)\n",
      "\u001b[1;32mc:\\Users\\admin\\STUDY\\딥러닝\\1day\\4day.ipynb 셀 19\u001b[0m in \u001b[0;36mnumerical_gradient\u001b[1;34m(f, x)\u001b[0m\n\u001b[0;32m      <a href='vscode-notebook-cell:/c%3A/Users/admin/STUDY/%EB%94%A5%EB%9F%AC%EB%8B%9D/1day/4day.ipynb#X30sZmlsZQ%3D%3D?line=5'>6</a>\u001b[0m idx \u001b[39m=\u001b[39m it\u001b[39m.\u001b[39mmulti_index\n\u001b[0;32m      <a href='vscode-notebook-cell:/c%3A/Users/admin/STUDY/%EB%94%A5%EB%9F%AC%EB%8B%9D/1day/4day.ipynb#X30sZmlsZQ%3D%3D?line=6'>7</a>\u001b[0m tmp_val \u001b[39m=\u001b[39m x[idx]\n\u001b[1;32m----> <a href='vscode-notebook-cell:/c%3A/Users/admin/STUDY/%EB%94%A5%EB%9F%AC%EB%8B%9D/1day/4day.ipynb#X30sZmlsZQ%3D%3D?line=7'>8</a>\u001b[0m fxh \u001b[39m=\u001b[39m f(tmp_val\u001b[39m+\u001b[39;49mh)\n\u001b[0;32m      <a href='vscode-notebook-cell:/c%3A/Users/admin/STUDY/%EB%94%A5%EB%9F%AC%EB%8B%9D/1day/4day.ipynb#X30sZmlsZQ%3D%3D?line=8'>9</a>\u001b[0m fx \u001b[39m=\u001b[39m f(tmp_val)\n\u001b[0;32m     <a href='vscode-notebook-cell:/c%3A/Users/admin/STUDY/%EB%94%A5%EB%9F%AC%EB%8B%9D/1day/4day.ipynb#X30sZmlsZQ%3D%3D?line=9'>10</a>\u001b[0m grad[idx] \u001b[39m=\u001b[39m (fxh\u001b[39m-\u001b[39mfx)\u001b[39m/\u001b[39mh\n",
      "\u001b[1;32mc:\\Users\\admin\\STUDY\\딥러닝\\1day\\4day.ipynb 셀 19\u001b[0m in \u001b[0;36m<lambda>\u001b[1;34m(W)\u001b[0m\n\u001b[0;32m      <a href='vscode-notebook-cell:/c%3A/Users/admin/STUDY/%EB%94%A5%EB%9F%AC%EB%8B%9D/1day/4day.ipynb#X30sZmlsZQ%3D%3D?line=0'>1</a>\u001b[0m lr \u001b[39m=\u001b[39m \u001b[39m1e-5\u001b[39m\n\u001b[0;32m      <a href='vscode-notebook-cell:/c%3A/Users/admin/STUDY/%EB%94%A5%EB%9F%AC%EB%8B%9D/1day/4day.ipynb#X30sZmlsZQ%3D%3D?line=1'>2</a>\u001b[0m y_hat \u001b[39m=\u001b[39m predict(data)\n\u001b[1;32m----> <a href='vscode-notebook-cell:/c%3A/Users/admin/STUDY/%EB%94%A5%EB%9F%AC%EB%8B%9D/1day/4day.ipynb#X30sZmlsZQ%3D%3D?line=3'>4</a>\u001b[0m W_loss \u001b[39m=\u001b[39m \u001b[39mlambda\u001b[39;00m W : categorical_crossentropy(target,y_hat)\n\u001b[0;32m      <a href='vscode-notebook-cell:/c%3A/Users/admin/STUDY/%EB%94%A5%EB%9F%AC%EB%8B%9D/1day/4day.ipynb#X30sZmlsZQ%3D%3D?line=4'>5</a>\u001b[0m dW1 \u001b[39m=\u001b[39m numerical_gradient(W_loss,W1)\n\u001b[0;32m      <a href='vscode-notebook-cell:/c%3A/Users/admin/STUDY/%EB%94%A5%EB%9F%AC%EB%8B%9D/1day/4day.ipynb#X30sZmlsZQ%3D%3D?line=5'>6</a>\u001b[0m db1 \u001b[39m=\u001b[39m numerical_gradient(W_loss,b1)\n",
      "\u001b[1;32mc:\\Users\\admin\\STUDY\\딥러닝\\1day\\4day.ipynb 셀 19\u001b[0m in \u001b[0;36mcategorical_crossentropy\u001b[1;34m(t, y)\u001b[0m\n\u001b[0;32m      <a href='vscode-notebook-cell:/c%3A/Users/admin/STUDY/%EB%94%A5%EB%9F%AC%EB%8B%9D/1day/4day.ipynb#X30sZmlsZQ%3D%3D?line=0'>1</a>\u001b[0m \u001b[39mdef\u001b[39;00m \u001b[39mcategorical_crossentropy\u001b[39m(t,y):\n\u001b[1;32m----> <a href='vscode-notebook-cell:/c%3A/Users/admin/STUDY/%EB%94%A5%EB%9F%AC%EB%8B%9D/1day/4day.ipynb#X30sZmlsZQ%3D%3D?line=1'>2</a>\u001b[0m     \u001b[39mreturn\u001b[39;00m np\u001b[39m.\u001b[39mmean(\u001b[39m-\u001b[39mt\u001b[39m*\u001b[39mnp\u001b[39m.\u001b[39;49mlog(y))\n",
      "\u001b[1;31mTypeError\u001b[0m: loop of ufunc does not support argument 0 of type NoneType which has no callable log method"
     ]
    }
   ],
   "source": [
    "lr = 1e-5\n",
    "y_hat = predict(data)\n",
    "    \n",
    "W_loss = lambda W : categorical_crossentropy(target,y_hat)\n",
    "dW1 = numerical_gradient(W_loss,W1)\n",
    "db1 = numerical_gradient(W_loss,b1)\n",
    "dW2 = numerical_gradient(W_loss,W2)\n",
    "db2 = numerical_gradient(W_loss,b2)\n",
    "W1 -= dW1*lr\n",
    "b1 -= db1*lr\n",
    "W2 -= dW2*lr\n",
    "b2 -= db2*lr"
   ]
  },
  {
   "cell_type": "code",
   "execution_count": null,
   "metadata": {},
   "outputs": [],
   "source": [
    "y_hat = predict(data)\n",
    "categorical_crossentropy(target, y_hat)"
   ]
  },
  {
   "cell_type": "code",
   "execution_count": null,
   "metadata": {},
   "outputs": [],
   "source": [
    "gradient_descent(data,target)"
   ]
  },
  {
   "cell_type": "code",
   "execution_count": 125,
   "metadata": {},
   "outputs": [],
   "source": [
    "class Network:\n",
    "    def __init__(self):\n",
    "        self.W1 = np.random.randn(4,50)\n",
    "        self.b1 = np.zeros(50)\n",
    "        self.W2 = np.random.randn(50,3)\n",
    "        self.b2 = np.zeros(3)\n",
    "        self.err = None\n",
    "    def predict(self, x) :\n",
    "        y = np.dot(x,self.W1) + self.b1\n",
    "        y = sigmoid(y)\n",
    "        y = np.dot(y,self.W2) + self.b2\n",
    "        y = softmax(y)\n",
    "        return y\n",
    "    def loss(self,x,t):\n",
    "        y = self.predict(x)\n",
    "        err = categorical_crossentropy(t,y)\n",
    "        self.err = err\n",
    "        return self.err\n",
    "    def accuracy(self,x,t):\n",
    "        y = self.predict(x)\n",
    "        y = np.argmax(y,axis=1)\n",
    "        t = np.argmax(t,axis=1)\n",
    "        acc = np.sum(y==t)/t.size\n",
    "        return acc\n",
    "    def gradient(self,x,t) :\n",
    "        # self.loss(x,t)\n",
    "        lr =1e-4\n",
    "        W_loss = lambda W : self.loss(x,t)\n",
    "        dW1 = numerical_gradient(W_loss, self.W1)\n",
    "        db1 = numerical_gradient(W_loss, self.b1)\n",
    "        dW2 = numerical_gradient(W_loss, self.W2)\n",
    "        db2 = numerical_gradient(W_loss, self.b2)\n",
    "        self.W1 -= dW1 * lr\n",
    "        self.b1 -= db1 * lr\n",
    "        self.W2 -= dW2 * lr\n",
    "        self.b2 -= db2 * lr\n",
    "        # return self.err\n",
    "        \n",
    "    "
   ]
  },
  {
   "cell_type": "code",
   "execution_count": 126,
   "metadata": {},
   "outputs": [],
   "source": [
    "model = Network()"
   ]
  },
  {
   "cell_type": "code",
   "execution_count": 123,
   "metadata": {},
   "outputs": [],
   "source": [
    "model.gradient(data,target)"
   ]
  },
  {
   "cell_type": "code",
   "execution_count": 127,
   "metadata": {},
   "outputs": [
    {
     "name": "stdout",
     "output_type": "stream",
     "text": [
      "loss : 1.4097262563372335 === accuracy : 0.3333333333333333\n",
      "loss : 1.4097262563372335 === accuracy : 0.3333333333333333\n",
      "loss : 1.4097262563372335 === accuracy : 0.3333333333333333\n",
      "loss : 1.4097262563372335 === accuracy : 0.3333333333333333\n",
      "loss : 1.4097262563372335 === accuracy : 0.3333333333333333\n",
      "loss : 1.4097262563372335 === accuracy : 0.3333333333333333\n",
      "loss : 1.4097262563372335 === accuracy : 0.3333333333333333\n",
      "loss : 1.4097262563372335 === accuracy : 0.3333333333333333\n"
     ]
    },
    {
     "ename": "KeyboardInterrupt",
     "evalue": "",
     "output_type": "error",
     "traceback": [
      "\u001b[1;31m---------------------------------------------------------------------------\u001b[0m",
      "\u001b[1;31mKeyboardInterrupt\u001b[0m                         Traceback (most recent call last)",
      "\u001b[1;32mc:\\Users\\admin\\STUDY\\딥러닝\\1day\\4day.ipynb 셀 26\u001b[0m in \u001b[0;36m<cell line: 2>\u001b[1;34m()\u001b[0m\n\u001b[0;32m      <a href='vscode-notebook-cell:/c%3A/Users/admin/STUDY/%EB%94%A5%EB%9F%AC%EB%8B%9D/1day/4day.ipynb#X40sZmlsZQ%3D%3D?line=0'>1</a>\u001b[0m epochs \u001b[39m=\u001b[39m \u001b[39m10000\u001b[39m\n\u001b[0;32m      <a href='vscode-notebook-cell:/c%3A/Users/admin/STUDY/%EB%94%A5%EB%9F%AC%EB%8B%9D/1day/4day.ipynb#X40sZmlsZQ%3D%3D?line=1'>2</a>\u001b[0m \u001b[39mfor\u001b[39;00m epoch \u001b[39min\u001b[39;00m \u001b[39mrange\u001b[39m(epochs):\n\u001b[1;32m----> <a href='vscode-notebook-cell:/c%3A/Users/admin/STUDY/%EB%94%A5%EB%9F%AC%EB%8B%9D/1day/4day.ipynb#X40sZmlsZQ%3D%3D?line=2'>3</a>\u001b[0m     model\u001b[39m.\u001b[39;49mgradient(data,target)\n\u001b[0;32m      <a href='vscode-notebook-cell:/c%3A/Users/admin/STUDY/%EB%94%A5%EB%9F%AC%EB%8B%9D/1day/4day.ipynb#X40sZmlsZQ%3D%3D?line=3'>4</a>\u001b[0m     \u001b[39mif\u001b[39;00m epoch \u001b[39m%\u001b[39m \u001b[39m100\u001b[39m \u001b[39m==\u001b[39m \u001b[39m0\u001b[39m :\n\u001b[0;32m      <a href='vscode-notebook-cell:/c%3A/Users/admin/STUDY/%EB%94%A5%EB%9F%AC%EB%8B%9D/1day/4day.ipynb#X40sZmlsZQ%3D%3D?line=4'>5</a>\u001b[0m         \u001b[39mprint\u001b[39m(\u001b[39mf\u001b[39m\u001b[39m'\u001b[39m\u001b[39mloss : \u001b[39m\u001b[39m{\u001b[39;00mmodel\u001b[39m.\u001b[39merr\u001b[39m}\u001b[39;00m\u001b[39m === accuracy : \u001b[39m\u001b[39m{\u001b[39;00mmodel\u001b[39m.\u001b[39maccuracy(data,target)\u001b[39m}\u001b[39;00m\u001b[39m'\u001b[39m)\n",
      "\u001b[1;32mc:\\Users\\admin\\STUDY\\딥러닝\\1day\\4day.ipynb 셀 26\u001b[0m in \u001b[0;36mNetwork.gradient\u001b[1;34m(self, x, t)\u001b[0m\n\u001b[0;32m     <a href='vscode-notebook-cell:/c%3A/Users/admin/STUDY/%EB%94%A5%EB%9F%AC%EB%8B%9D/1day/4day.ipynb#X40sZmlsZQ%3D%3D?line=28'>29</a>\u001b[0m dW1 \u001b[39m=\u001b[39m numerical_gradient(W_loss, \u001b[39mself\u001b[39m\u001b[39m.\u001b[39mW1)\n\u001b[0;32m     <a href='vscode-notebook-cell:/c%3A/Users/admin/STUDY/%EB%94%A5%EB%9F%AC%EB%8B%9D/1day/4day.ipynb#X40sZmlsZQ%3D%3D?line=29'>30</a>\u001b[0m db1 \u001b[39m=\u001b[39m numerical_gradient(W_loss, \u001b[39mself\u001b[39m\u001b[39m.\u001b[39mb1)\n\u001b[1;32m---> <a href='vscode-notebook-cell:/c%3A/Users/admin/STUDY/%EB%94%A5%EB%9F%AC%EB%8B%9D/1day/4day.ipynb#X40sZmlsZQ%3D%3D?line=30'>31</a>\u001b[0m dW2 \u001b[39m=\u001b[39m numerical_gradient(W_loss, \u001b[39mself\u001b[39;49m\u001b[39m.\u001b[39;49mW2)\n\u001b[0;32m     <a href='vscode-notebook-cell:/c%3A/Users/admin/STUDY/%EB%94%A5%EB%9F%AC%EB%8B%9D/1day/4day.ipynb#X40sZmlsZQ%3D%3D?line=31'>32</a>\u001b[0m db2 \u001b[39m=\u001b[39m numerical_gradient(W_loss, \u001b[39mself\u001b[39m\u001b[39m.\u001b[39mb2)\n\u001b[0;32m     <a href='vscode-notebook-cell:/c%3A/Users/admin/STUDY/%EB%94%A5%EB%9F%AC%EB%8B%9D/1day/4day.ipynb#X40sZmlsZQ%3D%3D?line=32'>33</a>\u001b[0m \u001b[39mself\u001b[39m\u001b[39m.\u001b[39mW1 \u001b[39m-\u001b[39m\u001b[39m=\u001b[39m dW1 \u001b[39m*\u001b[39m lr\n",
      "\u001b[1;32mc:\\Users\\admin\\STUDY\\딥러닝\\1day\\4day.ipynb 셀 26\u001b[0m in \u001b[0;36mnumerical_gradient\u001b[1;34m(f, x)\u001b[0m\n\u001b[0;32m      <a href='vscode-notebook-cell:/c%3A/Users/admin/STUDY/%EB%94%A5%EB%9F%AC%EB%8B%9D/1day/4day.ipynb#X40sZmlsZQ%3D%3D?line=6'>7</a>\u001b[0m tmp_val \u001b[39m=\u001b[39m x[idx]\n\u001b[0;32m      <a href='vscode-notebook-cell:/c%3A/Users/admin/STUDY/%EB%94%A5%EB%9F%AC%EB%8B%9D/1day/4day.ipynb#X40sZmlsZQ%3D%3D?line=7'>8</a>\u001b[0m fxh \u001b[39m=\u001b[39m f(tmp_val\u001b[39m+\u001b[39mh)\n\u001b[1;32m----> <a href='vscode-notebook-cell:/c%3A/Users/admin/STUDY/%EB%94%A5%EB%9F%AC%EB%8B%9D/1day/4day.ipynb#X40sZmlsZQ%3D%3D?line=8'>9</a>\u001b[0m fx \u001b[39m=\u001b[39m f(tmp_val)\n\u001b[0;32m     <a href='vscode-notebook-cell:/c%3A/Users/admin/STUDY/%EB%94%A5%EB%9F%AC%EB%8B%9D/1day/4day.ipynb#X40sZmlsZQ%3D%3D?line=9'>10</a>\u001b[0m grad[idx] \u001b[39m=\u001b[39m (fxh\u001b[39m-\u001b[39mfx)\u001b[39m/\u001b[39mh\n\u001b[0;32m     <a href='vscode-notebook-cell:/c%3A/Users/admin/STUDY/%EB%94%A5%EB%9F%AC%EB%8B%9D/1day/4day.ipynb#X40sZmlsZQ%3D%3D?line=10'>11</a>\u001b[0m it\u001b[39m.\u001b[39miternext()\n",
      "\u001b[1;32mc:\\Users\\admin\\STUDY\\딥러닝\\1day\\4day.ipynb 셀 26\u001b[0m in \u001b[0;36mNetwork.gradient.<locals>.<lambda>\u001b[1;34m(W)\u001b[0m\n\u001b[0;32m     <a href='vscode-notebook-cell:/c%3A/Users/admin/STUDY/%EB%94%A5%EB%9F%AC%EB%8B%9D/1day/4day.ipynb#X40sZmlsZQ%3D%3D?line=24'>25</a>\u001b[0m \u001b[39mdef\u001b[39;00m \u001b[39mgradient\u001b[39m(\u001b[39mself\u001b[39m,x,t) :\n\u001b[0;32m     <a href='vscode-notebook-cell:/c%3A/Users/admin/STUDY/%EB%94%A5%EB%9F%AC%EB%8B%9D/1day/4day.ipynb#X40sZmlsZQ%3D%3D?line=25'>26</a>\u001b[0m     \u001b[39m# self.loss(x,t)\u001b[39;00m\n\u001b[0;32m     <a href='vscode-notebook-cell:/c%3A/Users/admin/STUDY/%EB%94%A5%EB%9F%AC%EB%8B%9D/1day/4day.ipynb#X40sZmlsZQ%3D%3D?line=26'>27</a>\u001b[0m     lr \u001b[39m=\u001b[39m\u001b[39m1e-4\u001b[39m\n\u001b[1;32m---> <a href='vscode-notebook-cell:/c%3A/Users/admin/STUDY/%EB%94%A5%EB%9F%AC%EB%8B%9D/1day/4day.ipynb#X40sZmlsZQ%3D%3D?line=27'>28</a>\u001b[0m     W_loss \u001b[39m=\u001b[39m \u001b[39mlambda\u001b[39;00m W : \u001b[39mself\u001b[39;49m\u001b[39m.\u001b[39;49mloss(x,t)\n\u001b[0;32m     <a href='vscode-notebook-cell:/c%3A/Users/admin/STUDY/%EB%94%A5%EB%9F%AC%EB%8B%9D/1day/4day.ipynb#X40sZmlsZQ%3D%3D?line=28'>29</a>\u001b[0m     dW1 \u001b[39m=\u001b[39m numerical_gradient(W_loss, \u001b[39mself\u001b[39m\u001b[39m.\u001b[39mW1)\n\u001b[0;32m     <a href='vscode-notebook-cell:/c%3A/Users/admin/STUDY/%EB%94%A5%EB%9F%AC%EB%8B%9D/1day/4day.ipynb#X40sZmlsZQ%3D%3D?line=29'>30</a>\u001b[0m     db1 \u001b[39m=\u001b[39m numerical_gradient(W_loss, \u001b[39mself\u001b[39m\u001b[39m.\u001b[39mb1)\n",
      "\u001b[1;32mc:\\Users\\admin\\STUDY\\딥러닝\\1day\\4day.ipynb 셀 26\u001b[0m in \u001b[0;36mNetwork.loss\u001b[1;34m(self, x, t)\u001b[0m\n\u001b[0;32m     <a href='vscode-notebook-cell:/c%3A/Users/admin/STUDY/%EB%94%A5%EB%9F%AC%EB%8B%9D/1day/4day.ipynb#X40sZmlsZQ%3D%3D?line=13'>14</a>\u001b[0m \u001b[39mdef\u001b[39;00m \u001b[39mloss\u001b[39m(\u001b[39mself\u001b[39m,x,t):\n\u001b[1;32m---> <a href='vscode-notebook-cell:/c%3A/Users/admin/STUDY/%EB%94%A5%EB%9F%AC%EB%8B%9D/1day/4day.ipynb#X40sZmlsZQ%3D%3D?line=14'>15</a>\u001b[0m     y \u001b[39m=\u001b[39m \u001b[39mself\u001b[39;49m\u001b[39m.\u001b[39;49mpredict(x)\n\u001b[0;32m     <a href='vscode-notebook-cell:/c%3A/Users/admin/STUDY/%EB%94%A5%EB%9F%AC%EB%8B%9D/1day/4day.ipynb#X40sZmlsZQ%3D%3D?line=15'>16</a>\u001b[0m     err \u001b[39m=\u001b[39m categorical_crossentropy(t,y)\n\u001b[0;32m     <a href='vscode-notebook-cell:/c%3A/Users/admin/STUDY/%EB%94%A5%EB%9F%AC%EB%8B%9D/1day/4day.ipynb#X40sZmlsZQ%3D%3D?line=16'>17</a>\u001b[0m     \u001b[39mself\u001b[39m\u001b[39m.\u001b[39merr \u001b[39m=\u001b[39m err\n",
      "\u001b[1;32mc:\\Users\\admin\\STUDY\\딥러닝\\1day\\4day.ipynb 셀 26\u001b[0m in \u001b[0;36mNetwork.predict\u001b[1;34m(self, x)\u001b[0m\n\u001b[0;32m      <a href='vscode-notebook-cell:/c%3A/Users/admin/STUDY/%EB%94%A5%EB%9F%AC%EB%8B%9D/1day/4day.ipynb#X40sZmlsZQ%3D%3D?line=7'>8</a>\u001b[0m \u001b[39mdef\u001b[39;00m \u001b[39mpredict\u001b[39m(\u001b[39mself\u001b[39m, x) :\n\u001b[0;32m      <a href='vscode-notebook-cell:/c%3A/Users/admin/STUDY/%EB%94%A5%EB%9F%AC%EB%8B%9D/1day/4day.ipynb#X40sZmlsZQ%3D%3D?line=8'>9</a>\u001b[0m     y \u001b[39m=\u001b[39m np\u001b[39m.\u001b[39mdot(x,\u001b[39mself\u001b[39m\u001b[39m.\u001b[39mW1) \u001b[39m+\u001b[39m \u001b[39mself\u001b[39m\u001b[39m.\u001b[39mb1\n\u001b[1;32m---> <a href='vscode-notebook-cell:/c%3A/Users/admin/STUDY/%EB%94%A5%EB%9F%AC%EB%8B%9D/1day/4day.ipynb#X40sZmlsZQ%3D%3D?line=9'>10</a>\u001b[0m     y \u001b[39m=\u001b[39m sigmoid(y)\n\u001b[0;32m     <a href='vscode-notebook-cell:/c%3A/Users/admin/STUDY/%EB%94%A5%EB%9F%AC%EB%8B%9D/1day/4day.ipynb#X40sZmlsZQ%3D%3D?line=10'>11</a>\u001b[0m     y \u001b[39m=\u001b[39m np\u001b[39m.\u001b[39mdot(y,\u001b[39mself\u001b[39m\u001b[39m.\u001b[39mW2) \u001b[39m+\u001b[39m \u001b[39mself\u001b[39m\u001b[39m.\u001b[39mb2\n\u001b[0;32m     <a href='vscode-notebook-cell:/c%3A/Users/admin/STUDY/%EB%94%A5%EB%9F%AC%EB%8B%9D/1day/4day.ipynb#X40sZmlsZQ%3D%3D?line=11'>12</a>\u001b[0m     y \u001b[39m=\u001b[39m softmax(y)\n",
      "\u001b[1;32mc:\\Users\\admin\\STUDY\\딥러닝\\1day\\4day.ipynb 셀 26\u001b[0m in \u001b[0;36msigmoid\u001b[1;34m(x)\u001b[0m\n\u001b[0;32m      <a href='vscode-notebook-cell:/c%3A/Users/admin/STUDY/%EB%94%A5%EB%9F%AC%EB%8B%9D/1day/4day.ipynb#X40sZmlsZQ%3D%3D?line=0'>1</a>\u001b[0m \u001b[39mdef\u001b[39;00m \u001b[39msigmoid\u001b[39m(x) :\n\u001b[1;32m----> <a href='vscode-notebook-cell:/c%3A/Users/admin/STUDY/%EB%94%A5%EB%9F%AC%EB%8B%9D/1day/4day.ipynb#X40sZmlsZQ%3D%3D?line=1'>2</a>\u001b[0m     \u001b[39mreturn\u001b[39;00m \u001b[39m1\u001b[39m\u001b[39m/\u001b[39m(\u001b[39m1\u001b[39m\u001b[39m+\u001b[39mnp\u001b[39m.\u001b[39;49mexp(\u001b[39m-\u001b[39;49mx))\n",
      "\u001b[1;31mKeyboardInterrupt\u001b[0m: "
     ]
    }
   ],
   "source": [
    "epochs = 10000\n",
    "for epoch in range(epochs):\n",
    "    model.gradient(data,target)\n",
    "    if epoch % 100 == 0 :\n",
    "        print(f'loss : {model.err} === accuracy : {model.accuracy(data,target)}')"
   ]
  }
 ],
 "metadata": {
  "kernelspec": {
   "display_name": "Python 3.9.12 ('base')",
   "language": "python",
   "name": "python3"
  },
  "language_info": {
   "codemirror_mode": {
    "name": "ipython",
    "version": 3
   },
   "file_extension": ".py",
   "mimetype": "text/x-python",
   "name": "python",
   "nbconvert_exporter": "python",
   "pygments_lexer": "ipython3",
   "version": "3.9.12"
  },
  "orig_nbformat": 4,
  "vscode": {
   "interpreter": {
    "hash": "610a6f344c2137faf927ea819c63f6cee33a2c04455044b28099f39fe9722347"
   }
  }
 },
 "nbformat": 4,
 "nbformat_minor": 2
}
