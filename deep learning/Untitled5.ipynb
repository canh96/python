{
 "cells": [
  {
   "cell_type": "code",
   "execution_count": 1,
   "metadata": {},
   "outputs": [],
   "source": [
    "l1 = [1,2,3]"
   ]
  },
  {
   "cell_type": "code",
   "execution_count": 2,
   "metadata": {},
   "outputs": [],
   "source": [
    "l2 = l1.copy()"
   ]
  },
  {
   "cell_type": "code",
   "execution_count": 3,
   "metadata": {},
   "outputs": [
    {
     "data": {
      "text/plain": [
       "[1, 2, 3]"
      ]
     },
     "execution_count": 3,
     "metadata": {},
     "output_type": "execute_result"
    }
   ],
   "source": [
    "l2"
   ]
  },
  {
   "cell_type": "code",
   "execution_count": 5,
   "metadata": {},
   "outputs": [],
   "source": [
    "l1[0] = 3"
   ]
  },
  {
   "cell_type": "code",
   "execution_count": 7,
   "metadata": {},
   "outputs": [
    {
     "data": {
      "text/plain": [
       "[3, 2, 3]"
      ]
     },
     "execution_count": 7,
     "metadata": {},
     "output_type": "execute_result"
    }
   ],
   "source": [
    "l2"
   ]
  },
  {
   "cell_type": "code",
   "execution_count": 9,
   "metadata": {},
   "outputs": [],
   "source": [
    "import numpy as np"
   ]
  },
  {
   "cell_type": "code",
   "execution_count": 10,
   "metadata": {},
   "outputs": [
    {
     "data": {
      "text/plain": [
       "numpy.float32"
      ]
     },
     "execution_count": 10,
     "metadata": {},
     "output_type": "execute_result"
    }
   ],
   "source": [
    "np.float32"
   ]
  },
  {
   "cell_type": "code",
   "execution_count": 11,
   "metadata": {},
   "outputs": [],
   "source": [
    "x = np.arange(1,10)"
   ]
  },
  {
   "cell_type": "code",
   "execution_count": 14,
   "metadata": {},
   "outputs": [],
   "source": [
    "x = x.astype('int16')"
   ]
  },
  {
   "cell_type": "code",
   "execution_count": 16,
   "metadata": {},
   "outputs": [],
   "source": [
    "x = x.astype(np.int32)"
   ]
  },
  {
   "cell_type": "code",
   "execution_count": 17,
   "metadata": {},
   "outputs": [
    {
     "data": {
      "text/plain": [
       "dtype('int32')"
      ]
     },
     "execution_count": 17,
     "metadata": {},
     "output_type": "execute_result"
    }
   ],
   "source": [
    "x.dtype"
   ]
  },
  {
   "cell_type": "code",
   "execution_count": 18,
   "metadata": {},
   "outputs": [],
   "source": [
    "x = np.random.randn(5)\n",
    "y = np.random.randn(5)"
   ]
  },
  {
   "cell_type": "code",
   "execution_count": 22,
   "metadata": {},
   "outputs": [
    {
     "data": {
      "text/plain": [
       "(5,)"
      ]
     },
     "execution_count": 22,
     "metadata": {},
     "output_type": "execute_result"
    }
   ],
   "source": [
    "(x+y).shape"
   ]
  },
  {
   "cell_type": "code",
   "execution_count": 20,
   "metadata": {},
   "outputs": [
    {
     "data": {
      "text/plain": [
       "(5,)"
      ]
     },
     "execution_count": 20,
     "metadata": {},
     "output_type": "execute_result"
    }
   ],
   "source": [
    "x.shape"
   ]
  },
  {
   "cell_type": "code",
   "execution_count": 21,
   "metadata": {},
   "outputs": [
    {
     "data": {
      "text/plain": [
       "(5,)"
      ]
     },
     "execution_count": 21,
     "metadata": {},
     "output_type": "execute_result"
    }
   ],
   "source": [
    "y.shape"
   ]
  },
  {
   "cell_type": "code",
   "execution_count": 23,
   "metadata": {},
   "outputs": [],
   "source": [
    "y1 = np.random.randn(4)"
   ]
  },
  {
   "cell_type": "code",
   "execution_count": 25,
   "metadata": {},
   "outputs": [
    {
     "ename": "ValueError",
     "evalue": "operands could not be broadcast together with shapes (5,) (4,) ",
     "output_type": "error",
     "traceback": [
      "\u001b[1;31m---------------------------------------------------------------------------\u001b[0m",
      "\u001b[1;31mValueError\u001b[0m                                Traceback (most recent call last)",
      "\u001b[1;32m<ipython-input-25-8b6c6710e757>\u001b[0m in \u001b[0;36m<module>\u001b[1;34m\u001b[0m\n\u001b[1;32m----> 1\u001b[1;33m \u001b[0mx\u001b[0m \u001b[1;33m+\u001b[0m \u001b[0my1\u001b[0m\u001b[1;33m\u001b[0m\u001b[1;33m\u001b[0m\u001b[0m\n\u001b[0m",
      "\u001b[1;31mValueError\u001b[0m: operands could not be broadcast together with shapes (5,) (4,) "
     ]
    }
   ],
   "source": [
    "x + y1"
   ]
  },
  {
   "cell_type": "code",
   "execution_count": 28,
   "metadata": {},
   "outputs": [],
   "source": [
    "x = np.random.randn(3,4)\n",
    "y = np.random.randn(3,4)\n",
    "y1 = np.random.randn(3,5)"
   ]
  },
  {
   "cell_type": "code",
   "execution_count": 29,
   "metadata": {},
   "outputs": [
    {
     "data": {
      "text/plain": [
       "array([[ 1.18723671, -0.83000444, -1.00635349, -0.66754355],\n",
       "       [-0.18642208, -2.08107365,  0.56751939, -0.61789949],\n",
       "       [ 0.17092872,  0.55437476, -0.6816309 , -3.10588122]])"
      ]
     },
     "execution_count": 29,
     "metadata": {},
     "output_type": "execute_result"
    }
   ],
   "source": [
    "x+y"
   ]
  },
  {
   "cell_type": "code",
   "execution_count": 31,
   "metadata": {},
   "outputs": [],
   "source": [
    "x = range(10)"
   ]
  },
  {
   "cell_type": "code",
   "execution_count": 35,
   "metadata": {},
   "outputs": [
    {
     "data": {
      "text/plain": [
       "[0, 1, 2, 3, 4, 5, 6, 7, 8, 9]"
      ]
     },
     "execution_count": 35,
     "metadata": {},
     "output_type": "execute_result"
    }
   ],
   "source": [
    "list(x)"
   ]
  },
  {
   "cell_type": "code",
   "execution_count": 33,
   "metadata": {},
   "outputs": [],
   "source": [
    "x1 = np.arange(10)"
   ]
  },
  {
   "cell_type": "code",
   "execution_count": 34,
   "metadata": {},
   "outputs": [
    {
     "data": {
      "text/plain": [
       "array([0, 1, 2, 3, 4, 5, 6, 7, 8, 9])"
      ]
     },
     "execution_count": 34,
     "metadata": {},
     "output_type": "execute_result"
    }
   ],
   "source": [
    "x1"
   ]
  },
  {
   "cell_type": "code",
   "execution_count": 36,
   "metadata": {},
   "outputs": [
    {
     "name": "stdout",
     "output_type": "stream",
     "text": [
      "Wall time: 248 ms\n"
     ]
    }
   ],
   "source": [
    "%%time\n",
    "x = list(range(10000000))"
   ]
  },
  {
   "cell_type": "code",
   "execution_count": 37,
   "metadata": {},
   "outputs": [
    {
     "name": "stdout",
     "output_type": "stream",
     "text": [
      "Wall time: 15.6 ms\n"
     ]
    }
   ],
   "source": [
    "%%time\n",
    "x1 = np.arange(10000000)"
   ]
  },
  {
   "cell_type": "code",
   "execution_count": 40,
   "metadata": {},
   "outputs": [],
   "source": [
    "x = np.random.randint(1,10,100)"
   ]
  },
  {
   "cell_type": "code",
   "execution_count": 41,
   "metadata": {},
   "outputs": [],
   "source": [
    "x = x.reshape(20,-1)"
   ]
  },
  {
   "cell_type": "code",
   "execution_count": 42,
   "metadata": {},
   "outputs": [
    {
     "data": {
      "text/plain": [
       "array([[7, 8, 5, 3, 9],\n",
       "       [4, 8, 1, 4, 6],\n",
       "       [4, 2, 3, 5, 8],\n",
       "       [4, 4, 7, 6, 3],\n",
       "       [6, 6, 6, 9, 5],\n",
       "       [4, 2, 1, 7, 3],\n",
       "       [5, 7, 4, 3, 2],\n",
       "       [7, 9, 4, 4, 2],\n",
       "       [8, 5, 5, 6, 2],\n",
       "       [5, 3, 4, 7, 4],\n",
       "       [7, 7, 4, 9, 3],\n",
       "       [7, 7, 4, 9, 3],\n",
       "       [9, 7, 7, 7, 3],\n",
       "       [3, 6, 2, 8, 6],\n",
       "       [5, 9, 8, 3, 6],\n",
       "       [5, 6, 7, 8, 1],\n",
       "       [1, 3, 4, 2, 7],\n",
       "       [6, 2, 2, 2, 6],\n",
       "       [2, 9, 6, 2, 4],\n",
       "       [5, 4, 8, 7, 2]])"
      ]
     },
     "execution_count": 42,
     "metadata": {},
     "output_type": "execute_result"
    }
   ],
   "source": [
    "x"
   ]
  },
  {
   "cell_type": "code",
   "execution_count": 44,
   "metadata": {},
   "outputs": [
    {
     "data": {
      "text/plain": [
       "array([[0, 0, 0, 0, 0],\n",
       "       [0, 0, 0, 0, 0],\n",
       "       [0, 0, 0, 0, 0],\n",
       "       [0, 0, 0, 0, 0],\n",
       "       [0, 0, 0, 0, 0],\n",
       "       [0, 0, 0, 0, 0],\n",
       "       [0, 0, 0, 0, 0],\n",
       "       [0, 0, 0, 0, 0],\n",
       "       [0, 0, 0, 0, 0],\n",
       "       [0, 0, 0, 0, 0],\n",
       "       [0, 0, 0, 0, 0],\n",
       "       [0, 0, 0, 0, 0],\n",
       "       [0, 0, 0, 0, 0],\n",
       "       [0, 0, 0, 0, 0],\n",
       "       [0, 0, 0, 0, 0],\n",
       "       [0, 0, 0, 0, 0],\n",
       "       [0, 0, 0, 0, 0],\n",
       "       [0, 0, 0, 0, 0],\n",
       "       [0, 0, 0, 0, 0],\n",
       "       [0, 0, 0, 0, 0]])"
      ]
     },
     "execution_count": 44,
     "metadata": {},
     "output_type": "execute_result"
    }
   ],
   "source": [
    "np.zeros_like(x)"
   ]
  },
  {
   "cell_type": "code",
   "execution_count": 45,
   "metadata": {},
   "outputs": [
    {
     "data": {
      "text/plain": [
       "array([[0., 0., 0., 0.],\n",
       "       [0., 0., 0., 0.],\n",
       "       [0., 0., 0., 0.]])"
      ]
     },
     "execution_count": 45,
     "metadata": {},
     "output_type": "execute_result"
    }
   ],
   "source": [
    "np.zeros((3,4))"
   ]
  },
  {
   "cell_type": "code",
   "execution_count": 46,
   "metadata": {},
   "outputs": [
    {
     "data": {
      "text/plain": [
       "array([[0., 0., 0., 0.],\n",
       "       [0., 0., 0., 0.],\n",
       "       [0., 0., 0., 0.]])"
      ]
     },
     "execution_count": 46,
     "metadata": {},
     "output_type": "execute_result"
    }
   ],
   "source": [
    "np.zeros_like(np.random.randn(3,4))"
   ]
  },
  {
   "cell_type": "code",
   "execution_count": 47,
   "metadata": {},
   "outputs": [
    {
     "data": {
      "text/plain": [
       "array([[ 0.90293143,  1.04831345,  1.03739171,  1.51701918],\n",
       "       [-0.56497598,  1.33504424,  1.20694621, -0.11847595],\n",
       "       [ 0.19298241,  0.04751671,  0.90585351,  0.67635637]])"
      ]
     },
     "execution_count": 47,
     "metadata": {},
     "output_type": "execute_result"
    }
   ],
   "source": [
    "np.random.randn(3,4)"
   ]
  },
  {
   "cell_type": "code",
   "execution_count": 48,
   "metadata": {},
   "outputs": [
    {
     "data": {
      "text/plain": [
       "array([[0.1, 0.1],\n",
       "       [0.1, 0.1]])"
      ]
     },
     "execution_count": 48,
     "metadata": {},
     "output_type": "execute_result"
    }
   ],
   "source": [
    "np.full((2,2),0.1)"
   ]
  },
  {
   "cell_type": "code",
   "execution_count": 49,
   "metadata": {},
   "outputs": [
    {
     "data": {
      "text/plain": [
       "array([[0.1, 0.1],\n",
       "       [0.1, 0.1]])"
      ]
     },
     "execution_count": 49,
     "metadata": {},
     "output_type": "execute_result"
    }
   ],
   "source": [
    "np.zeros((2,2)) + 0.1"
   ]
  },
  {
   "cell_type": "code",
   "execution_count": 54,
   "metadata": {},
   "outputs": [
    {
     "data": {
      "text/plain": [
       "dtype('int32')"
      ]
     },
     "execution_count": 54,
     "metadata": {},
     "output_type": "execute_result"
    }
   ],
   "source": [
    "np.full((2,2),0).dtype"
   ]
  },
  {
   "cell_type": "code",
   "execution_count": 56,
   "metadata": {},
   "outputs": [
    {
     "data": {
      "text/plain": [
       "dtype('float64')"
      ]
     },
     "execution_count": 56,
     "metadata": {},
     "output_type": "execute_result"
    }
   ],
   "source": [
    "np.zeros((2,2)).dtype"
   ]
  },
  {
   "cell_type": "code",
   "execution_count": 95,
   "metadata": {},
   "outputs": [],
   "source": [
    "np.random.seed(10)\n",
    "x = np.random.randn(2,3)\n",
    "y = np.random.normal(3.,2.,(2,3))"
   ]
  },
  {
   "cell_type": "code",
   "execution_count": 96,
   "metadata": {},
   "outputs": [
    {
     "data": {
      "text/plain": [
       "0.3943317496597166"
      ]
     },
     "execution_count": 96,
     "metadata": {},
     "output_type": "execute_result"
    }
   ],
   "source": [
    "np.sum(x)"
   ]
  },
  {
   "cell_type": "code",
   "execution_count": 97,
   "metadata": {},
   "outputs": [
    {
     "data": {
      "text/plain": [
       "21.67962979102798"
      ]
     },
     "execution_count": 97,
     "metadata": {},
     "output_type": "execute_result"
    }
   ],
   "source": [
    "np.sum(y)"
   ]
  },
  {
   "cell_type": "code",
   "execution_count": 98,
   "metadata": {},
   "outputs": [],
   "source": [
    "x = 3*x + 2"
   ]
  },
  {
   "cell_type": "code",
   "execution_count": 99,
   "metadata": {},
   "outputs": [
    {
     "data": {
      "text/plain": [
       "13.182995248979148"
      ]
     },
     "execution_count": 99,
     "metadata": {},
     "output_type": "execute_result"
    }
   ],
   "source": [
    "np.sum(x)"
   ]
  },
  {
   "cell_type": "code",
   "execution_count": 100,
   "metadata": {},
   "outputs": [],
   "source": [
    "x = np.array([2,2,1,3])\n",
    "y = np.array([5,5,3,7])"
   ]
  },
  {
   "cell_type": "code",
   "execution_count": 112,
   "metadata": {},
   "outputs": [],
   "source": [
    "a_ = np.linspace(-5,10,100)"
   ]
  },
  {
   "cell_type": "code",
   "execution_count": 111,
   "metadata": {},
   "outputs": [],
   "source": [
    "errs = []\n",
    "for a in a_:\n",
    "    y_hat = a*x\n",
    "    err = (abs(y_hat - y)).mean()\n",
    "    errs.append(err)"
   ]
  },
  {
   "cell_type": "code",
   "execution_count": 106,
   "metadata": {},
   "outputs": [
    {
     "data": {
      "text/plain": [
       "[15.0,\n",
       " 13.947368421052634,\n",
       " 12.894736842105264,\n",
       " 11.842105263157894,\n",
       " 10.789473684210527,\n",
       " 9.736842105263158,\n",
       " 8.68421052631579,\n",
       " 7.631578947368421,\n",
       " 6.578947368421053,\n",
       " 5.526315789473685,\n",
       " 4.473684210526317,\n",
       " 3.4210526315789487,\n",
       " 2.3684210526315788,\n",
       " 1.3157894736842106,\n",
       " 0.3157894736842106,\n",
       " 0.842105263157894,\n",
       " 1.8421052631578938,\n",
       " 2.8947368421052637,\n",
       " 3.94736842105263,\n",
       " 5.0]"
      ]
     },
     "execution_count": 106,
     "metadata": {},
     "output_type": "execute_result"
    }
   ],
   "source": [
    "errs"
   ]
  },
  {
   "cell_type": "code",
   "execution_count": 76,
   "metadata": {},
   "outputs": [],
   "source": [
    "import matplotlib.pyplot as plt"
   ]
  },
  {
   "cell_type": "code",
   "execution_count": 107,
   "metadata": {},
   "outputs": [
    {
     "data": {
      "text/plain": [
       "[<matplotlib.lines.Line2D at 0x23e1193d670>]"
      ]
     },
     "execution_count": 107,
     "metadata": {},
     "output_type": "execute_result"
    },
    {
     "data": {
      "image/png": "[encoded data removed]",
      "text/plain": [
       "<Figure size 432x288 with 1 Axes>"
      ]
     },
     "metadata": {
      "needs_background": "light"
     },
     "output_type": "display_data"
    }
   ],
   "source": [
    "plt.plot(a_,errs)"
   ]
  },
  {
   "cell_type": "code",
   "execution_count": null,
   "metadata": {},
   "outputs": [],
   "source": []
  },
  {
   "cell_type": "code",
   "execution_count": 79,
   "metadata": {},
   "outputs": [],
   "source": [
    "x = np.random.randint(1,10,1000)"
   ]
  },
  {
   "cell_type": "code",
   "execution_count": 88,
   "metadata": {},
   "outputs": [],
   "source": [
    "y = x*6 + np.random.normal(0,4,1000)"
   ]
  },
  {
   "cell_type": "code",
   "execution_count": null,
   "metadata": {},
   "outputs": [],
   "source": [
    "((y_hat - y)**2).mean()"
   ]
  },
  {
   "cell_type": "code",
   "execution_count": 113,
   "metadata": {},
   "outputs": [],
   "source": [
    "errs = []\n",
    "for a in a_:\n",
    "    y_hat = a*x\n",
    "    err = ((y_hat - y)**2).mean()\n",
    "    errs.append(err)"
   ]
  },
  {
   "cell_type": "code",
   "execution_count": 114,
   "metadata": {},
   "outputs": [
    {
     "data": {
      "text/plain": [
       "[<matplotlib.lines.Line2D at 0x23e1191a670>]"
      ]
     },
     "execution_count": 114,
     "metadata": {},
     "output_type": "execute_result"
    },
    {
     "data": {
      "image/png": "[encoded data removed]",
      "text/plain": [
       "<Figure size 432x288 with 1 Axes>"
      ]
     },
     "metadata": {
      "needs_background": "light"
     },
     "output_type": "display_data"
    }
   ],
   "source": [
    "plt.plot(a_,errs)"
   ]
  },
  {
   "cell_type": "code",
   "execution_count": 132,
   "metadata": {},
   "outputs": [],
   "source": [
    "x1 = np.random.randint(1,10,100)\n",
    "x2 = np.random.randint(1,10,100)\n",
    "a1 = 5\n",
    "a2 = 7\n",
    "b = 100\n",
    "y = x1*a1 + x2*a2 + b"
   ]
  },
  {
   "cell_type": "code",
   "execution_count": 142,
   "metadata": {},
   "outputs": [],
   "source": [
    "a1_hat = 70\n",
    "a2_hat = 70\n",
    "b_hat = 0\n",
    "lr = 1e-3\n",
    "for i in np.arange(20000):\n",
    "    y_hat = a1_hat*x1 + a2_hat*x2 + b_hat\n",
    "    a1_hat -= lr*((y_hat - y)*x1).mean()\n",
    "    a2_hat -= lr*((y_hat - y)*x2).mean()\n",
    "    b_hat -= lr*(y_hat - y).mean()\n",
    "    err = ((y_hat-y)**2).mean()"
   ]
  },
  {
   "cell_type": "code",
   "execution_count": 145,
   "metadata": {},
   "outputs": [
    {
     "data": {
      "text/plain": [
       "7.032501622378622"
      ]
     },
     "execution_count": 145,
     "metadata": {},
     "output_type": "execute_result"
    }
   ],
   "source": [
    "a2_hat"
   ]
  },
  {
   "cell_type": "code",
   "execution_count": 122,
   "metadata": {},
   "outputs": [
    {
     "data": {
      "text/plain": [
       "array([29.])"
      ]
     },
     "execution_count": 122,
     "metadata": {},
     "output_type": "execute_result"
    }
   ],
   "source": [
    "a_hat"
   ]
  },
  {
   "cell_type": "code",
   "execution_count": 147,
   "metadata": {},
   "outputs": [],
   "source": [
    "x1 = np.random.randint(1,10,100)\n",
    "x2 = np.random.randint(1,10,100)\n",
    "X = np.c_[x1,x2]"
   ]
  },
  {
   "cell_type": "code",
   "execution_count": 149,
   "metadata": {},
   "outputs": [],
   "source": [
    "y = x1*a1 + x2*a2 + b"
   ]
  },
  {
   "cell_type": "code",
   "execution_count": 150,
   "metadata": {},
   "outputs": [
    {
     "data": {
      "text/plain": [
       "array([186, 149, 143, 196, 156, 145, 154, 174, 193, 157, 143, 159, 155,\n",
       "       163, 189, 158, 131, 153, 187, 168, 168, 153, 145, 159, 152, 193,\n",
       "       131, 168, 150, 155, 151, 196, 179, 196, 201, 173, 164, 186, 172,\n",
       "       191, 174, 191, 172, 145, 124, 172, 163, 150, 138, 132, 150, 126,\n",
       "       152, 157, 174, 150, 141, 201, 173, 181, 127, 150, 183, 161, 141,\n",
       "       186, 127, 186, 175, 166, 193, 198, 203, 149, 193, 139, 165, 158,\n",
       "       147, 167, 141, 184, 189, 140, 155, 132, 203, 146, 193, 147, 173,\n",
       "       127, 181, 201, 160, 137, 153, 191, 155, 165])"
      ]
     },
     "execution_count": 150,
     "metadata": {},
     "output_type": "execute_result"
    }
   ],
   "source": [
    "y"
   ]
  },
  {
   "cell_type": "code",
   "execution_count": null,
   "metadata": {},
   "outputs": [],
   "source": [
    "a1 = 5\n",
    "a2 = 7\n",
    "b = 100"
   ]
  },
  {
   "cell_type": "code",
   "execution_count": 155,
   "metadata": {},
   "outputs": [
    {
     "name": "stdout",
     "output_type": "stream",
     "text": [
      "[[5 7]]\n",
      "[[5]\n",
      " [7]]\n"
     ]
    }
   ],
   "source": [
    "w = np.c_[a1,a2]\n",
    "print(w)\n",
    "w = w.T\n",
    "print(w)"
   ]
  },
  {
   "cell_type": "code",
   "execution_count": 153,
   "metadata": {},
   "outputs": [
    {
     "data": {
      "text/plain": [
       "(100, 2)"
      ]
     },
     "execution_count": 153,
     "metadata": {},
     "output_type": "execute_result"
    }
   ],
   "source": [
    "X.shape"
   ]
  },
  {
   "cell_type": "code",
   "execution_count": 156,
   "metadata": {},
   "outputs": [],
   "source": [
    "y = np.dot(X,w) + b"
   ]
  },
  {
   "cell_type": "code",
   "execution_count": 215,
   "metadata": {},
   "outputs": [],
   "source": [
    "w_hat = np.array([[70],[70]])\n",
    "b_hat = 0\n",
    "epochs =10000\n",
    "learning_rate = 1e-3\n",
    "for epoch in range(epochs):\n",
    "    y_hat = np.dot(X,w_hat) + b_hat\n",
    "    w_hat -= learning_rate*(np.mean(np.dot(X.T,(y_hat-y)),axis=1)).reshape(2,1)\n",
    "    b_hat -= learning_rate*(y_hat - y).mean()"
   ]
  },
  {
   "cell_type": "code",
   "execution_count": 222,
   "metadata": {},
   "outputs": [],
   "source": [
    "y_hat = np.dot(X,w_hat) + b_hat\n",
    "w_hat -= learning_rate*(np.mean(np.dot(X.T,(y_hat-y)),axis=1)).reshape(2,1)"
   ]
  },
  {
   "cell_type": "code",
   "execution_count": 220,
   "metadata": {},
   "outputs": [
    {
     "data": {
      "text/plain": [
       "array([[13.60231786],\n",
       "       [15.29839228]])"
      ]
     },
     "execution_count": 220,
     "metadata": {},
     "output_type": "execute_result"
    }
   ],
   "source": [
    "w_hat"
   ]
  },
  {
   "cell_type": "code",
   "execution_count": 218,
   "metadata": {},
   "outputs": [],
   "source": [
    "a1_hat = 70\n",
    "a2_hat = 70\n",
    "b_hat = 0\n",
    "lr = 1e-3\n",
    "for i in np.arange(20000):\n",
    "    y_hat = a1_hat*x1 + a2_hat*x2 + b_hat\n",
    "    a1_hat -= lr*((y_hat - y)*x1).mean()\n",
    "    a2_hat -= lr*((y_hat - y)*x2).mean()\n",
    "    b_hat -= lr*(y_hat - y).mean()\n",
    "    err = ((y_hat-y)**2).mean()"
   ]
  },
  {
   "cell_type": "code",
   "execution_count": 219,
   "metadata": {},
   "outputs": [],
   "source": [
    "y_hat = a1_hat*x1 + a2_hat*x2 + b_hat\n",
    "a1_hat -= lr*((y_hat - y)*x1).mean()\n",
    "a2_hat -= lr*((y_hat - y)*x2).mean()"
   ]
  },
  {
   "cell_type": "code",
   "execution_count": 302,
   "metadata": {},
   "outputs": [],
   "source": [
    "x1 = np.random.randint(1,100,1000)\n",
    "x2 = np.random.randint(1,100,1000)\n",
    "X = np.c_[x1,x2]"
   ]
  },
  {
   "cell_type": "code",
   "execution_count": 303,
   "metadata": {},
   "outputs": [],
   "source": [
    "w = np.array([[5],[7]])\n",
    "a1 = 5\n",
    "a2 = 7\n",
    "b = 100\n",
    "y = np.dot(X,w) + b "
   ]
  },
  {
   "cell_type": "code",
   "execution_count": 304,
   "metadata": {},
   "outputs": [],
   "source": [
    "a1_ = -5\n",
    "a2_ = -5\n",
    "w_ = np.array([[-5.],[-5.]])\n",
    "b_ = 0"
   ]
  },
  {
   "cell_type": "code",
   "execution_count": 295,
   "metadata": {},
   "outputs": [],
   "source": [
    "learning_rate = 1e-5\n",
    "y_hat = a1_*x1 + a2_*x2 + b_\n",
    "a1_ -= learning_rate*((y_hat-y)*x1).mean() \n",
    "a2_ -= learning_rate*((y_hat-y)*x2).mean()\n",
    "b_ -= learning_rate*(y_hat-y).mean()"
   ]
  },
  {
   "cell_type": "code",
   "execution_count": 309,
   "metadata": {},
   "outputs": [
    {
     "data": {
      "text/plain": [
       "(1000,)"
      ]
     },
     "execution_count": 309,
     "metadata": {},
     "output_type": "execute_result"
    }
   ],
   "source": []
  },
  {
   "cell_type": "code",
   "execution_count": 312,
   "metadata": {},
   "outputs": [
    {
     "data": {
      "text/plain": [
       "-64767.827844698426"
      ]
     },
     "execution_count": 312,
     "metadata": {},
     "output_type": "execute_result"
    }
   ],
   "source": [
    "((y_hat - y)*x1.reshape(-1,1)).mean()"
   ]
  },
  {
   "cell_type": "code",
   "execution_count": 288,
   "metadata": {},
   "outputs": [
    {
     "data": {
      "text/plain": [
       "-4.35026583225"
      ]
     },
     "execution_count": 288,
     "metadata": {},
     "output_type": "execute_result"
    }
   ],
   "source": [
    "a2_"
   ]
  },
  {
   "cell_type": "code",
   "execution_count": 289,
   "metadata": {},
   "outputs": [
    {
     "data": {
      "text/plain": [
       "0.012085400000000001"
      ]
     },
     "execution_count": 289,
     "metadata": {},
     "output_type": "execute_result"
    }
   ],
   "source": [
    "b_"
   ]
  },
  {
   "cell_type": "code",
   "execution_count": 298,
   "metadata": {},
   "outputs": [],
   "source": [
    "learning_rate = 1e-5\n",
    "y_hat = np.dot(X,w_) + b_\n",
    "w_ -=  learning_rate*(np.mean(np.dot(X.T,(y_hat - y)),axis=1)).reshape(2,1)\n",
    "# b_ -= learning_rate*(y_hat-y).mean()"
   ]
  },
  {
   "cell_type": "code",
   "execution_count": 299,
   "metadata": {},
   "outputs": [
    {
     "data": {
      "text/plain": [
       "array([-64172858.04812454, -67434602.76694465])"
      ]
     },
     "execution_count": 299,
     "metadata": {},
     "output_type": "execute_result"
    }
   ],
   "source": [
    "(np.mean(np.dot(X.T,(y_hat - y)),axis=1))"
   ]
  },
  {
   "cell_type": "code",
   "execution_count": 296,
   "metadata": {},
   "outputs": [
    {
     "data": {
      "text/plain": [
       "-60197.470592"
      ]
     },
     "execution_count": 296,
     "metadata": {},
     "output_type": "execute_result"
    }
   ],
   "source": [
    "a1_ -= learning_rate*(((y_hat-y)*x1).mean()) "
   ]
  },
  {
   "cell_type": "code",
   "execution_count": 301,
   "metadata": {},
   "outputs": [
    {
     "data": {
      "text/plain": [
       "(1000, 1000)"
      ]
     },
     "execution_count": 301,
     "metadata": {},
     "output_type": "execute_result"
    }
   ],
   "source": [
    "((y_hat-y)*x2)"
   ]
  },
  {
   "cell_type": "code",
   "execution_count": 328,
   "metadata": {},
   "outputs": [],
   "source": [
    "w_ = np.random.randn(2,1)\n",
    "b_ = np.random.randn(1)\n",
    "learning_rate = 1e-3\n",
    "epochs = 20000\n",
    "cost = []\n",
    "for epoch in range(epochs):\n",
    "    y_hat = np.dot(X,w_) + b_\n",
    "    loss = (y_hat - y)\n",
    "    dw = np.dot(X.T, loss)/2*100\n",
    "    db = np.mean(loss)\n",
    "    w_ -= learning_rate*dw\n",
    "    b_ -= learning_rate*db\n",
    "    cost.append(loss)"
   ]
  },
  {
   "cell_type": "code",
   "execution_count": 330,
   "metadata": {},
   "outputs": [],
   "source": [
    "def sigmoid(x):\n",
    "    return 1/(1+np.exp(-x))"
   ]
  },
  {
   "cell_type": "code",
   "execution_count": 331,
   "metadata": {},
   "outputs": [],
   "source": [
    "x = np.linspace(-5,5,100)"
   ]
  },
  {
   "cell_type": "code",
   "execution_count": 334,
   "metadata": {},
   "outputs": [
    {
     "data": {
      "text/plain": [
       "[<matplotlib.lines.Line2D at 0x23e20181040>]"
      ]
     },
     "execution_count": 334,
     "metadata": {},
     "output_type": "execute_result"
    },
    {
     "data": {
      "image/png": "[encoded data removed]",
      "text/plain": [
       "<Figure size 432x288 with 1 Axes>"
      ]
     },
     "metadata": {
      "needs_background": "light"
     },
     "output_type": "display_data"
    }
   ],
   "source": [
    "plt.plot(x,sigmoid(x))\n",
    "plt.plot(x,np.full(100,0.5))\n",
    "plt.plot(np.full(100,0),np.linspace(0,1,100))"
   ]
  },
  {
   "cell_type": "code",
   "execution_count": 339,
   "metadata": {},
   "outputs": [
    {
     "data": {
      "text/plain": [
       "[<matplotlib.lines.Line2D at 0x23e202290d0>]"
      ]
     },
     "execution_count": 339,
     "metadata": {},
     "output_type": "execute_result"
    },
    {
     "data": {
      "image/png": "[encoded data removed]",
      "text/plain": [
       "<Figure size 432x288 with 1 Axes>"
      ]
     },
     "metadata": {
      "needs_background": "light"
     },
     "output_type": "display_data"
    }
   ],
   "source": [
    "x1 = sigmoid(x)\n",
    "x2 = np.linspace(1e-4,10,100)\n",
    "plt.plot(x1,-np.log(x1))"
   ]
  },
  {
   "cell_type": "code",
   "execution_count": 374,
   "metadata": {},
   "outputs": [],
   "source": [
    "def AND(x1,x2):\n",
    "    w1 = 0.1\n",
    "    w2 = 0.6\n",
    "    theta = 0.2\n",
    "    return np.where(x1*w1 + x2*w2 > theta,1,0)\n",
    "def OR(x1,x2):\n",
    "    w1 = 0.2\n",
    "    w2 = 0.2\n",
    "    theta = 0.1\n",
    "    return np.where(x1*w1 + x2*w2 > theta,1,0)\n",
    "def NAND(x1,x3):\n",
    "    w1 = 0.1\n",
    "    w2 = 0.1\n",
    "    theta = 0.2 \n",
    "    return np.where(x1*w1 + x2*w2 < theta,1,0)"
   ]
  },
  {
   "cell_type": "code",
   "execution_count": 375,
   "metadata": {},
   "outputs": [],
   "source": [
    "x1 = np.array([0,1,0,1])\n",
    "x2 = np.array([0,0,1,1])"
   ]
  },
  {
   "cell_type": "code",
   "execution_count": 376,
   "metadata": {},
   "outputs": [
    {
     "data": {
      "text/plain": [
       "array([1, 1, 1, 0])"
      ]
     },
     "execution_count": 376,
     "metadata": {},
     "output_type": "execute_result"
    }
   ],
   "source": [
    "NAND(x1,x2)"
   ]
  },
  {
   "cell_type": "code",
   "execution_count": 361,
   "metadata": {},
   "outputs": [],
   "source": [
    "x = [0,2,1,3]"
   ]
  },
  {
   "cell_type": "code",
   "execution_count": 371,
   "metadata": {},
   "outputs": [
    {
     "name": "stdout",
     "output_type": "stream",
     "text": [
      "0.1 0.1 0.2\n",
      "0.1 0.2 0.30000000000000004\n",
      "0.1 0.30000000000000004 0.4\n",
      "0.1 0.4 0.5\n",
      "0.1 0.5 0.6\n",
      "0.1 0.7000000000000001 0.8\n",
      "0.1 0.8 0.9\n",
      "0.1 0.9 1.0\n",
      "0.2 0.1 0.30000000000000004\n",
      "0.2 0.2 0.30000000000000004\n",
      "0.2 0.2 0.4\n",
      "0.2 0.30000000000000004 0.4\n",
      "0.2 0.30000000000000004 0.5\n",
      "0.2 0.4 0.5\n",
      "0.2 0.4 0.6\n",
      "0.2 0.5 0.6\n",
      "0.2 0.6 0.7000000000000001\n",
      "0.2 0.6 0.8\n",
      "0.2 0.7000000000000001 0.8\n",
      "0.2 0.7000000000000001 0.9\n",
      "0.2 0.8 0.9\n",
      "0.2 0.8 1.0\n",
      "0.2 0.9 1.0\n",
      "0.30000000000000004 0.1 0.4\n",
      "0.30000000000000004 0.2 0.4\n",
      "0.30000000000000004 0.2 0.5\n",
      "0.30000000000000004 0.30000000000000004 0.4\n",
      "0.30000000000000004 0.30000000000000004 0.5\n",
      "0.30000000000000004 0.30000000000000004 0.6\n",
      "0.30000000000000004 0.4 0.5\n",
      "0.30000000000000004 0.4 0.6\n",
      "0.30000000000000004 0.4 0.7000000000000001\n",
      "0.30000000000000004 0.5 0.6\n",
      "0.30000000000000004 0.5 0.7000000000000001\n",
      "0.30000000000000004 0.5 0.8\n",
      "0.30000000000000004 0.6 0.7000000000000001\n",
      "0.30000000000000004 0.6 0.8\n",
      "0.30000000000000004 0.6 0.9\n",
      "0.30000000000000004 0.7000000000000001 0.8\n",
      "0.30000000000000004 0.7000000000000001 0.9\n",
      "0.30000000000000004 0.7000000000000001 1.0\n",
      "0.30000000000000004 0.8 0.9\n",
      "0.30000000000000004 0.8 1.0\n",
      "0.30000000000000004 0.9 1.0\n",
      "0.4 0.1 0.5\n",
      "0.4 0.2 0.5\n",
      "0.4 0.2 0.6\n",
      "0.4 0.30000000000000004 0.5\n",
      "0.4 0.30000000000000004 0.6\n",
      "0.4 0.30000000000000004 0.7000000000000001\n",
      "0.4 0.4 0.5\n",
      "0.4 0.4 0.6\n",
      "0.4 0.4 0.7000000000000001\n",
      "0.4 0.4 0.8\n",
      "0.4 0.5 0.6\n",
      "0.4 0.5 0.7000000000000001\n",
      "0.4 0.5 0.8\n",
      "0.4 0.5 0.9\n",
      "0.4 0.6 0.7000000000000001\n",
      "0.4 0.6 0.8\n",
      "0.4 0.6 0.9\n",
      "0.4 0.6 1.0\n",
      "0.4 0.7000000000000001 0.8\n",
      "0.4 0.7000000000000001 0.9\n",
      "0.4 0.7000000000000001 1.0\n",
      "0.4 0.8 0.9\n",
      "0.4 0.8 1.0\n",
      "0.4 0.9 1.0\n",
      "0.5 0.1 0.6\n",
      "0.5 0.2 0.6\n",
      "0.5 0.30000000000000004 0.6\n",
      "0.5 0.30000000000000004 0.7000000000000001\n",
      "0.5 0.30000000000000004 0.8\n",
      "0.5 0.4 0.6\n",
      "0.5 0.4 0.7000000000000001\n",
      "0.5 0.4 0.8\n",
      "0.5 0.4 0.9\n",
      "0.5 0.5 0.6\n",
      "0.5 0.5 0.7000000000000001\n",
      "0.5 0.5 0.8\n",
      "0.5 0.5 0.9\n",
      "0.5 0.5 1.0\n",
      "0.5 0.6 0.7000000000000001\n",
      "0.5 0.6 0.8\n",
      "0.5 0.6 0.9\n",
      "0.5 0.6 1.0\n",
      "0.5 0.7000000000000001 0.8\n",
      "0.5 0.7000000000000001 0.9\n",
      "0.5 0.7000000000000001 1.0\n",
      "0.5 0.8 0.9\n",
      "0.5 0.8 1.0\n",
      "0.5 0.9 1.0\n",
      "0.6 0.2 0.7000000000000001\n",
      "0.6 0.2 0.8\n",
      "0.6 0.30000000000000004 0.7000000000000001\n",
      "0.6 0.30000000000000004 0.8\n",
      "0.6 0.30000000000000004 0.9\n",
      "0.6 0.4 0.7000000000000001\n",
      "0.6 0.4 0.8\n",
      "0.6 0.4 0.9\n",
      "0.6 0.4 1.0\n",
      "0.6 0.5 0.7000000000000001\n",
      "0.6 0.5 0.8\n",
      "0.6 0.5 0.9\n",
      "0.6 0.5 1.0\n",
      "0.6 0.6 0.7000000000000001\n",
      "0.6 0.6 0.8\n",
      "0.6 0.6 0.9\n",
      "0.6 0.6 1.0\n",
      "0.6 0.7000000000000001 0.8\n",
      "0.6 0.7000000000000001 0.9\n",
      "0.6 0.7000000000000001 1.0\n",
      "0.6 0.8 0.9\n",
      "0.6 0.8 1.0\n",
      "0.6 0.9 1.0\n",
      "0.7000000000000001 0.1 0.8\n",
      "0.7000000000000001 0.2 0.8\n",
      "0.7000000000000001 0.2 0.9\n",
      "0.7000000000000001 0.30000000000000004 0.8\n",
      "0.7000000000000001 0.30000000000000004 0.9\n",
      "0.7000000000000001 0.30000000000000004 1.0\n",
      "0.7000000000000001 0.4 0.8\n",
      "0.7000000000000001 0.4 0.9\n",
      "0.7000000000000001 0.4 1.0\n",
      "0.7000000000000001 0.5 0.8\n",
      "0.7000000000000001 0.5 0.9\n",
      "0.7000000000000001 0.5 1.0\n",
      "0.7000000000000001 0.6 0.8\n",
      "0.7000000000000001 0.6 0.9\n",
      "0.7000000000000001 0.6 1.0\n",
      "0.7000000000000001 0.7000000000000001 0.8\n",
      "0.7000000000000001 0.7000000000000001 0.9\n",
      "0.7000000000000001 0.7000000000000001 1.0\n",
      "0.7000000000000001 0.8 0.9\n",
      "0.7000000000000001 0.8 1.0\n",
      "0.7000000000000001 0.9 1.0\n",
      "0.8 0.1 0.9\n",
      "0.8 0.2 0.9\n",
      "0.8 0.2 1.0\n",
      "0.8 0.30000000000000004 0.9\n",
      "0.8 0.30000000000000004 1.0\n",
      "0.8 0.4 0.9\n",
      "0.8 0.4 1.0\n",
      "0.8 0.5 0.9\n",
      "0.8 0.5 1.0\n",
      "0.8 0.6 0.9\n",
      "0.8 0.6 1.0\n",
      "0.8 0.7000000000000001 0.9\n",
      "0.8 0.7000000000000001 1.0\n",
      "0.8 0.8 0.9\n",
      "0.8 0.8 1.0\n",
      "0.8 0.9 1.0\n",
      "0.9 0.1 1.0\n",
      "0.9 0.2 1.0\n",
      "0.9 0.30000000000000004 1.0\n",
      "0.9 0.4 1.0\n",
      "0.9 0.5 1.0\n",
      "0.9 0.6 1.0\n",
      "0.9 0.7000000000000001 1.0\n",
      "0.9 0.8 1.0\n",
      "0.9 0.9 1.0\n"
     ]
    }
   ],
   "source": [
    "w1s = np.linspace(0.1,1,10)\n",
    "w2s = np.linspace(0.1,1,10)\n",
    "thetas = np.linspace(0.1,1,10)\n",
    "x1 = np.array([0,1,0,1])\n",
    "x2 = np.array([0,0,1,1])\n",
    "for w1 in w1s:\n",
    "    for w2 in w2s:\n",
    "        for theta in thetas:\n",
    "            result = np.sum(np.where(x1*w1 + x2*w2 < theta,1,0) == np.array([1,1,1,0]))\n",
    "            if result == 4:\n",
    "                print(w1,w2,theta)"
   ]
  },
  {
   "cell_type": "code",
   "execution_count": 347,
   "metadata": {},
   "outputs": [
    {
     "data": {
      "text/plain": [
       "4"
      ]
     },
     "execution_count": 347,
     "metadata": {},
     "output_type": "execute_result"
    }
   ],
   "source": [
    "x1 = np.array([0,1,0,1])\n",
    "x2 = np.array([0,0,1,1])\n",
    "w1 = 0.1\n",
    "w2 = 0.2\n",
    "theta = 0.3\n",
    "np.sum(np.where(x1*w1 + x2*w2 > theta,1,0) == np.array([0,0,0,1]))"
   ]
  },
  {
   "cell_type": "code",
   "execution_count": null,
   "metadata": {},
   "outputs": [],
   "source": []
  }
 ],
 "metadata": {
  "kernelspec": {
   "display_name": "Python 3",
   "language": "python",
   "name": "python3"
  },
  "language_info": {
   "codemirror_mode": {
    "name": "ipython",
    "version": 3
   },
   "file_extension": ".py",
   "mimetype": "text/x-python",
   "name": "python",
   "nbconvert_exporter": "python",
   "pygments_lexer": "ipython3",
   "version": "3.8.5"
  }
 },
 "nbformat": 4,
 "nbformat_minor": 4
}
