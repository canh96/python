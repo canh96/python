{
 "cells": [
  {
   "cell_type": "code",
   "execution_count": 8,
   "metadata": {},
   "outputs": [],
   "source": [
    "import pandas as pd\n",
    "import numpy as np\n",
    "from sklearn.model_selection import train_test_split\n",
    "\n"
   ]
  },
  {
   "cell_type": "markdown",
   "metadata": {},
   "source": []
  },
  {
   "cell_type": "code",
   "execution_count": 9,
   "metadata": {},
   "outputs": [
    {
     "data": {
      "text/html": [
       "<div>\n",
       "<style scoped>\n",
       "    .dataframe tbody tr th:only-of-type {\n",
       "        vertical-align: middle;\n",
       "    }\n",
       "\n",
       "    .dataframe tbody tr th {\n",
       "        vertical-align: top;\n",
       "    }\n",
       "\n",
       "    .dataframe thead th {\n",
       "        text-align: right;\n",
       "    }\n",
       "</style>\n",
       "<table border=\"1\" class=\"dataframe\">\n",
       "  <thead>\n",
       "    <tr style=\"text-align: right;\">\n",
       "      <th></th>\n",
       "      <th>alcohol</th>\n",
       "      <th>sugar</th>\n",
       "      <th>pH</th>\n",
       "      <th>class</th>\n",
       "    </tr>\n",
       "  </thead>\n",
       "  <tbody>\n",
       "    <tr>\n",
       "      <th>0</th>\n",
       "      <td>9.4</td>\n",
       "      <td>1.9</td>\n",
       "      <td>3.51</td>\n",
       "      <td>0.0</td>\n",
       "    </tr>\n",
       "    <tr>\n",
       "      <th>1</th>\n",
       "      <td>9.8</td>\n",
       "      <td>2.6</td>\n",
       "      <td>3.20</td>\n",
       "      <td>0.0</td>\n",
       "    </tr>\n",
       "    <tr>\n",
       "      <th>2</th>\n",
       "      <td>9.8</td>\n",
       "      <td>2.3</td>\n",
       "      <td>3.26</td>\n",
       "      <td>0.0</td>\n",
       "    </tr>\n",
       "    <tr>\n",
       "      <th>3</th>\n",
       "      <td>9.8</td>\n",
       "      <td>1.9</td>\n",
       "      <td>3.16</td>\n",
       "      <td>0.0</td>\n",
       "    </tr>\n",
       "    <tr>\n",
       "      <th>4</th>\n",
       "      <td>9.4</td>\n",
       "      <td>1.9</td>\n",
       "      <td>3.51</td>\n",
       "      <td>0.0</td>\n",
       "    </tr>\n",
       "    <tr>\n",
       "      <th>...</th>\n",
       "      <td>...</td>\n",
       "      <td>...</td>\n",
       "      <td>...</td>\n",
       "      <td>...</td>\n",
       "    </tr>\n",
       "    <tr>\n",
       "      <th>6492</th>\n",
       "      <td>11.2</td>\n",
       "      <td>1.6</td>\n",
       "      <td>3.27</td>\n",
       "      <td>1.0</td>\n",
       "    </tr>\n",
       "    <tr>\n",
       "      <th>6493</th>\n",
       "      <td>9.6</td>\n",
       "      <td>8.0</td>\n",
       "      <td>3.15</td>\n",
       "      <td>1.0</td>\n",
       "    </tr>\n",
       "    <tr>\n",
       "      <th>6494</th>\n",
       "      <td>9.4</td>\n",
       "      <td>1.2</td>\n",
       "      <td>2.99</td>\n",
       "      <td>1.0</td>\n",
       "    </tr>\n",
       "    <tr>\n",
       "      <th>6495</th>\n",
       "      <td>12.8</td>\n",
       "      <td>1.1</td>\n",
       "      <td>3.34</td>\n",
       "      <td>1.0</td>\n",
       "    </tr>\n",
       "    <tr>\n",
       "      <th>6496</th>\n",
       "      <td>11.8</td>\n",
       "      <td>0.8</td>\n",
       "      <td>3.26</td>\n",
       "      <td>1.0</td>\n",
       "    </tr>\n",
       "  </tbody>\n",
       "</table>\n",
       "<p>6497 rows × 4 columns</p>\n",
       "</div>"
      ],
      "text/plain": [
       "      alcohol  sugar    pH  class\n",
       "0         9.4    1.9  3.51    0.0\n",
       "1         9.8    2.6  3.20    0.0\n",
       "2         9.8    2.3  3.26    0.0\n",
       "3         9.8    1.9  3.16    0.0\n",
       "4         9.4    1.9  3.51    0.0\n",
       "...       ...    ...   ...    ...\n",
       "6492     11.2    1.6  3.27    1.0\n",
       "6493      9.6    8.0  3.15    1.0\n",
       "6494      9.4    1.2  2.99    1.0\n",
       "6495     12.8    1.1  3.34    1.0\n",
       "6496     11.8    0.8  3.26    1.0\n",
       "\n",
       "[6497 rows x 4 columns]"
      ]
     },
     "execution_count": 9,
     "metadata": {},
     "output_type": "execute_result"
    }
   ],
   "source": [
    "wine = pd.read_csv('./data/08_wine.csv')\n",
    "wine"
   ]
  },
  {
   "cell_type": "code",
   "execution_count": 20,
   "metadata": {},
   "outputs": [],
   "source": [
    "data = wine[['alcohol','sugar','pH']].to_numpy()\n",
    "target = wine['class'].to_numpy()\n",
    "\n"
   ]
  },
  {
   "cell_type": "markdown",
   "metadata": {},
   "source": [
    "## 교차검증 : train_test_split() 방식"
   ]
  },
  {
   "cell_type": "code",
   "execution_count": 21,
   "metadata": {},
   "outputs": [],
   "source": [
    "### 훈련데이터: 검증데이터 : 테스트 데이터 쪼개기\n",
    "# - 보통 6 : 2 : 2 로 쪼갭니다\n",
    "# - 보통 많이 사용하는 방식.."
   ]
  },
  {
   "cell_type": "code",
   "execution_count": 22,
   "metadata": {},
   "outputs": [],
   "source": [
    "### 1. 훈련데이터와 테스트데이터를 8:2로 쪼개기"
   ]
  },
  {
   "cell_type": "code",
   "execution_count": 23,
   "metadata": {},
   "outputs": [
    {
     "name": "stdout",
     "output_type": "stream",
     "text": [
      "(5197, 3) (5197,)\n",
      "(1300, 3) (1300,)\n"
     ]
    }
   ],
   "source": [
    "train_input,test_input,train_target,test_target = train_test_split(data,target,test_size=0.2, random_state=42)\n",
    "\n",
    "print(train_input.shape, train_target.shape)\n",
    "print(test_input.shape, test_target.shape)"
   ]
  },
  {
   "cell_type": "code",
   "execution_count": 24,
   "metadata": {},
   "outputs": [
    {
     "name": "stdout",
     "output_type": "stream",
     "text": [
      "(5197, 3) (5197,)\n",
      "(1300, 3) (1300,)\n"
     ]
    }
   ],
   "source": [
    "sub_input, val_input, sub_target, val_target = train_test_split(data,target,test_size=0.2, random_state=42)\n",
    "\n",
    "\n",
    "print(sub_input.shape, sub_target.shape)\n",
    "print(val_input.shape, val_target.shape)"
   ]
  },
  {
   "cell_type": "code",
   "execution_count": 25,
   "metadata": {},
   "outputs": [],
   "source": [
    "from sklearn.preprocessing import StandardScaler\n",
    "\n",
    "### 클래스(모델) 생성\n",
    "ss = StandardScaler()\n",
    "\n",
    "### 스스로 표준점수 생성\n",
    "ss.fit(train_input)\n",
    "\n",
    "### 훈련데이터를 표준점수로 변환하기\n",
    "train_scaled = ss.transform(train_input)\n",
    "### 테스트데이터를 표준점수로 변환하기\n",
    "test_scaled = ss.transform(test_input)"
   ]
  },
  {
   "cell_type": "code",
   "execution_count": 28,
   "metadata": {},
   "outputs": [
    {
     "name": "stdout",
     "output_type": "stream",
     "text": [
      "0.996921300750433\n",
      "0.8584615384615385\n"
     ]
    }
   ],
   "source": [
    "\n",
    "from sklearn.tree import DecisionTreeClassifier\n",
    "\n",
    "df = DecisionTreeClassifier(random_state=42)\n",
    "\n",
    "\n",
    "df.fit(sub_input,sub_target)\n",
    "\n",
    "print(df.score(sub_input,sub_target))\n",
    "\n",
    "print(df.score(val_input,val_target))"
   ]
  },
  {
   "cell_type": "code",
   "execution_count": null,
   "metadata": {},
   "outputs": [],
   "source": [
    "##사전에 검증이 됬으면 테스트 진행함\n",
    "# 테스트는 사용하지 않고 독립적으로 보관해놨다가 별개로 사용함\n",
    "#검증테스트를 중간에 두고 사용함 \n",
    "print(df.score(test_input, test_target))"
   ]
  },
  {
   "cell_type": "markdown",
   "metadata": {},
   "source": [
    "## 교차검증 시작...(실제)"
   ]
  },
  {
   "cell_type": "code",
   "execution_count": 29,
   "metadata": {},
   "outputs": [],
   "source": [
    "### 훈련데이터와 검증데이터를 구분할 필요없이\n",
    "# - 내부적으로 구분해서 사용..\n",
    "# - 내부적으로 구분에 사용하는 데이터는 훈련(train) 데이터\n",
    "# - 데이터 준비는 기존처럼 훈련과 테스트 데이터만 준비\n",
    "# - 검증데이터는 별도로 준비 안해도 됨.."
   ]
  },
  {
   "cell_type": "code",
   "execution_count": null,
   "metadata": {},
   "outputs": [],
   "source": [
    "### 교차검증에 사용되는 주요 키워드\n",
    "# 3-폴드(fold) 교차검증\n",
    "#  :훈련데이터를 세부적으로 나눠서 데이터를 쪼개고 수행\n",
    "# : 구간마다 훈련데이터를 검증데이터로 바꿔가면서 수행\n",
    "# : k-폴드 또는 교차검증 또는 k-겹 교차검증이라고도 합니다.\n",
    "\n",
    "# 보통 5-폴드 교차검증 또는 10 -폴드 교차검증을 사용합니다.\n",
    "# : 훈련데이터로 80% 이상을 모두 모델 훈련에 사용 가능\n"
   ]
  },
  {
   "cell_type": "code",
   "execution_count": null,
   "metadata": {},
   "outputs": [],
   "source": [
    "## 사용하는 데이터 다시한번 학인\n"
   ]
  },
  {
   "cell_type": "code",
   "execution_count": 31,
   "metadata": {},
   "outputs": [],
   "source": [
    "### 교차검증 모듈 : cross_validate\n",
    "from sklearn.model_selection import cross_validate\n",
    "\n",
    "# df : 결정트리 훈련모델(다른 모델을 사용한 경우 해당 모델)\n",
    "# 두번째 값: 훈련데이터(fold에서 훈련데이터 쪼갤때 사용)\n",
    "# 세번째 값 : 검증데이터(fold에서 검증데이터 쪼갤때 사용)\n",
    "scores = cross_validate(df,train_input, train_target)\n",
    "#           1. 사용된 훈련모델,훈련데이터 만듦, 검증데이터만듦 "
   ]
  },
  {
   "cell_type": "code",
   "execution_count": 34,
   "metadata": {},
   "outputs": [
    {
     "name": "stdout",
     "output_type": "stream",
     "text": [
      "{'fit_time': array([0.00698066, 0.00897598, 0.0079782 , 0.00598431, 0.00698256]), 'score_time': array([0.00099802, 0.00099683, 0.00099754, 0.00099707, 0.00099659]), 'test_score': array([0.86923077, 0.84615385, 0.87680462, 0.84889317, 0.83541867])}\n",
      "최종 score =  0.855300214703487\n"
     ]
    }
   ],
   "source": [
    "scores = cross_validate(df,train_input, train_target)\n",
    "print(scores)\n",
    "## 딕셔너리의 test_score의 평균값이 최종 훈련모델의 평가점수(정확도)\n",
    "print('최종 score = ' , np.mean(scores['test_score']))"
   ]
  },
  {
   "cell_type": "code",
   "execution_count": 48,
   "metadata": {},
   "outputs": [
    {
     "name": "stdout",
     "output_type": "stream",
     "text": [
      "{'fit_time': array([0.00697875, 0.00598478, 0.00598454, 0.00598383, 0.00499058]), 'score_time': array([0.00099802, 0.        , 0.00099611, 0.        , 0.00098443]), 'test_score': array([0.86923077, 0.84615385, 0.87680462, 0.84889317, 0.83541867])}\n",
      "최종 score =  0.855300214703487\n"
     ]
    }
   ],
   "source": [
    "### 훈련데이터를 섞거나, 폴드의 갯수를 지정할 수 있는 클래스\n",
    "# - StatifiedKFold\n",
    "from sklearn.model_selection import StratifiedKFold\n",
    "\n",
    "# 교차검증 함수 그대로 사용\n",
    "# cs : 분할기 속성\n",
    "#    : 분할기로 StatifiedKFold 클래스 사용\n",
    "#    : 속성값이 없을 경우 기본 fold는 5, 기본 섞지는 않음\n",
    "\n",
    "scores = cross_validate(df, train_input, train_target,\n",
    "                                            cv = StratifiedKFold())\n",
    "\n",
    "\n",
    "print(scores)\n",
    "## 딕셔너리의 test_score의 평균값이 최종 훈련모델의 평가점수(정확도)\n",
    "print('최종 score = ' , np.mean(scores['test_score']))\n",
    "##"
   ]
  },
  {
   "cell_type": "code",
   "execution_count": 52,
   "metadata": {},
   "outputs": [
    {
     "name": "stdout",
     "output_type": "stream",
     "text": [
      "{'fit_time': array([0.0079813 , 0.00596952, 0.00801373, 0.00694704, 0.00698185,\n",
      "       0.00696754, 0.00698566, 0.00699973, 0.0069623 , 0.00693655,\n",
      "       0.00597739, 0.0069809 , 0.00598311, 0.0069809 , 0.00598335,\n",
      "       0.00598502, 0.00598359, 0.00498629, 0.00598359, 0.00598335]), 'score_time': array([0.        , 0.00098729, 0.        , 0.        , 0.00101042,\n",
      "       0.        , 0.00099468, 0.        , 0.        , 0.        ,\n",
      "       0.0009973 , 0.00099778, 0.00099754, 0.00099802, 0.        ,\n",
      "       0.00099659, 0.00099778, 0.00099778, 0.        , 0.        ]), 'test_score': array([0.85384615, 0.85384615, 0.88461538, 0.86923077, 0.84230769,\n",
      "       0.86538462, 0.87307692, 0.85384615, 0.83461538, 0.84615385,\n",
      "       0.87307692, 0.86923077, 0.85      , 0.86538462, 0.86153846,\n",
      "       0.86538462, 0.84615385, 0.83783784, 0.8996139 , 0.86100386])}\n",
      "최종 score =  0.8603073953073954\n"
     ]
    }
   ],
   "source": [
    "### 훈련데이터를 섞거나, 폴드의 갯수를 지정할 수 있는 클래스\n",
    "# - StatifiedKFold\n",
    "\n",
    "\n",
    "# 교차검증 함수 그대로 사용\n",
    "# cs : 분할기 속성\n",
    "#    : 분할기로 StatifiedKFold 클래스 사용\n",
    "#    : 속성값이 없을 경우 기본 fold는 5, 기본 섞지는 않음\n",
    "\n",
    "# n_splits : fold 갯수 , shuffle : 섞기\n",
    "splitter = StratifiedKFold(n_splits=20, shuffle=True, random_state =42)\n",
    "scores = cross_validate(df, train_input, train_target,cv = splitter)\n",
    "\n",
    "\n",
    "print(scores)\n",
    "\n",
    "## 딕셔너리의 test_score의 평균값이 최종 훈련모델의 평가점수(정확도)\n",
    "print('최종 score = ' , np.mean(scores['test_score']))\n"
   ]
  },
  {
   "cell_type": "markdown",
   "metadata": {},
   "source": [
    "## 하이퍼파라미터 튜닝(AutoML)\n"
   ]
  },
  {
   "cell_type": "code",
   "execution_count": 53,
   "metadata": {},
   "outputs": [],
   "source": [
    "###  교차검증, 하이퍼파라미터 찾기, 모델훈련을 한번에 자동으로 수행\n",
    "# - 이런 개념을 AutoML 이라고 합니다.\n",
    "#  - 사용패키지 : sklearn.model_selection\n",
    "# - 사용클래스 : GridSearchCV\n",
    "# - 그리드 서치라고도 합니다."
   ]
  },
  {
   "cell_type": "markdown",
   "metadata": {},
   "source": [
    "## 결정트리의 max_depth(트리의 깊이)값 찾기\n",
    "##### - 그리드서치(GridSearchCV) 객체(모델) 사용\n"
   ]
  },
  {
   "cell_type": "code",
   "execution_count": 54,
   "metadata": {},
   "outputs": [
    {
     "data": {
      "text/plain": [
       "GridSearchCV(estimator=DecisionTreeClassifier(random_state=42), n_jobs=-1,\n",
       "             param_grid={'max_depth': range(5, 20)})"
      ]
     },
     "execution_count": 54,
     "metadata": {},
     "output_type": "execute_result"
    }
   ],
   "source": [
    "from sklearn.model_selection import GridSearchCV\n",
    "\n",
    "#찾을 하이퍼파라미터는 딕셔너리로 \n",
    "#실제 파라미터 변수이름 그대로, 찾을 범위 지정\n",
    "params = {'max_depth' : range(5,20,1)}\n",
    "\n",
    "#객체(모델 생성)\n",
    "# - 첫번째 값 : 훈련모델 넣기\n",
    "# - 두번째 값 : 찾을 하이퍼 파라미터 값들(딕셔너리로 정의)\n",
    "# - 세번째 값 : CPU 코어 갯수( -1은 모든 코어 사용, 병렬 처리)\n",
    "gs = GridSearchCV(DecisionTreeClassifier(random_state=42),\n",
    "                  params, n_jobs = -1)\n",
    "\n",
    "#훈련시키기\n",
    "gs.fit(train_input, train_target)"
   ]
  },
  {
   "cell_type": "code",
   "execution_count": 56,
   "metadata": {},
   "outputs": [
    {
     "name": "stdout",
     "output_type": "stream",
     "text": [
      "DecisionTreeClassifier(max_depth=8, random_state=42)\n"
     ]
    }
   ],
   "source": [
    "#그리드서치의 결과..\n",
    "# - 하이퍼파라미터의 찾은 값 알려줌\n",
    "# - 중요: 훈련모델이 생성되어 반환됨\n",
    "#\n",
    "print(gs.best_estimator_)"
   ]
  },
  {
   "cell_type": "code",
   "execution_count": 61,
   "metadata": {},
   "outputs": [
    {
     "name": "stdout",
     "output_type": "stream",
     "text": [
      "0.9003271117952665\n"
     ]
    }
   ],
   "source": [
    "## 그리드서치를 통해 생성된 훈련모델을 통해\n",
    "# 평가해보기, 훈련데이터 전체 사용\n",
    "dt =gs.best_estimator_\n",
    "print(dt.score(train_input, train_target))"
   ]
  },
  {
   "cell_type": "code",
   "execution_count": 68,
   "metadata": {},
   "outputs": [
    {
     "name": "stdout",
     "output_type": "stream",
     "text": [
      "{'max_depth': 8}\n",
      "---------------------------------\n",
      "{'mean_fit_time': array([0.00698156, 0.00678201, 0.00658197, 0.00718036, 0.00877624,\n",
      "       0.01077132, 0.01077142, 0.00757995, 0.00817566, 0.00957375,\n",
      "       0.00857735, 0.01116915, 0.00837698, 0.00997405, 0.00757942]), 'std_fit_time': array([0.00252274, 0.00074672, 0.00048906, 0.00097735, 0.00182775,\n",
      "       0.00757978, 0.00509918, 0.00048933, 0.00097445, 0.00149291,\n",
      "       0.00048842, 0.00506231, 0.00135317, 0.0018919 , 0.00048869]), 'mean_score_time': array([0.00119801, 0.00139651, 0.00099735, 0.00059853, 0.00079718,\n",
      "       0.00119877, 0.00099587, 0.0007966 , 0.0007978 , 0.00059848,\n",
      "       0.00059824, 0.00079894, 0.00099754, 0.00079703, 0.00059896]), 'std_score_time': array([4.01044101e-04, 4.89317611e-04, 4.10190833e-07, 4.88694526e-04,\n",
      "       3.98589906e-04, 3.99710977e-04, 2.39844825e-06, 3.98309342e-04,\n",
      "       7.45919956e-04, 7.98010831e-04, 4.88460995e-04, 3.99472787e-04,\n",
      "       6.30901819e-04, 3.98517607e-04, 4.89045115e-04]), 'param_max_depth': masked_array(data=[5, 6, 7, 8, 9, 10, 11, 12, 13, 14, 15, 16, 17, 18, 19],\n",
      "             mask=[False, False, False, False, False, False, False, False,\n",
      "                   False, False, False, False, False, False, False],\n",
      "       fill_value='?',\n",
      "            dtype=object), 'params': [{'max_depth': 5}, {'max_depth': 6}, {'max_depth': 7}, {'max_depth': 8}, {'max_depth': 9}, {'max_depth': 10}, {'max_depth': 11}, {'max_depth': 12}, {'max_depth': 13}, {'max_depth': 14}, {'max_depth': 15}, {'max_depth': 16}, {'max_depth': 17}, {'max_depth': 18}, {'max_depth': 19}], 'split0_test_score': array([0.84711538, 0.84807692, 0.85769231, 0.85288462, 0.85769231,\n",
      "       0.84519231, 0.85865385, 0.86730769, 0.86538462, 0.86826923,\n",
      "       0.86730769, 0.86442308, 0.86346154, 0.86634615, 0.87211538]), 'split1_test_score': array([0.86346154, 0.85480769, 0.85192308, 0.85480769, 0.85961538,\n",
      "       0.84711538, 0.85096154, 0.84807692, 0.85384615, 0.85192308,\n",
      "       0.85384615, 0.84903846, 0.85      , 0.85384615, 0.85673077]), 'split2_test_score': array([0.88065448, 0.87391723, 0.87584216, 0.87872955, 0.87102984,\n",
      "       0.87680462, 0.88065448, 0.8825794 , 0.87391723, 0.87006737,\n",
      "       0.86814244, 0.87680462, 0.8719923 , 0.87391723, 0.87872955]), 'split3_test_score': array([0.83638114, 0.84311838, 0.84311838, 0.84696824, 0.84215592,\n",
      "       0.84696824, 0.85274302, 0.84889317, 0.85370549, 0.85851781,\n",
      "       0.85466795, 0.85948027, 0.85274302, 0.85659288, 0.84985563]), 'split4_test_score': array([0.8614052 , 0.85948027, 0.8479307 , 0.86525505, 0.85466795,\n",
      "       0.85274302, 0.84889317, 0.84889317, 0.83926853, 0.84119346,\n",
      "       0.8373436 , 0.83830606, 0.83926853, 0.83830606, 0.8373436 ]), 'mean_test_score': array([0.85780355, 0.8558801 , 0.85530133, 0.85972903, 0.85703228,\n",
      "       0.85376471, 0.85838121, 0.85915007, 0.8572244 , 0.85799419,\n",
      "       0.85626157, 0.8576105 , 0.85549308, 0.8578017 , 0.85895499]), 'std_test_score': array([0.0151017 , 0.0106132 , 0.01132965, 0.01118445, 0.00927293,\n",
      "       0.01179638, 0.01160204, 0.01377319, 0.01175966, 0.01068396,\n",
      "       0.01121994, 0.01314886, 0.01128444, 0.01208226, 0.01496013]), 'rank_test_score': array([ 6, 12, 14,  1, 10, 15,  4,  2,  9,  5, 11,  8, 13,  7,  3])}\n",
      "---------------------------------\n",
      "dict_keys(['mean_fit_time', 'std_fit_time', 'mean_score_time', 'std_score_time', 'param_max_depth', 'params', 'split0_test_score', 'split1_test_score', 'split2_test_score', 'split3_test_score', 'split4_test_score', 'mean_test_score', 'std_test_score', 'rank_test_score'])\n"
     ]
    }
   ],
   "source": [
    "#가장 최적화된 하이퍼파라미터 값만 알고 싶으면\n",
    "print(gs.best_params_)\n",
    "#그리드 서치가 확인한 모든 값을 확인하고 싶으면\n",
    "print('---------------------------------')\n",
    "print(gs.cv_results_)\n",
    "print('---------------------------------')\n",
    "print(gs.cv_results_.keys())"
   ]
  },
  {
   "cell_type": "code",
   "execution_count": 69,
   "metadata": {},
   "outputs": [
    {
     "name": "stdout",
     "output_type": "stream",
     "text": [
      "[{'max_depth': 5}, {'max_depth': 6}, {'max_depth': 7}, {'max_depth': 8}, {'max_depth': 9}, {'max_depth': 10}, {'max_depth': 11}, {'max_depth': 12}, {'max_depth': 13}, {'max_depth': 14}, {'max_depth': 15}, {'max_depth': 16}, {'max_depth': 17}, {'max_depth': 18}, {'max_depth': 19}]\n"
     ]
    }
   ],
   "source": [
    "### params 값 확인하기\n",
    "print(gs.cv_results_['params'])"
   ]
  },
  {
   "cell_type": "code",
   "execution_count": 70,
   "metadata": {},
   "outputs": [
    {
     "name": "stdout",
     "output_type": "stream",
     "text": [
      "[0.84711538 0.84807692 0.85769231 0.85288462 0.85769231 0.84519231\n",
      " 0.85865385 0.86730769 0.86538462 0.86826923 0.86730769 0.86442308\n",
      " 0.86346154 0.86634615 0.87211538]\n"
     ]
    }
   ],
   "source": [
    "### 1폴드 조회하기\n",
    "print(gs.cv_results_['split0_test_score'])"
   ]
  },
  {
   "cell_type": "code",
   "execution_count": 72,
   "metadata": {},
   "outputs": [
    {
     "name": "stdout",
     "output_type": "stream",
     "text": [
      "0.8584615384615385\n"
     ]
    }
   ],
   "source": [
    "### 훈련모델 최종검증하기\n",
    "# 최종검증은 테스트 데이터 사용\n",
    "print(dt.score(test_input,test_target))"
   ]
  },
  {
   "cell_type": "code",
   "execution_count": 116,
   "metadata": {},
   "outputs": [
    {
     "name": "stdout",
     "output_type": "stream",
     "text": [
      "key      5.000000\n",
      "score    0.847115\n",
      "Name: 0, dtype: float64\n"
     ]
    },
    {
     "data": {
      "text/html": [
       "<div>\n",
       "<style scoped>\n",
       "    .dataframe tbody tr th:only-of-type {\n",
       "        vertical-align: middle;\n",
       "    }\n",
       "\n",
       "    .dataframe tbody tr th {\n",
       "        vertical-align: top;\n",
       "    }\n",
       "\n",
       "    .dataframe thead th {\n",
       "        text-align: right;\n",
       "    }\n",
       "</style>\n",
       "<table border=\"1\" class=\"dataframe\">\n",
       "  <thead>\n",
       "    <tr style=\"text-align: right;\">\n",
       "      <th></th>\n",
       "      <th>key</th>\n",
       "      <th>score</th>\n",
       "    </tr>\n",
       "  </thead>\n",
       "  <tbody>\n",
       "    <tr>\n",
       "      <th>0</th>\n",
       "      <td>5</td>\n",
       "      <td>0.847115</td>\n",
       "    </tr>\n",
       "    <tr>\n",
       "      <th>1</th>\n",
       "      <td>6</td>\n",
       "      <td>0.848077</td>\n",
       "    </tr>\n",
       "    <tr>\n",
       "      <th>2</th>\n",
       "      <td>7</td>\n",
       "      <td>0.857692</td>\n",
       "    </tr>\n",
       "    <tr>\n",
       "      <th>3</th>\n",
       "      <td>8</td>\n",
       "      <td>0.852885</td>\n",
       "    </tr>\n",
       "    <tr>\n",
       "      <th>4</th>\n",
       "      <td>9</td>\n",
       "      <td>0.857692</td>\n",
       "    </tr>\n",
       "    <tr>\n",
       "      <th>5</th>\n",
       "      <td>10</td>\n",
       "      <td>0.845192</td>\n",
       "    </tr>\n",
       "    <tr>\n",
       "      <th>6</th>\n",
       "      <td>11</td>\n",
       "      <td>0.858654</td>\n",
       "    </tr>\n",
       "    <tr>\n",
       "      <th>7</th>\n",
       "      <td>12</td>\n",
       "      <td>0.867308</td>\n",
       "    </tr>\n",
       "    <tr>\n",
       "      <th>8</th>\n",
       "      <td>13</td>\n",
       "      <td>0.865385</td>\n",
       "    </tr>\n",
       "    <tr>\n",
       "      <th>9</th>\n",
       "      <td>14</td>\n",
       "      <td>0.868269</td>\n",
       "    </tr>\n",
       "    <tr>\n",
       "      <th>10</th>\n",
       "      <td>15</td>\n",
       "      <td>0.867308</td>\n",
       "    </tr>\n",
       "    <tr>\n",
       "      <th>11</th>\n",
       "      <td>16</td>\n",
       "      <td>0.864423</td>\n",
       "    </tr>\n",
       "    <tr>\n",
       "      <th>12</th>\n",
       "      <td>17</td>\n",
       "      <td>0.863462</td>\n",
       "    </tr>\n",
       "    <tr>\n",
       "      <th>13</th>\n",
       "      <td>18</td>\n",
       "      <td>0.866346</td>\n",
       "    </tr>\n",
       "    <tr>\n",
       "      <th>14</th>\n",
       "      <td>19</td>\n",
       "      <td>0.872115</td>\n",
       "    </tr>\n",
       "  </tbody>\n",
       "</table>\n",
       "</div>"
      ],
      "text/plain": [
       "    key     score\n",
       "0     5  0.847115\n",
       "1     6  0.848077\n",
       "2     7  0.857692\n",
       "3     8  0.852885\n",
       "4     9  0.857692\n",
       "5    10  0.845192\n",
       "6    11  0.858654\n",
       "7    12  0.867308\n",
       "8    13  0.865385\n",
       "9    14  0.868269\n",
       "10   15  0.867308\n",
       "11   16  0.864423\n",
       "12   17  0.863462\n",
       "13   18  0.866346\n",
       "14   19  0.872115"
      ]
     },
     "execution_count": 116,
     "metadata": {},
     "output_type": "execute_result"
    }
   ],
   "source": [
    "dfa=pd.DataFrame()\n",
    "# dfa[]= gs.cv_results_['params']\n",
    "# print(gs.cv_results_['split0_test_score'])\n",
    "a= []\n",
    "for i in gs.cv_results_['params']:\n",
    "    for j in i.values():\n",
    "        a.append(j)\n",
    "        \n",
    "dfa['key']=a\n",
    "dfa['score']=gs.cv_results_['split0_test_score']\n",
    "dfa.reset_index(drop=True)\n",
    "\n",
    "print(dfa.loc[0])\n",
    "dfa\n",
    "        \n",
    "\n",
    "        \n",
    "    "
   ]
  },
  {
   "cell_type": "markdown",
   "metadata": {},
   "source": [
    "## 찾을 하이퍼파라미터 여러개 사용하기"
   ]
  },
  {
   "cell_type": "code",
   "execution_count": 119,
   "metadata": {},
   "outputs": [
    {
     "data": {
      "text/plain": [
       "GridSearchCV(estimator=DecisionTreeClassifier(random_state=42), n_jobs=-1,\n",
       "             param_grid={'max_depth': range(5, 20),\n",
       "                         'min_impurity_decrease': array([0.0001, 0.0002, 0.0003, 0.0004, 0.0005, 0.0006, 0.0007, 0.0008,\n",
       "       0.0009]),\n",
       "                         'min_samples_split': range(2, 100, 10)})"
      ]
     },
     "execution_count": 119,
     "metadata": {},
     "output_type": "execute_result"
    }
   ],
   "source": [
    "# min_impurity_decrease :결정트리 노드 분리시 불순도 감소 최소량\n",
    "# max_dpth : 결정트리 깊이\n",
    "# min_samples_split : 결정트리 노드를 나누기 위한 최소 샘플 갯수\n",
    "\n",
    "params = {'min_impurity_decrease' : np.arange(0.0001,0.001,0.0001),\n",
    "          'max_depth' : range(5,20,1),\n",
    "          'min_samples_split' : range(2,100,10)}\n",
    "##그리드 훈련시키기\n",
    "gs = GridSearchCV(DecisionTreeClassifier(random_state =42),\n",
    "                  params,n_jobs =-1)\n",
    "\n",
    "gs.fit(train_input, train_target)\n"
   ]
  },
  {
   "cell_type": "code",
   "execution_count": 120,
   "metadata": {},
   "outputs": [
    {
     "name": "stdout",
     "output_type": "stream",
     "text": [
      "{'max_depth': 14, 'min_impurity_decrease': 0.0004, 'min_samples_split': 12}\n"
     ]
    }
   ],
   "source": [
    "#밑 수치대로 작성하면 가장 최적화된 트리 값이 나온다.\n",
    "print(gs.best_params_)"
   ]
  },
  {
   "cell_type": "code",
   "execution_count": 121,
   "metadata": {},
   "outputs": [
    {
     "name": "stdout",
     "output_type": "stream",
     "text": [
      "0.9003271117952665\n",
      "-----------------------------\n",
      "0.8584615384615385\n"
     ]
    }
   ],
   "source": [
    "print(dt.score(train_input,train_target))\n",
    "print('-----------------------------')\n",
    "print(dt.score(test_input,test_target))"
   ]
  },
  {
   "cell_type": "code",
   "execution_count": 125,
   "metadata": {},
   "outputs": [
    {
     "data": {
      "text/plain": [
       "GridSearchCV(cv=StratifiedKFold(n_splits=7, random_state=42, shuffle=True),\n",
       "             estimator=DecisionTreeClassifier(random_state=42), n_jobs=-1,\n",
       "             param_grid={'max_depth': range(5, 20),\n",
       "                         'min_impurity_decrease': array([0.0001, 0.0002, 0.0003, 0.0004, 0.0005, 0.0006, 0.0007, 0.0008,\n",
       "       0.0009]),\n",
       "                         'min_samples_split': range(2, 100, 10)})"
      ]
     },
     "execution_count": 125,
     "metadata": {},
     "output_type": "execute_result"
    }
   ],
   "source": [
    "### 10-폴드 지정하기\n",
    "\n",
    "splitter = StratifiedKFold(n_splits=7, shuffle=True, random_state =42)\n",
    "\n",
    "params = {'min_impurity_decrease' : np.arange(0.0001,0.001,0.0001),\n",
    "          'max_depth' : range(5,20,1),\n",
    "          'min_samples_split' : range(2,100,10)}\n",
    "##그리드 훈련시키기\n",
    "gs = GridSearchCV(DecisionTreeClassifier(random_state =42),\n",
    "                  params,cv=splitter, n_jobs =-1)\n",
    "\n",
    "gs.fit(train_input, train_target)\n"
   ]
  },
  {
   "cell_type": "code",
   "execution_count": 126,
   "metadata": {},
   "outputs": [
    {
     "name": "stdout",
     "output_type": "stream",
     "text": [
      "0.9230325187608236\n",
      "-----------------------------\n",
      "0.8692307692307693\n"
     ]
    }
   ],
   "source": [
    "dt =gs.best_estimator_\n",
    "print(dt.score(train_input,train_target))\n",
    "print('-----------------------------')\n",
    "print(dt.score(test_input,test_target))"
   ]
  },
  {
   "cell_type": "markdown",
   "metadata": {},
   "source": [
    "## 랜덤서치(Random Search)"
   ]
  },
  {
   "cell_type": "code",
   "execution_count": 127,
   "metadata": {},
   "outputs": [],
   "source": [
    "### 랜덤서치 사용시 아래 조건 만족해야 합니다.\n",
    "# - 하이퍼파라미터값이 수치인 것들만 사용\n",
    "# - 범위나 간격을 미리 정하기 어려울 경우\n",
    "# - 너무 많은 매개변수가 있어서 그리드서치 수행시간이 오래 걸리는 경우\n",
    "# - 매개변수를 샘플링할때 확률분포객체를 전달..\n",
    "\n",
    "# 사용모듈 : uniform(실수값) , randint(정수값)\n",
    "\n"
   ]
  },
  {
   "cell_type": "code",
   "execution_count": 137,
   "metadata": {},
   "outputs": [],
   "source": [
    "from scipy.stats import uniform, randint\n",
    "from sklearn.model_selection import RandomizedSearchCV\n"
   ]
  },
  {
   "cell_type": "code",
   "execution_count": 129,
   "metadata": {},
   "outputs": [
    {
     "data": {
      "text/plain": [
       "<scipy.stats._distn_infrastructure.rv_frozen at 0x13134298790>"
      ]
     },
     "execution_count": 129,
     "metadata": {},
     "output_type": "execute_result"
    }
   ],
   "source": [
    "### 범위 설정\n",
    "rgen = randint(0, 10)\n",
    "rgen"
   ]
  },
  {
   "cell_type": "code",
   "execution_count": 131,
   "metadata": {},
   "outputs": [
    {
     "name": "stdout",
     "output_type": "stream",
     "text": [
      "[8 9 7 5 5 8 8 0 1 8 7 5 2 6 9 5 0 8 9 9 2 2 0 3 9 0 5 9 9 3 2 5 1 3 5 1 2\n",
      " 4 2 5 3 9 8 3 5 2 1 3 0 0 0 1 3 1 1 3 4 5 3 6 8 2 1 3 9 8 1 9 5 3 2 4 7 0\n",
      " 3 3 0 2 3 2 6 0 0 1 1 8 5 3 4 1 5 6 2 8 5 5 7 3 6 0]\n"
     ]
    }
   ],
   "source": [
    "###범위 내에서 임의값 출력하기(확률적으로 고르게 뽑아냅니다.)\n",
    "print(rgen.rvs(100))"
   ]
  },
  {
   "cell_type": "code",
   "execution_count": 134,
   "metadata": {},
   "outputs": [
    {
     "name": "stdout",
     "output_type": "stream",
     "text": [
      "[0.59849321 0.29215125 0.90179059 0.4216161  0.5156771  0.85781863\n",
      " 0.15388062 0.64074493 0.79828061 0.67209661 0.26058881 0.50176997\n",
      " 0.27690391 0.28022629 0.61422997 0.04794795 0.11620713 0.49798463\n",
      " 0.34726287 0.13624111 0.79351232 0.82257937 0.56741617 0.36506161\n",
      " 0.30276992 0.34013578 0.18120566 0.36465506 0.2192056  0.54990577\n",
      " 0.81550333 0.93321235 0.5079296  0.31598731 0.39076398 0.66239378\n",
      " 0.25390927 0.12311663 0.13627727 0.23760285 0.33424532 0.83486819\n",
      " 0.78614454 0.61568673 0.05764247 0.11327641 0.57393923 0.84819986\n",
      " 0.4610165  0.37727669 0.07434397 0.19506522 0.78651484 0.37718132\n",
      " 0.31811868 0.57580647 0.83232801 0.43809576 0.86702775 0.3862063\n",
      " 0.29794245 0.93133898 0.92300007 0.85298028 0.5443444  0.85857336\n",
      " 0.73593128 0.95295061 0.72287969 0.58987445 0.41696778 0.07828592\n",
      " 0.24759119 0.68562318 0.16816722 0.2540149  0.11873876 0.55481452\n",
      " 0.22555215 0.8861293  0.87342494 0.90420256 0.43144594 0.70706694\n",
      " 0.83541166 0.0874751  0.98568831 0.08146557 0.25355511 0.40153197\n",
      " 0.34848683 0.65140983 0.63891466 0.06749534 0.97410582 0.99084112\n",
      " 0.90295323 0.16515586 0.32871265 0.93268836]\n"
     ]
    }
   ],
   "source": [
    "# 실수값\n",
    "ugen = uniform(0,1)\n",
    "\n",
    "#임의값 50개 조회\n",
    "\n",
    "print(ugen.rvs(100))"
   ]
  },
  {
   "cell_type": "code",
   "execution_count": 143,
   "metadata": {},
   "outputs": [
    {
     "data": {
      "text/plain": [
       "RandomizedSearchCV(estimator=DecisionTreeClassifier(random_state=42),\n",
       "                   n_iter=100, n_jobs=-1,\n",
       "                   param_distributions={'max_depth': <scipy.stats._distn_infrastructure.rv_frozen object at 0x0000013134298700>,\n",
       "                                        'min_impurity_decrease': <scipy.stats._distn_infrastructure.rv_frozen object at 0x000001312E27F040>,\n",
       "                                        'min_samples_split': <scipy.stats._distn_infrastructure.rv_frozen object at 0x00000131342A1A90>},\n",
       "                   random_state=42)"
      ]
     },
     "execution_count": 143,
     "metadata": {},
     "output_type": "execute_result"
    }
   ],
   "source": [
    "### 하이퍼파라미터 찾을 매개변수 정의하기\n",
    "params = {'min_impurity_decrease' : uniform(0.0001,0.001),\n",
    "          'max_depth' :randint(20,50),\n",
    "          'min_samples_split' : randint(2,25),}\n",
    "\n",
    "# 랜덤서치 클래스 (모델) : RandomizedSearchCV()\n",
    "# 사용방법은 그리드서치와 동일\n",
    "# 결정트리 모델 사용, 훈련반복 횟수 100회, 코어 전체, 시드 42\n",
    "# n_iter =n(훈련 반복횟수)\n",
    "# 훈련 반복횟수를 적냐 안적냐는 range의 유무에 따라 틀림 ,range가 있으면 n_iter을 안적어도 됌\n",
    "\n",
    "gs = RandomizedSearchCV(DecisionTreeClassifier(random_state =42),\n",
    "                  params,n_iter=100, n_jobs =-1,random_state=42)\n",
    "\n",
    "gs.fit(train_input, train_target)\n"
   ]
  },
  {
   "cell_type": "code",
   "execution_count": 144,
   "metadata": {},
   "outputs": [
    {
     "name": "stdout",
     "output_type": "stream",
     "text": [
      "dict_keys(['mean_fit_time', 'std_fit_time', 'mean_score_time', 'std_score_time', 'param_max_depth', 'param_min_impurity_decrease', 'param_min_samples_split', 'params', 'split0_test_score', 'split1_test_score', 'split2_test_score', 'split3_test_score', 'split4_test_score', 'mean_test_score', 'std_test_score', 'rank_test_score'])\n"
     ]
    }
   ],
   "source": [
    "print(gs.cv_results_.keys())"
   ]
  },
  {
   "cell_type": "code",
   "execution_count": 148,
   "metadata": {},
   "outputs": [
    {
     "name": "stdout",
     "output_type": "stream",
     "text": [
      "[0.86203543 0.86203524 0.86453672 0.8639598  0.86434441 0.86184534\n",
      " 0.86280669 0.86684608 0.86607592 0.86203561 0.85972662 0.8603054\n",
      " 0.86338306 0.86145813 0.86222792 0.86145739 0.86761605 0.86261272\n",
      " 0.86184238 0.86396109 0.86453709 0.86646165 0.86184312 0.86665322\n",
      " 0.86165044 0.86030484 0.86299845 0.86742356 0.86203543 0.86838658\n",
      " 0.86319186 0.86819334 0.85799659 0.86242023 0.86203561 0.86299752\n",
      " 0.86261309 0.86049733 0.86857833 0.86299752 0.86800085 0.86203543\n",
      " 0.8664635  0.86415451 0.86588473 0.86338362 0.8678091  0.86357611\n",
      " 0.8624206  0.85857315 0.86203543 0.86742374 0.86607629 0.86838639\n",
      " 0.86107333 0.86030466 0.86203543 0.86376805 0.86396146 0.86954098\n",
      " 0.86954079 0.86800104 0.86145739 0.86242023 0.85972662 0.86261327\n",
      " 0.86684626 0.86703913 0.86472958 0.86280503 0.86607814 0.86530632\n",
      " 0.86800104 0.86203543 0.86088325 0.86261272 0.86299826 0.86242004\n",
      " 0.86242023 0.86203543 0.86222773 0.86280558 0.8660787  0.85953413\n",
      " 0.86800104 0.86145739 0.86184293 0.86588491 0.86184293 0.86761661\n",
      " 0.86203543 0.86203543 0.86145813 0.86184275 0.8620358  0.86299752\n",
      " 0.86242023 0.86780873 0.86299752 0.86299752]\n"
     ]
    }
   ],
   "source": [
    "print(gs.cv_results_['mean_test_score'])"
   ]
  },
  {
   "cell_type": "code",
   "execution_count": 149,
   "metadata": {},
   "outputs": [
    {
     "name": "stdout",
     "output_type": "stream",
     "text": [
      "0.8695409787517583\n"
     ]
    }
   ],
   "source": [
    "### 훈련 100회 중에 가장 큰값이 최종 평가점수\n",
    "print(np.max(gs.cv_results_['mean_test_score']))"
   ]
  },
  {
   "cell_type": "code",
   "execution_count": 150,
   "metadata": {},
   "outputs": [
    {
     "name": "stdout",
     "output_type": "stream",
     "text": [
      "{'max_depth': 29, 'min_impurity_decrease': 0.000437615171403628, 'min_samples_split': 16}\n",
      "-----------------------------\n",
      "0.8895516644217818\n",
      "-----------------------------\n",
      "0.8623076923076923\n"
     ]
    }
   ],
   "source": [
    "dt =gs.best_estimator_\n",
    "print(gs.best_params_)\n",
    "print('-----------------------------')\n",
    "print(dt.score(train_input,train_target))\n",
    "print('-----------------------------')\n",
    "print(dt.score(test_input,test_target))"
   ]
  },
  {
   "cell_type": "code",
   "execution_count": null,
   "metadata": {},
   "outputs": [],
   "source": [
    "#앙상블의 가장 기본적인 것은 결정트리 기반이다."
   ]
  }
 ],
 "metadata": {
  "kernelspec": {
   "display_name": "ml_kernel",
   "language": "python",
   "name": "django"
  },
  "language_info": {
   "codemirror_mode": {
    "name": "ipython",
    "version": 3
   },
   "file_extension": ".py",
   "mimetype": "text/x-python",
   "name": "python",
   "nbconvert_exporter": "python",
   "pygments_lexer": "ipython3",
   "version": "3.9.12"
  },
  "orig_nbformat": 4
 },
 "nbformat": 4,
 "nbformat_minor": 2
}
