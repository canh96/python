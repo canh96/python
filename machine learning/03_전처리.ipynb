{
 "cells": [
  {
   "cell_type": "markdown",
   "metadata": {},
   "source": [
    "### 머신러닝에서 사용되는 전처리 기법"
   ]
  },
  {
   "cell_type": "code",
   "execution_count": 57,
   "metadata": {},
   "outputs": [],
   "source": [
    "import sklearn\n",
    "import numpy as np\n",
    "import pandas\n",
    "\n",
    "import matplotlib.pyplot as plt\n",
    "from sklearn.neighbors import KNeighborsClassifier"
   ]
  },
  {
   "cell_type": "code",
   "execution_count": null,
   "metadata": {},
   "outputs": [],
   "source": []
  },
  {
   "cell_type": "code",
   "execution_count": 58,
   "metadata": {},
   "outputs": [],
   "source": [
    "###데이터 준비하기\n",
    "# - 어제 사용한 도미와 빙어 데이터 가지고 오기...\n",
    "# - 2차원 데이터까지 만들어 주세요~"
   ]
  },
  {
   "cell_type": "code",
   "execution_count": 59,
   "metadata": {},
   "outputs": [],
   "source": [
    "bream_length = [25.4, 26.3, 26.5, 29.0, 29.0, 29.7, 29.7, 30.0, \n",
    "                30.0, 30.7, 31.0, 31.0, 31.5, 32.0, 32.0, 32.0, \n",
    "                33.0, 33.0, 33.5, 33.5, 34.0, 34.0, 34.5, 35.0, \n",
    "                35.0, 35.0, 35.0, 36.0, 36.0, 37.0, 38.5, 38.5, \n",
    "                39.5, 41.0, 41.0]\n",
    "\n",
    "bream_weight = [242.0, 290.0, 340.0, 363.0, 430.0, 450.0, 500.0, \n",
    "                390.0, 450.0, 500.0, 475.0, 500.0, 500.0, 340.0, \n",
    "                600.0, 600.0, 700.0, 700.0, 610.0, 650.0, 575.0, \n",
    "                685.0, 620.0, 680.0, 700.0, 725.0, 720.0, 714.0, \n",
    "                850.0, 1000.0, 920.0, 955.0, 925.0, 975.0, 950.0]\n",
    "\n",
    "#빙어 데이터\n",
    "smelt_length = [9.8, 10.5, 10.6, 11.0, 11.2, 11.3, 11.8, 11.8, 12.0, 12.2, 12.4, 13.0, 14.3, 15.0]\n",
    "smelt_weight = [6.7, 7.5, 7.0, 9.7, 9.8, 8.7, 10.0, 9.9, 9.8, 12.2, 13.4, 12.2, 19.7, 19.9]"
   ]
  },
  {
   "cell_type": "code",
   "execution_count": 60,
   "metadata": {},
   "outputs": [],
   "source": [
    "length = bream_length + smelt_length\n",
    "weight = bream_weight + smelt_weight"
   ]
  },
  {
   "cell_type": "code",
   "execution_count": 61,
   "metadata": {},
   "outputs": [
    {
     "data": {
      "text/plain": [
       "[[25.4, 242.0],\n",
       " [26.3, 290.0],\n",
       " [26.5, 340.0],\n",
       " [29.0, 363.0],\n",
       " [29.0, 430.0],\n",
       " [29.7, 450.0],\n",
       " [29.7, 500.0],\n",
       " [30.0, 390.0],\n",
       " [30.0, 450.0],\n",
       " [30.7, 500.0],\n",
       " [31.0, 475.0],\n",
       " [31.0, 500.0],\n",
       " [31.5, 500.0],\n",
       " [32.0, 340.0],\n",
       " [32.0, 600.0],\n",
       " [32.0, 600.0],\n",
       " [33.0, 700.0],\n",
       " [33.0, 700.0],\n",
       " [33.5, 610.0],\n",
       " [33.5, 650.0],\n",
       " [34.0, 575.0],\n",
       " [34.0, 685.0],\n",
       " [34.5, 620.0],\n",
       " [35.0, 680.0],\n",
       " [35.0, 700.0],\n",
       " [35.0, 725.0],\n",
       " [35.0, 720.0],\n",
       " [36.0, 714.0],\n",
       " [36.0, 850.0],\n",
       " [37.0, 1000.0],\n",
       " [38.5, 920.0],\n",
       " [38.5, 955.0],\n",
       " [39.5, 925.0],\n",
       " [41.0, 975.0],\n",
       " [41.0, 950.0],\n",
       " [9.8, 6.7],\n",
       " [10.5, 7.5],\n",
       " [10.6, 7.0],\n",
       " [11.0, 9.7],\n",
       " [11.2, 9.8],\n",
       " [11.3, 8.7],\n",
       " [11.8, 10.0],\n",
       " [11.8, 9.9],\n",
       " [12.0, 9.8],\n",
       " [12.2, 12.2],\n",
       " [12.4, 13.4],\n",
       " [13.0, 12.2],\n",
       " [14.3, 19.7],\n",
       " [15.0, 19.9]]"
      ]
     },
     "execution_count": 61,
     "metadata": {},
     "output_type": "execute_result"
    }
   ],
   "source": [
    "fish_data=[]\n",
    "\n",
    "for i in range(len(length)):\n",
    "    fish_data.append([length[i], weight[i]])\n",
    "    \n",
    "fish_data = [[leng,wei] for leng,wei in zip(length, weight)]\n",
    "\n",
    "fish_data"
   ]
  },
  {
   "cell_type": "code",
   "execution_count": 62,
   "metadata": {},
   "outputs": [],
   "source": [
    "fish_target = [1] *35 + [0] * 14"
   ]
  },
  {
   "cell_type": "code",
   "execution_count": 63,
   "metadata": {},
   "outputs": [],
   "source": [
    "\n",
    "input_arr = np.array(fish_data)\n",
    "target_arr = np.array(fish_target)"
   ]
  },
  {
   "cell_type": "code",
   "execution_count": 64,
   "metadata": {},
   "outputs": [
    {
     "data": {
      "text/plain": [
       "array([[1, 4],\n",
       "       [2, 5],\n",
       "       [3, 6]])"
      ]
     },
     "execution_count": 64,
     "metadata": {},
     "output_type": "execute_result"
    }
   ],
   "source": [
    "### numpy가 제공하는 함수를 이용한 2차원 데이터 생성하기\n",
    "# 샘플\n",
    "a = [1,2,3]\n",
    "b = [4,5,6]\n",
    "np.column_stack((a,b))"
   ]
  },
  {
   "cell_type": "code",
   "execution_count": 65,
   "metadata": {},
   "outputs": [
    {
     "data": {
      "text/plain": [
       "array([[  25.4,  242. ],\n",
       "       [  26.3,  290. ],\n",
       "       [  26.5,  340. ],\n",
       "       [  29. ,  363. ],\n",
       "       [  29. ,  430. ],\n",
       "       [  29.7,  450. ],\n",
       "       [  29.7,  500. ],\n",
       "       [  30. ,  390. ],\n",
       "       [  30. ,  450. ],\n",
       "       [  30.7,  500. ],\n",
       "       [  31. ,  475. ],\n",
       "       [  31. ,  500. ],\n",
       "       [  31.5,  500. ],\n",
       "       [  32. ,  340. ],\n",
       "       [  32. ,  600. ],\n",
       "       [  32. ,  600. ],\n",
       "       [  33. ,  700. ],\n",
       "       [  33. ,  700. ],\n",
       "       [  33.5,  610. ],\n",
       "       [  33.5,  650. ],\n",
       "       [  34. ,  575. ],\n",
       "       [  34. ,  685. ],\n",
       "       [  34.5,  620. ],\n",
       "       [  35. ,  680. ],\n",
       "       [  35. ,  700. ],\n",
       "       [  35. ,  725. ],\n",
       "       [  35. ,  720. ],\n",
       "       [  36. ,  714. ],\n",
       "       [  36. ,  850. ],\n",
       "       [  37. , 1000. ],\n",
       "       [  38.5,  920. ],\n",
       "       [  38.5,  955. ],\n",
       "       [  39.5,  925. ],\n",
       "       [  41. ,  975. ],\n",
       "       [  41. ,  950. ],\n",
       "       [   9.8,    6.7],\n",
       "       [  10.5,    7.5],\n",
       "       [  10.6,    7. ],\n",
       "       [  11. ,    9.7],\n",
       "       [  11.2,    9.8],\n",
       "       [  11.3,    8.7],\n",
       "       [  11.8,   10. ],\n",
       "       [  11.8,    9.9],\n",
       "       [  12. ,    9.8],\n",
       "       [  12.2,   12.2],\n",
       "       [  12.4,   13.4],\n",
       "       [  13. ,   12.2],\n",
       "       [  14.3,   19.7],\n",
       "       [  15. ,   19.9]])"
      ]
     },
     "execution_count": 65,
     "metadata": {},
     "output_type": "execute_result"
    }
   ],
   "source": [
    "np.column_stack((length, weight))"
   ]
  },
  {
   "cell_type": "code",
   "execution_count": 66,
   "metadata": {},
   "outputs": [
    {
     "name": "stdout",
     "output_type": "stream",
     "text": [
      "[1. 1. 1. 1. 1.]\n",
      "[0. 0. 0. 0. 0.]\n",
      "[1. 1. 1. 1. 1. 0. 0. 0. 0. 0.]\n"
     ]
    }
   ],
   "source": [
    "###\n",
    "print(np.ones(5))\n",
    "print(np.zeros(5))\n",
    "\n",
    "print(np.concatenate((np.ones(5),np.zeros(5))))  #np에러가 날때 소괄호를 하나 넣어보기\n"
   ]
  },
  {
   "cell_type": "code",
   "execution_count": 67,
   "metadata": {},
   "outputs": [
    {
     "data": {
      "text/plain": [
       "array([1., 1., 1., 1., 1., 1., 1., 1., 1., 1., 1., 1., 1., 1., 1., 1., 1.,\n",
       "       1., 1., 1., 1., 1., 1., 1., 1., 1., 1., 1., 1., 1., 1., 1., 1., 1.,\n",
       "       1., 0., 0., 0., 0., 0., 0., 0., 0., 0., 0., 0., 0., 0., 0.])"
      ]
     },
     "execution_count": 67,
     "metadata": {},
     "output_type": "execute_result"
    }
   ],
   "source": [
    "### Numpy를 이용해서 1과 0의 임의 값 만들기\n",
    "# - 튜플 형태로 만들어야 합니다.\n",
    "fish_target = np.concatenate((np.ones(35),np.zeros(14)))\n",
    "fish_target"
   ]
  },
  {
   "cell_type": "markdown",
   "metadata": {},
   "source": [
    "### 훈련데이터세트와 테스트데이터세트 만들기\n",
    "##### - 훈련데이터세트 : 독립변수의 훈련데이터와 target 데이터 생성\n",
    "##### - 테스트데이터세트 : 독립변수의 테스트데이터와 target 데이터 생성\n",
    "\n",
    "##### - train_data, train_target : 훈련에 사용\n",
    "##### - test_data, test_target :평가 및 예측에 사용"
   ]
  },
  {
   "cell_type": "code",
   "execution_count": 68,
   "metadata": {},
   "outputs": [],
   "source": [
    "### 어제 사용한 방식으로 훈련 및 테스트 데이터세트 생성해 주세요\n",
    "# np.random.seed(42)\n",
    "# index = np.arange(49)\n",
    "# np.random.shuffle(index)\n",
    "# ## 훈련데이터 생성하기\n",
    "# train_input = input_arr[index[:35]]   #2차원\n",
    "# train_target = target_arr[index[:35]] \n",
    "\n",
    "# test_input = input_arr[index[35:]]\n",
    "# test_target = target_arr[index[35:]]\n",
    "\n",
    "# kn= KNeighborsClassifier()\n",
    "# kn.fit(train_input, train_target)\n",
    "# kn.score(train_input, train_target)"
   ]
  },
  {
   "cell_type": "code",
   "execution_count": 69,
   "metadata": {},
   "outputs": [],
   "source": [
    "### 사이킷런 패키지에는 훈련 및 테스트 데이터를 자동으로 섞어준느 함수가 있음\n",
    "# -  train_test_splite()함수 : 섞어주기, 비율로 나누기"
   ]
  },
  {
   "cell_type": "code",
   "execution_count": 70,
   "metadata": {},
   "outputs": [],
   "source": [
    "from sklearn.model_selection import train_test_split"
   ]
  },
  {
   "cell_type": "code",
   "execution_count": 71,
   "metadata": {},
   "outputs": [],
   "source": [
    "#훈련 및 테스트데이터 분류하여 가지고 오기,,,\n",
    "# 총 4개의 변수값을 반환해 줍니다.\n",
    "\n",
    "# test_size : 테스트데이터의 비율\n",
    "# train_size : 훈련데이터의 비율\n",
    "# 기본적으로 train : test = 75 : 25의 비율을 사용\n",
    "# (대략 적인 비율)\n",
    "# 일반적으로 훈련과 테스트비율은 7:3 또는 7.5 : 2.5를 사용..\n",
    "\n",
    "\n",
    "train_input, test_input, train_target, test_target = \\\n",
    "    train_test_split(fish_data, fish_target,test_size = 0.25, random_state=42)"
   ]
  },
  {
   "cell_type": "code",
   "execution_count": 72,
   "metadata": {},
   "outputs": [
    {
     "name": "stdout",
     "output_type": "stream",
     "text": [
      "[[30.0, 450.0], [29.0, 363.0], [29.7, 500.0], [11.3, 8.7], [11.8, 10.0], [13.0, 12.2], [32.0, 600.0], [30.7, 500.0], [33.0, 700.0], [35.0, 700.0], [41.0, 975.0], [38.5, 920.0], [25.4, 242.0], [12.0, 9.8], [39.5, 925.0], [29.7, 450.0], [37.0, 1000.0], [31.0, 500.0], [10.5, 7.5], [26.3, 290.0], [34.0, 685.0], [26.5, 340.0], [10.6, 7.0], [9.8, 6.7], [35.0, 680.0], [11.2, 9.8], [31.0, 475.0], [34.5, 620.0], [33.5, 610.0], [15.0, 19.9], [34.0, 575.0], [30.0, 390.0], [11.8, 9.9], [32.0, 600.0], [36.0, 850.0], [11.0, 9.7]]\n",
      "---------------------------------------\n",
      "[[32.0, 340.0], [12.4, 13.4], [14.3, 19.7], [12.2, 12.2], [33.0, 700.0], [36.0, 714.0], [35.0, 720.0], [35.0, 725.0], [38.5, 955.0], [33.5, 650.0], [31.5, 500.0], [29.0, 430.0], [41.0, 950.0]]\n",
      "---------------------------------------\n",
      "[1. 1. 1. 0. 0. 0. 1. 1. 1. 1. 1. 1. 1. 0. 1. 1. 1. 1. 0. 1. 1. 1. 0. 0.\n",
      " 1. 0. 1. 1. 1. 0. 1. 1. 0. 1. 1. 0.]\n",
      "---------------------------------------\n",
      "[1. 0. 0. 0. 1. 1. 1. 1. 1. 1. 1. 1. 1.]\n"
     ]
    }
   ],
   "source": [
    "print(train_input)\n",
    "print('---------------------------------------')\n",
    "print(test_input)\n",
    "print('---------------------------------------')\n",
    "print(train_target)\n",
    "print('---------------------------------------')\n",
    "print(test_target)\n"
   ]
  },
  {
   "cell_type": "code",
   "execution_count": 73,
   "metadata": {},
   "outputs": [
    {
     "ename": "AttributeError",
     "evalue": "'list' object has no attribute 'shape'",
     "output_type": "error",
     "traceback": [
      "\u001b[1;31m---------------------------------------------------------------------------\u001b[0m",
      "\u001b[1;31mAttributeError\u001b[0m                            Traceback (most recent call last)",
      "\u001b[1;32mc:\\Users\\ehdgu\\OneDrive\\바탕 화면\\python\\StudyPython22\\머신러닝\\2day\\01_전처리.ipynb 셀 20\u001b[0m in \u001b[0;36m<cell line: 2>\u001b[1;34m()\u001b[0m\n\u001b[0;32m      <a href='vscode-notebook-cell:/c%3A/Users/ehdgu/OneDrive/%EB%B0%94%ED%83%95%20%ED%99%94%EB%A9%B4/python/StudyPython22/%EB%A8%B8%EC%8B%A0%EB%9F%AC%EB%8B%9D/2day/01_%EC%A0%84%EC%B2%98%EB%A6%AC.ipynb#Y105sZmlsZQ%3D%3D?line=0'>1</a>\u001b[0m \u001b[39m# 훈련데이터 차원 확인하기\u001b[39;00m\n\u001b[1;32m----> <a href='vscode-notebook-cell:/c%3A/Users/ehdgu/OneDrive/%EB%B0%94%ED%83%95%20%ED%99%94%EB%A9%B4/python/StudyPython22/%EB%A8%B8%EC%8B%A0%EB%9F%AC%EB%8B%9D/2day/01_%EC%A0%84%EC%B2%98%EB%A6%AC.ipynb#Y105sZmlsZQ%3D%3D?line=1'>2</a>\u001b[0m \u001b[39mprint\u001b[39m(train_input\u001b[39m.\u001b[39;49mshape, train_target\u001b[39m.\u001b[39mshape)\n",
      "\u001b[1;31mAttributeError\u001b[0m: 'list' object has no attribute 'shape'"
     ]
    }
   ],
   "source": [
    "# 훈련데이터 차원 확인하기\n",
    "print(train_input.shape, train_target.shape)"
   ]
  },
  {
   "cell_type": "code",
   "execution_count": null,
   "metadata": {},
   "outputs": [
    {
     "data": {
      "text/plain": [
       "array([1., 0., 0., 0., 1., 1., 1., 1., 1., 1., 1., 1., 1.])"
      ]
     },
     "execution_count": 65,
     "metadata": {},
     "output_type": "execute_result"
    }
   ],
   "source": [
    "test_target"
   ]
  },
  {
   "cell_type": "code",
   "execution_count": null,
   "metadata": {},
   "outputs": [],
   "source": [
    "### 샘플링 편향을 최소화 하기 위한 방법으로\n",
    "# - stratify 속성을 사용..\n",
    "# - 속성에는 기준값을 넣어줍니다. (보통 종속데이터)\n",
    "# - 종속데이터의 분류 값을 기준으로  test_size의 비율로 섞어줍니다.\n",
    "\n",
    "train_input, test_input, train_target, test_target = \\\n",
    "    train_test_split(fish_data, fish_target, stratify = fish_target,\n",
    "                     test_size = 0.25, random_state=42)"
   ]
  },
  {
   "cell_type": "code",
   "execution_count": null,
   "metadata": {},
   "outputs": [
    {
     "data": {
      "text/plain": [
       "array([0., 0., 1., 0., 1., 0., 1., 1., 1., 1., 1., 1., 1.])"
      ]
     },
     "execution_count": 67,
     "metadata": {},
     "output_type": "execute_result"
    }
   ],
   "source": [
    "test_target\n"
   ]
  },
  {
   "cell_type": "markdown",
   "metadata": {},
   "source": [
    "### 특정 위치의 생선 예측하기\n",
    "# - 특정 위치의 생선 : 예측 데이터 1개 사용"
   ]
  },
  {
   "cell_type": "code",
   "execution_count": null,
   "metadata": {},
   "outputs": [
    {
     "data": {
      "image/png": "[encoded data removed]",
      "text/plain": [
       "<Figure size 432x288 with 1 Axes>"
      ]
     },
     "metadata": {
      "needs_background": "light"
     },
     "output_type": "display_data"
    }
   ],
   "source": [
    "### [문제]\n",
    "# - 생선의 길이와 무게가 25cm, 150g\n",
    "# - 이 생선은 도미? 빙어?\n",
    "# 1. 훈련데이터를 산점도로 시각화하여 대략 위의 생선의 위치를 눈으로 확인\n",
    "# 2. 모델 객체 생성 > 3.훈련데이터 학습> 4. 정확도 확인 > 5. 위의 생선 예측 6.산점도 그래프 시각화\n",
    "# (훈련데이터에 대한 산점도와 위 생선 한개 위치 까지 포함해서)\n",
    "plt.scatter(bream_length,bream_weight)\n",
    "plt.scatter(smelt_length,smelt_length,c='red')\n",
    "plt.scatter(25,150)\n",
    "plt.show()"
   ]
  },
  {
   "cell_type": "code",
   "execution_count": null,
   "metadata": {},
   "outputs": [
    {
     "data": {
      "text/plain": [
       "KNeighborsClassifier()"
      ]
     },
     "execution_count": 69,
     "metadata": {},
     "output_type": "execute_result"
    }
   ],
   "source": [
    "kn=KNeighborsClassifier()\n",
    "kn.fit(train_input,train_target)"
   ]
  },
  {
   "cell_type": "code",
   "execution_count": null,
   "metadata": {},
   "outputs": [
    {
     "data": {
      "text/plain": [
       "1.0"
      ]
     },
     "execution_count": 70,
     "metadata": {},
     "output_type": "execute_result"
    }
   ],
   "source": [
    "kn.score(test_input,test_target)"
   ]
  },
  {
   "cell_type": "code",
   "execution_count": null,
   "metadata": {},
   "outputs": [
    {
     "data": {
      "text/plain": [
       "array([0.])"
      ]
     },
     "execution_count": 71,
     "metadata": {},
     "output_type": "execute_result"
    }
   ],
   "source": [
    "kn.predict([[25,150]])"
   ]
  },
  {
   "cell_type": "code",
   "execution_count": null,
   "metadata": {},
   "outputs": [],
   "source": []
  },
  {
   "cell_type": "code",
   "execution_count": null,
   "metadata": {},
   "outputs": [
    {
     "ename": "TypeError",
     "evalue": "list indices must be integers or slices, not tuple",
     "output_type": "error",
     "traceback": [
      "\u001b[1;31m---------------------------------------------------------------------------\u001b[0m",
      "\u001b[1;31mTypeError\u001b[0m                                 Traceback (most recent call last)",
      "\u001b[1;32mc:\\STUDY\\StudyPython22\\머신러닝\\2day\\01_전처리.ipynb 셀 30\u001b[0m in \u001b[0;36m<cell line: 1>\u001b[1;34m()\u001b[0m\n\u001b[1;32m----> <a href='vscode-notebook-cell:/c%3A/STUDY/StudyPython22/%EB%A8%B8%EC%8B%A0%EB%9F%AC%EB%8B%9D/2day/01_%EC%A0%84%EC%B2%98%EB%A6%AC.ipynb#ch0000028?line=0'>1</a>\u001b[0m plt\u001b[39m.\u001b[39mscatter(train_input[:,\u001b[39m0\u001b[39;49m],train_input[:,\u001b[39m1\u001b[39m])\n\u001b[0;32m      <a href='vscode-notebook-cell:/c%3A/STUDY/StudyPython22/%EB%A8%B8%EC%8B%A0%EB%9F%AC%EB%8B%9D/2day/01_%EC%A0%84%EC%B2%98%EB%A6%AC.ipynb#ch0000028?line=1'>2</a>\u001b[0m plt\u001b[39m.\u001b[39mscatter(\u001b[39m25\u001b[39m,\u001b[39m150\u001b[39m)\n\u001b[0;32m      <a href='vscode-notebook-cell:/c%3A/STUDY/StudyPython22/%EB%A8%B8%EC%8B%A0%EB%9F%AC%EB%8B%9D/2day/01_%EC%A0%84%EC%B2%98%EB%A6%AC.ipynb#ch0000028?line=2'>3</a>\u001b[0m plt\u001b[39m.\u001b[39mscatter(train_input[indexs,\u001b[39m0\u001b[39m],train_input[indexes,\u001b[39m1\u001b[39m],marker\u001b[39m=\u001b[39m\u001b[39m'\u001b[39m\u001b[39mD\u001b[39m\u001b[39m'\u001b[39m)\n",
      "\u001b[1;31mTypeError\u001b[0m: list indices must be integers or slices, not tuple"
     ]
    }
   ],
   "source": [
    "plt.scatter(train_input[:,0],train_input[:,1])\n",
    "plt.scatter(25,150)\n",
    "plt.scatter(train_input[indexs,0],train_input[indexes,1],marker='D')\n",
    "plt.show()"
   ]
  },
  {
   "cell_type": "code",
   "execution_count": null,
   "metadata": {},
   "outputs": [
    {
     "name": "stdout",
     "output_type": "stream",
     "text": [
      "[[ 92.00086956 130.48375378 130.73859415 138.32150953 138.39320793]]\n",
      "[[21 33 19 30  1]]\n"
     ]
    }
   ],
   "source": [
    "# 사용된 이웃값 확인하기\n",
    "# - 모델 생성시 기본 5개의 이웃으로 지정되어 훈련이 됩니다.\n",
    "# - 이웃 5개의 값을 추출하기 위해서는 kneighbors() 함수를 사용합니다.\n",
    "# - kneighbors()함수의 반환값은 2개..\n",
    "# - 첫번째 값은 : 특정 생선과 이웃과의 거리\n",
    "# - 두번째 값은 : 이웃 5개의 실제 위치(인덱스 번호)\n",
    "\n",
    "\n",
    "distances, indexes = kn.kneighbors([[25,150]])\n",
    "print(distances)\n",
    "print(indexes)"
   ]
  },
  {
   "cell_type": "code",
   "execution_count": null,
   "metadata": {},
   "outputs": [
    {
     "ename": "TypeError",
     "evalue": "list indices must be integers or slices, not tuple",
     "output_type": "error",
     "traceback": [
      "\u001b[1;31m---------------------------------------------------------------------------\u001b[0m",
      "\u001b[1;31mTypeError\u001b[0m                                 Traceback (most recent call last)",
      "\u001b[1;32mc:\\STUDY\\StudyPython22\\머신러닝\\2day\\01_전처리.ipynb 셀 32\u001b[0m in \u001b[0;36m<cell line: 1>\u001b[1;34m()\u001b[0m\n\u001b[1;32m----> <a href='vscode-notebook-cell:/c%3A/STUDY/StudyPython22/%EB%A8%B8%EC%8B%A0%EB%9F%AC%EB%8B%9D/2day/01_%EC%A0%84%EC%B2%98%EB%A6%AC.ipynb#ch0000030?line=0'>1</a>\u001b[0m plt\u001b[39m.\u001b[39mscatter(train_input[:,\u001b[39m0\u001b[39;49m],train_input[:,\u001b[39m1\u001b[39m])\n\u001b[0;32m      <a href='vscode-notebook-cell:/c%3A/STUDY/StudyPython22/%EB%A8%B8%EC%8B%A0%EB%9F%AC%EB%8B%9D/2day/01_%EC%A0%84%EC%B2%98%EB%A6%AC.ipynb#ch0000030?line=1'>2</a>\u001b[0m plt\u001b[39m.\u001b[39mscatter(\u001b[39m25\u001b[39m,\u001b[39m150\u001b[39m)\n\u001b[0;32m      <a href='vscode-notebook-cell:/c%3A/STUDY/StudyPython22/%EB%A8%B8%EC%8B%A0%EB%9F%AC%EB%8B%9D/2day/01_%EC%A0%84%EC%B2%98%EB%A6%AC.ipynb#ch0000030?line=2'>3</a>\u001b[0m plt\u001b[39m.\u001b[39mscatter(train_input[indexes,\u001b[39m0\u001b[39m],train_input[indexes,\u001b[39m1\u001b[39m],marker\u001b[39m=\u001b[39m\u001b[39m'\u001b[39m\u001b[39mD\u001b[39m\u001b[39m'\u001b[39m)\n",
      "\u001b[1;31mTypeError\u001b[0m: list indices must be integers or slices, not tuple"
     ]
    }
   ],
   "source": [
    "plt.scatter(train_input[:,0],train_input[:,1])\n",
    "plt.scatter(25,150)\n",
    "plt.scatter(train_input[indexes,0],train_input[indexes,1],marker='D')\n",
    "plt.show()"
   ]
  },
  {
   "cell_type": "code",
   "execution_count": null,
   "metadata": {},
   "outputs": [],
   "source": [
    "### (해석)\n",
    "# - x축의 범위와 y축의 범위가 너무 큰 차이로 나타난 현상\n",
    "# - x축의 범위 : 10~40\n",
    "# - y축의 범위 : 0~1000\n",
    "# - 두 축의 범위 값이 너무 크게 차이가 나서 발생\n",
    "# - y축으로 조금만 올라가도 거리는 크게 벌어집니다.\n",
    "# - 도미들의 위치가 위로 조금만 올라가도 거리는 크게 벌어집니다.\n",
    "\n",
    "# - 이런 현상을 '스케일이 다르다'라고 해석합니다.(x축과 y축의 단위가 틀려서)\n",
    "# - 분석 시 매우 흔하게 발생하는 현상으로 전처리를 꼭 해주어야 합니다.\n",
    "# - 전처리 방법 : x축과 y축의 값을 동일하게 맞춰주어야 합니다."
   ]
  },
  {
   "cell_type": "code",
   "execution_count": null,
   "metadata": {},
   "outputs": [
    {
     "ename": "TypeError",
     "evalue": "list indices must be integers or slices, not tuple",
     "output_type": "error",
     "traceback": [
      "\u001b[1;31m---------------------------------------------------------------------------\u001b[0m",
      "\u001b[1;31mTypeError\u001b[0m                                 Traceback (most recent call last)",
      "\u001b[1;32mc:\\STUDY\\StudyPython22\\머신러닝\\2day\\01_전처리.ipynb 셀 34\u001b[0m in \u001b[0;36m<cell line: 1>\u001b[1;34m()\u001b[0m\n\u001b[1;32m----> <a href='vscode-notebook-cell:/c%3A/STUDY/StudyPython22/%EB%A8%B8%EC%8B%A0%EB%9F%AC%EB%8B%9D/2day/01_%EC%A0%84%EC%B2%98%EB%A6%AC.ipynb#ch0000033?line=0'>1</a>\u001b[0m plt\u001b[39m.\u001b[39mscatter(train_input[:,\u001b[39m0\u001b[39;49m],train_input[:,\u001b[39m1\u001b[39m])\n\u001b[0;32m      <a href='vscode-notebook-cell:/c%3A/STUDY/StudyPython22/%EB%A8%B8%EC%8B%A0%EB%9F%AC%EB%8B%9D/2day/01_%EC%A0%84%EC%B2%98%EB%A6%AC.ipynb#ch0000033?line=1'>2</a>\u001b[0m plt\u001b[39m.\u001b[39mscatter(\u001b[39m25\u001b[39m,\u001b[39m150\u001b[39m)\n\u001b[0;32m      <a href='vscode-notebook-cell:/c%3A/STUDY/StudyPython22/%EB%A8%B8%EC%8B%A0%EB%9F%AC%EB%8B%9D/2day/01_%EC%A0%84%EC%B2%98%EB%A6%AC.ipynb#ch0000033?line=2'>3</a>\u001b[0m plt\u001b[39m.\u001b[39mscatter(train_input[indexes,\u001b[39m0\u001b[39m],train_input[indexes,\u001b[39m1\u001b[39m],marker\u001b[39m=\u001b[39m\u001b[39m'\u001b[39m\u001b[39mD\u001b[39m\u001b[39m'\u001b[39m)\n",
      "\u001b[1;31mTypeError\u001b[0m: list indices must be integers or slices, not tuple"
     ]
    }
   ],
   "source": [
    "plt.scatter(train_input[:,0],train_input[:,1])\n",
    "plt.scatter(25,150)\n",
    "plt.scatter(train_input[indexes,0],train_input[indexes,1],marker='D')\n",
    "\n",
    "### x축의 범위를 y축과 동일하게 임의로 정해보겠습니다.\n",
    "plt.xlim((0, 1000))\n",
    "\n",
    "plt.show()"
   ]
  },
  {
   "cell_type": "markdown",
   "metadata": {},
   "source": [
    "## 스케일 동일하게 맞추기(전처리)\n",
    "##### - 스케일을 맞추는 전처리 방법으로는 '표준점수(standard score)'를 사용\n",
    "##### - 표준점수 : 각 데이터가 원점(0)에서 몇 표준편차 만큼 떨어져 있는지를 나타내는 값\n",
    "##### - 표준점수 계산공식\n",
    "##### = (각 데이터-데이터세트 전체 평균값) / 데이터세트 전체 표준편차값\n",
    "##### - 평균, 표준편차 계산은 넘파이(numpy)에서 제공하는 함수를 사용합니다."
   ]
  },
  {
   "cell_type": "code",
   "execution_count": null,
   "metadata": {},
   "outputs": [
    {
     "data": {
      "text/plain": [
       "array([ 27.29722222, 454.09722222])"
      ]
     },
     "execution_count": 77,
     "metadata": {},
     "output_type": "execute_result"
    }
   ],
   "source": [
    "# 훈련데이터 전체 평균 구하기\n",
    "mean = np.mean(train_input, axis = 0) #aixs=0 (행)\n",
    "mean"
   ]
  },
  {
   "cell_type": "code",
   "execution_count": null,
   "metadata": {},
   "outputs": [
    {
     "data": {
      "text/plain": [
       "array([  9.98244253, 323.29893931])"
      ]
     },
     "execution_count": 78,
     "metadata": {},
     "output_type": "execute_result"
    }
   ],
   "source": [
    "std =np.std(train_input, axis = 0)\n",
    "std"
   ]
  },
  {
   "cell_type": "code",
   "execution_count": null,
   "metadata": {},
   "outputs": [
    {
     "data": {
      "text/plain": [
       "array([[ 0.24070039,  0.14198246],\n",
       "       [-1.51237757, -1.36683783],\n",
       "       [ 0.5712808 ,  0.76060496],\n",
       "       [-1.60253587, -1.37766373],\n",
       "       [ 1.22242404,  1.45655528],\n",
       "       [ 0.17057727, -0.07453542],\n",
       "       [ 0.87180845,  0.80390854],\n",
       "       [ 0.87180845,  1.22457184],\n",
       "       [ 0.37092904,  0.06465464],\n",
       "       [ 0.77163257,  0.82246721],\n",
       "       [ 0.97198434,  1.68853872],\n",
       "       [-1.61255346, -1.3742613 ],\n",
       "       [ 0.72154463,  0.51315596],\n",
       "       [-1.53241275, -1.3742613 ],\n",
       "       [ 0.17057727, -0.28177396],\n",
       "       [ 0.5712808 ,  0.76060496],\n",
       "       [ 0.34087627,  0.14198246],\n",
       "       [ 1.12224816,  1.54934866],\n",
       "       [ 0.62136874,  0.60594934],\n",
       "       [-1.30200822, -1.34363949],\n",
       "       [ 0.42101698,  0.14198246],\n",
       "       [-0.19005591, -0.65604058],\n",
       "       [-1.75279969, -1.38384995],\n",
       "       [ 0.47110492,  0.45129371],\n",
       "       [-1.68267658, -1.38137546],\n",
       "       [ 0.62136874,  0.48222484],\n",
       "       [-1.67265899, -1.38292202],\n",
       "       [ 0.77163257,  0.76060496],\n",
       "       [ 0.47110492,  0.45129371],\n",
       "       [ 0.77163257,  0.83793278],\n",
       "       [-1.43223687, -1.36683783],\n",
       "       [ 0.27075315, -0.01267317],\n",
       "       [ 0.47110492, -0.35291555],\n",
       "       [-1.2318851 , -1.34302087],\n",
       "       [ 0.27075315, -0.19825992],\n",
       "       [ 1.37268787,  1.61121091]])"
      ]
     },
     "execution_count": 80,
     "metadata": {},
     "output_type": "execute_result"
    }
   ],
   "source": [
    "#표준점수 데이터 계산하여 훈련데이터 재생성하기\n",
    "train_scaled = (train_input - mean) / std\n",
    "train_scaled"
   ]
  },
  {
   "cell_type": "markdown",
   "metadata": {},
   "source": [
    "### 스케일로 훈련데이터 재생성 후에는 훈련모델도 재생성"
   ]
  },
  {
   "cell_type": "code",
   "execution_count": null,
   "metadata": {},
   "outputs": [
    {
     "data": {
      "image/png": "[encoded data removed]",
      "text/plain": [
       "<Figure size 432x288 with 1 Axes>"
      ]
     },
     "metadata": {
      "needs_background": "light"
     },
     "output_type": "display_data"
    }
   ],
   "source": [
    "plt.scatter(train_scaled[:,0],train_scaled[:,1])\n",
    "plt.scatter(25,150)\n",
    "# plt.scatter(train_input[indexes,0],train_input[indexes,1],marker='D')\n",
    "\n",
    "### x축의 범위를 y축과 동일하게 임의로 정해보겠습니다.\n",
    "\n",
    "plt.show()\n",
    "\n",
    "### (해석)\n",
    "# - 훈련데이터는 스케일을 맞추었지만,\n",
    "# - 예측데이터는 스케일을 맞추지 못해서 발생한 현상\n",
    "# - 예측데이터 한개도 스케일 작업을 해줘야 합니다.\n",
    "# -- 한개의 예측데이터 스케일 작업은\n",
    "# -- 훈련데이터를 사용하여 계산된 평균과 표준편차 값을 사용해야 합니다."
   ]
  },
  {
   "cell_type": "code",
   "execution_count": null,
   "metadata": {},
   "outputs": [
    {
     "data": {
      "text/plain": [
       "array([-0.23012627, -0.94060693])"
      ]
     },
     "execution_count": 83,
     "metadata": {},
     "output_type": "execute_result"
    }
   ],
   "source": [
    "# 예측 데이터 스케일 작업하기\n",
    "new = ([25,150]-mean) / std\n",
    "new"
   ]
  },
  {
   "cell_type": "code",
   "execution_count": null,
   "metadata": {},
   "outputs": [
    {
     "data": {
      "image/png": "[encoded data removed]",
      "text/plain": [
       "<Figure size 432x288 with 1 Axes>"
      ]
     },
     "metadata": {
      "needs_background": "light"
     },
     "output_type": "display_data"
    }
   ],
   "source": [
    "plt.scatter(train_scaled[:,0],train_scaled[:,1])\n",
    "plt.scatter(new[0],new[1])\n",
    "plt.show()"
   ]
  },
  {
   "cell_type": "code",
   "execution_count": null,
   "metadata": {},
   "outputs": [
    {
     "data": {
      "text/plain": [
       "KNeighborsClassifier()"
      ]
     },
     "execution_count": 91,
     "metadata": {},
     "output_type": "execute_result"
    }
   ],
   "source": [
    "kn=KNeighborsClassifier()\n",
    "kn.fit(train_scaled,train_target)\n",
    "\n"
   ]
  },
  {
   "cell_type": "code",
   "execution_count": null,
   "metadata": {},
   "outputs": [],
   "source": [
    "test_scaled = (test_input -mean) /std\n"
   ]
  },
  {
   "cell_type": "code",
   "execution_count": null,
   "metadata": {},
   "outputs": [
    {
     "data": {
      "text/plain": [
       "1.0"
      ]
     },
     "execution_count": 93,
     "metadata": {},
     "output_type": "execute_result"
    }
   ],
   "source": [
    "kn.score(train_scaled,train_target)"
   ]
  },
  {
   "cell_type": "code",
   "execution_count": null,
   "metadata": {},
   "outputs": [
    {
     "data": {
      "text/plain": [
       "array([1.])"
      ]
     },
     "execution_count": 94,
     "metadata": {},
     "output_type": "execute_result"
    }
   ],
   "source": [
    "kn.predict([new])"
   ]
  },
  {
   "cell_type": "code",
   "execution_count": null,
   "metadata": {},
   "outputs": [
    {
     "name": "stdout",
     "output_type": "stream",
     "text": [
      "[[21 14 34 32  5]]\n"
     ]
    }
   ],
   "source": [
    "distance, indexes = kn.kneighbors([new])\n",
    "print(indexes)"
   ]
  },
  {
   "cell_type": "code",
   "execution_count": null,
   "metadata": {},
   "outputs": [
    {
     "data": {
      "image/png": "[encoded data removed]",
      "text/plain": [
       "<Figure size 432x288 with 1 Axes>"
      ]
     },
     "metadata": {
      "needs_background": "light"
     },
     "output_type": "display_data"
    }
   ],
   "source": [
    "plt.scatter(train_scaled[:,0],train_scaled[:,1])\n",
    "plt.scatter(new[0],new[1])\n",
    "plt.scatter(train_scaled[indexes,0],train_scaled[indexes,1],marker='D')\n",
    "\n",
    "### x축의 범위를 y축과 동일하게 임의로 정해보겠습니다.\n",
    "\n",
    "plt.show()"
   ]
  }
 ],
 "metadata": {
  "kernelspec": {
   "display_name": "Python 3.9.12 ('base')",
   "language": "python",
   "name": "python3"
  },
  "language_info": {
   "codemirror_mode": {
    "name": "ipython",
    "version": 3
   },
   "file_extension": ".py",
   "mimetype": "text/x-python",
   "name": "python",
   "nbconvert_exporter": "python",
   "pygments_lexer": "ipython3",
   "version": "3.9.12"
  },
  "orig_nbformat": 4,
  "vscode": {
   "interpreter": {
    "hash": "a6272a2fe69c04ae92862bea35170a45dadc7a603d88498136abf041a6630f3d"
   }
  }
 },
 "nbformat": 4,
 "nbformat_minor": 2
}
