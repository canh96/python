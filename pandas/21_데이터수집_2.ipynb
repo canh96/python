{
 "cells": [
  {
   "cell_type": "code",
   "execution_count": 7,
   "metadata": {},
   "outputs": [],
   "source": [
    "import pandas as pd\n",
    "import requests\n",
    "from bs4 import BeautifulSoup"
   ]
  },
  {
   "cell_type": "code",
   "execution_count": 157,
   "metadata": {},
   "outputs": [
    {
     "name": "stdout",
     "output_type": "stream",
     "text": [
      "<?xml version=\"1.0\" encoding=\"UTF-8\" standalone=\"yes\"?><response><header><resultCode>00</resultCode><resultMsg>NORMAL SERVICE.</resultMsg></header><body><items><item><airportEng>GIMPO INTERNATIONAL AIRPORT</airportEng><airportKor>김포국제공항</airportKor><parkingAirportCodeName>[상세]예약주차장</parkingAirportCodeName><parkingCongestion>원활</parkingCongestion><parkingCongestionDegree>16.87%</parkingCongestionDegree><parkingOccupiedSpace>56</parkingOccupiedSpace><parkingTotalSpace>332</parkingTotalSpace><sysGetdate>2022-06-20</sysGetdate><sysGettime>16:23:02</sysGettime></item><item><airportEng>GIMPO INTERNATIONAL AIRPORT</airportEng><airportKor>김포국제공항</airportKor><parkingAirportCodeName>국내선 제1주차장</parkingAirportCodeName><parkingCongestion>원활</parkingCongestion><parkingCongestionDegree>87.41%</parkingCongestionDegree><parkingOccupiedSpace>1992</parkingOccupiedSpace><parkingTotalSpace>2279</parkingTotalSpace><sysGetdate>2022-06-20</sysGetdate><sysGettime>16:23:02</sysGettime></item><item><airportEng>GIMPO INTERNATIONAL AIRPORT</airportEng><airportKor>김포국제공항</airportKor><parkingAirportCodeName>국내선 제2주차장</parkingAirportCodeName><parkingCongestion>원활</parkingCongestion><parkingCongestionDegree>86.31%</parkingCongestionDegree><parkingOccupiedSpace>1507</parkingOccupiedSpace><parkingTotalSpace>1746</parkingTotalSpace><sysGetdate>2022-06-20</sysGetdate><sysGettime>16:23:02</sysGettime></item><item><airportEng>GIMPO INTERNATIONAL AIRPORT</airportEng><airportKor>김포국제공항</airportKor><parkingAirportCodeName>국제선 주차빌딩</parkingAirportCodeName><parkingCongestion>원활</parkingCongestion><parkingCongestionDegree>0%</parkingCongestionDegree><parkingOccupiedSpace>0</parkingOccupiedSpace><parkingTotalSpace>567</parkingTotalSpace><sysGetdate>2022-06-20</sysGetdate><sysGettime>16:23:02</sysGettime></item><item><airportEng>GIMPO INTERNATIONAL AIRPORT</airportEng><airportKor>김포국제공항</airportKor><parkingAirportCodeName>국제선 지하주차장</parkingAirportCodeName><parkingCongestion>원활</parkingCongestion><parkingCongestionDegree>17.33%</parkingCongestionDegree><parkingOccupiedSpace>208</parkingOccupiedSpace><parkingTotalSpace>1200</parkingTotalSpace><sysGetdate>2022-06-20</sysGetdate><sysGettime>16:23:02</sysGettime></item><item><airportEng>GIMPO INTERNATIONAL AIRPORT</airportEng><airportKor>김포국제공항</airportKor><parkingAirportCodeName>화물청사 주차장</parkingAirportCodeName><parkingCongestion>원활</parkingCongestion><parkingCongestionDegree>54.53%</parkingCongestionDegree><parkingOccupiedSpace>620</parkingOccupiedSpace><parkingTotalSpace>1137</parkingTotalSpace><sysGetdate>2022-06-20</sysGetdate><sysGettime>16:23:02</sysGettime></item></items><numOfRows>10</numOfRows><pageNo>1</pageNo><totalCount>6</totalCount></body></response>\n",
      "<?xml version=\"1.0\" encoding=\"UTF-8\" standalone=\"yes\"?><response><header><resultCode>00</resultCode><resultMsg>NORMAL SERVICE.</resultMsg></header><body><items><item><airportEng>GIMHAE INTERNATIONAL AIRPORT</airportEng><airportKor>김해국제공항</airportKor><parkingAirportCodeName>P1여객주차장</parkingAirportCodeName><parkingCongestion>원활</parkingCongestion><parkingCongestionDegree>62.3%</parkingCongestionDegree><parkingOccupiedSpace>1459</parkingOccupiedSpace><parkingTotalSpace>2342</parkingTotalSpace><sysGetdate>2022-06-20</sysGetdate><sysGettime>16:23:02</sysGettime></item><item><airportEng>GIMHAE INTERNATIONAL AIRPORT</airportEng><airportKor>김해국제공항</airportKor><parkingAirportCodeName>P2여객주차장</parkingAirportCodeName><parkingCongestion>원활</parkingCongestion><parkingCongestionDegree>61.35%</parkingCongestionDegree><parkingOccupiedSpace>1100</parkingOccupiedSpace><parkingTotalSpace>1793</parkingTotalSpace><sysGetdate>2022-06-20</sysGetdate><sysGettime>16:23:02</sysGettime></item><item><airportEng>GIMHAE INTERNATIONAL AIRPORT</airportEng><airportKor>김해국제공항</airportKor><parkingAirportCodeName>P3여객(화물)주차장</parkingAirportCodeName><parkingCongestion>원활</parkingCongestion><parkingCongestionDegree>42.78%</parkingCongestionDegree><parkingOccupiedSpace>421</parkingOccupiedSpace><parkingTotalSpace>984</parkingTotalSpace><sysGetdate>2022-06-20</sysGetdate><sysGettime>16:23:02</sysGettime></item><item><airportEng>GIMHAE INTERNATIONAL AIRPORT</airportEng><airportKor>김해국제공항</airportKor><parkingAirportCodeName>P4여객(화물)주차장</parkingAirportCodeName><parkingCongestion>원활</parkingCongestion><parkingCongestionDegree>68.77%</parkingCongestionDegree><parkingOccupiedSpace>458</parkingOccupiedSpace><parkingTotalSpace>666</parkingTotalSpace><sysGetdate>2022-06-20</sysGetdate><sysGettime>16:23:02</sysGettime></item></items><numOfRows>10</numOfRows><pageNo>1</pageNo><totalCount>4</totalCount></body></response>\n"
     ]
    },
    {
     "name": "stderr",
     "output_type": "stream",
     "text": [
      "c:\\Users\\admin\\anaconda3\\lib\\site-packages\\bs4\\builder\\__init__.py:545: XMLParsedAsHTMLWarning: It looks like you're parsing an XML document using an HTML parser. If this really is an HTML document (maybe it's XHTML?), you can ignore or filter this warning. If it's XML, you should know that using an XML parser will be more reliable. To parse this document as XML, make sure you have the lxml package installed, and pass the keyword argument `features=\"xml\"` into the BeautifulSoup constructor.\n",
      "  warnings.warn(\n"
     ]
    },
    {
     "name": "stdout",
     "output_type": "stream",
     "text": [
      "<?xml version=\"1.0\" encoding=\"UTF-8\" standalone=\"yes\"?><response><header><resultCode>00</resultCode><resultMsg>NORMAL SERVICE.</resultMsg></header><body><items><item><airportEng>JEJU INTERNATIONAL AIRPORT</airportEng><airportKor>제주국제공항</airportKor><parkingAirportCodeName>여객</parkingAirportCodeName><parkingCongestion>혼잡</parkingCongestion><parkingCongestionDegree>93.81%</parkingCongestionDegree><parkingOccupiedSpace>1744</parkingOccupiedSpace><parkingTotalSpace>1859</parkingTotalSpace><sysGetdate>2022-06-20</sysGetdate><sysGettime>16:23:02</sysGettime></item><item><airportEng>JEJU INTERNATIONAL AIRPORT</airportEng><airportKor>제주국제공항</airportKor><parkingAirportCodeName>화물</parkingAirportCodeName><parkingCongestion>원활</parkingCongestion><parkingCongestionDegree>.33%</parkingCongestionDegree><parkingOccupiedSpace>1</parkingOccupiedSpace><parkingTotalSpace>304</parkingTotalSpace><sysGetdate>2022-06-20</sysGetdate><sysGettime>16:23:02</sysGettime></item></items><numOfRows>10</numOfRows><pageNo>1</pageNo><totalCount>2</totalCount></body></response>\n",
      "<?xml version=\"1.0\" encoding=\"UTF-8\" standalone=\"yes\"?><response><header><resultCode>00</resultCode><resultMsg>NORMAL SERVICE.</resultMsg></header><body><items><item><airportEng>DAEGU INTERNATIONAL AIRPORT</airportEng><airportKor>대구국제공항</airportKor><parkingAirportCodeName>일반</parkingAirportCodeName><parkingCongestion>원활</parkingCongestion><parkingCongestionDegree>71.11%</parkingCongestionDegree><parkingOccupiedSpace>992</parkingOccupiedSpace><parkingTotalSpace>1395</parkingTotalSpace><sysGetdate>2022-06-20</sysGetdate><sysGettime>16:23:02</sysGettime></item><item><airportEng>DAEGU INTERNATIONAL AIRPORT</airportEng><airportKor>대구국제공항</airportKor><parkingAirportCodeName>화물주차장</parkingAirportCodeName><parkingCongestion>원활</parkingCongestion><parkingCongestionDegree>0%</parkingCongestionDegree><parkingOccupiedSpace>0</parkingOccupiedSpace><parkingTotalSpace>34</parkingTotalSpace><sysGetdate>2022-06-20</sysGetdate><sysGettime>16:23:02</sysGettime></item></items><numOfRows>10</numOfRows><pageNo>1</pageNo><totalCount>2</totalCount></body></response>\n",
      "<?xml version=\"1.0\" encoding=\"UTF-8\" standalone=\"yes\"?><response><header><resultCode>00</resultCode><resultMsg>NORMAL SERVICE.</resultMsg></header><body><items><item><airportEng>GWANGJU AIRPORT</airportEng><airportKor>광주공항</airportKor><parkingAirportCodeName>제1주차장</parkingAirportCodeName><parkingCongestion>만차</parkingCongestion><parkingCongestionDegree>100%</parkingCongestionDegree><parkingOccupiedSpace>540</parkingOccupiedSpace><parkingTotalSpace>540</parkingTotalSpace><sysGetdate>2022-06-20</sysGetdate><sysGettime>16:23:02</sysGettime></item><item><airportEng>GWANGJU AIRPORT</airportEng><airportKor>광주공항</airportKor><parkingAirportCodeName>제2주차장</parkingAirportCodeName><parkingCongestion>만차</parkingCongestion><parkingCongestionDegree>100%</parkingCongestionDegree><parkingOccupiedSpace>400</parkingOccupiedSpace><parkingTotalSpace>400</parkingTotalSpace><sysGetdate>2022-06-20</sysGetdate><sysGettime>16:23:02</sysGettime></item></items><numOfRows>10</numOfRows><pageNo>1</pageNo><totalCount>2</totalCount></body></response>\n",
      "<?xml version=\"1.0\" encoding=\"UTF-8\" standalone=\"yes\"?><response><header><resultCode>00</resultCode><resultMsg>NORMAL SERVICE.</resultMsg></header><body><items><item><airportEng>YEOSU AIRPORT</airportEng><airportKor>여수공항</airportKor><parkingAirportCodeName>제1주차장</parkingAirportCodeName><parkingCongestion>원활</parkingCongestion><parkingCongestionDegree>81.45%</parkingCongestionDegree><parkingOccupiedSpace>338</parkingOccupiedSpace><parkingTotalSpace>415</parkingTotalSpace><sysGetdate>2022-06-20</sysGetdate><sysGettime>16:23:02</sysGettime></item><item><airportEng>YEOSU AIRPORT</airportEng><airportKor>여수공항</airportKor><parkingAirportCodeName>제2주차장</parkingAirportCodeName><parkingCongestion>원활</parkingCongestion><parkingCongestionDegree>74.64%</parkingCongestionDegree><parkingOccupiedSpace>156</parkingOccupiedSpace><parkingTotalSpace>209</parkingTotalSpace><sysGetdate>2022-06-20</sysGetdate><sysGettime>16:23:02</sysGettime></item></items><numOfRows>10</numOfRows><pageNo>1</pageNo><totalCount>2</totalCount></body></response>\n",
      "<?xml version=\"1.0\" encoding=\"UTF-8\" standalone=\"yes\"?><response><header><resultCode>00</resultCode><resultMsg>NORMAL SERVICE.</resultMsg></header><body><items><item><airportEng>ULSAN AIRPORT</airportEng><airportKor>울산공항</airportKor><parkingAirportCodeName>일반</parkingAirportCodeName><parkingCongestion>원활</parkingCongestion><parkingCongestionDegree>58.02%</parkingCongestionDegree><parkingOccupiedSpace>264</parkingOccupiedSpace><parkingTotalSpace>455</parkingTotalSpace><sysGetdate>2022-06-20</sysGetdate><sysGettime>16:23:02</sysGettime></item></items><numOfRows>10</numOfRows><pageNo>1</pageNo><totalCount>1</totalCount></body></response>\n",
      "<?xml version=\"1.0\" encoding=\"UTF-8\" standalone=\"yes\"?><response><header><resultCode>00</resultCode><resultMsg>NORMAL SERVICE.</resultMsg></header><body><items><item><airportEng>GUNSAN AIRPORT</airportEng><airportKor>군산공항</airportKor><parkingAirportCodeName>일반</parkingAirportCodeName><parkingCongestion>혼잡</parkingCongestion><parkingCongestionDegree>92.72%</parkingCongestionDegree><parkingOccupiedSpace>331</parkingOccupiedSpace><parkingTotalSpace>357</parkingTotalSpace><sysGetdate>2022-06-20</sysGetdate><sysGettime>16:23:02</sysGettime></item></items><numOfRows>10</numOfRows><pageNo>1</pageNo><totalCount>1</totalCount></body></response>\n",
      "<?xml version=\"1.0\" encoding=\"UTF-8\" standalone=\"yes\"?><response><header><resultCode>00</resultCode><resultMsg>NORMAL SERVICE.</resultMsg></header><body><items><item><airportEng>WONJU AIRPORT</airportEng><airportKor>원주공항</airportKor><parkingAirportCodeName>일반</parkingAirportCodeName><parkingCongestion>만차</parkingCongestion><parkingCongestionDegree>100%</parkingCongestionDegree><parkingOccupiedSpace>135</parkingOccupiedSpace><parkingTotalSpace>135</parkingTotalSpace><sysGetdate>2022-06-20</sysGetdate><sysGettime>16:23:02</sysGettime></item></items><numOfRows>10</numOfRows><pageNo>1</pageNo><totalCount>1</totalCount></body></response>\n",
      "<?xml version=\"1.0\" encoding=\"UTF-8\" standalone=\"yes\"?><response><header><resultCode>00</resultCode><resultMsg>NORMAL SERVICE.</resultMsg></header><body><items><item><airportEng>CHEONGJU INTERNATIONAL AIRPORT</airportEng><airportKor>청주국제공항</airportKor><parkingAirportCodeName>제1주차장</parkingAirportCodeName><parkingCongestion>만차</parkingCongestion><parkingCongestionDegree>100%</parkingCongestionDegree><parkingOccupiedSpace>2203</parkingOccupiedSpace><parkingTotalSpace>2203</parkingTotalSpace><sysGetdate>2022-06-20</sysGetdate><sysGettime>16:23:02</sysGettime></item><item><airportEng>CHEONGJU INTERNATIONAL AIRPORT</airportEng><airportKor>청주국제공항</airportKor><parkingAirportCodeName>제2주차장</parkingAirportCodeName><parkingCongestion>원활</parkingCongestion><parkingCongestionDegree>72.05%</parkingCongestionDegree><parkingOccupiedSpace>1227</parkingOccupiedSpace><parkingTotalSpace>1703</parkingTotalSpace><sysGetdate>2022-06-20</sysGetdate><sysGettime>16:23:02</sysGettime></item></items><numOfRows>10</numOfRows><pageNo>1</pageNo><totalCount>2</totalCount></body></response>\n"
     ]
    },
    {
     "data": {
      "text/html": [
       "<div>\n",
       "<style scoped>\n",
       "    .dataframe tbody tr th:only-of-type {\n",
       "        vertical-align: middle;\n",
       "    }\n",
       "\n",
       "    .dataframe tbody tr th {\n",
       "        vertical-align: top;\n",
       "    }\n",
       "\n",
       "    .dataframe thead th {\n",
       "        text-align: right;\n",
       "    }\n",
       "</style>\n",
       "<table border=\"1\" class=\"dataframe\">\n",
       "  <thead>\n",
       "    <tr style=\"text-align: right;\">\n",
       "      <th></th>\n",
       "      <th>공항명(영문)</th>\n",
       "      <th>공항명(국문)</th>\n",
       "      <th>주차장명</th>\n",
       "      <th>주차장 혼잡도</th>\n",
       "      <th>주차장 혼잡률</th>\n",
       "      <th>입고된 차량 수</th>\n",
       "      <th>전체 주차면 수</th>\n",
       "    </tr>\n",
       "  </thead>\n",
       "  <tbody>\n",
       "    <tr>\n",
       "      <th>0</th>\n",
       "      <td>CHEONGJU INTERNATIONAL AIRPORT</td>\n",
       "      <td>청주국제공항</td>\n",
       "      <td>제1주차장</td>\n",
       "      <td>만차</td>\n",
       "      <td>100%</td>\n",
       "      <td>2203</td>\n",
       "      <td>2203</td>\n",
       "    </tr>\n",
       "    <tr>\n",
       "      <th>1</th>\n",
       "      <td>CHEONGJU INTERNATIONAL AIRPORT</td>\n",
       "      <td>청주국제공항</td>\n",
       "      <td>제2주차장</td>\n",
       "      <td>원활</td>\n",
       "      <td>72.05%</td>\n",
       "      <td>1227</td>\n",
       "      <td>1703</td>\n",
       "    </tr>\n",
       "  </tbody>\n",
       "</table>\n",
       "</div>"
      ],
      "text/plain": [
       "                          공항명(영문) 공항명(국문)   주차장명 주차장 혼잡도 주차장 혼잡률 입고된 차량 수  \\\n",
       "0  CHEONGJU INTERNATIONAL AIRPORT  청주국제공항  제1주차장      만차    100%     2203   \n",
       "1  CHEONGJU INTERNATIONAL AIRPORT  청주국제공항  제2주차장      원활  72.05%     1227   \n",
       "\n",
       "  전체 주차면 수  \n",
       "0     2203  \n",
       "1     1703  "
      ]
     },
     "execution_count": 157,
     "metadata": {},
     "output_type": "execute_result"
    }
   ],
   "source": [
    "apikey ='PVdeh44WlF%2BHj6bGzfI2BXUldlea7Ggo%2FjjXvhbHCMNNFotchb2byGTopt4uAFS07RQzqmeU3M2Y8HcMmlYW9w%3D%3D'\n",
    "\n",
    "pageNo = 1\n",
    "numOfRows =10\n",
    "schAirportCode = ['GMP','PUS','CJU','TAE','KWJ','RSU','USN','KUV','WJU','CJJ']\n",
    "\n",
    "\n",
    "api = 'http://openapi.airport.co.kr/service/rest/AirportParkingCongestion/airportParkingCongestionRT?schAirportCode={schcode}&serviceKey={key}&numOfRows={row}&pageNo={no}'\n",
    "\n",
    "for code in range(0, len(schAirportCode)):\n",
    "\n",
    "    url = api.format(no=pageNo,\n",
    "                    row=numOfRows,\n",
    "                    schcode= schAirportCode[code],\n",
    "                    key=apikey)\n",
    "\n",
    "    \n",
    "    # requses =요청, response =응답\n",
    "    response = requests.get(url)\n",
    "    print(response.text)\n",
    "\n",
    "    re = response.text\n",
    "    soup = BeautifulSoup(re,\"html.parser\")\n",
    "\n",
    "    airporteng_list = soup.find_all('airporteng')\n",
    "    airportkor_list = soup.find_all('airportkor')\n",
    "    parkingairportcodename_list = soup.find_all('parkingairportcodename')\n",
    "    parkingcongestion_list = soup.find_all('parkingcongestion')\n",
    "    parkingcongestiondegree_list = soup.find_all('parkingcongestiondegree')\n",
    "    parkingoccupiedspace_list = soup.find_all('parkingoccupiedspace')\n",
    "    parkingtotalspace_list = soup.find_all('parkingtotalspace')\n",
    "\n",
    "    airporteng_txt_list = []\n",
    "    airportkor_txt_list = []\n",
    "    parkingairportcodename_txt_list = []\n",
    "    parkingcongestion_txt_list = []\n",
    "    parkingCongestionDegree_txt_list = []\n",
    "    parkingOccupiedSpace_txt_list = []\n",
    "    parkingTotalSpace_txt_list = []\n",
    "\n",
    "\n",
    "    for i in range(0, len(airporteng_list),1):\n",
    "        airporteng_txt_list.append(airporteng_list[i].text)\n",
    "        airportkor_txt_list.append(airportkor_list[i].text)\n",
    "        parkingairportcodename_txt_list.append(parkingairportcodename_list[i].text)\n",
    "        parkingcongestion_txt_list.append(parkingcongestion_list[i].text)\n",
    "        parkingCongestionDegree_txt_list.append(parkingcongestiondegree_list[i].text)\n",
    "        parkingOccupiedSpace_txt_list.append(parkingoccupiedspace_list[i].text)\n",
    "        parkingTotalSpace_txt_list.append(parkingtotalspace_list[i].text)\n",
    "    \n",
    "        df_temp = pd.DataFrame({'공항명(영문)' : airporteng_txt_list,\n",
    "                        '공항명(국문)' : airportkor_txt_list,\n",
    "                        '주차장명' : parkingairportcodename_txt_list,\n",
    "                        '주차장 혼잡도' : parkingcongestion_txt_list,\n",
    "                        '주차장 혼잡률' : parkingCongestionDegree_txt_list,\n",
    "                        '입고된 차량 수' : parkingOccupiedSpace_txt_list,\n",
    "                        '전체 주차면 수' : parkingTotalSpace_txt_list})\n",
    "    \n",
    "df_temp"
   ]
  },
  {
   "cell_type": "code",
   "execution_count": 158,
   "metadata": {},
   "outputs": [
    {
     "data": {
      "text/html": [
       "<div>\n",
       "<style scoped>\n",
       "    .dataframe tbody tr th:only-of-type {\n",
       "        vertical-align: middle;\n",
       "    }\n",
       "\n",
       "    .dataframe tbody tr th {\n",
       "        vertical-align: top;\n",
       "    }\n",
       "\n",
       "    .dataframe thead th {\n",
       "        text-align: right;\n",
       "    }\n",
       "</style>\n",
       "<table border=\"1\" class=\"dataframe\">\n",
       "  <thead>\n",
       "    <tr style=\"text-align: right;\">\n",
       "      <th></th>\n",
       "      <th>공항명(영문)</th>\n",
       "      <th>공항명(국문)</th>\n",
       "      <th>주차장명</th>\n",
       "      <th>주차장 혼잡도</th>\n",
       "      <th>주차장 혼잡률</th>\n",
       "      <th>입고된 차량 수</th>\n",
       "      <th>전체 주차면 수</th>\n",
       "    </tr>\n",
       "  </thead>\n",
       "  <tbody>\n",
       "    <tr>\n",
       "      <th>0</th>\n",
       "      <td>CHEONGJU INTERNATIONAL AIRPORT</td>\n",
       "      <td>청주국제공항</td>\n",
       "      <td>제1주차장</td>\n",
       "      <td>만차</td>\n",
       "      <td>100%</td>\n",
       "      <td>2203</td>\n",
       "      <td>2203</td>\n",
       "    </tr>\n",
       "    <tr>\n",
       "      <th>1</th>\n",
       "      <td>CHEONGJU INTERNATIONAL AIRPORT</td>\n",
       "      <td>청주국제공항</td>\n",
       "      <td>제2주차장</td>\n",
       "      <td>원활</td>\n",
       "      <td>72.05%</td>\n",
       "      <td>1227</td>\n",
       "      <td>1703</td>\n",
       "    </tr>\n",
       "  </tbody>\n",
       "</table>\n",
       "</div>"
      ],
      "text/plain": [
       "                          공항명(영문) 공항명(국문)   주차장명 주차장 혼잡도 주차장 혼잡률 입고된 차량 수  \\\n",
       "0  CHEONGJU INTERNATIONAL AIRPORT  청주국제공항  제1주차장      만차    100%     2203   \n",
       "1  CHEONGJU INTERNATIONAL AIRPORT  청주국제공항  제2주차장      원활  72.05%     1227   \n",
       "\n",
       "  전체 주차면 수  \n",
       "0     2203  \n",
       "1     1703  "
      ]
     },
     "execution_count": 158,
     "metadata": {},
     "output_type": "execute_result"
    }
   ],
   "source": [
    "df_temp"
   ]
  },
  {
   "cell_type": "code",
   "execution_count": 147,
   "metadata": {},
   "outputs": [
    {
     "data": {
      "text/plain": [
       "[array(['CHEONGJU INTERNATIONAL AIRPORT', '청주국제공항', '제1주차장', '만차', '100%',\n",
       "        '2203', '2203'], dtype=object),\n",
       " array(['CHEONGJU INTERNATIONAL AIRPORT', '청주국제공항', '제2주차장', '원활',\n",
       "        '71.29%', '1214', '1703'], dtype=object)]"
      ]
     },
     "execution_count": 147,
     "metadata": {},
     "output_type": "execute_result"
    }
   ],
   "source": [
    "list_all = []\n",
    "\n",
    "for i in df_temp.values:\n",
    "    list_all.append(i)\n",
    "list_all"
   ]
  }
 ],
 "metadata": {
  "kernelspec": {
   "display_name": "Python 3.9.12 ('base')",
   "language": "python",
   "name": "python3"
  },
  "language_info": {
   "codemirror_mode": {
    "name": "ipython",
    "version": 3
   },
   "file_extension": ".py",
   "mimetype": "text/x-python",
   "name": "python",
   "nbconvert_exporter": "python",
   "pygments_lexer": "ipython3",
   "version": "3.9.12"
  },
  "orig_nbformat": 4,
  "vscode": {
   "interpreter": {
    "hash": "610a6f344c2137faf927ea819c63f6cee33a2c04455044b28099f39fe9722347"
   }
  }
 },
 "nbformat": 4,
 "nbformat_minor": 2
}
