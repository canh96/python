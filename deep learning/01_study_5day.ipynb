{
 "cells": [
  {
   "cell_type": "markdown",
   "metadata": {},
   "source": [
    "## 오차역전파법(Backpropagation)"
   ]
  },
  {
   "cell_type": "code",
   "execution_count": 429,
   "metadata": {},
   "outputs": [],
   "source": [
    "class AddNode:\n",
    "    def __init__(self):\n",
    "        pass\n",
    "    \n",
    "    def forward(self,x,y):\n",
    "        self.x = x\n",
    "        self.y = y\n",
    "        out = self.x+self.y\n",
    "        return out\n",
    "    \n",
    "    def backward(self, dout):\n",
    "        dx = dout*1\n",
    "        dy = dout*1\n",
    "        return dx, dy\n",
    "    \n",
    "class MulNode:\n",
    "    def __init__(self):\n",
    "        self.x = None\n",
    "        self.y = None\n",
    "        \n",
    "    def forward(self,x,y):\n",
    "        self.x = x\n",
    "        self.y = y\n",
    "        out = self.x*self.y\n",
    "        return out\n",
    "    \n",
    "    def backward(self, dout):\n",
    "        dx = self.y*dout\n",
    "        dy = self.x*dout\n",
    "        return dx, dy\n",
    "        "
   ]
  },
  {
   "cell_type": "code",
   "execution_count": 430,
   "metadata": {},
   "outputs": [],
   "source": [
    "apple = 100\n",
    "apple_num = 2\n",
    "banana = 300\n",
    "banana_num = 5\n",
    "tax = 1.1"
   ]
  },
  {
   "cell_type": "code",
   "execution_count": 431,
   "metadata": {},
   "outputs": [],
   "source": [
    "### 흐름\n",
    "# ### forward\n",
    "# apple_buy_result = apple_buy.forward(apple_price,apple_num)\n",
    "# banana_buy_result = banana_buy.forward(banana_price,banana_num)\n",
    "# apple_total = MulNode(apple_buy_result,tax)\n",
    "# apple_total_price = apple_total.forward(apple_buy_result,tax)\n",
    "# banana_total = MulNode(banana_buy,tax)\n",
    "# banana_total_price = banana_total.forward(banana_buy_result,tax)\n",
    "\n",
    "# total_price = AddNode()\n",
    "# total_price_result = total_price.forward(apple_total_price,banana_total_price)\n",
    "# total_price_result\n",
    "\n",
    "# ### backward\n",
    "# total_price.backward(total_price_result)\n",
    "# print(apple_total_price)\n",
    "# print(banana_total_price)"
   ]
  },
  {
   "cell_type": "code",
   "execution_count": 432,
   "metadata": {},
   "outputs": [],
   "source": [
    "# mul_apple_layer = MulNode()\n",
    "# mul_banana_layer = MulNode()\n",
    "\n",
    "# apple_price = mul_apple_layer.forward(apple_price, apple_num)\n",
    "# banana_price = mul_banana_layer.forward(banana_price, banana_num)\n",
    "\n",
    "# apple_total_price = mul_apple_layer.forward(apple_price,tax)\n",
    "# banana_total_price = mul_banana_layer.forward(banana_price,tax)\n",
    "\n",
    "# dout = 1\n",
    "# dx, dy = mul_apple_layer.backward(dout)"
   ]
  },
  {
   "cell_type": "code",
   "execution_count": 433,
   "metadata": {},
   "outputs": [],
   "source": [
    "mul_apple_layer = MulNode()\n",
    "mul_apple_tax_layer = MulNode()"
   ]
  },
  {
   "cell_type": "code",
   "execution_count": 434,
   "metadata": {},
   "outputs": [],
   "source": [
    "apple_price = mul_apple_layer.forward(apple, apple_num)"
   ]
  },
  {
   "cell_type": "code",
   "execution_count": 435,
   "metadata": {},
   "outputs": [],
   "source": [
    "apple_total_price = mul_apple_tax_layer.forward(apple_price, tax)"
   ]
  },
  {
   "cell_type": "code",
   "execution_count": 436,
   "metadata": {},
   "outputs": [
    {
     "data": {
      "text/plain": [
       "220.00000000000003"
      ]
     },
     "execution_count": 436,
     "metadata": {},
     "output_type": "execute_result"
    }
   ],
   "source": [
    "apple_total_price"
   ]
  },
  {
   "cell_type": "code",
   "execution_count": 437,
   "metadata": {},
   "outputs": [],
   "source": [
    "dout = 1\n",
    "dapple, dtax = mul_apple_tax_layer.backward(dout)"
   ]
  },
  {
   "cell_type": "code",
   "execution_count": 438,
   "metadata": {},
   "outputs": [
    {
     "name": "stdout",
     "output_type": "stream",
     "text": [
      "1.1\n",
      "200\n"
     ]
    }
   ],
   "source": [
    "print(dapple)\n",
    "print(dtax)"
   ]
  },
  {
   "cell_type": "code",
   "execution_count": 439,
   "metadata": {},
   "outputs": [],
   "source": [
    "mul_banana_layer = MulNode()\n",
    "mul_banana_tax_layer = MulNode()"
   ]
  },
  {
   "cell_type": "code",
   "execution_count": 440,
   "metadata": {},
   "outputs": [],
   "source": [
    "banana_price = mul_banana_layer.forward(banana,banana_num)\n",
    "banana_total_price = mul_banana_tax_layer.forward(banana_price,tax)"
   ]
  },
  {
   "cell_type": "code",
   "execution_count": 441,
   "metadata": {},
   "outputs": [],
   "source": [
    "dout = 1\n",
    "dbanana, dtax = mul_banana_tax_layer.backward(dout)"
   ]
  },
  {
   "cell_type": "code",
   "execution_count": 442,
   "metadata": {},
   "outputs": [
    {
     "name": "stdout",
     "output_type": "stream",
     "text": [
      "1.1\n",
      "1500\n"
     ]
    }
   ],
   "source": [
    "print(dbanana)\n",
    "print(dtax)"
   ]
  },
  {
   "cell_type": "code",
   "execution_count": 443,
   "metadata": {},
   "outputs": [],
   "source": [
    "total_layer = AddNode()"
   ]
  },
  {
   "cell_type": "code",
   "execution_count": 444,
   "metadata": {},
   "outputs": [
    {
     "data": {
      "text/plain": [
       "1870.0000000000002"
      ]
     },
     "execution_count": 444,
     "metadata": {},
     "output_type": "execute_result"
    }
   ],
   "source": [
    "total_layer.forward(apple_total_price,banana_total_price)"
   ]
  },
  {
   "cell_type": "code",
   "execution_count": 445,
   "metadata": {},
   "outputs": [
    {
     "data": {
      "text/plain": [
       "(1, 1)"
      ]
     },
     "execution_count": 445,
     "metadata": {},
     "output_type": "execute_result"
    }
   ],
   "source": [
    "total_layer.backward(dout=1)"
   ]
  },
  {
   "cell_type": "code",
   "execution_count": 446,
   "metadata": {},
   "outputs": [
    {
     "name": "stdout",
     "output_type": "stream",
     "text": [
      "220.00000000000003\n",
      "1650.0000000000002\n"
     ]
    }
   ],
   "source": [
    "print(total_layer.x)\n",
    "print(total_layer.y)"
   ]
  },
  {
   "cell_type": "code",
   "execution_count": 447,
   "metadata": {},
   "outputs": [],
   "source": [
    "mul_apple_layer = MulNode()\n",
    "mul_banana_layer = MulNode()\n",
    "add_apple_banana_layer = AddNode()\n",
    "mul_tax_layer = MulNode()"
   ]
  },
  {
   "cell_type": "code",
   "execution_count": 448,
   "metadata": {},
   "outputs": [],
   "source": [
    "apple_price = mul_apple_layer.forward(apple, apple_num)\n",
    "banana_price = mul_banana_layer.forward(banana, banana_num)"
   ]
  },
  {
   "cell_type": "code",
   "execution_count": 449,
   "metadata": {},
   "outputs": [],
   "source": [
    "all_price = add_apple_banana_layer.forward(apple_price, banana_price)"
   ]
  },
  {
   "cell_type": "code",
   "execution_count": 450,
   "metadata": {},
   "outputs": [],
   "source": [
    "total_price = mul_tax_layer.forward(all_price,tax)"
   ]
  },
  {
   "cell_type": "code",
   "execution_count": 451,
   "metadata": {},
   "outputs": [
    {
     "name": "stdout",
     "output_type": "stream",
     "text": [
      "apple_price = 200\n",
      "banana_price = 1500\n",
      "all_price = 1700\n",
      "total_price = 1870.0000000000002\n"
     ]
    }
   ],
   "source": [
    "print(f'apple_price = {apple_price}')\n",
    "print(f'banana_price = {banana_price}')\n",
    "print(f'all_price = {all_price}')\n",
    "print(f'total_price = {total_price}')\n"
   ]
  },
  {
   "cell_type": "code",
   "execution_count": 452,
   "metadata": {},
   "outputs": [],
   "source": [
    "### 역전파(backward)"
   ]
  },
  {
   "cell_type": "code",
   "execution_count": 453,
   "metadata": {},
   "outputs": [],
   "source": [
    "dout = 1\n",
    "dall_price,dtax = mul_tax_layer.backward(dout)"
   ]
  },
  {
   "cell_type": "code",
   "execution_count": 454,
   "metadata": {},
   "outputs": [
    {
     "data": {
      "text/plain": [
       "1.1"
      ]
     },
     "execution_count": 454,
     "metadata": {},
     "output_type": "execute_result"
    }
   ],
   "source": [
    "dall_price"
   ]
  },
  {
   "cell_type": "code",
   "execution_count": 455,
   "metadata": {},
   "outputs": [],
   "source": [
    "dapple_price, dbanana_price = add_apple_banana_layer.backward(dall_price)"
   ]
  },
  {
   "cell_type": "code",
   "execution_count": 456,
   "metadata": {},
   "outputs": [
    {
     "data": {
      "text/plain": [
       "1.1"
      ]
     },
     "execution_count": 456,
     "metadata": {},
     "output_type": "execute_result"
    }
   ],
   "source": [
    "dapple_price"
   ]
  },
  {
   "cell_type": "code",
   "execution_count": 457,
   "metadata": {},
   "outputs": [],
   "source": [
    "dapple, dapple_num = mul_apple_layer.backward(dapple_price)\n"
   ]
  },
  {
   "cell_type": "code",
   "execution_count": 458,
   "metadata": {},
   "outputs": [
    {
     "name": "stdout",
     "output_type": "stream",
     "text": [
      "2.2\n",
      "110.00000000000001\n"
     ]
    }
   ],
   "source": [
    "print(dapple)\n",
    "print(dapple_num)"
   ]
  },
  {
   "cell_type": "code",
   "execution_count": 459,
   "metadata": {},
   "outputs": [],
   "source": [
    "dbanana, dbanana_num = mul_banana_layer.backward(dbanana_price)"
   ]
  },
  {
   "cell_type": "code",
   "execution_count": 460,
   "metadata": {},
   "outputs": [
    {
     "name": "stdout",
     "output_type": "stream",
     "text": [
      "5.5\n",
      "330.0\n"
     ]
    }
   ],
   "source": [
    "print(dbanana)\n",
    "print(dbanana_num)"
   ]
  },
  {
   "cell_type": "markdown",
   "metadata": {},
   "source": [
    "## Relu, Sigmoid, Affine, Loss"
   ]
  },
  {
   "cell_type": "code",
   "execution_count": 461,
   "metadata": {},
   "outputs": [],
   "source": [
    "import numpy as np\n",
    "\n",
    "def sigmoid(x):\n",
    "    return 1/(1+np.exp(-x))\n",
    "\n",
    "def relu(x):\n",
    "    return np.maximum(0,x)\n",
    "\n",
    "def softmax(x):\n",
    "    c = np.max(x,axis=1).reshape(-1,1)\n",
    "    x = x-c\n",
    "    return np.exp(x)/np.sum(np.exp(x),axis=1).reshape(-1,1)\n",
    "\n",
    "def categorical_crossentropy(y,t):\n",
    "    return np.mean(-t*np.log(y))"
   ]
  },
  {
   "cell_type": "code",
   "execution_count": 462,
   "metadata": {},
   "outputs": [],
   "source": [
    "### Relu, Sigmoid, Affine, Loss\n",
    "\n",
    "class Relu:\n",
    "    def __init__(self):\n",
    "        self.mask = None    \n",
    "        \n",
    "    def forward(self,x):\n",
    "        self.mask = (x <=0)\n",
    "        out = x.copy()\n",
    "        out[self.mask] = 0\n",
    "        return out\n",
    "    \n",
    "    def backward(self,dout):\n",
    "        dout[self.mask] = 0\n",
    "        dx = dout\n",
    "        return dx\n",
    "    \n",
    "class Sigmoid:\n",
    "    def __init__(self):\n",
    "        self.out = None\n",
    "    \n",
    "    def forward(self,x):\n",
    "        out = sigmoid(x)\n",
    "        self.out = out\n",
    "        return self.out\n",
    "    def backward(self,dout):\n",
    "        dx = ((1-self.out)*self.out)*dout\n",
    "        return dx\n",
    "    \n",
    "class Affine:\n",
    "    def __init__(self,W,b):\n",
    "        self.W = W\n",
    "        self.b = b\n",
    "        self.x = None\n",
    "        self.origin_shape = None\n",
    "        self.dW = None\n",
    "        self.db = None\n",
    "    \n",
    "    def forward(self,x):\n",
    "        self.origin_shape = x.shape\n",
    "        self.x = x\n",
    "        out = np.dot(x, self.W) + self.b\n",
    "        return out\n",
    "    \n",
    "    def backward(self,dout):\n",
    "        dx = np.dot(dout, self.W.T)\n",
    "        self.dW = np.dot(self.x.T,dout)\n",
    "        self.db = np.sum(dout, axis=0)\n",
    "        dx = dx.reshape(self.origin_shape)\n",
    "        return dx, self.dW, self.db\n",
    "    \n",
    "class Loss:\n",
    "    def __init__(self):\n",
    "        self.loss = None\n",
    "        self.y = None\n",
    "        self.t = None\n",
    "    \n",
    "    def forward(self,y,t):\n",
    "        self.y = y\n",
    "        self.t = t\n",
    "        self.loss = categorical_crossentropy(self.y, self.t)\n",
    "        return self.loss\n",
    "    \n",
    "    def backward(self,dout=1):\n",
    "        dx = (self.y - self.t)*dout\n",
    "        return dx"
   ]
  },
  {
   "cell_type": "code",
   "execution_count": 463,
   "metadata": {},
   "outputs": [],
   "source": [
    "### Loss"
   ]
  },
  {
   "cell_type": "code",
   "execution_count": 464,
   "metadata": {},
   "outputs": [],
   "source": [
    "y = softmax(np.random.randn(10,3))"
   ]
  },
  {
   "cell_type": "code",
   "execution_count": 465,
   "metadata": {},
   "outputs": [],
   "source": [
    "t = np.random.randn(10,3)"
   ]
  },
  {
   "cell_type": "code",
   "execution_count": 485,
   "metadata": {},
   "outputs": [
    {
     "data": {
      "text/plain": [
       "array([0, 1, 1, 0, 2, 0, 0, 1, 0, 0], dtype=int64)"
      ]
     },
     "execution_count": 485,
     "metadata": {},
     "output_type": "execute_result"
    }
   ],
   "source": [
    "x = np.argmax(t, axis=1)"
   ]
  },
  {
   "cell_type": "code",
   "execution_count": 467,
   "metadata": {},
   "outputs": [],
   "source": [
    "t = np.zeros((10,3))"
   ]
  },
  {
   "cell_type": "code",
   "execution_count": 468,
   "metadata": {},
   "outputs": [],
   "source": [
    "for i,k in enumerate(x):\n",
    "    t[i,k] = 1"
   ]
  },
  {
   "cell_type": "code",
   "execution_count": 469,
   "metadata": {},
   "outputs": [
    {
     "data": {
      "text/plain": [
       "array([[1., 0., 0.],\n",
       "       [0., 1., 0.],\n",
       "       [0., 1., 0.],\n",
       "       [1., 0., 0.],\n",
       "       [0., 0., 1.],\n",
       "       [1., 0., 0.],\n",
       "       [1., 0., 0.],\n",
       "       [0., 1., 0.],\n",
       "       [1., 0., 0.],\n",
       "       [1., 0., 0.]])"
      ]
     },
     "execution_count": 469,
     "metadata": {},
     "output_type": "execute_result"
    }
   ],
   "source": [
    "t"
   ]
  },
  {
   "cell_type": "code",
   "execution_count": 470,
   "metadata": {},
   "outputs": [],
   "source": [
    "loss = Loss()"
   ]
  },
  {
   "cell_type": "code",
   "execution_count": 471,
   "metadata": {},
   "outputs": [
    {
     "data": {
      "text/plain": [
       "0.3092250740422319"
      ]
     },
     "execution_count": 471,
     "metadata": {},
     "output_type": "execute_result"
    }
   ],
   "source": [
    "loss.forward(y,t)"
   ]
  },
  {
   "cell_type": "code",
   "execution_count": 472,
   "metadata": {},
   "outputs": [
    {
     "data": {
      "text/plain": [
       "array([[-0.60193667,  0.46131013,  0.14062654],\n",
       "       [ 0.25801639, -0.31100402,  0.05298763],\n",
       "       [ 0.26164856, -0.5011283 ,  0.23947974],\n",
       "       [-0.93653697,  0.8562314 ,  0.08030557],\n",
       "       [ 0.36332935,  0.11718473, -0.48051408],\n",
       "       [-0.55249862,  0.19700154,  0.35549708],\n",
       "       [-0.72137032,  0.56866095,  0.15270937],\n",
       "       [ 0.23173544, -0.45011806,  0.21838263],\n",
       "       [-0.31850913,  0.08170915,  0.23679998],\n",
       "       [-0.5560295 ,  0.17538724,  0.38064226]])"
      ]
     },
     "execution_count": 472,
     "metadata": {},
     "output_type": "execute_result"
    }
   ],
   "source": [
    "loss.backward()"
   ]
  },
  {
   "cell_type": "code",
   "execution_count": 473,
   "metadata": {},
   "outputs": [],
   "source": [
    "### Affine\n",
    "x = np.random.randn(5,3)"
   ]
  },
  {
   "cell_type": "code",
   "execution_count": 474,
   "metadata": {},
   "outputs": [
    {
     "data": {
      "text/plain": [
       "(5, 3)"
      ]
     },
     "execution_count": 474,
     "metadata": {},
     "output_type": "execute_result"
    }
   ],
   "source": [
    "x.shape"
   ]
  },
  {
   "cell_type": "code",
   "execution_count": 475,
   "metadata": {},
   "outputs": [],
   "source": [
    "Affine1 = Affine(np.random.randn(5,3), np.zeros(3))"
   ]
  },
  {
   "cell_type": "code",
   "execution_count": 476,
   "metadata": {},
   "outputs": [
    {
     "data": {
      "text/plain": [
       "array([[ 0.9952255 ,  1.31638928,  0.10974955],\n",
       "       [ 1.43652352,  0.7541536 ,  0.50820024],\n",
       "       [-0.7675275 , -0.44622255,  1.27726307],\n",
       "       [ 0.0483651 , -1.64967221,  0.67961135],\n",
       "       [-0.57849289,  0.86040119,  0.3778074 ],\n",
       "       [ 1.60507065,  0.33549679,  2.68918334],\n",
       "       [ 2.41308522, -0.3694054 ,  1.88481149],\n",
       "       [ 0.87798884, -0.54419171, -1.7786682 ],\n",
       "       [-0.46924229,  0.50414078,  0.13709583],\n",
       "       [ 1.31418245, -1.60724165,  0.63895824]])"
      ]
     },
     "execution_count": 476,
     "metadata": {},
     "output_type": "execute_result"
    }
   ],
   "source": [
    "Affine1.forward(np.random.randn(10,5))"
   ]
  },
  {
   "cell_type": "code",
   "execution_count": 477,
   "metadata": {},
   "outputs": [
    {
     "data": {
      "text/plain": [
       "(array([[-0.62502815, -0.05009918,  0.14206121,  0.62231826, -0.74339735],\n",
       "        [ 2.70601115, -1.52977035, -2.33826405,  1.32331269, -0.81715925],\n",
       "        [-0.93929663,  2.19405454,  3.95566913,  0.21639372, -0.01395006],\n",
       "        [-0.83665236,  0.48166431,  1.75257699,  2.62798755, -2.53922974],\n",
       "        [ 0.77755775, -0.01917469, -0.11807045, -0.17035672,  0.3535316 ],\n",
       "        [-0.35474639,  0.63306353,  1.1182717 , -0.01554209,  0.0461038 ],\n",
       "        [-0.13581947, -1.85539419, -3.80525844, -1.65932618,  1.12980908],\n",
       "        [ 0.96207648,  0.51033318,  1.18524053,  0.96935777, -0.54404444],\n",
       "        [-0.16881486, -1.44629388, -3.14322558, -1.83007102,  1.35803914],\n",
       "        [-0.27767976,  1.16139286,  2.3122343 ,  0.79157993, -0.5734986 ]]),\n",
       " array([[-0.30809947,  0.38710442,  3.99936561],\n",
       "        [-1.33086661, -1.88619164, -2.55838973],\n",
       "        [-0.56397364,  1.93015819,  3.97202808],\n",
       "        [ 1.87112698,  1.25131227,  0.51974032],\n",
       "        [ 0.46275545,  1.0998927 ,  6.37753685]]),\n",
       " array([ 1.36165429, -0.021275  ,  1.23038735]))"
      ]
     },
     "execution_count": 477,
     "metadata": {},
     "output_type": "execute_result"
    }
   ],
   "source": [
    "Affine1.backward(np.random.randn(10,3))"
   ]
  },
  {
   "cell_type": "code",
   "execution_count": 478,
   "metadata": {},
   "outputs": [],
   "source": [
    "### Relu\n",
    "x = np.array([[-1,0],[1,2],[2,0]])\n",
    "y = np.array([[7,6],[-2,5],[4,1]])"
   ]
  },
  {
   "cell_type": "code",
   "execution_count": 479,
   "metadata": {},
   "outputs": [
    {
     "data": {
      "text/plain": [
       "array([[0, 0],\n",
       "       [1, 2],\n",
       "       [2, 0]])"
      ]
     },
     "execution_count": 479,
     "metadata": {},
     "output_type": "execute_result"
    }
   ],
   "source": [
    "x[x <= 0] = 0\n",
    "x"
   ]
  },
  {
   "cell_type": "code",
   "execution_count": 480,
   "metadata": {},
   "outputs": [
    {
     "data": {
      "text/plain": [
       "array([[0, 0],\n",
       "       [1, 2],\n",
       "       [2, 0]])"
      ]
     },
     "execution_count": 480,
     "metadata": {},
     "output_type": "execute_result"
    }
   ],
   "source": [
    "relu_d = Relu()\n",
    "relu_d.forward(x)"
   ]
  },
  {
   "cell_type": "code",
   "execution_count": 481,
   "metadata": {},
   "outputs": [
    {
     "data": {
      "text/plain": [
       "array([[ 0,  0],\n",
       "       [-2,  5],\n",
       "       [ 4,  0]])"
      ]
     },
     "execution_count": 481,
     "metadata": {},
     "output_type": "execute_result"
    }
   ],
   "source": [
    "relu_d.backward(y)"
   ]
  },
  {
   "cell_type": "code",
   "execution_count": 482,
   "metadata": {},
   "outputs": [],
   "source": [
    "### Sigmoid\n",
    "xx = Sigmoid()"
   ]
  },
  {
   "cell_type": "code",
   "execution_count": 483,
   "metadata": {},
   "outputs": [
    {
     "data": {
      "text/plain": [
       "array([[0.72676713, 0.35400786, 0.26124522],\n",
       "       [0.46120929, 0.22076657, 0.27524621]])"
      ]
     },
     "execution_count": 483,
     "metadata": {},
     "output_type": "execute_result"
    }
   ],
   "source": [
    "xx.forward(np.random.randn(2,3))"
   ]
  },
  {
   "cell_type": "code",
   "execution_count": 484,
   "metadata": {},
   "outputs": [
    {
     "data": {
      "text/plain": [
       "array([[-0.13148143,  0.55731909, -0.13566062],\n",
       "       [-0.22497639,  0.10944083, -0.30710277]])"
      ]
     },
     "execution_count": 484,
     "metadata": {},
     "output_type": "execute_result"
    }
   ],
   "source": [
    "xx.backward(np.random.randn(2,3))"
   ]
  },
  {
   "cell_type": "code",
   "execution_count": 486,
   "metadata": {},
   "outputs": [],
   "source": [
    "## Class"
   ]
  },
  {
   "cell_type": "code",
   "execution_count": null,
   "metadata": {},
   "outputs": [],
   "source": [
    "### 내일 코드 다시 시작\n",
    "class Network:\n",
    "    def __init__(self, weight_decay):\n",
    "        self.layer = {}\n",
    "        self.weight_decay = weight_decay\n",
    "    \n",
    "    def add(self,x1,x2,activation):\n",
    "        activation_dict = {\n",
    "            \"sigmoid\" : Sigmoid,\n",
    "            \"relu\" : Relu,\n",
    "            \"softmax\" : Loss\n",
    "        }\n",
    "        w = np.random.randn(x1,x2)\n",
    "        b = np.zeros(x2)\n",
    "        activ = 'activation'+str(len(self.layers)+1)\n",
    "        Affine = 'Affine'+str(len(self.layers)+1)\n",
    "        self.layers[Affine_layer] = Affine(w,b)\n",
    "        self.layers[activation_layer] = activation_dict[activation]()\n",
    "\n",
    "    def predict(self,x):\n",
    "        length = int(len(self.layer)/3)+1\n",
    "        y = x.copy()\n",
    "        for i in range(1,length):\n",
    "            w = \"W\"+str(i)\n",
    "            b = \"b\"+str(i)\n",
    "            a = \"activation\"+str(i)\n",
    "            y = np.dot(y,self.layer[w]) + self.layer[b]\n",
    "            y = self.layer[a](y)\n",
    "        return y\n",
    "    \n",
    "    def loss(self,x,t):\n",
    "        y = self.predict(x)\n",
    "        y = softmax(y)\n",
    "        err = categorical_crossentropy(t,y) \n",
    "        self.err = err\n",
    "        return self.err\n",
    "    \n",
    "    def accuracy(self,x,t):\n",
    "        y = self.predict(x)\n",
    "        y = np.argmax(y,axis=1)\n",
    "        t = np.argmax(t,axis=1)\n",
    "        self.acc = np.sum(y==t)/t.size\n",
    "        return self.acc\n",
    "    \n",
    "    def gradient(self,x,t):\n",
    "        lr = self.lr\n",
    "        W_loss = lambda W : self.loss(x,t)\n",
    "        length = int(len(self.layer)/3)+1\n",
    "        y = x.copy()\n",
    "        for i in range(1,length):\n",
    "            w = \"W\"+str(i)\n",
    "            b = \"b\"+str(i)\n",
    "            dW = numerical_gradient(W_loss,self.layer[w])\n",
    "            db = numerical_gradient(W_loss,self.layer[b])\n",
    "            self.layer[w] -= dW*lr\n",
    "            self.layer[b] -= db*lr\n",
    "        \n",
    "    def fit(self,x,t,epochs,lr):\n",
    "        self.lr = lr\n",
    "        self.history = {}\n",
    "        loss = []\n",
    "        accuracy = []\n",
    "        for epoch in range(epochs):\n",
    "            self.gradient(x,t)\n",
    "            loss.append(self.err)\n",
    "            accuracy.append(self.accuracy(x,t))\n",
    "            if epoch % 100 == 0:\n",
    "                print(f'loss : {self.err} === accuracy : {self.accuracy(x,t)}')\n",
    "        self.history[\"loss\"] = loss\n",
    "        self.history[\"accuracy\"] = accuracy"
   ]
  },
  {
   "cell_type": "code",
   "execution_count": null,
   "metadata": {},
   "outputs": [],
   "source": []
  }
 ],
 "metadata": {
  "kernelspec": {
   "display_name": "Python 3.9.12 64-bit",
   "language": "python",
   "name": "python3"
  },
  "language_info": {
   "codemirror_mode": {
    "name": "ipython",
    "version": 3
   },
   "file_extension": ".py",
   "mimetype": "text/x-python",
   "name": "python",
   "nbconvert_exporter": "python",
   "pygments_lexer": "ipython3",
   "version": "3.9.12"
  },
  "orig_nbformat": 4,
  "vscode": {
   "interpreter": {
    "hash": "38ae1ba9371524da054e8e3fbefd778d16b5a8ac7937a3f395010f627bb73919"
   }
  }
 },
 "nbformat": 4,
 "nbformat_minor": 2
}
