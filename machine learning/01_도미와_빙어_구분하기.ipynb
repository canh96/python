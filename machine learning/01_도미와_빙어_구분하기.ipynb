{
 "cells": [
  {
   "cell_type": "markdown",
   "metadata": {},
   "source": [
    "### exe)  생선 분류하기 : 도미와 빙어 분류하기(도미 찾기)\n",
    "# - 생선을 자동으로 찾아주는 머신러닝 만들기\n",
    "\n",
    "### 생선을 분류하기 위해 필요한 특징이 될 데이터 확인하기\n",
    "# - 특징을 알면 쉽게 분류할 수 있습니다.\n",
    "# - 생선은 무게와 길이 데이터를 최초에 수집해 놓고 있습니다.\n",
    "#  - "
   ]
  },
  {
   "cell_type": "markdown",
   "metadata": {},
   "source": [
    "### 데이터 가지고 오기\n",
    "# - 도미 데이터.\n",
    "# - 도미 길이\n",
    "bream_length = \n",
    "\n",
    "# - 도미 무게\n",
    "bream_weight = \n"
   ]
  },
  {
   "cell_type": "code",
   "execution_count": 73,
   "metadata": {},
   "outputs": [],
   "source": [
    "import sklearn\n",
    "import pandas\n"
   ]
  },
  {
   "cell_type": "code",
   "execution_count": 74,
   "metadata": {},
   "outputs": [],
   "source": [
    "bream_length = [25.4, 26.3, 26.5, 29.0, 29.0, 29.7, 29.7, 30.0, \n",
    "                30.0, 30.7, 31.0, 31.0, 31.5, 32.0, 32.0, 32.0, \n",
    "                33.0, 33.0, 33.5, 33.5, 34.0, 34.0, 34.5, 35.0, \n",
    "                35.0, 35.0, 35.0, 36.0, 36.0, 37.0, 38.5, 38.5, \n",
    "                39.5, 41.0, 41.0]\n",
    "\n",
    "bream_weight = [242.0, 290.0, 340.0, 363.0, 430.0, 450.0, 500.0, \n",
    "                390.0, 450.0, 500.0, 475.0, 500.0, 500.0, 340.0, \n",
    "                600.0, 600.0, 700.0, 700.0, 610.0, 650.0, 575.0, \n",
    "                685.0, 620.0, 680.0, 700.0, 725.0, 720.0, 714.0, \n",
    "                850.0, 1000.0, 920.0, 955.0, 925.0, 975.0, 950.0]\n"
   ]
  },
  {
   "cell_type": "code",
   "execution_count": 75,
   "metadata": {},
   "outputs": [
    {
     "name": "stdout",
     "output_type": "stream",
     "text": [
      "bream_length =  [25.4, 26.3, 26.5, 29.0, 29.0, 29.7, 29.7, 30.0, 30.0, 30.7, 31.0, 31.0, 31.5, 32.0, 32.0, 32.0, 33.0, 33.0, 33.5, 33.5, 34.0, 34.0, 34.5, 35.0, 35.0, 35.0, 35.0, 36.0, 36.0, 37.0, 38.5, 38.5, 39.5, 41.0, 41.0]\n",
      "-------------------------------\n",
      "bream_weight =  [242.0, 290.0, 340.0, 363.0, 430.0, 450.0, 500.0, 390.0, 450.0, 500.0, 475.0, 500.0, 500.0, 340.0, 600.0, 600.0, 700.0, 700.0, 610.0, 650.0, 575.0, 685.0, 620.0, 680.0, 700.0, 725.0, 720.0, 714.0, 850.0, 1000.0, 920.0, 955.0, 925.0, 975.0, 950.0]\n",
      "--------------------------\n",
      "35 35\n"
     ]
    }
   ],
   "source": [
    "\n",
    "print('bream_length = ', bream_length)\n",
    "print('-------------------------------')\n",
    "print('bream_weight = ', bream_weight)\n",
    "print('--------------------------')\n",
    "print(len(bream_length), len(bream_weight))"
   ]
  },
  {
   "cell_type": "code",
   "execution_count": 76,
   "metadata": {},
   "outputs": [
    {
     "data": {
      "image/png": "[encoded data removed]",
      "text/plain": [
       "<Figure size 432x288 with 1 Axes>"
      ]
     },
     "metadata": {
      "needs_background": "light"
     },
     "output_type": "display_data"
    }
   ],
   "source": [
    "### 데이터의 특징간의 분포 확인하기...\n",
    "#  - 선형관계인지 비선형관계인지 확인하기\n",
    "import matplotlib.pyplot as plt\n",
    "\n",
    "#산점도로 표현하기(scatter(x,y)\n",
    "plt.scatter(bream_length,bream_weight,color = 'orange', alpha = 0.4, s = 50)\n",
    "plt.xlabel('length')\n",
    "plt.ylabel('weight')\n",
    "plt.show()\n"
   ]
  },
  {
   "cell_type": "code",
   "execution_count": 77,
   "metadata": {},
   "outputs": [],
   "source": [
    "#빙어 데이터\n",
    "smelt_length = [9.8, 10.5, 10.6, 11.0, 11.2, 11.3, 11.8, 11.8, 12.0, 12.2, 12.4, 13.0, 14.3, 15.0]\n",
    "smelt_weight = [6.7, 7.5, 7.0, 9.7, 9.8, 8.7, 10.0, 9.9, 9.8, 12.2, 13.4, 12.2, 19.7, 19.9]"
   ]
  },
  {
   "cell_type": "code",
   "execution_count": 78,
   "metadata": {},
   "outputs": [
    {
     "name": "stdout",
     "output_type": "stream",
     "text": [
      "smelt_length =  [9.8, 10.5, 10.6, 11.0, 11.2, 11.3, 11.8, 11.8, 12.0, 12.2, 12.4, 13.0, 14.3, 15.0]\n",
      "-------------------------------\n",
      "smelt_weight =  [6.7, 7.5, 7.0, 9.7, 9.8, 8.7, 10.0, 9.9, 9.8, 12.2, 13.4, 12.2, 19.7, 19.9]\n",
      "--------------------------\n",
      "14 14\n"
     ]
    }
   ],
   "source": [
    "\n",
    "print('smelt_length = ', smelt_length)\n",
    "print('-------------------------------')\n",
    "print('smelt_weight = ', smelt_weight)\n",
    "print('--------------------------')\n",
    "print(len(smelt_length), len(smelt_weight))"
   ]
  },
  {
   "cell_type": "code",
   "execution_count": 81,
   "metadata": {},
   "outputs": [
    {
     "data": {
      "image/png": "[encoded data removed]",
      "text/plain": [
       "<Figure size 432x288 with 1 Axes>"
      ]
     },
     "metadata": {
      "needs_background": "light"
     },
     "output_type": "display_data"
    }
   ],
   "source": [
    "#산점도로 표현하기(scatter(x,y)\n",
    "plt.scatter(smelt_length,smelt_weight,color = 'red', alpha = 0.4, s = 50)\n",
    "plt.scatter(bream_length,bream_weight,color = 'orange', alpha = 0.4, s = 50)\n",
    "plt.xlabel('length')\n",
    "plt.ylabel('weight')\n",
    "plt.show()\n",
    "\n",
    "###(해석)\n",
    "# 주황색 : 도미, 빨간색 : 빙어\n",
    "# 도미와 빙어는 길이에 비례해서 무게가 증가하는 것으로 보임\n",
    "# 다만, 빙어의 경우, 길이에 비례해서 크게 무게가 증가되지는 않는다.\n",
    "# 빙어는 무게에 비해 길이의 영향을 덜 받는것으로 보인다."
   ]
  },
  {
   "cell_type": "markdown",
   "metadata": {},
   "source": [
    "### 머신러닝 프로그래밍\n",
    "##### - 첫번째 모델...가장 간단한 모델 사용(분류와 회귀가 가능한 모델)\n",
    "##### - k-최근접 이웃(K-Nearest Neighbors, KNN)알고리즘 사용\n",
    "##### - 도미와 빙어 데이터를 통해 패턴을 찾아서 알고리즘 완성하기\n",
    "##### - 완성된 알고리즘으로 예측하기..\n",
    "##### - 위 과정을 알아서 해줍니다...<- 머신러닝"
   ]
  },
  {
   "cell_type": "code",
   "execution_count": 82,
   "metadata": {},
   "outputs": [
    {
     "name": "stdout",
     "output_type": "stream",
     "text": [
      "length =  [25.4, 26.3, 26.5, 29.0, 29.0, 29.7, 29.7, 30.0, 30.0, 30.7, 31.0, 31.0, 31.5, 32.0, 32.0, 32.0, 33.0, 33.0, 33.5, 33.5, 34.0, 34.0, 34.5, 35.0, 35.0, 35.0, 35.0, 36.0, 36.0, 37.0, 38.5, 38.5, 39.5, 41.0, 41.0, 9.8, 10.5, 10.6, 11.0, 11.2, 11.3, 11.8, 11.8, 12.0, 12.2, 12.4, 13.0, 14.3, 15.0]\n",
      "-----------------------\n",
      "weight =  [242.0, 290.0, 340.0, 363.0, 430.0, 450.0, 500.0, 390.0, 450.0, 500.0, 475.0, 500.0, 500.0, 340.0, 600.0, 600.0, 700.0, 700.0, 610.0, 650.0, 575.0, 685.0, 620.0, 680.0, 700.0, 725.0, 720.0, 714.0, 850.0, 1000.0, 920.0, 955.0, 925.0, 975.0, 950.0, 6.7, 7.5, 7.0, 9.7, 9.8, 8.7, 10.0, 9.9, 9.8, 12.2, 13.4, 12.2, 19.7, 19.9]\n"
     ]
    }
   ],
   "source": [
    "### 데이터 합치기\n",
    "#도미와 빙어의 길이는 길이끼리, 무게는 무게끼리 합쳐서\n",
    "# 하나의 데이터셋 만들기...\n",
    "\n",
    "#도미와 빙어의 길이 데이터 합치기\n",
    "length=bream_length+smelt_length\n",
    "\n",
    "#도미와 빙어의 무게 데이터 합치기\n",
    "weight=bream_weight+smelt_weight\n",
    "\n",
    "print('length = ',length)\n",
    "print('-----------------------')\n",
    "print('weight = ',weight)\n"
   ]
  },
  {
   "cell_type": "code",
   "execution_count": 83,
   "metadata": {},
   "outputs": [
    {
     "data": {
      "text/plain": [
       "25.4"
      ]
     },
     "execution_count": 83,
     "metadata": {},
     "output_type": "execute_result"
    }
   ],
   "source": [
    "length[0]"
   ]
  },
  {
   "cell_type": "code",
   "execution_count": 84,
   "metadata": {},
   "outputs": [
    {
     "data": {
      "text/plain": [
       "[[25.4, 242.0],\n",
       " [26.3, 290.0],\n",
       " [26.5, 340.0],\n",
       " [29.0, 363.0],\n",
       " [29.0, 430.0],\n",
       " [29.7, 450.0],\n",
       " [29.7, 500.0],\n",
       " [30.0, 390.0],\n",
       " [30.0, 450.0],\n",
       " [30.7, 500.0],\n",
       " [31.0, 475.0],\n",
       " [31.0, 500.0],\n",
       " [31.5, 500.0],\n",
       " [32.0, 340.0],\n",
       " [32.0, 600.0],\n",
       " [32.0, 600.0],\n",
       " [33.0, 700.0],\n",
       " [33.0, 700.0],\n",
       " [33.5, 610.0],\n",
       " [33.5, 650.0],\n",
       " [34.0, 575.0],\n",
       " [34.0, 685.0],\n",
       " [34.5, 620.0],\n",
       " [35.0, 680.0],\n",
       " [35.0, 700.0],\n",
       " [35.0, 725.0],\n",
       " [35.0, 720.0],\n",
       " [36.0, 714.0],\n",
       " [36.0, 850.0],\n",
       " [37.0, 1000.0],\n",
       " [38.5, 920.0],\n",
       " [38.5, 955.0],\n",
       " [39.5, 925.0],\n",
       " [41.0, 975.0],\n",
       " [41.0, 950.0],\n",
       " [9.8, 6.7],\n",
       " [10.5, 7.5],\n",
       " [10.6, 7.0],\n",
       " [11.0, 9.7],\n",
       " [11.2, 9.8],\n",
       " [11.3, 8.7],\n",
       " [11.8, 10.0],\n",
       " [11.8, 9.9],\n",
       " [12.0, 9.8],\n",
       " [12.2, 12.2],\n",
       " [12.4, 13.4],\n",
       " [13.0, 12.2],\n",
       " [14.3, 19.7],\n",
       " [15.0, 19.9]]"
      ]
     },
     "execution_count": 84,
     "metadata": {},
     "output_type": "execute_result"
    }
   ],
   "source": [
    "### 길이와 무게를 하나의 데이터셋으로 만들기\n",
    "# - 사이킷런 라이브러리는 2차원 데이터세트를 사용해야 합니다.\n",
    "# [[길이1,무게1], [길이2,무게2], [..], ....]\n",
    "\n",
    "fish_data=[]\n",
    "\n",
    "for i in range(len(length)):\n",
    "    fish_data.append([length[i], weight[i]])\n",
    "# len(fish_data)\n",
    "\n",
    "##  리스트 내포 프로그램 : list compre hension 이라고 합니다.\n",
    "# zip() : 각각의 리스트 안에서 각 인덱스의 쌍을 반환해 줍니다.\n",
    "fish_data = [[leng,wei] for leng,wei in zip(length, weight)]\n",
    "fish_data"
   ]
  },
  {
   "cell_type": "code",
   "execution_count": 85,
   "metadata": {},
   "outputs": [],
   "source": [
    "### 정답 데이터세트 만들기 (종속 변수 y)\n",
    "# - 정답 변수는 1차원 리스트로 별도로 만들어야 함\n",
    "# - 정답 변수의 갯수는 독립변수의 갯수와 동일해야 합니다.\n",
    "# - 도미 : 1로, 빙어 : 0으로  "
   ]
  },
  {
   "cell_type": "code",
   "execution_count": 86,
   "metadata": {},
   "outputs": [],
   "source": [
    "### 정답 변수 생성하기\n",
    "# 변수명 : fish_target\n",
    "# 형태 : 1차원\n",
    "# 예시 : [1,1,1,...0,0,0]"
   ]
  },
  {
   "cell_type": "code",
   "execution_count": 149,
   "metadata": {},
   "outputs": [],
   "source": [
    "fish_target = [1] * 35 + [0] * 14\n"
   ]
  },
  {
   "cell_type": "markdown",
   "metadata": {},
   "source": [
    "### 머신러닝 시작하기\n",
    "# 알고리즘 : k-최근접 이웃 알고리즘(knn)\n",
    "# 사용 패키지 : sklearn\n",
    "# 사용 클래스(모델) : KNeighborsClassifier"
   ]
  },
  {
   "cell_type": "code",
   "execution_count": 88,
   "metadata": {},
   "outputs": [],
   "source": [
    "from sklearn.neighbors import KNeighborsClassifier"
   ]
  },
  {
   "cell_type": "code",
   "execution_count": 89,
   "metadata": {},
   "outputs": [
    {
     "data": {
      "text/plain": [
       "KNeighborsClassifier()"
      ]
     },
     "execution_count": 89,
     "metadata": {},
     "output_type": "execute_result"
    }
   ],
   "source": [
    "## class 객체 생성하기 : 주소 받아오기\n",
    "# 객체 변수 : kn\n",
    "# class  생성자 호출\n",
    "kn = KNeighborsClassifier()\n",
    "kn"
   ]
  },
  {
   "cell_type": "code",
   "execution_count": 90,
   "metadata": {},
   "outputs": [
    {
     "data": {
      "text/plain": [
       "KNeighborsClassifier()"
      ]
     },
     "execution_count": 90,
     "metadata": {},
     "output_type": "execute_result"
    }
   ],
   "source": [
    "### 모델 학습하기(훈련-training)\n",
    "# 훈련모델 생성하기 : fit(독립변수 데이터세트,. 종속변수 데이터세트)\n",
    "# - 학습모델 또는 훈련모델이라고 명칭합니다.\n",
    "# - 독립변수 즉 훈련데이터세트를 훈련 시킨다고 합니다.\n",
    "# - 사용되는 훈련데이터 변수명 : train_x or train_data, \n",
    "#            정답데이터 변수명 : train_target or train_x\n",
    "# - 사용되는 테스트데이터 변수명 : test_data, test_x\n",
    "kn.fit(fish_data, fish_target)\n",
    "\n"
   ]
  },
  {
   "cell_type": "code",
   "execution_count": 91,
   "metadata": {},
   "outputs": [
    {
     "data": {
      "text/plain": [
       "1.0"
      ]
     },
     "execution_count": 91,
     "metadata": {},
     "output_type": "execute_result"
    }
   ],
   "source": [
    "# 훈련모델 평가하기\n",
    "# 훈련 잘 했는지 점수로 나타냅니다.\n",
    "# 결과값을 보통 '정확도'라고 합니다.\n",
    "\n",
    "#score 내부 실행 순서\n",
    "#predict() 예측 수행\n",
    "#정확도 계싼 값 반환\n",
    "# -정확도 = 정답갯수 / 전체갯수\n",
    "# 결과값은 0~1 사이의 실수값 또는 정수값\n",
    "#1이면 100% , 0%이면 0%, 0.5면 50%..\n",
    "#1에 가까울 수록 정확도가 높다,\n",
    "#다른 모델에서는 정확도를 accuracy 라는 이름으로 조회도 됩니다.\n",
    "\n",
    "kn.score(fish_data, fish_target)"
   ]
  },
  {
   "cell_type": "markdown",
   "metadata": {},
   "source": [
    "### k-최근접 이웃 알고리즘 정리\n",
    "##### - 어떤 데이터에 대한 답을 구할 떄, 주위의 다른 데이터를 보고,\n",
    "##### - 다수를 차지하는 쪽으로 정답을 예측합니다\n",
    "##### = 주위의 데이터로 현재 예측 데이터를 판단..."
   ]
  },
  {
   "cell_type": "code",
   "execution_count": 92,
   "metadata": {},
   "outputs": [
    {
     "data": {
      "image/png": "[encoded data removed]",
      "text/plain": [
       "<Figure size 432x288 with 1 Axes>"
      ]
     },
     "metadata": {
      "needs_background": "light"
     },
     "output_type": "display_data"
    }
   ],
   "source": [
    "plt.scatter(smelt_length,smelt_weight,color = 'red', alpha = 0.4, s = 50)\n",
    "plt.scatter(bream_length,bream_weight,color = 'orange', alpha = 0.4, s = 50)\n",
    "#새로운 스케터\n",
    "plt.scatter(30,600, marker='^')\n",
    "plt.xlabel('length')\n",
    "plt.ylabel('weight')\n",
    "plt.show()\n"
   ]
  },
  {
   "cell_type": "code",
   "execution_count": 100,
   "metadata": {},
   "outputs": [
    {
     "data": {
      "text/plain": [
       "array([1])"
      ]
     },
     "execution_count": 100,
     "metadata": {},
     "output_type": "execute_result"
    }
   ],
   "source": [
    "### 새로운 데이터 예측하기 : predict() 함수 사용\n",
    "# predict() 함수에 사용되는 값은 새로운 독립변수의 값을 사용\n",
    "# - 사용되는 값은 1개\n",
    "# - 사용된 값에 대한 예측값(정답)을 알려줍니다.\n",
    "\n",
    "kn.predict([[30,600]])"
   ]
  },
  {
   "cell_type": "code",
   "execution_count": null,
   "metadata": {},
   "outputs": [],
   "source": [
    "### knn 알고리즘을 위해서는, 데이터만 잘 준비해서 저장해 두면 끝~~~\n",
    "# 클래스(모델) 내부의 멤버 변수에 전체 데이터가 저장되어 있습니다.\n",
    "# -전체 데이터 =  독립변수, 종속변수 각각 변수에 저장..\n",
    "# -예측 할 독립변수를 넣어주면, 모델이 가지고 있는 전체 데이터에서\n",
    "#  가장 가까운 거리의 데이터가 속한 종속변수의 값을 알려 주는 방식...\n",
    "\n",
    "# (단점) 데이터가 많은 경우 cpu, ram 사양이 좋아야 합니다.\n"
   ]
  },
  {
   "cell_type": "code",
   "execution_count": 102,
   "metadata": {},
   "outputs": [
    {
     "data": {
      "text/plain": [
       "array([1, 1, 1, 1, 1, 1, 1, 1, 1, 1, 1, 1, 1, 1, 1, 1, 1, 1, 1, 1, 1, 1,\n",
       "       1, 1, 1, 1, 1, 1, 1, 1, 1, 1, 1, 1, 1, 0, 0, 0, 0, 0, 0, 0, 0, 0,\n",
       "       0, 0, 0, 0, 0])"
      ]
     },
     "execution_count": 102,
     "metadata": {},
     "output_type": "execute_result"
    }
   ],
   "source": [
    "# 모델 안에 훈련데이터 있는지 확인\n",
    "# 클래스 내부에 _fit_x 라는 멤버 변수가 있습니다.\n",
    "\n",
    "#모델이 가지고 있는 훈련데이터\n",
    "kn._fit_X\n",
    "\n",
    "# 모델이 가지고 있는 정답 데이터\n",
    "kn._y"
   ]
  },
  {
   "cell_type": "code",
   "execution_count": 103,
   "metadata": {},
   "outputs": [],
   "source": [
    "### 최근접 이웃은 몇개를 기준으로??\n",
    "# 기본값은 5\n",
    "# 예측을 위해 사용된 데이터의 근거리 5개를 기준으로 기본적으로 가장 가까운\n",
    "# 직선거리의 데이터가 속한 종속변수의 값을 알려줍니다.\n",
    "# n-neighbors = 5라고 정의 합니다.\n",
    "# 클래스(모델) 생성시에 기준갯수를 지정합니다.\n",
    "# 지정된 갯수를 이용해서 훈련을 하고, 예측합니다."
   ]
  },
  {
   "cell_type": "code",
   "execution_count": 150,
   "metadata": {},
   "outputs": [
    {
     "data": {
      "text/plain": [
       "KNeighborsClassifier(n_neighbors=49)"
      ]
     },
     "execution_count": 150,
     "metadata": {},
     "output_type": "execute_result"
    }
   ],
   "source": [
    "### 이웃의 갯수 20개를 기준갯수로 정한 후 훈련 및 예측해 보기\n",
    "kn20 = KNeighborsClassifier(n_neighbors = 49) \n",
    "kn20"
   ]
  },
  {
   "cell_type": "code",
   "execution_count": 151,
   "metadata": {},
   "outputs": [
    {
     "data": {
      "text/plain": [
       "KNeighborsClassifier(n_neighbors=49)"
      ]
     },
     "execution_count": 151,
     "metadata": {},
     "output_type": "execute_result"
    }
   ],
   "source": [
    "kn20.fit(fish_data, fish_target)"
   ]
  },
  {
   "cell_type": "code",
   "execution_count": 152,
   "metadata": {},
   "outputs": [
    {
     "data": {
      "text/plain": [
       "0.7142857142857143"
      ]
     },
     "execution_count": 152,
     "metadata": {},
     "output_type": "execute_result"
    }
   ],
   "source": [
    "#도미값이 35개 71%를 뜻함\n",
    "kn20.score(fish_data, fish_target)"
   ]
  },
  {
   "cell_type": "code",
   "execution_count": 146,
   "metadata": {},
   "outputs": [
    {
     "name": "stdout",
     "output_type": "stream",
     "text": [
      "nCnt =  17\n"
     ]
    }
   ],
   "source": [
    "# 몇 번째 까지 가장 높은 값인지 알아낼수 있음\n",
    "kn = KNeighborsClassifier()\n",
    "kn.fit(fish_data, fish_target)\n",
    "kn.score(fish_data, fish_target)\n",
    "\n",
    "nCnt = 0\n",
    "for n in range(1, len(fish_data)):\n",
    "    kn.n_neighbors = n\n",
    "    score = kn.score(fish_data, fish_target)\n",
    "    if score <1:\n",
    "        nCnt = n -1\n",
    "        print('nCnt = ' ,nCnt)\n",
    "        break"
   ]
  },
  {
   "cell_type": "code",
   "execution_count": 148,
   "metadata": {},
   "outputs": [
    {
     "data": {
      "text/plain": [
       "1.0"
      ]
     },
     "execution_count": 148,
     "metadata": {},
     "output_type": "execute_result"
    }
   ],
   "source": [
    "kn = KNeighborsClassifier(n_neighbors=nCnt)\n",
    "kn.fit(fish_data, fish_target)\n",
    "kn.score(fish_data, fish_target)"
   ]
  },
  {
   "cell_type": "code",
   "execution_count": null,
   "metadata": {},
   "outputs": [],
   "source": [
    "#[문제]\n",
    "# 가장 적합한 n_neighbors 갯수 찾기\n",
    "# 1보다 작아지기 전까지의 갯수의 값을 찾으시면 됩니다."
   ]
  }
 ],
 "metadata": {
  "kernelspec": {
   "display_name": "ml_kernel",
   "language": "python",
   "name": "django"
  },
  "language_info": {
   "codemirror_mode": {
    "name": "ipython",
    "version": 3
   },
   "file_extension": ".py",
   "mimetype": "text/x-python",
   "name": "python",
   "nbconvert_exporter": "python",
   "pygments_lexer": "ipython3",
   "version": "3.9.12"
  },
  "orig_nbformat": 4,
  "vscode": {
   "interpreter": {
    "hash": "610a6f344c2137faf927ea819c63f6cee33a2c04455044b28099f39fe9722347"
   }
  }
 },
 "nbformat": 4,
 "nbformat_minor": 2
}
