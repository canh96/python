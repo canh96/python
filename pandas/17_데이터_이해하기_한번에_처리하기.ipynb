{
 "cells": [
  {
   "cell_type": "code",
   "execution_count": 1,
   "metadata": {},
   "outputs": [],
   "source": [
    "import pandas as pd"
   ]
  },
  {
   "cell_type": "code",
   "execution_count": 9,
   "metadata": {},
   "outputs": [
    {
     "ename": "KeyError",
     "evalue": "'20'",
     "output_type": "error",
     "traceback": [
      "\u001b[1;31m---------------------------------------------------------------------------\u001b[0m",
      "\u001b[1;31mKeyError\u001b[0m                                  Traceback (most recent call last)",
      "\u001b[1;32mc:\\STUDY\\StudyPython22\\new_jupyter\\days6_심평원데이터분석\\2_데이터_이해하기_한번에_처리하기.ipynb Cell 2'\u001b[0m in \u001b[0;36m<cell line: 10>\u001b[1;34m()\u001b[0m\n\u001b[0;32m     <a href='vscode-notebook-cell:/c%3A/STUDY/StudyPython22/new_jupyter/days6_%EC%8B%AC%ED%8F%89%EC%9B%90%EB%8D%B0%EC%9D%B4%ED%84%B0%EB%B6%84%EC%84%9D/2_%EB%8D%B0%EC%9D%B4%ED%84%B0_%EC%9D%B4%ED%95%B4%ED%95%98%EA%B8%B0_%ED%95%9C%EB%B2%88%EC%97%90_%EC%B2%98%EB%A6%AC%ED%95%98%EA%B8%B0.ipynb#ch0000001?line=11'>12</a>\u001b[0m pd\u001b[39m.\u001b[39mread_excel(file_path, sheet_name\u001b[39m=\u001b[39msheet_list[i],usecols \u001b[39m=\u001b[39m \u001b[39m'\u001b[39m\u001b[39mA,D\u001b[39m\u001b[39m'\u001b[39m)\n\u001b[0;32m     <a href='vscode-notebook-cell:/c%3A/STUDY/StudyPython22/new_jupyter/days6_%EC%8B%AC%ED%8F%89%EC%9B%90%EB%8D%B0%EC%9D%B4%ED%84%B0%EB%B6%84%EC%84%9D/2_%EB%8D%B0%EC%9D%B4%ED%84%B0_%EC%9D%B4%ED%95%B4%ED%95%98%EA%B8%B0_%ED%95%9C%EB%B2%88%EC%97%90_%EC%B2%98%EB%A6%AC%ED%95%98%EA%B8%B0.ipynb#ch0000001?line=13'>14</a>\u001b[0m new_dict \u001b[39m=\u001b[39m {}\n\u001b[1;32m---> <a href='vscode-notebook-cell:/c%3A/STUDY/StudyPython22/new_jupyter/days6_%EC%8B%AC%ED%8F%89%EC%9B%90%EB%8D%B0%EC%9D%B4%ED%84%B0%EB%B6%84%EC%84%9D/2_%EB%8D%B0%EC%9D%B4%ED%84%B0_%EC%9D%B4%ED%95%B4%ED%95%98%EA%B8%B0_%ED%95%9C%EB%B2%88%EC%97%90_%EC%B2%98%EB%A6%AC%ED%95%98%EA%B8%B0.ipynb#ch0000001?line=15'>16</a>\u001b[0m \u001b[39mfor\u001b[39;00m j \u001b[39min\u001b[39;00m \u001b[39mrange\u001b[39m(\u001b[39m0\u001b[39m, \u001b[39mlen\u001b[39m(df_col_dict[nm_list[i]])):\n\u001b[0;32m     <a href='vscode-notebook-cell:/c%3A/STUDY/StudyPython22/new_jupyter/days6_%EC%8B%AC%ED%8F%89%EC%9B%90%EB%8D%B0%EC%9D%B4%ED%84%B0%EB%B6%84%EC%84%9D/2_%EB%8D%B0%EC%9D%B4%ED%84%B0_%EC%9D%B4%ED%95%B4%ED%95%98%EA%B8%B0_%ED%95%9C%EB%B2%88%EC%97%90_%EC%B2%98%EB%A6%AC%ED%95%98%EA%B8%B0.ipynb#ch0000001?line=16'>17</a>\u001b[0m     new_dict[df_col_dict[nm_list[i]]\u001b[39m.\u001b[39mto_dict(\u001b[39m'\u001b[39m\u001b[39mrecords\u001b[39m\u001b[39m'\u001b[39m)[j][\u001b[39m'\u001b[39m\u001b[39m변수명\u001b[39m\u001b[39m'\u001b[39m]] \u001b[39m=\u001b[39m \\\n\u001b[0;32m     <a href='vscode-notebook-cell:/c%3A/STUDY/StudyPython22/new_jupyter/days6_%EC%8B%AC%ED%8F%89%EC%9B%90%EB%8D%B0%EC%9D%B4%ED%84%B0%EB%B6%84%EC%84%9D/2_%EB%8D%B0%EC%9D%B4%ED%84%B0_%EC%9D%B4%ED%95%B4%ED%95%98%EA%B8%B0_%ED%95%9C%EB%B2%88%EC%97%90_%EC%B2%98%EB%A6%AC%ED%95%98%EA%B8%B0.ipynb#ch0000001?line=17'>18</a>\u001b[0m     df_col_dict[nm_list[i]]\u001b[39m.\u001b[39mto_dict(\u001b[39m'\u001b[39m\u001b[39mrecords\u001b[39m\u001b[39m'\u001b[39m)[j][\u001b[39m'\u001b[39m\u001b[39m표준한글컬럼명\u001b[39m\u001b[39m'\u001b[39m]\n\u001b[0;32m     <a href='vscode-notebook-cell:/c%3A/STUDY/StudyPython22/new_jupyter/days6_%EC%8B%AC%ED%8F%89%EC%9B%90%EB%8D%B0%EC%9D%B4%ED%84%B0%EB%B6%84%EC%84%9D/2_%EB%8D%B0%EC%9D%B4%ED%84%B0_%EC%9D%B4%ED%95%B4%ED%95%98%EA%B8%B0_%ED%95%9C%EB%B2%88%EC%97%90_%EC%B2%98%EB%A6%AC%ED%95%98%EA%B8%B0.ipynb#ch0000001?line=19'>20</a>\u001b[0m     df_col_dict[nm_list[i]]\u001b[39m.\u001b[39mrename(columns \u001b[39m=\u001b[39m new_dict)\u001b[39m.\u001b[39mto_excel(\n\u001b[0;32m     <a href='vscode-notebook-cell:/c%3A/STUDY/StudyPython22/new_jupyter/days6_%EC%8B%AC%ED%8F%89%EC%9B%90%EB%8D%B0%EC%9D%B4%ED%84%B0%EB%B6%84%EC%84%9D/2_%EB%8D%B0%EC%9D%B4%ED%84%B0_%EC%9D%B4%ED%95%B4%ED%95%98%EA%B8%B0_%ED%95%9C%EB%B2%88%EC%97%90_%EC%B2%98%EB%A6%AC%ED%95%98%EA%B8%B0.ipynb#ch0000001?line=20'>21</a>\u001b[0m     \u001b[39m'\u001b[39m\u001b[39m./files_new2/df_kor_\u001b[39m\u001b[39m{}\u001b[39;00m\u001b[39m.xlsx\u001b[39m\u001b[39m'\u001b[39m\u001b[39m.\u001b[39mformat(sheet_list[i]),\n\u001b[0;32m     <a href='vscode-notebook-cell:/c%3A/STUDY/StudyPython22/new_jupyter/days6_%EC%8B%AC%ED%8F%89%EC%9B%90%EB%8D%B0%EC%9D%B4%ED%84%B0%EB%B6%84%EC%84%9D/2_%EB%8D%B0%EC%9D%B4%ED%84%B0_%EC%9D%B4%ED%95%B4%ED%95%98%EA%B8%B0_%ED%95%9C%EB%B2%88%EC%97%90_%EC%B2%98%EB%A6%AC%ED%95%98%EA%B8%B0.ipynb#ch0000001?line=21'>22</a>\u001b[0m      index\u001b[39m=\u001b[39m\u001b[39mFalse\u001b[39;00m)\n",
      "\u001b[1;31mKeyError\u001b[0m: '20'"
     ]
    }
   ],
   "source": [
    "nm_list = ['20','30','40','53']\n",
    "sheet_list = ['20table_명세서일반내역','30table_진료내역','40table_상병','53table_처방전상세내역']\n",
    "\n",
    "file_path = './files_org/표본자료 변수 테이블(2012-2013).xlsx'\n",
    "\n",
    "df_dict={}\n",
    "\n",
    "df_col_dict = {}\n",
    "\n",
    "for i in range(0, len(nm_list)):\n",
    "    df_dict[nm_list[i]] = pd.read_csv('./files_org/SAMPLE_DB_{}TABLE_2013.txt'.format(nm_list[i]),sep=',')\n",
    "    pd.read_excel(file_path, sheet_name=sheet_list[i],usecols = 'A,D')\n",
    "\n",
    "    new_dict = {}\n",
    "\n",
    "    for j in range(0, len(df_col_dict[nm_list[i]])):\n",
    "        new_dict[df_col_dict[nm_list[i]].to_dict('records')[j]['변수명']] = \\\n",
    "        df_col_dict[nm_list[i]].to_dict('records')[j]['표준한글컬럼명']\n",
    "\n",
    "        df_col_dict[nm_list[i]].rename(columns = new_dict).to_excel(\n",
    "        './files_new2/df_kor_{}.xlsx'.format(sheet_list[i]),\n",
    "         index=False)\n",
    "    "
   ]
  }
 ],
 "metadata": {
  "kernelspec": {
   "display_name": "Python 3.9.12 ('base')",
   "language": "python",
   "name": "python3"
  },
  "language_info": {
   "codemirror_mode": {
    "name": "ipython",
    "version": 3
   },
   "file_extension": ".py",
   "mimetype": "text/x-python",
   "name": "python",
   "nbconvert_exporter": "python",
   "pygments_lexer": "ipython3",
   "version": "3.9.12"
  },
  "orig_nbformat": 4,
  "vscode": {
   "interpreter": {
    "hash": "610a6f344c2137faf927ea819c63f6cee33a2c04455044b28099f39fe9722347"
   }
  }
 },
 "nbformat": 4,
 "nbformat_minor": 2
}
