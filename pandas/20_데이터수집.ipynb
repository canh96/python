{
 "cells": [
  {
   "cell_type": "code",
   "execution_count": null,
   "metadata": {},
   "outputs": [],
   "source": [
    "# css/\n",
    "#  json\n",
    "# xml html태그 방식과 비슷함\n",
    "# 웹크롤링 = 페이지 찾아가서 페이지를 연다음 긁어오기    (태그 규칙/ css규칙) -양이 적으면  xsls로 저장 - 양이 많으면 csv, 문서 여는데 메모장이 제일 좋음 \n",
    "# open ai(api)= 서로가 허락해줘야함 -  항상 정의된 문서가 있음 -규칙을 가지고 함"
   ]
  },
  {
   "cell_type": "code",
   "execution_count": 1,
   "metadata": {},
   "outputs": [],
   "source": [
    "import pandas as pd"
   ]
  },
  {
   "cell_type": "code",
   "execution_count": 20,
   "metadata": {},
   "outputs": [],
   "source": [
    "pile_path = './data/bicycle.csv'\n",
    "df1 = pd.read_csv(pile_path,encoding='euc-kr')"
   ]
  },
  {
   "cell_type": "code",
   "execution_count": 12,
   "metadata": {},
   "outputs": [],
   "source": [
    "pile_path_2 = './data/bicycle.xlsx'\n",
    "df2 =pd.read_excel(pile_path_2)"
   ]
  },
  {
   "cell_type": "code",
   "execution_count": 16,
   "metadata": {},
   "outputs": [],
   "source": [
    "pile_path_3 = './data/read.json'  #json은 무조건 딕셔너리로 되어있음  데이터 파일임\n",
    "df3  = pd.read_json(pile_path_3)"
   ]
  },
  {
   "cell_type": "code",
   "execution_count": 29,
   "metadata": {},
   "outputs": [
    {
     "data": {
      "text/plain": [
       "0    {'Classes': ['Probability', 'Generalized Linea...\n",
       "1    {'Classes': ['Data Structure', 'Programming', ...\n",
       "Name: 5.Courses, dtype: object"
      ]
     },
     "execution_count": 29,
     "metadata": {},
     "output_type": "execute_result"
    }
   ],
   "source": [
    "df3['5.Courses']"
   ]
  },
  {
   "cell_type": "code",
   "execution_count": 26,
   "metadata": {},
   "outputs": [],
   "source": [
    "df1.to_csv('./data2/sample_data.csv')"
   ]
  },
  {
   "cell_type": "code",
   "execution_count": 27,
   "metadata": {},
   "outputs": [],
   "source": [
    "df2.to_excel('./data2/sample_data_2.xlsx')"
   ]
  },
  {
   "cell_type": "code",
   "execution_count": 28,
   "metadata": {},
   "outputs": [],
   "source": [
    "df3.to_json('data2/sample_data_3.json')  #저장하면 딕셔너리 형식으로 만들어버림 json은 딕셔너리 포맷임"
   ]
  },
  {
   "cell_type": "code",
   "execution_count": 53,
   "metadata": {},
   "outputs": [
    {
     "name": "stdout",
     "output_type": "stream",
     "text": [
      "b'<?xml version=\"1.0\" encoding=\"UTF-8\" standalone=\"yes\"?><response><header><resultCode>00</resultCode><resultMsg>NORMAL SERVICE.</resultMsg></header><body><items><item><addr>\\xec\\x84\\x9c\\xec\\x9a\\xb8\\xed\\x8a\\xb9\\xeb\\xb3\\x84\\xec\\x8b\\x9c \\xec\\xa4\\x91\\xeb\\x9e\\x91\\xea\\xb5\\xac \\xeb\\xb4\\x89\\xed\\x99\\x94\\xec\\x82\\xb0\\xeb\\xa1\\x9c 215 1\\xec\\xb8\\xb5 (\\xec\\x8b\\xa0\\xeb\\x82\\xb4\\xeb\\x8f\\x99)</addr><clCd>81</clCd><clCdNm>\\xec\\x95\\xbd\\xea\\xb5\\xad</clCdNm><distance>.5478450769582605437588497466708942455</distance><emdongNm>\\xec\\x8b\\xa0\\xeb\\x82\\xb4\\xeb\\x8f\\x99</emdongNm><estbDd>20001222</estbDd><postNo>02054</postNo><sgguCd>110019</sgguCd><sgguCdNm>\\xec\\xa4\\x91\\xeb\\x9e\\x91\\xea\\xb5\\xac</sgguCdNm><sidoCd>110000</sidoCd><sidoCdNm>\\xec\\x84\\x9c\\xec\\x9a\\xb8</sidoCdNm><telno>02-3422-3097</telno><XPos>127.0965492</XPos><YPos>37.6076585</YPos><yadmNm>\\xec\\x98\\xa8\\xeb\\x88\\x84\\xeb\\xa6\\xac\\xea\\xb1\\xb4\\xea\\xb0\\x95\\xec\\x95\\xbd\\xea\\xb5\\xad</yadmNm><ykiho>JDQ4MTg4MSM1MSMkMSMkNCMkMDMkMzgxOTYxIzExIyQxIyQ3IyQ4MiQyNjEyMjIjODEjJDEjJDYjJDgz</ykiho></item><item><addr>\\xec\\x84\\x9c\\xec\\x9a\\xb8\\xed\\x8a\\xb9\\xeb\\xb3\\x84\\xec\\x8b\\x9c \\xec\\xa4\\x91\\xeb\\x9e\\x91\\xea\\xb5\\xac \\xec\\x8b\\xa0\\xeb\\x82\\xb4\\xeb\\xa1\\x9c 211 212\\xed\\x98\\xb8 (\\xec\\x8b\\xa0\\xeb\\x82\\xb4\\xeb\\x8f\\x99, \\xea\\xb8\\x88\\xea\\xb0\\x95\\xeb\\xa6\\xac\\xeb\\xb9\\x99\\xec\\x8a\\xa4\\xed\\x85\\x94)</addr><clCd>81</clCd><clCdNm>\\xec\\x95\\xbd\\xea\\xb5\\xad</clCdNm><distance>1035.1855820788666820304486290002772234</distance><emdongNm>\\xec\\x8b\\xa0\\xeb\\x82\\xb4\\xeb\\x8f\\x99</emdongNm><estbDd>20140630</estbDd><postNo>02024</postNo><sgguCd>110019</sgguCd><sgguCdNm>\\xec\\xa4\\x91\\xeb\\x9e\\x91\\xea\\xb5\\xac</sgguCdNm><sidoCd>110000</sidoCd><sidoCdNm>\\xec\\x84\\x9c\\xec\\x9a\\xb8</sidoCdNm><telno>02-6743-4262</telno><XPos>127.0926492</XPos><YPos>37.6164445</YPos><yadmNm>\\xec\\x86\\xa1\\xec\\x9d\\xb4\\xec\\x98\\xa8\\xeb\\x88\\x84\\xeb\\xa6\\xac\\xec\\x95\\xbd\\xea\\xb5\\xad</yadmNm><ykiho>JDQ4MTg4MSM1MSMkMSMkNCMkMDMkMzgxOTYxIzIxIyQxIyQ5IyQ4OSQyNjE0ODEjNjEjJDEjJDQjJDgz</ykiho></item></items><numOfRows>10</numOfRows><pageNo>1</pageNo><totalCount>2</totalCount></body></response>'\n"
     ]
    }
   ],
   "source": [
    "#api\n",
    "import requests\n",
    "from bs4 import BeautifulSoup as bs\n",
    "import pandas as pd\n",
    "\n",
    "url = 'http://apis.data.go.kr/B551182/pharmacyInfoService/getParmacyBasisList'\n",
    "params ={'serviceKey' : '6nUHTYGhlDvu63VljyaHdyJ8xsQpwx4eLrr8xqFhG8j5Dniin7EIJEE6q5KoHyMi81fGbnZngJGJFraGewkAzA%3D%3D',\n",
    "     'pageNo' : '1',\n",
    "      'numOfRows' : '10',\n",
    "       'sidoCd' : '110000', 'sgguCd' :\n",
    "        '110019', 'emdongNm' : '신내동',\n",
    "         'yadmNm' : '온누리건강',\n",
    "          'xPos' : '127.0965441345503',\n",
    "           'yPos' : '37.60765568913871',\n",
    "            'radius' : '3000' }\n",
    "\n",
    "url= 'http://apis.data.go.kr/B551182/pharmacyInfoService/getParmacyBasisList?pageNo=1&numOfRows=10&sidoCd=110000&sgguCd=110019&emdongNm=신내동&yadmNm=온누리&xPos=127.0965441345503&yPos=37.60765568913871&radius=3000&ServiceKey=6nUHTYGhlDvu63VljyaHdyJ8xsQpwx4eLrr8xqFhG8j5Dniin7EIJEE6q5KoHyMi81fGbnZngJGJFraGewkAzA%3D%3D'\n",
    "response = requests.get(url)\n",
    "print(response.content)"
   ]
  },
  {
   "cell_type": "code",
   "execution_count": null,
   "metadata": {},
   "outputs": [],
   "source": [
    "import requests\n",
    "\n",
    "apikey = '6nUHTYGhlDvu63VljyaHdyJ8xsQpwx4eLrr8xqFhG8j5Dniin7EIJEE6q5KoHyMi81fGbnZngJGJFraGewkAzA%3D%3D'\n",
    "\n",
    "api ='http://openapi.data.go.kr/openapi/service/rest/Covid19/getCovid19GenAgeCaseInfJson?serviceKey={key}&pageNo=1&numOfRows=10&startCreateDt=20200310&endCreateDt=20200414'\n",
    "\n",
    "url = api.format(key=apikey)\n",
    "\n",
    "response = requests.get(url)\n",
    "print(response.content)"
   ]
  },
  {
   "cell_type": "code",
   "execution_count": 125,
   "metadata": {},
   "outputs": [
    {
     "name": "stdout",
     "output_type": "stream",
     "text": [
      "<?xml version=\"1.0\" encoding=\"UTF-8\" standalone=\"yes\"?><response><header><resultCode>00</resultCode><resultMsg>NORMAL SERVICE.</resultMsg></header><body><items><item><addr>서울특별시 중랑구 봉화산로 215 1층 (신내동)</addr><clCd>81</clCd><clCdNm>약국</clCdNm><distance>.5478450769582605437588497466708942455</distance><emdongNm>신내동</emdongNm><estbDd>20001222</estbDd><postNo>02054</postNo><sgguCd>110019</sgguCd><sgguCdNm>중랑구</sgguCdNm><sidoCd>110000</sidoCd><sidoCdNm>서울</sidoCdNm><telno>02-3422-3097</telno><XPos>127.0965492</XPos><YPos>37.6076585</YPos><yadmNm>온누리건강약국</yadmNm><ykiho>JDQ4MTg4MSM1MSMkMSMkNCMkMDMkMzgxOTYxIzExIyQxIyQ3IyQ4MiQyNjEyMjIjODEjJDEjJDYjJDgz</ykiho></item><item><addr>서울특별시 중랑구 신내로 211 212호 (신내동, 금강리빙스텔)</addr><clCd>81</clCd><clCdNm>약국</clCdNm><distance>1035.1855820788666820304486290002772234</distance><emdongNm>신내동</emdongNm><estbDd>20140630</estbDd><postNo>02024</postNo><sgguCd>110019</sgguCd><sgguCdNm>중랑구</sgguCdNm><sidoCd>110000</sidoCd><sidoCdNm>서울</sidoCdNm><telno>02-6743-4262</telno><XPos>127.0926492</XPos><YPos>37.6164445</YPos><yadmNm>송이온누리약국</yadmNm><ykiho>JDQ4MTg4MSM1MSMkMSMkNCMkMDMkMzgxOTYxIzIxIyQxIyQ5IyQ4OSQyNjE0ODEjNjEjJDEjJDQjJDgz</ykiho></item></items><numOfRows>10</numOfRows><pageNo>1</pageNo><totalCount>2</totalCount></body></response>\n"
     ]
    }
   ],
   "source": [
    "#api\n",
    "import requests\n",
    "\n",
    "apikey = '6nUHTYGhlDvu63VljyaHdyJ8xsQpwx4eLrr8xqFhG8j5Dniin7EIJEE6q5KoHyMi81fGbnZngJGJFraGewkAzA%3D%3D'\n",
    "\n",
    "pageNo = 1\n",
    "numOfRows = 10\n",
    "sidoCd=110000\n",
    "sgguCd=110019\n",
    "emdongNm='신내동'\n",
    "yadmNm='온누리'\n",
    "xPos=127.0965441345503\n",
    "yPos=37.60765568913871\n",
    "radius=3000\n",
    "\n",
    "\n",
    "api= 'http://apis.data.go.kr/B551182/pharmacyInfoService/getParmacyBasisList?pageNo={no}&numOfRows={row}&sidoCd={sido}&sgguCd={sigu}&emdongNm={dong}&yadmNm={yanm}&xPos={x}&yPos={y}&radius={r}&ServiceKey={key}'\n",
    "\n",
    "url = api.format(no=pageNo,\n",
    "                  row=numOfRows,\n",
    "                  sido=sidoCd,\n",
    "                  sigu=sgguCd,\n",
    "                  dong=emdongNm,yanm=yadmNm ,\n",
    "                  x=xPos,\n",
    "                  y=yPos,\n",
    "                  r=radius,\n",
    "                  key=apikey)\n",
    "# requses =요청, response =응답\n",
    "response = requests.get(url)\n",
    "print(response.text)"
   ]
  },
  {
   "cell_type": "code",
   "execution_count": 37,
   "metadata": {},
   "outputs": [],
   "source": [
    "from bs4 import BeautifulSoup\n",
    "import requests"
   ]
  },
  {
   "cell_type": "code",
   "execution_count": 126,
   "metadata": {},
   "outputs": [
    {
     "name": "stderr",
     "output_type": "stream",
     "text": [
      "c:\\Users\\admin\\anaconda3\\lib\\site-packages\\bs4\\builder\\__init__.py:545: XMLParsedAsHTMLWarning: It looks like you're parsing an XML document using an HTML parser. If this really is an HTML document (maybe it's XHTML?), you can ignore or filter this warning. If it's XML, you should know that using an XML parser will be more reliable. To parse this document as XML, make sure you have the lxml package installed, and pass the keyword argument `features=\"xml\"` into the BeautifulSoup constructor.\n",
      "  warnings.warn(\n"
     ]
    },
    {
     "data": {
      "text/plain": [
       "'서울특별시 중랑구 봉화산로 215 1층 (신내동)'"
      ]
     },
     "execution_count": 126,
     "metadata": {},
     "output_type": "execute_result"
    }
   ],
   "source": [
    "re = response.text\n",
    "soup = BeautifulSoup(re,\"html.parser\")\n",
    "addr_list = soup.find_all('addr')\n",
    "telno_list = soup.find_all('telno')\n",
    "#<태그시작> ~ </태그끝>\n",
    "#0번째에 있는 text를 가져와 (의미있는 정보인지 확인)\n",
    "#  \n",
    "addr_list[0].text"
   ]
  },
  {
   "cell_type": "code",
   "execution_count": 127,
   "metadata": {},
   "outputs": [
    {
     "data": {
      "text/plain": [
       "<?xml version=\"1.0\" encoding=\"UTF-8\" standalone=\"yes\"?><response><header><resultcode>00</resultcode><resultmsg>NORMAL SERVICE.</resultmsg></header><body><items><item><addr>서울특별시 중랑구 봉화산로 215 1층 (신내동)</addr><clcd>81</clcd><clcdnm>약국</clcdnm><distance>.5478450769582605437588497466708942455</distance><emdongnm>신내동</emdongnm><estbdd>20001222</estbdd><postno>02054</postno><sggucd>110019</sggucd><sggucdnm>중랑구</sggucdnm><sidocd>110000</sidocd><sidocdnm>서울</sidocdnm><telno>02-3422-3097</telno><xpos>127.0965492</xpos><ypos>37.6076585</ypos><yadmnm>온누리건강약국</yadmnm><ykiho>JDQ4MTg4MSM1MSMkMSMkNCMkMDMkMzgxOTYxIzExIyQxIyQ3IyQ4MiQyNjEyMjIjODEjJDEjJDYjJDgz</ykiho></item><item><addr>서울특별시 중랑구 신내로 211 212호 (신내동, 금강리빙스텔)</addr><clcd>81</clcd><clcdnm>약국</clcdnm><distance>1035.1855820788666820304486290002772234</distance><emdongnm>신내동</emdongnm><estbdd>20140630</estbdd><postno>02024</postno><sggucd>110019</sggucd><sggucdnm>중랑구</sggucdnm><sidocd>110000</sidocd><sidocdnm>서울</sidocdnm><telno>02-6743-4262</telno><xpos>127.0926492</xpos><ypos>37.6164445</ypos><yadmnm>송이온누리약국</yadmnm><ykiho>JDQ4MTg4MSM1MSMkMSMkNCMkMDMkMzgxOTYxIzIxIyQxIyQ5IyQ4OSQyNjE0ODEjNjEjJDEjJDQjJDgz</ykiho></item></items><numofrows>10</numofrows><pageno>1</pageno><totalcount>2</totalcount></body></response>"
      ]
     },
     "execution_count": 127,
     "metadata": {},
     "output_type": "execute_result"
    }
   ],
   "source": [
    "soup"
   ]
  },
  {
   "cell_type": "code",
   "execution_count": 93,
   "metadata": {},
   "outputs": [
    {
     "name": "stdout",
     "output_type": "stream",
     "text": [
      "<addr>서울특별시 중랑구 봉화산로 215 1층 (신내동)</addr>\n",
      "<addr>서울특별시 중랑구 신내로 211 212호 (신내동, 금강리빙스텔)</addr>\n",
      "or\n",
      "<addr>서울특별시 중랑구 봉화산로 215 1층 (신내동)</addr>\n",
      "<addr>서울특별시 중랑구 신내로 211 212호 (신내동, 금강리빙스텔)</addr>\n",
      "약국정보 : 서울특별시 중랑구 봉화산로 215 1층 (신내동)\n",
      "전화번호[ 0 ] :  02-3422-3097\n",
      "약국정보 : 서울특별시 중랑구 신내로 211 212호 (신내동, 금강리빙스텔)\n",
      "전화번호[ 1 ] :  02-6743-4262\n"
     ]
    }
   ],
   "source": [
    "for i in addr_list:\n",
    "    print(i)\n",
    "\n",
    "print('or')\n",
    "\n",
    "for i in range(0, len(addr_list),1):\n",
    "    print(addr_list[i])\n",
    "    \n",
    "for i in range(0, len(addr_list),1):    \n",
    "    print('약국정보 :',addr_list[i].text)\n",
    "    print('전화번호[',i,'] : ', telno_list[i].text)"
   ]
  },
  {
   "cell_type": "code",
   "execution_count": 130,
   "metadata": {},
   "outputs": [
    {
     "data": {
      "text/html": [
       "<div>\n",
       "<style scoped>\n",
       "    .dataframe tbody tr th:only-of-type {\n",
       "        vertical-align: middle;\n",
       "    }\n",
       "\n",
       "    .dataframe tbody tr th {\n",
       "        vertical-align: top;\n",
       "    }\n",
       "\n",
       "    .dataframe thead th {\n",
       "        text-align: right;\n",
       "    }\n",
       "</style>\n",
       "<table border=\"1\" class=\"dataframe\">\n",
       "  <thead>\n",
       "    <tr style=\"text-align: right;\">\n",
       "      <th></th>\n",
       "      <th>약국이름</th>\n",
       "      <th>시도명</th>\n",
       "      <th>주소</th>\n",
       "      <th>전화번호</th>\n",
       "    </tr>\n",
       "  </thead>\n",
       "  <tbody>\n",
       "    <tr>\n",
       "      <th>0</th>\n",
       "      <td>온누리건강약국</td>\n",
       "      <td>서울</td>\n",
       "      <td>서울특별시 중랑구 봉화산로 215 1층 (신내동)</td>\n",
       "      <td>02-3422-3097</td>\n",
       "    </tr>\n",
       "    <tr>\n",
       "      <th>1</th>\n",
       "      <td>송이온누리약국</td>\n",
       "      <td>서울</td>\n",
       "      <td>서울특별시 중랑구 신내로 211 212호 (신내동, 금강리빙스텔)</td>\n",
       "      <td>02-6743-4262</td>\n",
       "    </tr>\n",
       "  </tbody>\n",
       "</table>\n",
       "</div>"
      ],
      "text/plain": [
       "      약국이름 시도명                                    주소          전화번호\n",
       "0  온누리건강약국  서울           서울특별시 중랑구 봉화산로 215 1층 (신내동)  02-3422-3097\n",
       "1  송이온누리약국  서울  서울특별시 중랑구 신내로 211 212호 (신내동, 금강리빙스텔)  02-6743-4262"
      ]
     },
     "execution_count": 130,
     "metadata": {},
     "output_type": "execute_result"
    }
   ],
   "source": [
    "# re = response.text\n",
    "# soup = BeautifulSoup(re,\"html.parser\")\n",
    "yad_list = soup.find_all('yadmnm')\n",
    "sido_list = soup.find_all('sidocdnm')\n",
    "addr_list = soup.find_all('addr')\n",
    "telno_list = soup.find_all('telno')\n",
    "\n",
    "yad_txt_list = []\n",
    "sido_txt_list = []\n",
    "addr_txt_list = []\n",
    "telno_txt_list = []\n",
    "\n",
    "\n",
    "\n",
    "for a in range(0, len(yad_list),1): \n",
    "    yad_txt_list.append(yad_list[a].text)\n",
    "    \n",
    "    sido_txt_list.append(sido_list[a].text)\n",
    "\n",
    "    addr_txt_list.append(addr_list[a].text)\n",
    "\n",
    "    telno_txt_list.append(telno_list[a].text)\n",
    "\n",
    "\n",
    "\n",
    "df_temp = pd.DataFrame({'약국이름' : yad_txt_list,\n",
    "                        '시도명' : sido_txt_list,\n",
    "                        '주소' : addr_txt_list,\n",
    "                        '전화번호' : telno_txt_list})\n",
    "\n",
    "df_temp\n"
   ]
  },
  {
   "cell_type": "code",
   "execution_count": 168,
   "metadata": {},
   "outputs": [
    {
     "data": {
      "text/plain": [
       "[array(['온누리건강약국', '서울', '서울특별시 중랑구 봉화산로 215 1층 (신내동)', '02-3422-3097'],\n",
       "       dtype=object),\n",
       " array(['송이온누리약국', '서울', '서울특별시 중랑구 신내로 211 212호 (신내동, 금강리빙스텔)',\n",
       "        '02-6743-4262'], dtype=object)]"
      ]
     },
     "execution_count": 168,
     "metadata": {},
     "output_type": "execute_result"
    }
   ],
   "source": [
    "list_all = []\n",
    "\n",
    "for i in df_temp.values:\n",
    "    list_all.append(i)\n",
    "list_all\n",
    "# columns = ['약국이름','시도명','주소','전화번호']\n",
    "# new_df = pd.DataFrame(list_all, columns = columns)\n",
    "        \n",
    "# new_df        "
   ]
  }
 ],
 "metadata": {
  "kernelspec": {
   "display_name": "Python 3.9.12 ('base')",
   "language": "python",
   "name": "python3"
  },
  "language_info": {
   "codemirror_mode": {
    "name": "ipython",
    "version": 3
   },
   "file_extension": ".py",
   "mimetype": "text/x-python",
   "name": "python",
   "nbconvert_exporter": "python",
   "pygments_lexer": "ipython3",
   "version": "3.9.12"
  },
  "orig_nbformat": 4,
  "vscode": {
   "interpreter": {
    "hash": "610a6f344c2137faf927ea819c63f6cee33a2c04455044b28099f39fe9722347"
   }
  }
 },
 "nbformat": 4,
 "nbformat_minor": 2
}
