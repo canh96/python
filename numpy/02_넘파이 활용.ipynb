{
 "cells": [
  {
   "cell_type": "code",
   "execution_count": 1,
   "id": "6e320338",
   "metadata": {},
   "outputs": [],
   "source": [
    "import numpy as np"
   ]
  },
  {
   "cell_type": "code",
   "execution_count": 3,
   "id": "d977449f",
   "metadata": {},
   "outputs": [
    {
     "name": "stdout",
     "output_type": "stream",
     "text": [
      "[[1 2 3]\n",
      " [4 5 6]]\n",
      "[[1 2]\n",
      " [3 4]\n",
      " [5 6]]\n"
     ]
    }
   ],
   "source": [
    "arr = np.array([[1,2,3],[4,5,6]]) # 2x3\n",
    "print(arr)\n",
    "print(arr.reshape(3,2))"
   ]
  },
  {
   "cell_type": "code",
   "execution_count": 4,
   "id": "f1e38ca9",
   "metadata": {},
   "outputs": [
    {
     "name": "stdout",
     "output_type": "stream",
     "text": [
      "[[1]\n",
      " [2]\n",
      " [3]\n",
      " [4]\n",
      " [5]\n",
      " [6]]\n"
     ]
    }
   ],
   "source": [
    "print(arr.reshape(6,1))"
   ]
  },
  {
   "cell_type": "code",
   "execution_count": 5,
   "id": "fa713fcb",
   "metadata": {},
   "outputs": [
    {
     "name": "stdout",
     "output_type": "stream",
     "text": [
      "[[1 2 3 4 5 6]]\n"
     ]
    }
   ],
   "source": [
    "print(arr.reshape(1,6))"
   ]
  },
  {
   "cell_type": "code",
   "execution_count": 14,
   "id": "a6cec58e",
   "metadata": {},
   "outputs": [
    {
     "name": "stdout",
     "output_type": "stream",
     "text": [
      "[[[1 2]]\n",
      "\n",
      " [[3 4]]\n",
      "\n",
      " [[5 6]]]\n"
     ]
    }
   ],
   "source": [
    "print(arr.reshape(3,1,2))"
   ]
  },
  {
   "cell_type": "code",
   "execution_count": 9,
   "id": "8ee284f9",
   "metadata": {},
   "outputs": [
    {
     "data": {
      "text/plain": [
       "(6,)"
      ]
     },
     "execution_count": 9,
     "metadata": {},
     "output_type": "execute_result"
    }
   ],
   "source": [
    "arr1 = np.array([1,2,3,4,5,6])\n",
    "arr1.shape"
   ]
  },
  {
   "cell_type": "code",
   "execution_count": 13,
   "id": "f4c1a115",
   "metadata": {},
   "outputs": [
    {
     "name": "stdout",
     "output_type": "stream",
     "text": [
      "[1 2 3 4 5 6]\n"
     ]
    }
   ],
   "source": [
    "print(arr.reshape(6))"
   ]
  },
  {
   "cell_type": "code",
   "execution_count": 15,
   "id": "3a6ac48f",
   "metadata": {},
   "outputs": [
    {
     "name": "stdout",
     "output_type": "stream",
     "text": [
      "[[1 2]\n",
      " [3 4]\n",
      " [5 6]]\n"
     ]
    }
   ],
   "source": [
    "print(arr.reshape(-1,2))"
   ]
  },
  {
   "cell_type": "code",
   "execution_count": 16,
   "id": "8df42f02",
   "metadata": {},
   "outputs": [
    {
     "name": "stdout",
     "output_type": "stream",
     "text": [
      "[[1 2 3]\n",
      " [4 5 6]]\n"
     ]
    }
   ],
   "source": [
    "print(arr.reshape(2,-1))"
   ]
  },
  {
   "cell_type": "code",
   "execution_count": 19,
   "id": "ac50b17d",
   "metadata": {
    "scrolled": true
   },
   "outputs": [],
   "source": [
    "tensor = np.array(range(1,37))    # shape (3, 3, 4)"
   ]
  },
  {
   "cell_type": "code",
   "execution_count": 20,
   "id": "950d01a6",
   "metadata": {},
   "outputs": [
    {
     "name": "stdout",
     "output_type": "stream",
     "text": [
      "[[[ 1  2  3  4]\n",
      "  [ 5  6  7  8]\n",
      "  [ 9 10 11 12]]\n",
      "\n",
      " [[13 14 15 16]\n",
      "  [17 18 19 20]\n",
      "  [21 22 23 24]]\n",
      "\n",
      " [[25 26 27 28]\n",
      "  [29 30 31 32]\n",
      "  [33 34 35 36]]]\n"
     ]
    }
   ],
   "source": [
    "print(tensor.reshape(3,3,4))"
   ]
  },
  {
   "cell_type": "markdown",
   "id": "67d629b6",
   "metadata": {},
   "source": [
    "### tensor 배열을 2차원 배열로 변형시켜봅니다. * 열의 개수는 9"
   ]
  },
  {
   "cell_type": "code",
   "execution_count": 21,
   "id": "b6be5b03",
   "metadata": {},
   "outputs": [
    {
     "name": "stdout",
     "output_type": "stream",
     "text": [
      "[[ 1  2  3  4  5  6  7  8  9]\n",
      " [10 11 12 13 14 15 16 17 18]\n",
      " [19 20 21 22 23 24 25 26 27]\n",
      " [28 29 30 31 32 33 34 35 36]]\n"
     ]
    }
   ],
   "source": [
    "print(tensor.reshape( -1,9 ))"
   ]
  },
  {
   "cell_type": "code",
   "execution_count": 22,
   "id": "8f2d2369",
   "metadata": {},
   "outputs": [
    {
     "data": {
      "text/plain": [
       "array([[1, 2, 3],\n",
       "       [4, 5, 6]])"
      ]
     },
     "execution_count": 22,
     "metadata": {},
     "output_type": "execute_result"
    }
   ],
   "source": [
    "arr"
   ]
  },
  {
   "cell_type": "code",
   "execution_count": 23,
   "id": "f4b393ec",
   "metadata": {},
   "outputs": [
    {
     "name": "stdout",
     "output_type": "stream",
     "text": [
      "[1 2 3 4 5 6]\n"
     ]
    }
   ],
   "source": [
    "print(arr.flatten())"
   ]
  },
  {
   "cell_type": "code",
   "execution_count": 25,
   "id": "bcae9e93",
   "metadata": {},
   "outputs": [
    {
     "name": "stdout",
     "output_type": "stream",
     "text": [
      "[ 1  2  3  4  5  6  7  8  9 10 11 12 13 14 15 16 17 18 19 20 21 22 23 24\n",
      " 25 26 27 28 29 30 31 32 33 34 35 36]\n"
     ]
    }
   ],
   "source": [
    "print(tensor.reshape(3,3,4).flatten())"
   ]
  },
  {
   "cell_type": "code",
   "execution_count": 26,
   "id": "fc29e539",
   "metadata": {},
   "outputs": [
    {
     "name": "stdout",
     "output_type": "stream",
     "text": [
      "[ 0  1  2  3  4  5  6  7  8  9 10 11 12 13 14 15 16 17 18 19 20 21 22 23\n",
      " 24 25 26 27 28 29]\n"
     ]
    }
   ],
   "source": [
    "print(np.arange(30))    # np.array(range(30))"
   ]
  },
  {
   "cell_type": "code",
   "execution_count": 27,
   "id": "8bb45ebd",
   "metadata": {},
   "outputs": [
    {
     "name": "stdout",
     "output_type": "stream",
     "text": [
      "[0 2 4 6 8]\n"
     ]
    }
   ],
   "source": [
    "print(np.arange(0,10,2))   # (start, end, step)"
   ]
  },
  {
   "cell_type": "code",
   "execution_count": 28,
   "id": "a99389b2",
   "metadata": {},
   "outputs": [
    {
     "name": "stdout",
     "output_type": "stream",
     "text": [
      "[-2.  -1.5 -1.  -0.5  0.   0.5  1.   1.5]\n"
     ]
    }
   ],
   "source": [
    "print(np.arange(-2,2,0.5))"
   ]
  },
  {
   "cell_type": "code",
   "execution_count": 29,
   "id": "76d33f92",
   "metadata": {},
   "outputs": [
    {
     "name": "stdout",
     "output_type": "stream",
     "text": [
      "[10  9  8  7  6  5  4  3  2  1]\n"
     ]
    }
   ],
   "source": [
    "print(np.arange(10,0,-1))"
   ]
  },
  {
   "cell_type": "code",
   "execution_count": 31,
   "id": "b1864da9",
   "metadata": {},
   "outputs": [
    {
     "data": {
      "text/plain": [
       "array([[ 1,  2,  3,  4,  5],\n",
       "       [ 6,  7,  8,  9, 10],\n",
       "       [11, 12, 13, 14, 15],\n",
       "       [16, 17, 18, 19, 20],\n",
       "       [21, 22, 23, 24, 25]])"
      ]
     },
     "execution_count": 31,
     "metadata": {},
     "output_type": "execute_result"
    }
   ],
   "source": [
    "np.arange(1,26).reshape(5,5)"
   ]
  },
  {
   "cell_type": "code",
   "execution_count": 32,
   "id": "cf796dd8",
   "metadata": {},
   "outputs": [
    {
     "name": "stdout",
     "output_type": "stream",
     "text": [
      "[[100 110 120 130 140]\n",
      " [150 160 170 180 190]]\n"
     ]
    }
   ],
   "source": [
    "# 100 ~ 190 ,10  shape(2, 5)\n",
    "\n",
    "print(np.arange(100,191,10).reshape(2, 5))"
   ]
  },
  {
   "cell_type": "code",
   "execution_count": 34,
   "id": "6c674785",
   "metadata": {},
   "outputs": [
    {
     "name": "stdout",
     "output_type": "stream",
     "text": [
      "[[[-2.  -1.5 -1. ]\n",
      "  [-0.5  0.   0.5]\n",
      "  [ 1.   1.5  2. ]]]\n"
     ]
    }
   ],
   "source": [
    "# -2 ~ 2 , 0.5  3차원 \n",
    "\n",
    "print(np.arange(-2,2.1,0.5).reshape(1,3,3))"
   ]
  },
  {
   "cell_type": "code",
   "execution_count": 35,
   "id": "ef70efdd",
   "metadata": {},
   "outputs": [
    {
     "name": "stdout",
     "output_type": "stream",
     "text": [
      "[0 0 0 0 0]\n"
     ]
    }
   ],
   "source": [
    "print(np.zeros(shape=(5,),dtype=np.int8))"
   ]
  },
  {
   "cell_type": "code",
   "execution_count": 36,
   "id": "58db47ed",
   "metadata": {},
   "outputs": [
    {
     "name": "stdout",
     "output_type": "stream",
     "text": [
      "[0 0 0 0 0]\n"
     ]
    }
   ],
   "source": [
    "print(np.zeros((5),np.int8))"
   ]
  },
  {
   "cell_type": "code",
   "execution_count": 39,
   "id": "addbb2d6",
   "metadata": {},
   "outputs": [
    {
     "name": "stdout",
     "output_type": "stream",
     "text": [
      "[[0. 0. 0.]\n",
      " [0. 0. 0.]]\n"
     ]
    }
   ],
   "source": [
    "print(np.zeros((2,3)))"
   ]
  },
  {
   "cell_type": "code",
   "execution_count": 43,
   "id": "0eb45454",
   "metadata": {},
   "outputs": [
    {
     "data": {
      "text/plain": [
       "array([[0., 0., 0.],\n",
       "       [0., 0., 0.]])"
      ]
     },
     "execution_count": 43,
     "metadata": {},
     "output_type": "execute_result"
    }
   ],
   "source": [
    "np.empty((2,3))"
   ]
  },
  {
   "cell_type": "code",
   "execution_count": 44,
   "id": "9a92bd70",
   "metadata": {},
   "outputs": [],
   "source": [
    "matrix = np.arange(24).reshape(4,6)"
   ]
  },
  {
   "cell_type": "code",
   "execution_count": 45,
   "id": "e2cf6cbc",
   "metadata": {},
   "outputs": [
    {
     "data": {
      "text/plain": [
       "array([[ 0,  1,  2,  3,  4,  5],\n",
       "       [ 6,  7,  8,  9, 10, 11],\n",
       "       [12, 13, 14, 15, 16, 17],\n",
       "       [18, 19, 20, 21, 22, 23]])"
      ]
     },
     "execution_count": 45,
     "metadata": {},
     "output_type": "execute_result"
    }
   ],
   "source": [
    "matrix"
   ]
  },
  {
   "cell_type": "code",
   "execution_count": 46,
   "id": "8539a649",
   "metadata": {},
   "outputs": [
    {
     "name": "stdout",
     "output_type": "stream",
     "text": [
      "[[0 0 0 0 0 0]\n",
      " [0 0 0 0 0 0]\n",
      " [0 0 0 0 0 0]\n",
      " [0 0 0 0 0 0]]\n"
     ]
    }
   ],
   "source": [
    "print(np.zeros_like(matrix))"
   ]
  },
  {
   "cell_type": "code",
   "execution_count": 47,
   "id": "41a1ca1d",
   "metadata": {},
   "outputs": [],
   "source": [
    "matrix = np.arange(-2,2,0.2).reshape(2,10)"
   ]
  },
  {
   "cell_type": "code",
   "execution_count": 48,
   "id": "5d26d73a",
   "metadata": {},
   "outputs": [
    {
     "data": {
      "text/plain": [
       "array([[-2.0000000e+00, -1.8000000e+00, -1.6000000e+00, -1.4000000e+00,\n",
       "        -1.2000000e+00, -1.0000000e+00, -8.0000000e-01, -6.0000000e-01,\n",
       "        -4.0000000e-01, -2.0000000e-01],\n",
       "       [-4.4408921e-16,  2.0000000e-01,  4.0000000e-01,  6.0000000e-01,\n",
       "         8.0000000e-01,  1.0000000e+00,  1.2000000e+00,  1.4000000e+00,\n",
       "         1.6000000e+00,  1.8000000e+00]])"
      ]
     },
     "execution_count": 48,
     "metadata": {},
     "output_type": "execute_result"
    }
   ],
   "source": [
    "matrix"
   ]
  },
  {
   "cell_type": "code",
   "execution_count": 50,
   "id": "14d4ef2f",
   "metadata": {},
   "outputs": [
    {
     "name": "stdout",
     "output_type": "stream",
     "text": [
      "[[1. 1. 1. 1. 1. 1. 1. 1. 1. 1.]\n",
      " [1. 1. 1. 1. 1. 1. 1. 1. 1. 1.]]\n"
     ]
    }
   ],
   "source": [
    "print(np.ones_like(matrix))"
   ]
  },
  {
   "cell_type": "code",
   "execution_count": 51,
   "id": "203c249b",
   "metadata": {},
   "outputs": [
    {
     "data": {
      "text/plain": [
       "array([[ 0,  1,  2,  3,  4,  5],\n",
       "       [ 6,  7,  8,  9, 10, 11],\n",
       "       [12, 13, 14, 15, 16, 17],\n",
       "       [18, 19, 20, 21, 22, 23],\n",
       "       [24, 25, 26, 27, 28, 29]])"
      ]
     },
     "execution_count": 51,
     "metadata": {},
     "output_type": "execute_result"
    }
   ],
   "source": [
    "matrix = np.arange(30).reshape(5,6)\n",
    "matrix"
   ]
  },
  {
   "cell_type": "code",
   "execution_count": 53,
   "id": "178d9601",
   "metadata": {},
   "outputs": [
    {
     "name": "stdout",
     "output_type": "stream",
     "text": [
      "[[3801155 5570652 6619251 7536754 6357084 7143524]\n",
      " [7209065 3014748 7340137 7602297 7274600 6029422]\n",
      " [7471216 6684783 7077993 6226021 6619236 6357094]\n",
      " [7078005 6029428 6881384 7602291 7471215 3014777]\n",
      " [7405683 6881388 6619252 7798829 7077985       0]]\n"
     ]
    }
   ],
   "source": [
    "print(np.empty_like(matrix))"
   ]
  },
  {
   "cell_type": "code",
   "execution_count": 55,
   "id": "5167443c",
   "metadata": {},
   "outputs": [
    {
     "name": "stdout",
     "output_type": "stream",
     "text": [
      "[['1' '' '' '' '']\n",
      " ['' '1' '' '' '']\n",
      " ['' '' '1' '' '']\n",
      " ['' '' '' '1' '']\n",
      " ['' '' '' '' '1']]\n"
     ]
    }
   ],
   "source": [
    "print(np.identity(5,dtype=np.str_))"
   ]
  },
  {
   "cell_type": "code",
   "execution_count": 56,
   "id": "99246815",
   "metadata": {},
   "outputs": [
    {
     "name": "stdout",
     "output_type": "stream",
     "text": [
      "[[1 0]\n",
      " [0 1]]\n"
     ]
    }
   ],
   "source": [
    "print(np.identity(2,dtype=np.int8))"
   ]
  },
  {
   "cell_type": "code",
   "execution_count": 57,
   "id": "f5cd42cc",
   "metadata": {},
   "outputs": [
    {
     "name": "stdout",
     "output_type": "stream",
     "text": [
      "[[1 0 0 0 0]\n",
      " [0 1 0 0 0]\n",
      " [0 0 1 0 0]\n",
      " [0 0 0 1 0]\n",
      " [0 0 0 0 1]]\n"
     ]
    }
   ],
   "source": [
    "print(np.eye(5,dtype=np.int8))"
   ]
  },
  {
   "cell_type": "code",
   "execution_count": 59,
   "id": "54ce35cf",
   "metadata": {},
   "outputs": [
    {
     "name": "stdout",
     "output_type": "stream",
     "text": [
      "[[0. 0. 0. 0. 0.]\n",
      " [1. 0. 0. 0. 0.]\n",
      " [0. 1. 0. 0. 0.]\n",
      " [0. 0. 1. 0. 0.]\n",
      " [0. 0. 0. 1. 0.]]\n"
     ]
    }
   ],
   "source": [
    "print(np.eye(5, k = -1))"
   ]
  },
  {
   "cell_type": "code",
   "execution_count": 60,
   "id": "9bcb053e",
   "metadata": {},
   "outputs": [
    {
     "name": "stdout",
     "output_type": "stream",
     "text": [
      "[[0. 0. 0. 0. 0. 0. 0. 0. 0. 0.]\n",
      " [1. 0. 0. 0. 0. 0. 0. 0. 0. 0.]\n",
      " [0. 1. 0. 0. 0. 0. 0. 0. 0. 0.]\n",
      " [0. 0. 1. 0. 0. 0. 0. 0. 0. 0.]\n",
      " [0. 0. 0. 1. 0. 0. 0. 0. 0. 0.]]\n"
     ]
    }
   ],
   "source": [
    "print(np.eye(5, M=10, k=-1))"
   ]
  },
  {
   "cell_type": "code",
   "execution_count": 63,
   "id": "b7702c6b",
   "metadata": {},
   "outputs": [
    {
     "name": "stdout",
     "output_type": "stream",
     "text": [
      "[[0. 0. 0.]\n",
      " [1. 0. 0.]\n",
      " [0. 1. 0.]\n",
      " [0. 0. 1.]\n",
      " [0. 0. 0.]]\n"
     ]
    }
   ],
   "source": [
    "print(np.eye(5, M = 3, k = -1))"
   ]
  },
  {
   "cell_type": "code",
   "execution_count": 68,
   "id": "17922edc",
   "metadata": {},
   "outputs": [
    {
     "name": "stdout",
     "output_type": "stream",
     "text": [
      "[[3 3 3 3 3]\n",
      " [3 3 3 3 3]]\n"
     ]
    }
   ],
   "source": [
    "print(np.full((2,5),3))"
   ]
  },
  {
   "cell_type": "code",
   "execution_count": 70,
   "id": "356f19ca",
   "metadata": {},
   "outputs": [
    {
     "data": {
      "text/plain": [
       "array([[3., 3., 3.],\n",
       "       [3., 3., 3.],\n",
       "       [3., 3., 3.]])"
      ]
     },
     "execution_count": 70,
     "metadata": {},
     "output_type": "execute_result"
    }
   ],
   "source": [
    "np.ones((3,3)) * 3"
   ]
  },
  {
   "cell_type": "code",
   "execution_count": 71,
   "id": "a74fa135",
   "metadata": {},
   "outputs": [
    {
     "data": {
      "text/plain": [
       "array([[3, 3, 3],\n",
       "       [3, 3, 3],\n",
       "       [3, 3, 3]])"
      ]
     },
     "execution_count": 71,
     "metadata": {},
     "output_type": "execute_result"
    }
   ],
   "source": [
    "np.full((3,3),3)"
   ]
  },
  {
   "cell_type": "code",
   "execution_count": 72,
   "id": "28b744c7",
   "metadata": {},
   "outputs": [
    {
     "data": {
      "text/plain": [
       "3"
      ]
     },
     "execution_count": 72,
     "metadata": {},
     "output_type": "execute_result"
    }
   ],
   "source": [
    "np.random.randint(6)"
   ]
  },
  {
   "cell_type": "code",
   "execution_count": 73,
   "id": "97074d83",
   "metadata": {},
   "outputs": [],
   "source": [
    "import random"
   ]
  },
  {
   "cell_type": "code",
   "execution_count": 79,
   "id": "418d25c2",
   "metadata": {},
   "outputs": [
    {
     "data": {
      "text/plain": [
       "0"
      ]
     },
     "execution_count": 79,
     "metadata": {},
     "output_type": "execute_result"
    }
   ],
   "source": [
    "random.randint(0,10)"
   ]
  },
  {
   "cell_type": "code",
   "execution_count": 77,
   "id": "63f7d575",
   "metadata": {},
   "outputs": [
    {
     "data": {
      "text/plain": [
       "array([19,  9])"
      ]
     },
     "execution_count": 77,
     "metadata": {},
     "output_type": "execute_result"
    }
   ],
   "source": [
    "np.random.randint(1,20,2)"
   ]
  },
  {
   "cell_type": "code",
   "execution_count": 90,
   "id": "aba48e7a",
   "metadata": {},
   "outputs": [
    {
     "name": "stdout",
     "output_type": "stream",
     "text": [
      "[[0.02780726 0.78063277 0.53676588 0.51211452 0.98261074]\n",
      " [0.8730283  0.08451291 0.58182508 0.04175429 0.03595128]]\n"
     ]
    }
   ],
   "source": [
    "print(np.random.rand(2,5))"
   ]
  },
  {
   "cell_type": "code",
   "execution_count": 91,
   "id": "deaf1bb3",
   "metadata": {},
   "outputs": [
    {
     "name": "stdout",
     "output_type": "stream",
     "text": [
      "[[-0.15798613 -2.90165792 -2.56112748 -0.62310919 -0.16857252]\n",
      " [ 0.70753857 -0.20352874  0.71725836  1.16715957  0.06103641]]\n"
     ]
    }
   ],
   "source": [
    "print(np.random.randn(2,5))"
   ]
  },
  {
   "cell_type": "code",
   "execution_count": 92,
   "id": "4f0f473e",
   "metadata": {},
   "outputs": [
    {
     "data": {
      "text/plain": [
       "array([[1, 2, 3],\n",
       "       [4, 5, 6]])"
      ]
     },
     "execution_count": 92,
     "metadata": {},
     "output_type": "execute_result"
    }
   ],
   "source": [
    "matrix = np.arange(1,7).reshape(2,3)\n",
    "matrix"
   ]
  },
  {
   "cell_type": "code",
   "execution_count": 93,
   "id": "fc812898",
   "metadata": {},
   "outputs": [
    {
     "data": {
      "text/plain": [
       "21"
      ]
     },
     "execution_count": 93,
     "metadata": {},
     "output_type": "execute_result"
    }
   ],
   "source": [
    "matrix.sum()"
   ]
  },
  {
   "cell_type": "code",
   "execution_count": 95,
   "id": "315339d1",
   "metadata": {},
   "outputs": [
    {
     "name": "stdout",
     "output_type": "stream",
     "text": [
      "[5 7 9]\n"
     ]
    }
   ],
   "source": [
    "print(matrix.sum(axis=0))"
   ]
  },
  {
   "cell_type": "code",
   "execution_count": 96,
   "id": "1f81d49f",
   "metadata": {},
   "outputs": [
    {
     "name": "stdout",
     "output_type": "stream",
     "text": [
      "[ 6 15]\n"
     ]
    }
   ],
   "source": [
    "print(matrix.sum(axis=1))"
   ]
  },
  {
   "cell_type": "code",
   "execution_count": 97,
   "id": "4f3c8b13",
   "metadata": {},
   "outputs": [
    {
     "name": "stdout",
     "output_type": "stream",
     "text": [
      "[[[ 1  2  3]\n",
      "  [ 4  5  6]]\n",
      "\n",
      " [[ 7  8  9]\n",
      "  [10 11 12]]\n",
      "\n",
      " [[13 14 15]\n",
      "  [16 17 18]]]\n"
     ]
    }
   ],
   "source": [
    "tensor = np.arange(1,19).reshape(3,2,3)\n",
    "print(tensor)"
   ]
  },
  {
   "cell_type": "code",
   "execution_count": 101,
   "id": "f34a397c",
   "metadata": {},
   "outputs": [
    {
     "name": "stdout",
     "output_type": "stream",
     "text": [
      "[[ 6 15]\n",
      " [24 33]\n",
      " [42 51]]\n"
     ]
    }
   ],
   "source": [
    "print(tensor.sum(axis=2))"
   ]
  },
  {
   "cell_type": "code",
   "execution_count": 107,
   "id": "73181391",
   "metadata": {},
   "outputs": [
    {
     "data": {
      "text/plain": [
       "array([[21, 24, 27],\n",
       "       [30, 33, 36]])"
      ]
     },
     "execution_count": 107,
     "metadata": {},
     "output_type": "execute_result"
    }
   ],
   "source": [
    "tensor.sum(axis=0)   # np.sum(tensor)"
   ]
  },
  {
   "cell_type": "code",
   "execution_count": 106,
   "id": "6c672c8d",
   "metadata": {},
   "outputs": [
    {
     "data": {
      "text/plain": [
       "array([[21, 24, 27],\n",
       "       [30, 33, 36]])"
      ]
     },
     "execution_count": 106,
     "metadata": {},
     "output_type": "execute_result"
    }
   ],
   "source": [
    "np.sum(tensor,axis=0)"
   ]
  },
  {
   "cell_type": "code",
   "execution_count": 108,
   "id": "862ab0dd",
   "metadata": {},
   "outputs": [
    {
     "name": "stdout",
     "output_type": "stream",
     "text": [
      "[[1 2 3]\n",
      " [4 5 6]]\n"
     ]
    }
   ],
   "source": [
    "print(matrix)"
   ]
  },
  {
   "cell_type": "code",
   "execution_count": 111,
   "id": "cd5f1b44",
   "metadata": {},
   "outputs": [
    {
     "name": "stdout",
     "output_type": "stream",
     "text": [
      "[2.5 3.5 4.5]\n"
     ]
    }
   ],
   "source": [
    "print(matrix.mean(axis=0))"
   ]
  },
  {
   "cell_type": "code",
   "execution_count": 112,
   "id": "7416c29c",
   "metadata": {},
   "outputs": [
    {
     "name": "stdout",
     "output_type": "stream",
     "text": [
      "[2. 5.]\n"
     ]
    }
   ],
   "source": [
    "print(matrix.mean(axis=1))"
   ]
  },
  {
   "cell_type": "code",
   "execution_count": 113,
   "id": "d0703970",
   "metadata": {},
   "outputs": [
    {
     "name": "stdout",
     "output_type": "stream",
     "text": [
      "1.707825127659933\n"
     ]
    }
   ],
   "source": [
    "print(matrix.std())"
   ]
  },
  {
   "cell_type": "code",
   "execution_count": 115,
   "id": "d3dcb223",
   "metadata": {},
   "outputs": [
    {
     "name": "stdout",
     "output_type": "stream",
     "text": [
      "[[1 2 3]\n",
      " [4 5 6]]\n"
     ]
    }
   ],
   "source": [
    "print(matrix)"
   ]
  },
  {
   "cell_type": "code",
   "execution_count": 114,
   "id": "1b9a2090",
   "metadata": {
    "scrolled": true
   },
   "outputs": [
    {
     "name": "stdout",
     "output_type": "stream",
     "text": [
      "[1.5 1.5 1.5]\n"
     ]
    }
   ],
   "source": [
    "print(matrix.std(axis=0))"
   ]
  },
  {
   "cell_type": "code",
   "execution_count": 118,
   "id": "24ef67de",
   "metadata": {},
   "outputs": [],
   "source": [
    "import math"
   ]
  },
  {
   "cell_type": "code",
   "execution_count": 122,
   "id": "ae17b921",
   "metadata": {},
   "outputs": [
    {
     "data": {
      "text/plain": [
       "1.5"
      ]
     },
     "execution_count": 122,
     "metadata": {},
     "output_type": "execute_result"
    }
   ],
   "source": [
    "math.sqrt( ( (2.5-1)*(2.5-1) + (2.5-4)*(2.5-4))      / 2   )"
   ]
  },
  {
   "cell_type": "code",
   "execution_count": 124,
   "id": "5ce98c70",
   "metadata": {},
   "outputs": [],
   "source": [
    "vector = np.array([np.random.randint(1,100) for n in range(5)])"
   ]
  },
  {
   "cell_type": "code",
   "execution_count": 125,
   "id": "e37e817e",
   "metadata": {},
   "outputs": [
    {
     "name": "stdout",
     "output_type": "stream",
     "text": [
      "[78 72 24 25 15]\n"
     ]
    }
   ],
   "source": [
    "print(vector)"
   ]
  },
  {
   "cell_type": "code",
   "execution_count": 126,
   "id": "47cf02b8",
   "metadata": {},
   "outputs": [
    {
     "name": "stdout",
     "output_type": "stream",
     "text": [
      "[15 24 25 72 78]\n"
     ]
    }
   ],
   "source": [
    "print(np.sort(vector))"
   ]
  },
  {
   "cell_type": "code",
   "execution_count": 127,
   "id": "62469af4",
   "metadata": {},
   "outputs": [
    {
     "name": "stdout",
     "output_type": "stream",
     "text": [
      "[78 72 25 24 15]\n"
     ]
    }
   ],
   "source": [
    "print(np.sort(vector)[::-1])"
   ]
  },
  {
   "cell_type": "code",
   "execution_count": 128,
   "id": "58a78da9",
   "metadata": {},
   "outputs": [
    {
     "data": {
      "text/plain": [
       "[60, 16, 57, 58, 64]"
      ]
     },
     "execution_count": 128,
     "metadata": {},
     "output_type": "execute_result"
    }
   ],
   "source": [
    "[np.random.randint(1,100) for n in range(5)]"
   ]
  },
  {
   "cell_type": "code",
   "execution_count": 134,
   "id": "bbaf707e",
   "metadata": {},
   "outputs": [
    {
     "data": {
      "text/plain": [
       "[3]"
      ]
     },
     "execution_count": 134,
     "metadata": {},
     "output_type": "execute_result"
    }
   ],
   "source": [
    "x = 3\n",
    "[x for i in range(5) if x == i]"
   ]
  },
  {
   "cell_type": "code",
   "execution_count": 130,
   "id": "b96882db",
   "metadata": {
    "scrolled": true
   },
   "outputs": [
    {
     "data": {
      "text/plain": [
       "[0, 1, 2, 3, 4]"
      ]
     },
     "execution_count": 130,
     "metadata": {},
     "output_type": "execute_result"
    }
   ],
   "source": [
    "[i for i in range(5)]"
   ]
  },
  {
   "cell_type": "code",
   "execution_count": 131,
   "id": "4dfc3ede",
   "metadata": {},
   "outputs": [
    {
     "name": "stdout",
     "output_type": "stream",
     "text": [
      "[0, 1, 2, 3, 4]\n"
     ]
    }
   ],
   "source": [
    "a = []\n",
    "for i in range(5):\n",
    "    a.append(i)\n",
    "print(a)"
   ]
  },
  {
   "cell_type": "code",
   "execution_count": 135,
   "id": "1efbfa56",
   "metadata": {
    "scrolled": true
   },
   "outputs": [
    {
     "data": {
      "text/plain": [
       "[3, 9, 15, 21, 27]"
      ]
     },
     "execution_count": 135,
     "metadata": {},
     "output_type": "execute_result"
    }
   ],
   "source": [
    "list_ = [1,2,3,4,5,6,7,8,9,10]\n",
    "\n",
    "list2_ = [num * 3  for num in list_ if num % 2 == 1]\n",
    "list2_"
   ]
  },
  {
   "cell_type": "code",
   "execution_count": 136,
   "id": "d3730cce",
   "metadata": {},
   "outputs": [
    {
     "name": "stdout",
     "output_type": "stream",
     "text": [
      "[[48 82 94 37 96]\n",
      " [47 47 51  2 77]\n",
      " [47 27 71 59 24]\n",
      " [95 75 51 46 10]]\n"
     ]
    }
   ],
   "source": [
    "matrix = np.array([np.random.randint(1,100) for n in range(20)]).reshape(4,5)\n",
    "print(matrix)"
   ]
  },
  {
   "cell_type": "code",
   "execution_count": 139,
   "id": "72882bef",
   "metadata": {},
   "outputs": [
    {
     "name": "stdout",
     "output_type": "stream",
     "text": [
      "[[37 48 82 94 96]\n",
      " [ 2 47 47 51 77]\n",
      " [24 27 47 59 71]\n",
      " [10 46 51 75 95]]\n"
     ]
    }
   ],
   "source": [
    "print(np.sort(matrix,axis=1))"
   ]
  },
  {
   "cell_type": "code",
   "execution_count": 138,
   "id": "325a937c",
   "metadata": {},
   "outputs": [
    {
     "name": "stdout",
     "output_type": "stream",
     "text": [
      "[[47 27 51  2 10]\n",
      " [47 47 51 37 24]\n",
      " [48 75 71 46 77]\n",
      " [95 82 94 59 96]]\n"
     ]
    }
   ],
   "source": [
    "print(np.sort(matrix,axis=0))"
   ]
  },
  {
   "cell_type": "code",
   "execution_count": 141,
   "id": "29d44bfa",
   "metadata": {},
   "outputs": [
    {
     "name": "stdout",
     "output_type": "stream",
     "text": [
      "[[1 2 3]\n",
      " [4 5 6]]\n"
     ]
    }
   ],
   "source": [
    "vector1 = np.array([1,2,3])\n",
    "vector2 = np.array([4,5,6])\n",
    "\n",
    "print(np.vstack([vector1, vector2]))"
   ]
  },
  {
   "cell_type": "code",
   "execution_count": 144,
   "id": "a667b89c",
   "metadata": {},
   "outputs": [
    {
     "name": "stdout",
     "output_type": "stream",
     "text": [
      "[1 2 3 4 5 6]\n"
     ]
    }
   ],
   "source": [
    "vector1 = np.array([1,2,3])\n",
    "vector2 = np.array([4,5,6])\n",
    "\n",
    "print(np.hstack([vector1, vector2]))"
   ]
  },
  {
   "cell_type": "code",
   "execution_count": 143,
   "id": "df361498",
   "metadata": {},
   "outputs": [
    {
     "data": {
      "text/plain": [
       "array([[1],\n",
       "       [2],\n",
       "       [3]])"
      ]
     },
     "execution_count": 143,
     "metadata": {},
     "output_type": "execute_result"
    }
   ],
   "source": [
    "vector1   [1 2 3] + [4 5 6] = [1 2 3 4 5 6]"
   ]
  },
  {
   "cell_type": "code",
   "execution_count": 154,
   "id": "ee1d08c6",
   "metadata": {},
   "outputs": [
    {
     "name": "stdout",
     "output_type": "stream",
     "text": [
      "[1 2 3 4 5 6]\n"
     ]
    }
   ],
   "source": [
    "vector1 = np.array([1,2,3])\n",
    "vector2 = np.array([4,5,6])\n",
    "\n",
    "print(np.concatenate([vector1, vector2]))"
   ]
  },
  {
   "cell_type": "code",
   "execution_count": 156,
   "id": "2e963b6a",
   "metadata": {},
   "outputs": [
    {
     "name": "stdout",
     "output_type": "stream",
     "text": [
      "[[1 2 3]\n",
      " [4 5 6]]\n"
     ]
    }
   ],
   "source": [
    "vector1 = np.array([[1,2,3]])\n",
    "vector2 = np.array([[4,5,6]])\n",
    "\n",
    "print(np.concatenate([vector1, vector2],axis=0))"
   ]
  },
  {
   "cell_type": "code",
   "execution_count": 159,
   "id": "01a05110",
   "metadata": {},
   "outputs": [
    {
     "name": "stdout",
     "output_type": "stream",
     "text": [
      "[[1 4]\n",
      " [2 5]\n",
      " [3 6]]\n"
     ]
    }
   ],
   "source": [
    "vector1 = np.array([[1,2,3],[1,2,3]]).reshape(3,2)\n",
    "vector2 = np.array([4,5,6]).reshape(3,1)\n",
    "\n",
    "print(np.concatenate([vector1, vector2], axis = 1))"
   ]
  },
  {
   "cell_type": "code",
   "execution_count": 163,
   "id": "e2b81caf",
   "metadata": {},
   "outputs": [
    {
     "name": "stdout",
     "output_type": "stream",
     "text": [
      "[[1 2 4]\n",
      " [3 1 5]\n",
      " [2 3 6]]\n"
     ]
    }
   ],
   "source": [
    "matrix1 = np.array([[1,2,3],[1,2,3]]).reshape(3,2)\n",
    "vector2 = np.array([4,5,6]).reshape(3,1)\n",
    "\n",
    "print(np.concatenate([matrix1, vector2], axis = 1))"
   ]
  },
  {
   "cell_type": "code",
   "execution_count": 164,
   "id": "fed92b25",
   "metadata": {},
   "outputs": [
    {
     "name": "stdout",
     "output_type": "stream",
     "text": [
      "[[5 6]]\n"
     ]
    }
   ],
   "source": [
    "matrix3 = np.array([[5, 6]])\n",
    "print(matrix3)"
   ]
  },
  {
   "cell_type": "code",
   "execution_count": 165,
   "id": "d566f7bb",
   "metadata": {},
   "outputs": [
    {
     "name": "stdout",
     "output_type": "stream",
     "text": [
      "[[5]\n",
      " [6]]\n"
     ]
    }
   ],
   "source": [
    "print(matrix3.transpose())"
   ]
  },
  {
   "cell_type": "code",
   "execution_count": 167,
   "id": "2c111756",
   "metadata": {},
   "outputs": [
    {
     "name": "stdout",
     "output_type": "stream",
     "text": [
      "(1, 2) (2, 1)\n"
     ]
    }
   ],
   "source": [
    "print(matrix3.shape, matrix3.transpose().shape)"
   ]
  },
  {
   "cell_type": "code",
   "execution_count": 168,
   "id": "139d8c44",
   "metadata": {},
   "outputs": [
    {
     "name": "stdout",
     "output_type": "stream",
     "text": [
      "[[5]\n",
      " [6]]\n"
     ]
    }
   ],
   "source": [
    "print(matrix3.T)"
   ]
  },
  {
   "cell_type": "code",
   "execution_count": 170,
   "id": "01478a88",
   "metadata": {},
   "outputs": [
    {
     "data": {
      "text/plain": [
       "(2,)"
      ]
     },
     "execution_count": 170,
     "metadata": {},
     "output_type": "execute_result"
    }
   ],
   "source": [
    "np.array([5, 6]).T.shape"
   ]
  },
  {
   "cell_type": "code",
   "execution_count": 173,
   "id": "16fe7640",
   "metadata": {},
   "outputs": [
    {
     "data": {
      "text/plain": [
       "(2, 1, 1)"
      ]
     },
     "execution_count": 173,
     "metadata": {},
     "output_type": "execute_result"
    }
   ],
   "source": [
    "np.array([[[5, 6]]]).T.shape"
   ]
  },
  {
   "cell_type": "code",
   "execution_count": 175,
   "id": "cb869eed",
   "metadata": {},
   "outputs": [],
   "source": [
    "matrix1 = np.array([[1,2],[3,4]]).reshape(2,2)"
   ]
  },
  {
   "cell_type": "code",
   "execution_count": 176,
   "id": "639d87a3",
   "metadata": {},
   "outputs": [
    {
     "name": "stdout",
     "output_type": "stream",
     "text": [
      "[[1 2]\n",
      " [3 4]\n",
      " [5 6]]\n"
     ]
    }
   ],
   "source": [
    "print(np.concatenate([matrix1, matrix3],axis=0))"
   ]
  },
  {
   "cell_type": "code",
   "execution_count": 177,
   "id": "a8f02267",
   "metadata": {},
   "outputs": [
    {
     "ename": "ValueError",
     "evalue": "all the input array dimensions for the concatenation axis must match exactly, but along dimension 0, the array at index 0 has size 2 and the array at index 1 has size 1",
     "output_type": "error",
     "traceback": [
      "\u001b[1;31m---------------------------------------------------------------------------\u001b[0m",
      "\u001b[1;31mValueError\u001b[0m                                Traceback (most recent call last)",
      "Input \u001b[1;32mIn [177]\u001b[0m, in \u001b[0;36m<cell line: 1>\u001b[1;34m()\u001b[0m\n\u001b[1;32m----> 1\u001b[0m \u001b[38;5;28mprint\u001b[39m(\u001b[43mnp\u001b[49m\u001b[38;5;241;43m.\u001b[39;49m\u001b[43mconcatenate\u001b[49m\u001b[43m(\u001b[49m\u001b[43m[\u001b[49m\u001b[43mmatrix1\u001b[49m\u001b[43m,\u001b[49m\u001b[43m \u001b[49m\u001b[43mmatrix3\u001b[49m\u001b[43m]\u001b[49m\u001b[43m,\u001b[49m\u001b[43maxis\u001b[49m\u001b[38;5;241;43m=\u001b[39;49m\u001b[38;5;241;43m1\u001b[39;49m\u001b[43m)\u001b[49m)\n",
      "File \u001b[1;32m<__array_function__ internals>:5\u001b[0m, in \u001b[0;36mconcatenate\u001b[1;34m(*args, **kwargs)\u001b[0m\n",
      "\u001b[1;31mValueError\u001b[0m: all the input array dimensions for the concatenation axis must match exactly, but along dimension 0, the array at index 0 has size 2 and the array at index 1 has size 1"
     ]
    }
   ],
   "source": [
    "print(np.concatenate([matrix1, matrix3],axis=1))"
   ]
  },
  {
   "cell_type": "code",
   "execution_count": 178,
   "id": "32724429",
   "metadata": {},
   "outputs": [
    {
     "name": "stdout",
     "output_type": "stream",
     "text": [
      "[[1 2 5]\n",
      " [3 4 6]]\n"
     ]
    }
   ],
   "source": [
    "print(np.concatenate([matrix1, matrix3.T], axis=1))"
   ]
  },
  {
   "cell_type": "code",
   "execution_count": 179,
   "id": "e1d773a4",
   "metadata": {},
   "outputs": [],
   "source": [
    "b = np.array([[1,2,3,4],\n",
    "              [2,3,4,1],\n",
    "              [3,4,1,2]])"
   ]
  },
  {
   "cell_type": "code",
   "execution_count": 180,
   "id": "f118014c",
   "metadata": {},
   "outputs": [
    {
     "name": "stdout",
     "output_type": "stream",
     "text": [
      "[0 3 2]\n"
     ]
    }
   ],
   "source": [
    "print(np.argmin(b, axis=1))"
   ]
  },
  {
   "cell_type": "code",
   "execution_count": 181,
   "id": "4db30e88",
   "metadata": {},
   "outputs": [
    {
     "name": "stdout",
     "output_type": "stream",
     "text": [
      "[0 0 2 1]\n"
     ]
    }
   ],
   "source": [
    "print(np.argmin(b, axis=0))"
   ]
  },
  {
   "cell_type": "code",
   "execution_count": 182,
   "id": "c27b6a9b",
   "metadata": {},
   "outputs": [
    {
     "name": "stdout",
     "output_type": "stream",
     "text": [
      "[4 5 6 7]\n"
     ]
    }
   ],
   "source": [
    "a = np.arange(1,11)\n",
    "b = np.array([3,4,5,6])\n",
    "\n",
    "print(a[b])"
   ]
  },
  {
   "cell_type": "code",
   "execution_count": null,
   "id": "730b203a",
   "metadata": {},
   "outputs": [],
   "source": []
  }
 ],
 "metadata": {
  "interpreter": {
   "hash": "610a6f344c2137faf927ea819c63f6cee33a2c04455044b28099f39fe9722347"
  },
  "kernelspec": {
   "display_name": "Python 3.9.12 ('base')",
   "language": "python",
   "name": "python3"
  },
  "language_info": {
   "codemirror_mode": {
    "name": "ipython",
    "version": 3
   },
   "file_extension": ".py",
   "mimetype": "text/x-python",
   "name": "python",
   "nbconvert_exporter": "python",
   "pygments_lexer": "ipython3",
   "version": "3.9.12"
  }
 },
 "nbformat": 4,
 "nbformat_minor": 5
}
