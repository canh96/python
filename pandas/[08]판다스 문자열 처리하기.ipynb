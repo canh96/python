{
 "cells": [
  {
   "cell_type": "code",
   "execution_count": 9,
   "id": "2dd3808c",
   "metadata": {},
   "outputs": [
    {
     "name": "stdout",
     "output_type": "stream",
     "text": [
      "abcdefghijklmnopqrstuvwxyz 가나다라 1234 !@#$%%^\n"
     ]
    }
   ],
   "source": [
    "a = 'abcdefghijklmnopqrstuvwxyz'\n",
    "b = \"가나다라\"\n",
    "c = '''1234'''\n",
    "d = \"\"\"!@#$%%^\"\"\"\n",
    "print(a, b, c, d)"
   ]
  },
  {
   "cell_type": "code",
   "execution_count": 11,
   "id": "5631c976",
   "metadata": {},
   "outputs": [
    {
     "data": {
      "text/plain": [
       "'abcdefghij'"
      ]
     },
     "execution_count": 11,
     "metadata": {},
     "output_type": "execute_result"
    }
   ],
   "source": [
    "a[0:10]"
   ]
  },
  {
   "cell_type": "code",
   "execution_count": 12,
   "id": "553d37ab",
   "metadata": {},
   "outputs": [
    {
     "data": {
      "text/plain": [
       "'z'"
      ]
     },
     "execution_count": 12,
     "metadata": {},
     "output_type": "execute_result"
    }
   ],
   "source": [
    "a[-1]"
   ]
  },
  {
   "cell_type": "code",
   "execution_count": 16,
   "id": "13552ac8",
   "metadata": {},
   "outputs": [
    {
     "data": {
      "text/plain": [
       "'Abcdefghijklmnopqrstuvwxyz'"
      ]
     },
     "execution_count": 16,
     "metadata": {},
     "output_type": "execute_result"
    }
   ],
   "source": [
    "# 첫 문자를 대문자로 변환\n",
    "a.capitalize()"
   ]
  },
  {
   "cell_type": "code",
   "execution_count": 25,
   "id": "99063c40",
   "metadata": {},
   "outputs": [
    {
     "data": {
      "text/plain": [
       "1"
      ]
     },
     "execution_count": 25,
     "metadata": {},
     "output_type": "execute_result"
    }
   ],
   "source": [
    "# 문자의 개수를 문자열에 찾아서 카운트\n",
    "a.count('abc')"
   ]
  },
  {
   "cell_type": "code",
   "execution_count": 28,
   "id": "962dc208",
   "metadata": {},
   "outputs": [
    {
     "data": {
      "text/plain": [
       "-1"
      ]
     },
     "execution_count": 28,
     "metadata": {},
     "output_type": "execute_result"
    }
   ],
   "source": [
    "# 문자열에서 문자를 찾아서 인덱스를 반환\n",
    "a.find('za')"
   ]
  },
  {
   "cell_type": "code",
   "execution_count": 33,
   "id": "a0f33821",
   "metadata": {},
   "outputs": [
    {
     "data": {
      "text/plain": [
       "1"
      ]
     },
     "execution_count": 33,
     "metadata": {},
     "output_type": "execute_result"
    }
   ],
   "source": [
    "# find하고 동일한데 실패시 ValueError 반환\n",
    "a.index('b')"
   ]
  },
  {
   "cell_type": "code",
   "execution_count": 36,
   "id": "85a2a274",
   "metadata": {},
   "outputs": [
    {
     "data": {
      "text/plain": [
       "'ABCDEFGHIJKLMNOPQRSTUVWXYZ'"
      ]
     },
     "execution_count": 36,
     "metadata": {},
     "output_type": "execute_result"
    }
   ],
   "source": [
    "# 문자를 대문자로 변환\n",
    "A = a.upper()\n",
    "A"
   ]
  },
  {
   "cell_type": "code",
   "execution_count": 37,
   "id": "50bf5ebf",
   "metadata": {},
   "outputs": [
    {
     "data": {
      "text/plain": [
       "'abcdefghijklmnopqrstuvwxyz'"
      ]
     },
     "execution_count": 37,
     "metadata": {},
     "output_type": "execute_result"
    }
   ],
   "source": [
    "# 문자를 소문자로 변환\n",
    "a = A.lower()\n",
    "a"
   ]
  },
  {
   "cell_type": "code",
   "execution_count": 41,
   "id": "571628ab",
   "metadata": {},
   "outputs": [
    {
     "data": {
      "text/plain": [
       "'123defghijklmnopqrstuvwxyz'"
      ]
     },
     "execution_count": 41,
     "metadata": {},
     "output_type": "execute_result"
    }
   ],
   "source": [
    "# replace 특정 문자를 다른 문자로 변환\n",
    "a.replace('abc', '123')"
   ]
  },
  {
   "cell_type": "code",
   "execution_count": 45,
   "id": "03d2c591",
   "metadata": {},
   "outputs": [
    {
     "data": {
      "text/plain": [
       "'abc    def'"
      ]
     },
     "execution_count": 45,
     "metadata": {},
     "output_type": "execute_result"
    }
   ],
   "source": [
    "# 문자의 앞, 뒤 공간의 빈 공간을 없애는 함수\n",
    "b = '    abc    def   '\n",
    "b.strip()"
   ]
  },
  {
   "cell_type": "code",
   "execution_count": 55,
   "id": "f4fa5e66",
   "metadata": {},
   "outputs": [],
   "source": [
    "# 문자를 특정 구간으로 잘라주는 함수 > 리스트로 저장\n",
    "url = 'https://dojang.io/mod/page/view.php?id=2435'\n",
    "urls = url.split('/')"
   ]
  },
  {
   "cell_type": "code",
   "execution_count": 58,
   "id": "9ebc8ed3",
   "metadata": {},
   "outputs": [
    {
     "data": {
      "text/plain": [
       "'https://dojang.io/mod/page/view.php?id=2435'"
      ]
     },
     "execution_count": 58,
     "metadata": {},
     "output_type": "execute_result"
    }
   ],
   "source": [
    "# 리스트에 있는 문자열을 하나로 합쳐주는 함수\n",
    "urls\n",
    "slush = '/'\n",
    "slush.join(urls)   # '/'.join(urls)"
   ]
  },
  {
   "cell_type": "markdown",
   "id": "489d331f",
   "metadata": {},
   "source": [
    "# 문자열 포매팅"
   ]
  },
  {
   "cell_type": "code",
   "execution_count": 61,
   "id": "1bfac885",
   "metadata": {},
   "outputs": [
    {
     "name": "stdout",
     "output_type": "stream",
     "text": [
      "It's just a 1!\n"
     ]
    }
   ],
   "source": [
    "var = 1\n",
    "s = \"It's just a {}!\"\n",
    "\n",
    "print(s.format(var))"
   ]
  },
  {
   "cell_type": "code",
   "execution_count": 60,
   "id": "38e17da7",
   "metadata": {},
   "outputs": [
    {
     "data": {
      "text/plain": [
       "\"It's just a flesh wound\""
      ]
     },
     "execution_count": 60,
     "metadata": {},
     "output_type": "execute_result"
    }
   ],
   "source": [
    "\"It's just a {}\".format('flesh wound')"
   ]
  },
  {
   "cell_type": "code",
   "execution_count": 65,
   "id": "b5d033ed",
   "metadata": {},
   "outputs": [
    {
     "name": "stdout",
     "output_type": "stream",
     "text": [
      "10 + 5 = 15\n"
     ]
    }
   ],
   "source": [
    "a = 10; b = 5\n",
    "print('{} + {} = {}'.format(a,b,a + b))"
   ]
  },
  {
   "cell_type": "code",
   "execution_count": 67,
   "id": "25485ae3",
   "metadata": {},
   "outputs": [
    {
     "name": "stdout",
     "output_type": "stream",
     "text": [
      "10 + 5 = 15\n"
     ]
    }
   ],
   "source": [
    "print(f'{a} + {b} = {a+b}')"
   ]
  },
  {
   "cell_type": "code",
   "execution_count": 70,
   "id": "89bd403c",
   "metadata": {},
   "outputs": [
    {
     "data": {
      "text/plain": [
       "'10 + 10 = 10'"
      ]
     },
     "execution_count": 70,
     "metadata": {},
     "output_type": "execute_result"
    }
   ],
   "source": [
    "'{0} + {} = {}'.format(a,a,a)"
   ]
  },
  {
   "cell_type": "code",
   "execution_count": 71,
   "id": "2da13c89",
   "metadata": {},
   "outputs": [
    {
     "data": {
      "text/plain": [
       "'10 + 5 = 15'"
      ]
     },
     "execution_count": 71,
     "metadata": {},
     "output_type": "execute_result"
    }
   ],
   "source": [
    "'%d + %d = %d' % (a,b,a+b)"
   ]
  },
  {
   "cell_type": "code",
   "execution_count": 72,
   "id": "71db15f6",
   "metadata": {},
   "outputs": [
    {
     "data": {
      "text/plain": [
       "'10'"
      ]
     },
     "execution_count": 72,
     "metadata": {},
     "output_type": "execute_result"
    }
   ],
   "source": [
    "f'{a}'"
   ]
  },
  {
   "cell_type": "code",
   "execution_count": 77,
   "id": "b3817403",
   "metadata": {},
   "outputs": [
    {
     "data": {
      "text/plain": [
       "'0.0001000000'"
      ]
     },
     "execution_count": 77,
     "metadata": {},
     "output_type": "execute_result"
    }
   ],
   "source": [
    "'%.10f' % 0.0001"
   ]
  },
  {
   "cell_type": "code",
   "execution_count": 78,
   "id": "77e4fcaf",
   "metadata": {},
   "outputs": [
    {
     "data": {
      "text/plain": [
       "'사과의 가격은 1000원입니다.'"
      ]
     },
     "execution_count": 78,
     "metadata": {},
     "output_type": "execute_result"
    }
   ],
   "source": [
    "apple = 1000\n",
    "'사과의 가격은 %d원입니다.' %(apple)"
   ]
  },
  {
   "cell_type": "code",
   "execution_count": null,
   "id": "3c6bdea9",
   "metadata": {},
   "outputs": [],
   "source": []
  }
 ],
 "metadata": {
  "kernelspec": {
   "display_name": "Python 3 (ipykernel)",
   "language": "python",
   "name": "python3"
  },
  "language_info": {
   "codemirror_mode": {
    "name": "ipython",
    "version": 3
   },
   "file_extension": ".py",
   "mimetype": "text/x-python",
   "name": "python",
   "nbconvert_exporter": "python",
   "pygments_lexer": "ipython3",
   "version": "3.9.12"
  }
 },
 "nbformat": 4,
 "nbformat_minor": 5
}
