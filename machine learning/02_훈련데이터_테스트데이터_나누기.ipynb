{
 "cells": [
  {
   "cell_type": "code",
   "execution_count": 5,
   "metadata": {},
   "outputs": [],
   "source": [
    "import sklearn\n",
    "import pandas\n",
    "import matplotlib.pyplot as plt\n",
    "from sklearn.neighbors import KNeighborsClassifier"
   ]
  },
  {
   "cell_type": "code",
   "execution_count": 1,
   "metadata": {},
   "outputs": [],
   "source": [
    "### 훈련데이터와 테스트 데이터 분리하기\n",
    "# - 수집한 데이터: 데이터셋하고 칭합니다\n",
    "# - 훈련에 사용되는 데이터 : 훈련데이터셋\n",
    "# - 예측에 사용되는 데이터 : 테스트데이터셋\n",
    "\n",
    "### 훈련데이터와 테스트데이터로 분리하는 방법\n",
    "# - 훈련데이터와 테스트데이터를 따로 준비\n",
    "# - 데이터셋을 특정 비율 또는 갯수로 나누어서 준비...\n"
   ]
  },
  {
   "cell_type": "code",
   "execution_count": null,
   "metadata": {},
   "outputs": [],
   "source": [
    "### [문제]\n",
    "# 도미와 빙어 데이터세트를 이용하여\n",
    "# - 각각에 대한 정답데이터 생성\n",
    "# - 하나의 2차원 데이터 생성... 이것도\n",
    "\n",
    "# - 훈련데이터와 테스트데이터 생성하기\n",
    "# - 훈련데이터 변수 :  train_input,train_target\n",
    "# - 테스트 데이터 변수 : test_input, test_target\n",
    "\n",
    "#훈련데이터 35개, 테스트데이터 14개로 분리하여\n",
    "# (훈련/ 테스트 분리하는 함수는 사용하지 않습니다.)\n",
    "# -객체생성 > 훈련데이터 학습 > 정확도 평가하기..\n"
   ]
  },
  {
   "cell_type": "code",
   "execution_count": 2,
   "metadata": {},
   "outputs": [],
   "source": [
    "bream_length = [25.4, 26.3, 26.5, 29.0, 29.0, 29.7, 29.7, 30.0, \n",
    "                30.0, 30.7, 31.0, 31.0, 31.5, 32.0, 32.0, 32.0, \n",
    "                33.0, 33.0, 33.5, 33.5, 34.0, 34.0, 34.5, 35.0, \n",
    "                35.0, 35.0, 35.0, 36.0, 36.0, 37.0, 38.5, 38.5, \n",
    "                39.5, 41.0, 41.0]\n",
    "\n",
    "bream_weight = [242.0, 290.0, 340.0, 363.0, 430.0, 450.0, 500.0, \n",
    "                390.0, 450.0, 500.0, 475.0, 500.0, 500.0, 340.0, \n",
    "                600.0, 600.0, 700.0, 700.0, 610.0, 650.0, 575.0, \n",
    "                685.0, 620.0, 680.0, 700.0, 725.0, 720.0, 714.0, \n",
    "                850.0, 1000.0, 920.0, 955.0, 925.0, 975.0, 950.0]\n",
    "\n",
    "#빙어 데이터\n",
    "smelt_length = [9.8, 10.5, 10.6, 11.0, 11.2, 11.3, 11.8, 11.8, 12.0, 12.2, 12.4, 13.0, 14.3, 15.0]\n",
    "smelt_weight = [6.7, 7.5, 7.0, 9.7, 9.8, 8.7, 10.0, 9.9, 9.8, 12.2, 13.4, 12.2, 19.7, 19.9]\n"
   ]
  },
  {
   "cell_type": "code",
   "execution_count": 35,
   "metadata": {},
   "outputs": [
    {
     "name": "stdout",
     "output_type": "stream",
     "text": [
      "length =  [25.4, 26.3, 26.5, 29.0, 29.0, 29.7, 29.7, 30.0, 30.0, 30.7, 31.0, 31.0, 31.5, 32.0, 32.0, 32.0, 33.0, 33.0, 33.5, 33.5, 34.0, 34.0, 34.5, 35.0, 35.0, 35.0, 35.0, 36.0, 36.0, 37.0, 38.5, 38.5, 39.5, 41.0, 41.0, 9.8, 10.5, 10.6, 11.0, 11.2, 11.3, 11.8, 11.8, 12.0, 12.2, 12.4, 13.0, 14.3, 15.0]\n",
      "-----------------------\n",
      "weight =  [242.0, 290.0, 340.0, 363.0, 430.0, 450.0, 500.0, 390.0, 450.0, 500.0, 475.0, 500.0, 500.0, 340.0, 600.0, 600.0, 700.0, 700.0, 610.0, 650.0, 575.0, 685.0, 620.0, 680.0, 700.0, 725.0, 720.0, 714.0, 850.0, 1000.0, 920.0, 955.0, 925.0, 975.0, 950.0, 6.7, 7.5, 7.0, 9.7, 9.8, 8.7, 10.0, 9.9, 9.8, 12.2, 13.4, 12.2, 19.7, 19.9]\n"
     ]
    }
   ],
   "source": [
    "length=bream_length+smelt_length\n",
    "\n",
    "#도미와 빙어의 무게 데이터 합치기\n",
    "weight=bream_weight+smelt_weight\n",
    "\n",
    "print('length = ',length)\n",
    "print('-----------------------')\n",
    "print('weight = ',weight)"
   ]
  },
  {
   "cell_type": "code",
   "execution_count": 37,
   "metadata": {},
   "outputs": [],
   "source": [
    "fish_data=[]\n",
    "\n",
    "for i in range(len(length)):\n",
    "    fish_data.append([length[i], weight[i]])\n",
    "# len(fish_data)\n",
    "\n",
    "##  리스트 내포 프로그램 : list compre hension 이라고 합니다.\n",
    "# zip() : 각각의 리스트 안에서 각 인덱스의 쌍을 반환해 줍니다.\n",
    "fish_data = [[leng,wei] for leng,wei in zip(length, weight)]\n"
   ]
  },
  {
   "cell_type": "code",
   "execution_count": 38,
   "metadata": {},
   "outputs": [],
   "source": [
    "fish_target = [1] * 35 + [0] * 14"
   ]
  },
  {
   "cell_type": "code",
   "execution_count": 39,
   "metadata": {},
   "outputs": [],
   "source": [
    "train_input =fish_data[:35]\n",
    "train_target =fish_target[:35]\n",
    "test_input =fish_data[35:]\n",
    "test_target =fish_data[35:]"
   ]
  },
  {
   "cell_type": "code",
   "execution_count": 41,
   "metadata": {},
   "outputs": [
    {
     "data": {
      "text/plain": [
       "1.0"
      ]
     },
     "execution_count": 41,
     "metadata": {},
     "output_type": "execute_result"
    }
   ],
   "source": [
    "kn = KNeighborsClassifier()\n",
    "kn.fit(train_input, train_target)\n",
    "\n",
    "kn.score(train_input, train_target)"
   ]
  },
  {
   "cell_type": "markdown",
   "metadata": {},
   "source": [
    "### <샘플링 편항>\n",
    "\n",
    "##### - 특정 데이터가 몰려있는 부분으로만 훈련이 이루어진 경우\n",
    "##### - 샘플링 편향을 해결하기 위해서는 훈련 및 테스트 데이터 생성 시\n",
    "##### 위 아래 데이터들이 잘 섞일 수 있도록 해주어야 합니다."
   ]
  },
  {
   "cell_type": "code",
   "execution_count": 42,
   "metadata": {},
   "outputs": [
    {
     "data": {
      "text/plain": [
       "[[25.4, 242.0],\n",
       " [26.3, 290.0],\n",
       " [26.5, 340.0],\n",
       " [29.0, 363.0],\n",
       " [29.0, 430.0],\n",
       " [29.7, 450.0],\n",
       " [29.7, 500.0],\n",
       " [30.0, 390.0],\n",
       " [30.0, 450.0],\n",
       " [30.7, 500.0],\n",
       " [31.0, 475.0],\n",
       " [31.0, 500.0],\n",
       " [31.5, 500.0],\n",
       " [32.0, 340.0],\n",
       " [32.0, 600.0],\n",
       " [32.0, 600.0],\n",
       " [33.0, 700.0],\n",
       " [33.0, 700.0],\n",
       " [33.5, 610.0],\n",
       " [33.5, 650.0],\n",
       " [34.0, 575.0],\n",
       " [34.0, 685.0],\n",
       " [34.5, 620.0],\n",
       " [35.0, 680.0],\n",
       " [35.0, 700.0],\n",
       " [35.0, 725.0],\n",
       " [35.0, 720.0],\n",
       " [36.0, 714.0],\n",
       " [36.0, 850.0],\n",
       " [37.0, 1000.0],\n",
       " [38.5, 920.0],\n",
       " [38.5, 955.0],\n",
       " [39.5, 925.0],\n",
       " [41.0, 975.0],\n",
       " [41.0, 950.0],\n",
       " [9.8, 6.7],\n",
       " [10.5, 7.5],\n",
       " [10.6, 7.0],\n",
       " [11.0, 9.7],\n",
       " [11.2, 9.8],\n",
       " [11.3, 8.7],\n",
       " [11.8, 10.0],\n",
       " [11.8, 9.9],\n",
       " [12.0, 9.8],\n",
       " [12.2, 12.2],\n",
       " [12.4, 13.4],\n",
       " [13.0, 12.2],\n",
       " [14.3, 19.7],\n",
       " [15.0, 19.9]]"
      ]
     },
     "execution_count": 42,
     "metadata": {},
     "output_type": "execute_result"
    }
   ],
   "source": [
    "fish_data"
   ]
  },
  {
   "cell_type": "code",
   "execution_count": 1,
   "metadata": {},
   "outputs": [
    {
     "ename": "NameError",
     "evalue": "name 'fish_data' is not defined",
     "output_type": "error",
     "traceback": [
      "\u001b[1;31m---------------------------------------------------------------------------\u001b[0m",
      "\u001b[1;31mNameError\u001b[0m                                 Traceback (most recent call last)",
      "\u001b[1;32mc:\\STUDY\\StudyPython22\\머신러닝\\1day\\02_훈련데이터_테스트데이터_나누기.ipynb 셀 12\u001b[0m in \u001b[0;36m<cell line: 3>\u001b[1;34m()\u001b[0m\n\u001b[0;32m      <a href='vscode-notebook-cell:/c%3A/STUDY/StudyPython22/%EB%A8%B8%EC%8B%A0%EB%9F%AC%EB%8B%9D/1day/02_%ED%9B%88%EB%A0%A8%EB%8D%B0%EC%9D%B4%ED%84%B0_%ED%85%8C%EC%8A%A4%ED%8A%B8%EB%8D%B0%EC%9D%B4%ED%84%B0_%EB%82%98%EB%88%84%EA%B8%B0.ipynb#ch0000011?line=0'>1</a>\u001b[0m \u001b[39mimport\u001b[39;00m \u001b[39mnumpy\u001b[39;00m \u001b[39mas\u001b[39;00m \u001b[39mnp\u001b[39;00m\n\u001b[1;32m----> <a href='vscode-notebook-cell:/c%3A/STUDY/StudyPython22/%EB%A8%B8%EC%8B%A0%EB%9F%AC%EB%8B%9D/1day/02_%ED%9B%88%EB%A0%A8%EB%8D%B0%EC%9D%B4%ED%84%B0_%ED%85%8C%EC%8A%A4%ED%8A%B8%EB%8D%B0%EC%9D%B4%ED%84%B0_%EB%82%98%EB%88%84%EA%B8%B0.ipynb#ch0000011?line=2'>3</a>\u001b[0m input_arr \u001b[39m=\u001b[39m np\u001b[39m.\u001b[39marray(fish_data)\n\u001b[0;32m      <a href='vscode-notebook-cell:/c%3A/STUDY/StudyPython22/%EB%A8%B8%EC%8B%A0%EB%9F%AC%EB%8B%9D/1day/02_%ED%9B%88%EB%A0%A8%EB%8D%B0%EC%9D%B4%ED%84%B0_%ED%85%8C%EC%8A%A4%ED%8A%B8%EB%8D%B0%EC%9D%B4%ED%84%B0_%EB%82%98%EB%88%84%EA%B8%B0.ipynb#ch0000011?line=3'>4</a>\u001b[0m target_arr \u001b[39m=\u001b[39m np\u001b[39m.\u001b[39marray(fish_target)\n\u001b[0;32m      <a href='vscode-notebook-cell:/c%3A/STUDY/StudyPython22/%EB%A8%B8%EC%8B%A0%EB%9F%AC%EB%8B%9D/1day/02_%ED%9B%88%EB%A0%A8%EB%8D%B0%EC%9D%B4%ED%84%B0_%ED%85%8C%EC%8A%A4%ED%8A%B8%EB%8D%B0%EC%9D%B4%ED%84%B0_%EB%82%98%EB%88%84%EA%B8%B0.ipynb#ch0000011?line=4'>5</a>\u001b[0m \u001b[39m# print(input_arr)\u001b[39;00m\n\u001b[0;32m      <a href='vscode-notebook-cell:/c%3A/STUDY/StudyPython22/%EB%A8%B8%EC%8B%A0%EB%9F%AC%EB%8B%9D/1day/02_%ED%9B%88%EB%A0%A8%EB%8D%B0%EC%9D%B4%ED%84%B0_%ED%85%8C%EC%8A%A4%ED%8A%B8%EB%8D%B0%EC%9D%B4%ED%84%B0_%EB%82%98%EB%88%84%EA%B8%B0.ipynb#ch0000011?line=5'>6</a>\u001b[0m \n\u001b[0;32m      <a href='vscode-notebook-cell:/c%3A/STUDY/StudyPython22/%EB%A8%B8%EC%8B%A0%EB%9F%AC%EB%8B%9D/1day/02_%ED%9B%88%EB%A0%A8%EB%8D%B0%EC%9D%B4%ED%84%B0_%ED%85%8C%EC%8A%A4%ED%8A%B8%EB%8D%B0%EC%9D%B4%ED%84%B0_%EB%82%98%EB%88%84%EA%B8%B0.ipynb#ch0000011?line=6'>7</a>\u001b[0m \u001b[39m#넘파이 배열에서는 차원 확인이 가능\u001b[39;00m\n",
      "\u001b[1;31mNameError\u001b[0m: name 'fish_data' is not defined"
     ]
    }
   ],
   "source": [
    "import numpy as np\n",
    "\n",
    "input_arr = np.array(fish_data)\n",
    "target_arr = np.array(fish_target)\n",
    "# print(input_arr)\n",
    "\n",
    "#넘파이 배열에서는 차원 확인이 가능\n",
    "print(input_arr.shape)\n",
    "print(target_arr.shape)\n"
   ]
  },
  {
   "cell_type": "code",
   "execution_count": 48,
   "metadata": {},
   "outputs": [
    {
     "name": "stdout",
     "output_type": "stream",
     "text": [
      "index= [ 0  1  2  3  4  5  6  7  8  9 10 11 12 13 14 15 16 17 18 19 20 21 22 23\n",
      " 24 25 26 27 28 29 30 31 32 33 34 35 36 37 38 39 40 41 42 43 44 45 46 47\n",
      " 48]\n",
      "------------------\n",
      "(섞은 후)index =  [13 45 47 44 17 27 26 25 31 19 12  4 34  8  3  6 40 41 46 15  9 16 24 33\n",
      " 30  0 43 32  5 29 11 36  1 21  2 37 35 23 39 10 22 18 48 20  7 42 14 28\n",
      " 38]\n"
     ]
    }
   ],
   "source": [
    "### 넘파이 shuffle()함수를 이용해서 배열(리스트) 데이터 섞기...\n",
    "\n",
    "np.random.seed(42)\n",
    "#0~48까지의 순차적인 번호 생성하기\n",
    "index = np.arange(49)\n",
    "print('index=', index)\n",
    "print('------------------')\n",
    "\n",
    "# 0~48까지의 순차적 번호를 섞기..\n",
    "# 아직.. 데이터는 그래도..\n",
    "np.random.shuffle(index)\n",
    "print('(섞은 후)index = ', index)"
   ]
  },
  {
   "cell_type": "code",
   "execution_count": 50,
   "metadata": {},
   "outputs": [
    {
     "name": "stdout",
     "output_type": "stream",
     "text": [
      "[[  32.   340. ]\n",
      " [  12.4   13.4]\n",
      " [  14.3   19.7]\n",
      " [  12.2   12.2]\n",
      " [  33.   700. ]\n",
      " [  36.   714. ]\n",
      " [  35.   720. ]\n",
      " [  35.   725. ]\n",
      " [  38.5  955. ]\n",
      " [  33.5  650. ]\n",
      " [  31.5  500. ]\n",
      " [  29.   430. ]\n",
      " [  41.   950. ]\n",
      " [  30.   450. ]\n",
      " [  29.   363. ]\n",
      " [  29.7  500. ]\n",
      " [  11.3    8.7]\n",
      " [  11.8   10. ]\n",
      " [  13.    12.2]\n",
      " [  32.   600. ]\n",
      " [  30.7  500. ]\n",
      " [  33.   700. ]\n",
      " [  35.   700. ]\n",
      " [  41.   975. ]\n",
      " [  38.5  920. ]\n",
      " [  25.4  242. ]\n",
      " [  12.     9.8]\n",
      " [  39.5  925. ]\n",
      " [  29.7  450. ]\n",
      " [  37.  1000. ]\n",
      " [  31.   500. ]\n",
      " [  10.5    7.5]\n",
      " [  26.3  290. ]\n",
      " [  34.   685. ]\n",
      " [  26.5  340. ]]\n",
      "---------------------------\n",
      "[1 0 0 0 1 1 1 1 1 1 1 1 1 1 1 1 0 0 0 1 1 1 1 1 1 1 0 1 1 1 1 0 1 1 1]\n"
     ]
    }
   ],
   "source": [
    "## 훈련데이터 생성하기\n",
    "train_input = input_arr[index[:35]]   #2차원\n",
    "train_target = target_arr[index[:35]] #1차원\n",
    "\n",
    "print(train_input)\n",
    "print('---------------------------')\n",
    "print(train_target)"
   ]
  },
  {
   "cell_type": "code",
   "execution_count": 51,
   "metadata": {},
   "outputs": [
    {
     "name": "stdout",
     "output_type": "stream",
     "text": [
      "[[ 10.6   7. ]\n",
      " [  9.8   6.7]\n",
      " [ 35.  680. ]\n",
      " [ 11.2   9.8]\n",
      " [ 31.  475. ]\n",
      " [ 34.5 620. ]\n",
      " [ 33.5 610. ]\n",
      " [ 15.   19.9]\n",
      " [ 34.  575. ]\n",
      " [ 30.  390. ]\n",
      " [ 11.8   9.9]\n",
      " [ 32.  600. ]\n",
      " [ 36.  850. ]\n",
      " [ 11.    9.7]]\n",
      "--------------------------------\n",
      "[0 0 1 0 1 1 1 0 1 1 0 1 1 0]\n"
     ]
    }
   ],
   "source": [
    "## 테스트 데이터 생성하기\n",
    "test_input = input_arr[index[35:]]\n",
    "test_target = target_arr[index[35:]]\n",
    "\n",
    "print(test_input)\n",
    "print('--------------------------------')\n",
    "print(test_target)"
   ]
  },
  {
   "cell_type": "code",
   "execution_count": 54,
   "metadata": {},
   "outputs": [
    {
     "data": {
      "image/png": "[encoded data removed]",
      "text/plain": [
       "<Figure size 432x288 with 1 Axes>"
      ]
     },
     "metadata": {
      "needs_background": "light"
     },
     "output_type": "display_data"
    }
   ],
   "source": [
    "plt.scatter(train_input[:,0],train_input[:,1],color = 'red', alpha = 0.4, s = 50)\n",
    "plt.scatter(test_input[:,0],test_input[:,1],color = 'orange', alpha = 0.4, s = 50)\n",
    "plt.xlabel('length')\n",
    "plt.ylabel('weight')\n",
    "plt.show()"
   ]
  },
  {
   "cell_type": "code",
   "execution_count": 55,
   "metadata": {},
   "outputs": [
    {
     "data": {
      "text/plain": [
       "KNeighborsClassifier()"
      ]
     },
     "execution_count": 55,
     "metadata": {},
     "output_type": "execute_result"
    }
   ],
   "source": [
    "kn.fit(train_input, train_target)"
   ]
  },
  {
   "cell_type": "code",
   "execution_count": 56,
   "metadata": {},
   "outputs": [
    {
     "data": {
      "text/plain": [
       "1.0"
      ]
     },
     "execution_count": 56,
     "metadata": {},
     "output_type": "execute_result"
    }
   ],
   "source": [
    "kn.score(test_input,test_target)\n"
   ]
  },
  {
   "cell_type": "code",
   "execution_count": 57,
   "metadata": {},
   "outputs": [
    {
     "data": {
      "text/plain": [
       "array([0, 0, 1, 0, 1, 1, 1, 0, 1, 1, 0, 1, 1, 0])"
      ]
     },
     "execution_count": 57,
     "metadata": {},
     "output_type": "execute_result"
    }
   ],
   "source": [
    "kn.predict(test_input)"
   ]
  },
  {
   "cell_type": "code",
   "execution_count": 58,
   "metadata": {},
   "outputs": [
    {
     "data": {
      "text/plain": [
       "array([0, 0, 1, 0, 1, 1, 1, 0, 1, 1, 0, 1, 1, 0])"
      ]
     },
     "execution_count": 58,
     "metadata": {},
     "output_type": "execute_result"
    }
   ],
   "source": [
    "test_target"
   ]
  }
 ],
 "metadata": {
  "kernelspec": {
   "display_name": "ml_kernel",
   "language": "python",
   "name": "django"
  },
  "language_info": {
   "codemirror_mode": {
    "name": "ipython",
    "version": 3
   },
   "file_extension": ".py",
   "mimetype": "text/x-python",
   "name": "python",
   "nbconvert_exporter": "python",
   "pygments_lexer": "ipython3",
   "version": "3.9.12"
  },
  "orig_nbformat": 4,
  "vscode": {
   "interpreter": {
    "hash": "38ae1ba9371524da054e8e3fbefd778d16b5a8ac7937a3f395010f627bb73919"
   }
  }
 },
 "nbformat": 4,
 "nbformat_minor": 2
}
