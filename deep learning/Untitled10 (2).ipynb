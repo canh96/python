{
 "cells": [
  {
   "cell_type": "code",
   "execution_count": 1,
   "metadata": {},
   "outputs": [
    {
     "data": {
      "text/plain": [
       "''"
      ]
     },
     "execution_count": 1,
     "metadata": {},
     "output_type": "execute_result"
    }
   ],
   "source": [
    "\"\""
   ]
  },
  {
   "cell_type": "code",
   "execution_count": null,
   "metadata": {},
   "outputs": [],
   "source": []
  },
  {
   "cell_type": "code",
   "execution_count": null,
   "metadata": {},
   "outputs": [],
   "source": [
    "\n"
   ]
  },
  {
   "cell_type": "code",
   "execution_count": null,
   "metadata": {},
   "outputs": [],
   "source": []
  },
  {
   "cell_type": "code",
   "execution_count": 11,
   "metadata": {},
   "outputs": [],
   "source": [
    "## 기본모듈\n",
    "import numpy as np\n",
    "import pandas as pd\n",
    "import matplotlib.pyplot as plt\n",
    "from sklearn.model_selection import train_test_split\n",
    "## 모듈 import\n",
    "from tensorflow import keras\n",
    "from keras.models import Sequential\n",
    "from keras.layers import Dense\n",
    "from keras.utils import to_categorical, plot_model\n",
    "from keras.datasets import mnist"
   ]
  },
  {
   "cell_type": "code",
   "execution_count": 12,
   "metadata": {},
   "outputs": [],
   "source": [
    "## dataset 정리\n",
    "(X_train_full, y_train_full),(X_test,y_test) = mnist.load_data()\n",
    "X_train, X_val, y_train, y_val = train_test_split(X_train_full,y_train_full,test_size =.2)"
   ]
  },
  {
   "cell_type": "code",
   "execution_count": 14,
   "metadata": {},
   "outputs": [
    {
     "name": "stdout",
     "output_type": "stream",
     "text": [
      "(48000, 28, 28)\n",
      "(48000,)\n"
     ]
    }
   ],
   "source": [
    "print(X_train.shape)\n",
    "print(y_train.shape)"
   ]
  },
  {
   "cell_type": "code",
   "execution_count": 23,
   "metadata": {},
   "outputs": [
    {
     "data": {
      "text/plain": [
       "2"
      ]
     },
     "execution_count": 23,
     "metadata": {},
     "output_type": "execute_result"
    },
    {
     "data": {
      "image/png": "[encoded data removed]",
      "text/plain": [
       "<Figure size 432x288 with 1 Axes>"
      ]
     },
     "metadata": {
      "needs_background": "light"
     },
     "output_type": "display_data"
    }
   ],
   "source": [
    "plt.imshow(X_train[0])\n",
    "y_train[0]"
   ]
  },
  {
   "cell_type": "code",
   "execution_count": 24,
   "metadata": {},
   "outputs": [
    {
     "data": {
      "text/plain": [
       "(48000, 28, 28)"
      ]
     },
     "execution_count": 24,
     "metadata": {},
     "output_type": "execute_result"
    }
   ],
   "source": [
    "X_train.shape"
   ]
  },
  {
   "cell_type": "code",
   "execution_count": 27,
   "metadata": {},
   "outputs": [],
   "source": [
    "x = X_train.reshape(-1,784*1000)"
   ]
  },
  {
   "cell_type": "code",
   "execution_count": 30,
   "metadata": {},
   "outputs": [],
   "source": [
    "y = x.reshape(48000,28,28)"
   ]
  },
  {
   "cell_type": "code",
   "execution_count": 31,
   "metadata": {},
   "outputs": [
    {
     "data": {
      "text/plain": [
       "<matplotlib.image.AxesImage at 0x2a0ddaeda00>"
      ]
     },
     "execution_count": 31,
     "metadata": {},
     "output_type": "execute_result"
    },
    {
     "data": {
      "image/png": "[encoded data removed]",
      "text/plain": [
       "<Figure size 432x288 with 1 Axes>"
      ]
     },
     "metadata": {
      "needs_background": "light"
     },
     "output_type": "display_data"
    }
   ],
   "source": [
    "plt.imshow(y[0])"
   ]
  },
  {
   "cell_type": "code",
   "execution_count": 32,
   "metadata": {},
   "outputs": [],
   "source": [
    "# X데이터 정리\n",
    "X_train = X_train.reshape(-1,784)\n",
    "X_val = X_val.reshape(-1,784)\n",
    "X_test = X_test.reshape(-1,784)"
   ]
  },
  {
   "cell_type": "code",
   "execution_count": 37,
   "metadata": {},
   "outputs": [],
   "source": [
    "# y데이터 확인 정리\n",
    "np.unique(y_train).size\n",
    "# categorical 데이터 확인\n",
    "# one-hot 변환\n",
    "y_train = to_categorical(y_train)\n",
    "y_val = to_categorical(y_val)\n",
    "y_test = to_categorical(y_test)"
   ]
  },
  {
   "cell_type": "code",
   "execution_count": 76,
   "metadata": {},
   "outputs": [],
   "source": [
    "## 모델 생성\n",
    "model1 = Sequential()\n",
    "l1 = Dense(1024,activation='relu',input_dim=784)\n",
    "l2 = Dense(512,activation='sigmoid')\n",
    "out = Dense(10,activation='softmax')\n",
    "model1.add(l1)\n",
    "model1.add(l2)\n",
    "model1.add(out)"
   ]
  },
  {
   "cell_type": "code",
   "execution_count": 43,
   "metadata": {},
   "outputs": [
    {
     "name": "stdout",
     "output_type": "stream",
     "text": [
      "Model: \"sequential_4\"\n",
      "_________________________________________________________________\n",
      " Layer (type)                Output Shape              Param #   \n",
      "=================================================================\n",
      " dense (Dense)               (None, 1024)              803840    \n",
      "                                                                 \n",
      " dense_1 (Dense)             (None, 512)               524800    \n",
      "                                                                 \n",
      " dense_2 (Dense)             (None, 10)                5130      \n",
      "                                                                 \n",
      "=================================================================\n",
      "Total params: 1,333,770\n",
      "Trainable params: 1,333,770\n",
      "Non-trainable params: 0\n",
      "_________________________________________________________________\n"
     ]
    }
   ],
   "source": [
    "model1.summary()"
   ]
  },
  {
   "cell_type": "code",
   "execution_count": 81,
   "metadata": {},
   "outputs": [],
   "source": [
    "## 모델 설정\n",
    "optimizer = 'sgd'\n",
    "loss = 'categorical_crossentropy'\n",
    "metrics = ['accuracy']\n",
    "model1.compile(\n",
    "    optimizer = keras.optimizers.SGD(),\n",
    "    loss = keras.losses.CategoricalCrossentropy(),\n",
    "    metrics = metrics\n",
    ")"
   ]
  },
  {
   "cell_type": "code",
   "execution_count": 78,
   "metadata": {},
   "outputs": [
    {
     "name": "stdout",
     "output_type": "stream",
     "text": [
      "Epoch 1/10\n",
      "375/375 [==============================] - 10s 26ms/step - loss: 0.7183 - accuracy: 0.8158 - val_loss: 0.4191 - val_accuracy: 0.8917\n",
      "Epoch 2/10\n",
      "375/375 [==============================] - 9s 25ms/step - loss: 0.3481 - accuracy: 0.9087 - val_loss: 0.3219 - val_accuracy: 0.9128\n",
      "Epoch 3/10\n",
      "375/375 [==============================] - 10s 26ms/step - loss: 0.2643 - accuracy: 0.9294 - val_loss: 0.2830 - val_accuracy: 0.9227\n",
      "Epoch 4/10\n",
      "375/375 [==============================] - 9s 25ms/step - loss: 0.2237 - accuracy: 0.9402 - val_loss: 0.2508 - val_accuracy: 0.9277\n",
      "Epoch 5/10\n",
      "375/375 [==============================] - 9s 25ms/step - loss: 0.1855 - accuracy: 0.9508 - val_loss: 0.2274 - val_accuracy: 0.9355\n",
      "Epoch 6/10\n",
      "375/375 [==============================] - 9s 25ms/step - loss: 0.1620 - accuracy: 0.9574 - val_loss: 0.2095 - val_accuracy: 0.9396\n",
      "Epoch 7/10\n",
      "375/375 [==============================] - 10s 26ms/step - loss: 0.1362 - accuracy: 0.9638 - val_loss: 0.1956 - val_accuracy: 0.9426\n",
      "Epoch 8/10\n",
      "375/375 [==============================] - 10s 26ms/step - loss: 0.1181 - accuracy: 0.9722 - val_loss: 0.1900 - val_accuracy: 0.9431\n",
      "Epoch 9/10\n",
      "375/375 [==============================] - 10s 25ms/step - loss: 0.1011 - accuracy: 0.9754 - val_loss: 0.1765 - val_accuracy: 0.9476\n",
      "Epoch 10/10\n",
      "375/375 [==============================] - 9s 25ms/step - loss: 0.0850 - accuracy: 0.9809 - val_loss: 0.1730 - val_accuracy: 0.9482\n"
     ]
    },
    {
     "data": {
      "text/plain": [
       "<keras.callbacks.History at 0x2a0e00e7130>"
      ]
     },
     "execution_count": 78,
     "metadata": {},
     "output_type": "execute_result"
    }
   ],
   "source": [
    "## 모델학습\n",
    "model1.fit(\n",
    "    X_val,\n",
    "    y_val,\n",
    "    epochs = 10,\n",
    "    validation_data = (X_train, y_train)\n",
    ")"
   ]
  },
  {
   "cell_type": "code",
   "execution_count": 50,
   "metadata": {},
   "outputs": [
    {
     "name": "stdout",
     "output_type": "stream",
     "text": [
      "313/313 [==============================] - 2s 5ms/step - loss: 0.0785 - accuracy: 0.9750\n"
     ]
    },
    {
     "data": {
      "text/plain": [
       "[0.07854876667261124, 0.9750000238418579]"
      ]
     },
     "execution_count": 50,
     "metadata": {},
     "output_type": "execute_result"
    }
   ],
   "source": [
    "## test 정확도 검증\n",
    "model1.evaluate(X_test,y_test)"
   ]
  },
  {
   "cell_type": "code",
   "execution_count": 59,
   "metadata": {},
   "outputs": [
    {
     "name": "stdout",
     "output_type": "stream",
     "text": [
      "313/313 [==============================] - 1s 4ms/step\n"
     ]
    },
    {
     "data": {
      "text/plain": [
       "0.975"
      ]
     },
     "execution_count": 59,
     "metadata": {},
     "output_type": "execute_result"
    }
   ],
   "source": [
    "np.sum(np.argmax(y_test,axis=1) == np.argmax(model1.predict(X_test),axis=1))/len(y_test)"
   ]
  },
  {
   "cell_type": "code",
   "execution_count": 73,
   "metadata": {},
   "outputs": [],
   "source": [
    "## 활용\n",
    "def mnist_test(x):\n",
    "    ind = np.random.choice(np.arange(len(X_test)),x,replace=False)\n",
    "    size = x\n",
    "    score = 0\n",
    "    for i in ind:\n",
    "        plt.imshow(X_test[i].reshape(28,28))\n",
    "        pred = np.argmax(model1.predict(X_test[[i]]))\n",
    "        real = np.argmax(y_test[i])\n",
    "        if pred == real:\n",
    "            result = '맞음'\n",
    "            score += 1\n",
    "        else:\n",
    "            result = '틀림'\n",
    "        score = (score/size)*100\n",
    "        print(f'정답은 ===> {real}  예측은 ===> {pred} 결과는 ===> {result}')\n",
    "        plt.show()\n",
    "    print('\\n',f' 총 {size}를 예측한 결과 예측률은 {score} %')"
   ]
  },
  {
   "cell_type": "code",
   "execution_count": 74,
   "metadata": {},
   "outputs": [
    {
     "name": "stdout",
     "output_type": "stream",
     "text": [
      "1/1 [==============================] - 0s 22ms/step\n",
      "정답은 ===> 1  예측은 ===> 1 결과는 ===> 맞음\n"
     ]
    },
    {
     "data": {
      "image/png": "[encoded data removed]",
      "text/plain": [
       "<Figure size 432x288 with 1 Axes>"
      ]
     },
     "metadata": {
      "needs_background": "light"
     },
     "output_type": "display_data"
    },
    {
     "name": "stdout",
     "output_type": "stream",
     "text": [
      "1/1 [==============================] - 0s 20ms/step\n",
      "정답은 ===> 6  예측은 ===> 6 결과는 ===> 맞음\n"
     ]
    },
    {
     "data": {
      "image/png": "[encoded data removed]",
      "text/plain": [
       "<Figure size 432x288 with 1 Axes>"
      ]
     },
     "metadata": {
      "needs_background": "light"
     },
     "output_type": "display_data"
    },
    {
     "name": "stdout",
     "output_type": "stream",
     "text": [
      "1/1 [==============================] - 0s 24ms/step\n",
      "정답은 ===> 4  예측은 ===> 4 결과는 ===> 맞음\n"
     ]
    },
    {
     "data": {
      "image/png": "[encoded data removed]",
      "text/plain": [
       "<Figure size 432x288 with 1 Axes>"
      ]
     },
     "metadata": {
      "needs_background": "light"
     },
     "output_type": "display_data"
    },
    {
     "name": "stdout",
     "output_type": "stream",
     "text": [
      "1/1 [==============================] - 0s 21ms/step\n",
      "정답은 ===> 1  예측은 ===> 1 결과는 ===> 맞음\n"
     ]
    },
    {
     "data": {
      "image/png": "[encoded data removed]",
      "text/plain": [
       "<Figure size 432x288 with 1 Axes>"
      ]
     },
     "metadata": {
      "needs_background": "light"
     },
     "output_type": "display_data"
    },
    {
     "name": "stdout",
     "output_type": "stream",
     "text": [
      "1/1 [==============================] - 0s 28ms/step\n",
      "정답은 ===> 3  예측은 ===> 3 결과는 ===> 맞음\n"
     ]
    },
    {
     "data": {
      "image/png": "[encoded data removed]",
      "text/plain": [
       "<Figure size 432x288 with 1 Axes>"
      ]
     },
     "metadata": {
      "needs_background": "light"
     },
     "output_type": "display_data"
    },
    {
     "name": "stdout",
     "output_type": "stream",
     "text": [
      "1/1 [==============================] - 0s 35ms/step\n",
      "정답은 ===> 0  예측은 ===> 0 결과는 ===> 맞음\n"
     ]
    },
    {
     "data": {
      "image/png": "[encoded data removed]",
      "text/plain": [
       "<Figure size 432x288 with 1 Axes>"
      ]
     },
     "metadata": {
      "needs_background": "light"
     },
     "output_type": "display_data"
    },
    {
     "name": "stdout",
     "output_type": "stream",
     "text": [
      "1/1 [==============================] - 0s 34ms/step\n",
      "정답은 ===> 3  예측은 ===> 3 결과는 ===> 맞음\n"
     ]
    },
    {
     "data": {
      "image/png": "[encoded data removed]",
      "text/plain": [
       "<Figure size 432x288 with 1 Axes>"
      ]
     },
     "metadata": {
      "needs_background": "light"
     },
     "output_type": "display_data"
    },
    {
     "name": "stdout",
     "output_type": "stream",
     "text": [
      "1/1 [==============================] - 0s 31ms/step\n",
      "정답은 ===> 0  예측은 ===> 0 결과는 ===> 맞음\n"
     ]
    },
    {
     "data": {
      "image/png": "[encoded data removed]",
      "text/plain": [
       "<Figure size 432x288 with 1 Axes>"
      ]
     },
     "metadata": {
      "needs_background": "light"
     },
     "output_type": "display_data"
    },
    {
     "name": "stdout",
     "output_type": "stream",
     "text": [
      "1/1 [==============================] - 0s 26ms/step\n",
      "정답은 ===> 1  예측은 ===> 1 결과는 ===> 맞음\n"
     ]
    },
    {
     "data": {
      "image/png": "[encoded data removed]",
      "text/plain": [
       "<Figure size 432x288 with 1 Axes>"
      ]
     },
     "metadata": {
      "needs_background": "light"
     },
     "output_type": "display_data"
    },
    {
     "name": "stdout",
     "output_type": "stream",
     "text": [
      "1/1 [==============================] - 0s 23ms/step\n",
      "정답은 ===> 5  예측은 ===> 5 결과는 ===> 맞음\n"
     ]
    },
    {
     "data": {
      "image/png": "[encoded data removed]",
      "text/plain": [
       "<Figure size 432x288 with 1 Axes>"
      ]
     },
     "metadata": {
      "needs_background": "light"
     },
     "output_type": "display_data"
    },
    {
     "name": "stdout",
     "output_type": "stream",
     "text": [
      "\n",
      "  총 10를 예측한 결과 예측률은 11111111110.000002 %\n"
     ]
    }
   ],
   "source": [
    "mnist_test(10)"
   ]
  },
  {
   "cell_type": "code",
   "execution_count": 79,
   "metadata": {},
   "outputs": [],
   "source": [
    "model2 = Sequential()"
   ]
  },
  {
   "cell_type": "code",
   "execution_count": null,
   "metadata": {},
   "outputs": [],
   "source": [
    "model2.compile(optimizer='sgd',\n",
    "              loss = 'binary_crossentropy')"
   ]
  },
  {
   "cell_type": "code",
   "execution_count": 82,
   "metadata": {},
   "outputs": [],
   "source": [
    "from keras.datasets import mnist"
   ]
  },
  {
   "cell_type": "code",
   "execution_count": 83,
   "metadata": {},
   "outputs": [],
   "source": [
    "(X_train_full, y_train_full) , (X_test, y_test) = mnist.load_data()"
   ]
  },
  {
   "cell_type": "code",
   "execution_count": 86,
   "metadata": {},
   "outputs": [],
   "source": [
    "y_train_full = np.where((y_train_full == 1) | (y_train_full == 7) | (y_train_full == 9)\n",
    "                        ,1,0)\n",
    "y_test =  np.where((y_test == 1) | (y_test == 7) | (y_test == 9)\n",
    "                        ,1,0)"
   ]
  },
  {
   "cell_type": "code",
   "execution_count": 87,
   "metadata": {},
   "outputs": [],
   "source": [
    "X_train, X_val, y_train, y_val = train_test_split(X_train_full, y_train_full,test_size=.2)"
   ]
  },
  {
   "cell_type": "code",
   "execution_count": 88,
   "metadata": {},
   "outputs": [],
   "source": [
    "X_train = X_train.reshape(-1,28*28)\n",
    "X_val = X_val.reshape(-1,28*28)\n",
    "X_test = X_test.reshape(-1,28*28)"
   ]
  },
  {
   "cell_type": "code",
   "execution_count": 99,
   "metadata": {},
   "outputs": [],
   "source": [
    "model2 = Sequential()\n",
    "model2.add(Dense(1024,activation='relu',input_shape=(784,)))\n",
    "model2.add(keras.layers.BatchNormalization())\n",
    "model2.add(keras.layers.Dense(512,activation='relu'))\n",
    "model2.add(keras.layers.Dense(1,activation='sigmoid'))"
   ]
  },
  {
   "cell_type": "code",
   "execution_count": 100,
   "metadata": {},
   "outputs": [],
   "source": [
    "model2.compile(\n",
    "    optimizer = 'sgd',\n",
    "    loss = 'binary_crossentropy',\n",
    "    metrics = ['accuracy']\n",
    ")"
   ]
  },
  {
   "cell_type": "code",
   "execution_count": 101,
   "metadata": {},
   "outputs": [
    {
     "name": "stdout",
     "output_type": "stream",
     "text": [
      "Epoch 1/10\n",
      "120/120 [==============================] - 4s 33ms/step - loss: 0.2109 - accuracy: 0.9224 - val_loss: 0.1410 - val_accuracy: 0.9517\n",
      "Epoch 2/10\n",
      "120/120 [==============================] - 4s 31ms/step - loss: 0.1140 - accuracy: 0.9633 - val_loss: 0.1041 - val_accuracy: 0.9653\n",
      "Epoch 3/10\n",
      "120/120 [==============================] - 4s 33ms/step - loss: 0.0936 - accuracy: 0.9701 - val_loss: 0.0925 - val_accuracy: 0.9697\n",
      "Epoch 4/10\n",
      "120/120 [==============================] - 4s 34ms/step - loss: 0.0822 - accuracy: 0.9739 - val_loss: 0.0846 - val_accuracy: 0.9722\n",
      "Epoch 5/10\n",
      "120/120 [==============================] - 4s 33ms/step - loss: 0.0747 - accuracy: 0.9770 - val_loss: 0.0790 - val_accuracy: 0.9739\n",
      "Epoch 6/10\n",
      "120/120 [==============================] - 4s 33ms/step - loss: 0.0681 - accuracy: 0.9781 - val_loss: 0.0745 - val_accuracy: 0.9758\n",
      "Epoch 7/10\n",
      "120/120 [==============================] - 4s 32ms/step - loss: 0.0632 - accuracy: 0.9803 - val_loss: 0.0709 - val_accuracy: 0.9768\n",
      "Epoch 8/10\n",
      "120/120 [==============================] - 4s 37ms/step - loss: 0.0591 - accuracy: 0.9814 - val_loss: 0.0677 - val_accuracy: 0.9775\n",
      "Epoch 9/10\n",
      "120/120 [==============================] - 5s 38ms/step - loss: 0.0550 - accuracy: 0.9827 - val_loss: 0.0652 - val_accuracy: 0.9778\n",
      "Epoch 10/10\n",
      "120/120 [==============================] - 5s 38ms/step - loss: 0.0518 - accuracy: 0.9840 - val_loss: 0.0628 - val_accuracy: 0.9787\n"
     ]
    },
    {
     "data": {
      "text/plain": [
       "<keras.callbacks.History at 0x2a0df5daf70>"
      ]
     },
     "execution_count": 101,
     "metadata": {},
     "output_type": "execute_result"
    }
   ],
   "source": [
    "model2.fit(X_train,\n",
    "          y_train,\n",
    "          epochs=10,\n",
    "          batch_size = 400,\n",
    "          validation_data = (X_val,y_val),\n",
    "          verbose = 1)"
   ]
  },
  {
   "cell_type": "code",
   "execution_count": 102,
   "metadata": {},
   "outputs": [
    {
     "name": "stdout",
     "output_type": "stream",
     "text": [
      "313/313 [==============================] - 2s 5ms/step - loss: 0.0629 - accuracy: 0.9794\n"
     ]
    },
    {
     "data": {
      "text/plain": [
       "[0.06291022151708603, 0.9793999791145325]"
      ]
     },
     "execution_count": 102,
     "metadata": {},
     "output_type": "execute_result"
    }
   ],
   "source": [
    "model2.evaluate(X_test,y_test)"
   ]
  },
  {
   "cell_type": "code",
   "execution_count": 104,
   "metadata": {},
   "outputs": [],
   "source": [
    "def mnist_test1(x):\n",
    "    ind = np.random.choice(np.arange(len(X_test)),x,replace=False)\n",
    "    size = x\n",
    "    score = 0\n",
    "    for i in ind:\n",
    "        plt.imshow(X_test[i].reshape(28,28))\n",
    "        pred = np.where(model2.predict(X_test[[i]]) >0.5,1,0)\n",
    "        real = np.where(y_test[i]>0.5,1,0)\n",
    "        if pred == real:\n",
    "            result = '맞음'\n",
    "            score += 1\n",
    "        else:\n",
    "            result = '틀림'\n",
    "        score = (score/size)*100\n",
    "        print(f'정답은 ===> {real}  예측은 ===> {pred} 결과는 ===> {result}')\n",
    "        plt.show()"
   ]
  },
  {
   "cell_type": "code",
   "execution_count": 103,
   "metadata": {},
   "outputs": [
    {
     "name": "stdout",
     "output_type": "stream",
     "text": [
      "1/1 [==============================] - 0s 97ms/step\n"
     ]
    },
    {
     "data": {
      "text/plain": [
       "array([[0.99862534]], dtype=float32)"
      ]
     },
     "execution_count": 103,
     "metadata": {},
     "output_type": "execute_result"
    }
   ],
   "source": [
    "model2.predict(X_test[0:1])"
   ]
  },
  {
   "cell_type": "code",
   "execution_count": 105,
   "metadata": {},
   "outputs": [
    {
     "name": "stdout",
     "output_type": "stream",
     "text": [
      "1/1 [==============================] - 0s 21ms/step\n",
      "정답은 ===> 0  예측은 ===> [[0]] 결과는 ===> 맞음\n"
     ]
    },
    {
     "data": {
      "image/png": "[encoded data removed]",
      "text/plain": [
       "<Figure size 432x288 with 1 Axes>"
      ]
     },
     "metadata": {
      "needs_background": "light"
     },
     "output_type": "display_data"
    },
    {
     "name": "stdout",
     "output_type": "stream",
     "text": [
      "1/1 [==============================] - 0s 23ms/step\n",
      "정답은 ===> 0  예측은 ===> [[0]] 결과는 ===> 맞음\n"
     ]
    },
    {
     "data": {
      "image/png": "[encoded data removed]",
      "text/plain": [
       "<Figure size 432x288 with 1 Axes>"
      ]
     },
     "metadata": {
      "needs_background": "light"
     },
     "output_type": "display_data"
    },
    {
     "name": "stdout",
     "output_type": "stream",
     "text": [
      "1/1 [==============================] - 0s 20ms/step\n",
      "정답은 ===> 1  예측은 ===> [[1]] 결과는 ===> 맞음\n"
     ]
    },
    {
     "data": {
      "image/png": "[encoded data removed]",
      "text/plain": [
       "<Figure size 432x288 with 1 Axes>"
      ]
     },
     "metadata": {
      "needs_background": "light"
     },
     "output_type": "display_data"
    },
    {
     "name": "stdout",
     "output_type": "stream",
     "text": [
      "1/1 [==============================] - 0s 22ms/step\n",
      "정답은 ===> 1  예측은 ===> [[1]] 결과는 ===> 맞음\n"
     ]
    },
    {
     "data": {
      "image/png": "[encoded data removed]",
      "text/plain": [
       "<Figure size 432x288 with 1 Axes>"
      ]
     },
     "metadata": {
      "needs_background": "light"
     },
     "output_type": "display_data"
    },
    {
     "name": "stdout",
     "output_type": "stream",
     "text": [
      "1/1 [==============================] - 0s 31ms/step\n",
      "정답은 ===> 0  예측은 ===> [[0]] 결과는 ===> 맞음\n"
     ]
    },
    {
     "data": {
      "image/png": "[encoded data removed]",
      "text/plain": [
       "<Figure size 432x288 with 1 Axes>"
      ]
     },
     "metadata": {
      "needs_background": "light"
     },
     "output_type": "display_data"
    },
    {
     "name": "stdout",
     "output_type": "stream",
     "text": [
      "1/1 [==============================] - 0s 21ms/step\n",
      "정답은 ===> 0  예측은 ===> [[0]] 결과는 ===> 맞음\n"
     ]
    },
    {
     "data": {
      "image/png": "[encoded data removed]",
      "text/plain": [
       "<Figure size 432x288 with 1 Axes>"
      ]
     },
     "metadata": {
      "needs_background": "light"
     },
     "output_type": "display_data"
    },
    {
     "name": "stdout",
     "output_type": "stream",
     "text": [
      "1/1 [==============================] - 0s 34ms/step\n",
      "정답은 ===> 0  예측은 ===> [[0]] 결과는 ===> 맞음\n"
     ]
    },
    {
     "data": {
      "image/png": "[encoded data removed]",
      "text/plain": [
       "<Figure size 432x288 with 1 Axes>"
      ]
     },
     "metadata": {
      "needs_background": "light"
     },
     "output_type": "display_data"
    },
    {
     "name": "stdout",
     "output_type": "stream",
     "text": [
      "1/1 [==============================] - 0s 37ms/step\n",
      "정답은 ===> 1  예측은 ===> [[1]] 결과는 ===> 맞음\n"
     ]
    },
    {
     "data": {
      "image/png": "[encoded data removed]",
      "text/plain": [
       "<Figure size 432x288 with 1 Axes>"
      ]
     },
     "metadata": {
      "needs_background": "light"
     },
     "output_type": "display_data"
    },
    {
     "name": "stdout",
     "output_type": "stream",
     "text": [
      "1/1 [==============================] - 0s 23ms/step\n",
      "정답은 ===> 0  예측은 ===> [[0]] 결과는 ===> 맞음\n"
     ]
    },
    {
     "data": {
      "image/png": "[encoded data removed]",
      "text/plain": [
       "<Figure size 432x288 with 1 Axes>"
      ]
     },
     "metadata": {
      "needs_background": "light"
     },
     "output_type": "display_data"
    },
    {
     "name": "stdout",
     "output_type": "stream",
     "text": [
      "1/1 [==============================] - 0s 20ms/step\n",
      "정답은 ===> 0  예측은 ===> [[0]] 결과는 ===> 맞음\n"
     ]
    },
    {
     "data": {
      "image/png": "[encoded data removed]",
      "text/plain": [
       "<Figure size 432x288 with 1 Axes>"
      ]
     },
     "metadata": {
      "needs_background": "light"
     },
     "output_type": "display_data"
    }
   ],
   "source": [
    "mnist_test1(10)"
   ]
  },
  {
   "cell_type": "code",
   "execution_count": 144,
   "metadata": {},
   "outputs": [],
   "source": [
    "from tensorflow import keras\n",
    "from keras.models import Sequential, Model\n",
    "from keras.layers import Dense, Input\n",
    "from keras.optimizers import RMSprop\n",
    "from keras.losses import CategoricalCrossentropy"
   ]
  },
  {
   "cell_type": "code",
   "execution_count": 145,
   "metadata": {},
   "outputs": [],
   "source": [
    "(X_train_full, y_train_full), (X_test,y_test) = mnist.load_data()"
   ]
  },
  {
   "cell_type": "code",
   "execution_count": 146,
   "metadata": {},
   "outputs": [
    {
     "name": "stdout",
     "output_type": "stream",
     "text": [
      "(60000, 28, 28)\n",
      "(60000,)\n",
      "10\n"
     ]
    }
   ],
   "source": [
    "print(X_train_full.shape)\n",
    "print(y_train_full.shape)\n",
    "print(np.unique(y_train_full).size)"
   ]
  },
  {
   "cell_type": "code",
   "execution_count": 147,
   "metadata": {},
   "outputs": [],
   "source": [
    "X_train, X_val, y_train, y_val = train_test_split(X_train_full, y_train_full)"
   ]
  },
  {
   "cell_type": "code",
   "execution_count": 148,
   "metadata": {},
   "outputs": [],
   "source": [
    "x1 = X_train.shape[1]\n",
    "x2 = X_train.shape[2]\n",
    "X_train = X_train.reshape(-1,x1*x2)\n",
    "X_val = X_val.reshape(-1,x1*x2)\n",
    "X_test = X_test.reshape(-1,x1*x2)"
   ]
  },
  {
   "cell_type": "code",
   "execution_count": 149,
   "metadata": {},
   "outputs": [],
   "source": [
    "y_train = to_categorical(y_train)\n",
    "y_test = to_categorical(y_test)\n",
    "y_val = to_categorical(y_val)"
   ]
  },
  {
   "cell_type": "code",
   "execution_count": 150,
   "metadata": {},
   "outputs": [
    {
     "name": "stdout",
     "output_type": "stream",
     "text": [
      "(784,)\n",
      "10\n"
     ]
    }
   ],
   "source": [
    "input_shape = X_train.shape[1:]\n",
    "output_shape = y_train.shape[1]\n",
    "print(input_shape)\n",
    "print(output_shape)"
   ]
  },
  {
   "cell_type": "code",
   "execution_count": 157,
   "metadata": {},
   "outputs": [],
   "source": [
    "model1 = Sequential()\n",
    "model1.add(Dense(1024,activation='relu',input_shape=input_shape))\n",
    "model1.add(Dense(512,activation='relu'))\n",
    "model1.add(Dense(output_shape,activation='softmax'))"
   ]
  },
  {
   "cell_type": "code",
   "execution_count": 158,
   "metadata": {},
   "outputs": [],
   "source": [
    "model2 = Sequential(\n",
    "    [\n",
    "        Dense(1024,activation='relu',input_shape=input_shape),\n",
    "        Dense(512,activation='relu'),\n",
    "        Dense(output_shape,activation='softmax')\n",
    "    ]\n",
    ")"
   ]
  },
  {
   "cell_type": "code",
   "execution_count": 159,
   "metadata": {},
   "outputs": [],
   "source": [
    "input_ = Input(shape=input_shape)\n",
    "l1 = Dense(1024,activation='relu')(input_)\n",
    "l2 = Dense(512,activation='relu')(l1)\n",
    "output_ = Dense(output_shape,activation='softmax')(l2)\n",
    "model3 = Model(inputs=[input_],outputs=[output_])"
   ]
  },
  {
   "cell_type": "code",
   "execution_count": 160,
   "metadata": {},
   "outputs": [],
   "source": [
    "optimizer = RMSprop()\n",
    "loss = CategoricalCrossentropy()\n",
    "metrics = ['accuracy']"
   ]
  },
  {
   "cell_type": "code",
   "execution_count": 161,
   "metadata": {},
   "outputs": [],
   "source": [
    "model1.compile(optimizer=optimizer,\n",
    "              loss =loss,\n",
    "              metrics=metrics)\n",
    "model2.compile(optimizer=optimizer,\n",
    "              loss =loss,\n",
    "              metrics=metrics)\n",
    "model3.compile(optimizer=optimizer,\n",
    "              loss =loss,\n",
    "              metrics=metrics)"
   ]
  },
  {
   "cell_type": "code",
   "execution_count": 162,
   "metadata": {},
   "outputs": [
    {
     "name": "stdout",
     "output_type": "stream",
     "text": [
      "Epoch 1/10\n",
      "113/113 [==============================] - 5s 36ms/step - loss: 17.6642 - accuracy: 0.8415 - val_loss: 0.8124 - val_accuracy: 0.9209\n",
      "Epoch 2/10\n",
      "113/113 [==============================] - 4s 35ms/step - loss: 0.5004 - accuracy: 0.9355 - val_loss: 0.8042 - val_accuracy: 0.9051\n",
      "Epoch 3/10\n",
      "113/113 [==============================] - 4s 35ms/step - loss: 0.2749 - accuracy: 0.9546 - val_loss: 0.4935 - val_accuracy: 0.9449\n",
      "Epoch 4/10\n",
      "113/113 [==============================] - 4s 35ms/step - loss: 0.2133 - accuracy: 0.9642 - val_loss: 0.3189 - val_accuracy: 0.9566\n",
      "Epoch 5/10\n",
      "113/113 [==============================] - 4s 36ms/step - loss: 0.1737 - accuracy: 0.9706 - val_loss: 0.3743 - val_accuracy: 0.9511\n",
      "Epoch 6/10\n",
      "113/113 [==============================] - 4s 37ms/step - loss: 0.1614 - accuracy: 0.9754 - val_loss: 0.6003 - val_accuracy: 0.9511\n",
      "Epoch 7/10\n",
      "113/113 [==============================] - 4s 37ms/step - loss: 0.1508 - accuracy: 0.9777 - val_loss: 0.4613 - val_accuracy: 0.9607\n",
      "Epoch 8/10\n",
      "113/113 [==============================] - 4s 37ms/step - loss: 0.1434 - accuracy: 0.9804 - val_loss: 0.4521 - val_accuracy: 0.9567\n",
      "Epoch 9/10\n",
      "113/113 [==============================] - 4s 37ms/step - loss: 0.1203 - accuracy: 0.9827 - val_loss: 0.5329 - val_accuracy: 0.9609\n",
      "Epoch 10/10\n",
      "113/113 [==============================] - 4s 39ms/step - loss: 0.1240 - accuracy: 0.9846 - val_loss: 0.4747 - val_accuracy: 0.9671\n",
      "Epoch 1/10\n",
      "113/113 [==============================] - 5s 40ms/step - loss: 15.4446 - accuracy: 0.8492 - val_loss: 0.9450 - val_accuracy: 0.9052\n",
      "Epoch 2/10\n",
      "113/113 [==============================] - 4s 39ms/step - loss: 0.5180 - accuracy: 0.9325 - val_loss: 0.5801 - val_accuracy: 0.9167\n",
      "Epoch 3/10\n",
      "113/113 [==============================] - 4s 39ms/step - loss: 0.2891 - accuracy: 0.9538 - val_loss: 0.3661 - val_accuracy: 0.9402\n",
      "Epoch 4/10\n",
      "113/113 [==============================] - 4s 40ms/step - loss: 0.2154 - accuracy: 0.9635 - val_loss: 0.3941 - val_accuracy: 0.9515\n",
      "Epoch 5/10\n",
      "113/113 [==============================] - 5s 41ms/step - loss: 0.1727 - accuracy: 0.9703 - val_loss: 0.3889 - val_accuracy: 0.9527\n",
      "Epoch 6/10\n",
      "113/113 [==============================] - 4s 39ms/step - loss: 0.1658 - accuracy: 0.9744 - val_loss: 0.4066 - val_accuracy: 0.9589\n",
      "Epoch 7/10\n",
      "113/113 [==============================] - 4s 39ms/step - loss: 0.1439 - accuracy: 0.9785 - val_loss: 0.4162 - val_accuracy: 0.9601\n",
      "Epoch 8/10\n",
      "113/113 [==============================] - 4s 39ms/step - loss: 0.1454 - accuracy: 0.9801 - val_loss: 0.4180 - val_accuracy: 0.9643\n",
      "Epoch 9/10\n",
      "113/113 [==============================] - 4s 38ms/step - loss: 0.1293 - accuracy: 0.9832 - val_loss: 0.4202 - val_accuracy: 0.9685\n",
      "Epoch 10/10\n",
      "113/113 [==============================] - 4s 38ms/step - loss: 0.1367 - accuracy: 0.9836 - val_loss: 0.4259 - val_accuracy: 0.9689\n",
      "Epoch 1/10\n",
      "113/113 [==============================] - 5s 40ms/step - loss: 14.6024 - accuracy: 0.8469 - val_loss: 0.6821 - val_accuracy: 0.9263\n",
      "Epoch 2/10\n",
      "113/113 [==============================] - 5s 43ms/step - loss: 0.4639 - accuracy: 0.9363 - val_loss: 0.3355 - val_accuracy: 0.9394\n",
      "Epoch 3/10\n",
      "113/113 [==============================] - 5s 43ms/step - loss: 0.2711 - accuracy: 0.9513 - val_loss: 0.4191 - val_accuracy: 0.9339\n",
      "Epoch 4/10\n",
      "113/113 [==============================] - 5s 41ms/step - loss: 0.2250 - accuracy: 0.9603 - val_loss: 0.4963 - val_accuracy: 0.9353\n",
      "Epoch 5/10\n",
      "113/113 [==============================] - 4s 39ms/step - loss: 0.1678 - accuracy: 0.9702 - val_loss: 0.5623 - val_accuracy: 0.9368\n",
      "Epoch 6/10\n",
      "113/113 [==============================] - 4s 39ms/step - loss: 0.1585 - accuracy: 0.9742 - val_loss: 0.4067 - val_accuracy: 0.9559\n",
      "Epoch 7/10\n",
      "113/113 [==============================] - 4s 39ms/step - loss: 0.1446 - accuracy: 0.9775 - val_loss: 0.4980 - val_accuracy: 0.9538\n",
      "Epoch 8/10\n",
      "113/113 [==============================] - 4s 39ms/step - loss: 0.1274 - accuracy: 0.9799 - val_loss: 0.4110 - val_accuracy: 0.9571\n",
      "Epoch 9/10\n",
      "113/113 [==============================] - 5s 42ms/step - loss: 0.1173 - accuracy: 0.9827 - val_loss: 0.4143 - val_accuracy: 0.9691\n",
      "Epoch 10/10\n",
      "113/113 [==============================] - 5s 43ms/step - loss: 0.1157 - accuracy: 0.9838 - val_loss: 0.4891 - val_accuracy: 0.9641\n",
      "313/313 [==============================] - 2s 5ms/step - loss: 0.4639 - accuracy: 0.9682\n",
      "313/313 [==============================] - 1s 5ms/step - loss: 0.3788 - accuracy: 0.9698\n",
      "313/313 [==============================] - 1s 5ms/step - loss: 0.4113 - accuracy: 0.9640\n"
     ]
    }
   ],
   "source": [
    "model1.fit(X_train,\n",
    "          y_train,\n",
    "          epochs=10,\n",
    "          batch_size=400,\n",
    "          validation_data=(X_val,y_val))\n",
    "model2.fit(X_train,\n",
    "          y_train,\n",
    "          epochs=10,\n",
    "          batch_size=400,\n",
    "          validation_data=(X_val,y_val))\n",
    "model3.fit(X_train,\n",
    "          y_train,\n",
    "          epochs=10,\n",
    "          batch_size=400,\n",
    "          validation_data=(X_val,y_val))\n",
    "model1_result = model1.evaluate(X_test,y_test)\n",
    "model2_result = model2.evaluate(X_test,y_test)\n",
    "model3_result = model3.evaluate(X_test,y_test)"
   ]
  },
  {
   "cell_type": "code",
   "execution_count": 164,
   "metadata": {},
   "outputs": [
    {
     "data": {
      "text/plain": [
       "(45000, 10)"
      ]
     },
     "execution_count": 164,
     "metadata": {},
     "output_type": "execute_result"
    }
   ],
   "source": [
    "y_train.shape"
   ]
  },
  {
   "cell_type": "code",
   "execution_count": 168,
   "metadata": {},
   "outputs": [],
   "source": [
    "input_shape = X_train.shape[1:]\n",
    "output_shape = y_train.shape[1]\n",
    "model1 = Sequential()\n",
    "l1 = Dense(1024,input_shape=input_shape,activation='sigmoid')\n",
    "l2 = Dense(512,activation='sigmoid')\n",
    "out = Dense(output_shape,activation='softmax')\n",
    "model1.add(l1)\n",
    "model1.add(l2)\n",
    "model1.add(out)\n",
    "\n",
    "model2 = Sequential(\n",
    "    [\n",
    "        l1,\n",
    "        l2,\n",
    "        out\n",
    "    ]\n",
    ")\n",
    "\n",
    "input_ = Input(shape=input_shape)\n",
    "layer1 = l1(input_)\n",
    "layer2 = l2(layer1)\n",
    "output = out(layer2)\n",
    "model3 = Model(inputs=[input_], outputs=[output])\n"
   ]
  },
  {
   "cell_type": "code",
   "execution_count": 174,
   "metadata": {},
   "outputs": [
    {
     "data": {
      "text/plain": [
       "array([[-0.04523145, -0.03073665, -0.0227039 , ...,  0.00571657,\n",
       "        -0.01155359, -0.02175279],\n",
       "       [-0.01473438,  0.01236295,  0.03163855, ...,  0.0365823 ,\n",
       "        -0.03789914,  0.01962724],\n",
       "       [ 0.03441209,  0.03784008,  0.04766291, ..., -0.01657515,\n",
       "        -0.05625604, -0.02769805],\n",
       "       ...,\n",
       "       [ 0.01139086,  0.02396224, -0.04952996, ..., -0.0186881 ,\n",
       "        -0.04701392,  0.03603585],\n",
       "       [-0.03400251, -0.04431015, -0.05409775, ...,  0.04818647,\n",
       "         0.03027376,  0.00537375],\n",
       "       [-0.00904946, -0.01282411,  0.01376864, ..., -0.03403715,\n",
       "        -0.02489494,  0.02600482]], dtype=float32)"
      ]
     },
     "execution_count": 174,
     "metadata": {},
     "output_type": "execute_result"
    }
   ],
   "source": [
    "model1.layers[0].get_weights()[0]"
   ]
  },
  {
   "cell_type": "code",
   "execution_count": 179,
   "metadata": {},
   "outputs": [],
   "source": [
    "model2.layers[0].set_weights([model1.layers[0].get_weights()[0],\n",
    "                             model1.layers[0].get_weights()[1]])"
   ]
  },
  {
   "cell_type": "code",
   "execution_count": 185,
   "metadata": {},
   "outputs": [
    {
     "data": {
      "text/plain": [
       "[<keras.layers.core.dense.Dense at 0x2a0e8c59a00>,\n",
       " <keras.layers.core.dense.Dense at 0x2a0e02f7340>,\n",
       " <keras.layers.core.dense.Dense at 0x2a0e8c59430>]"
      ]
     },
     "execution_count": 185,
     "metadata": {},
     "output_type": "execute_result"
    }
   ],
   "source": [
    "model2.layers"
   ]
  },
  {
   "cell_type": "code",
   "execution_count": 186,
   "metadata": {},
   "outputs": [],
   "source": [
    "for i in range(len(model1.layers)):\n",
    "    model2.layers[i].set_weights([model1.layers[i].get_weights()[0],\n",
    "                                model1.layers[i].get_weights()[1]])\n",
    "    model3.layers[i+1].set_weights([model1.layers[i].get_weights()[0],\n",
    "                                model1.layers[i].get_weights()[1]])"
   ]
  },
  {
   "cell_type": "code",
   "execution_count": 190,
   "metadata": {},
   "outputs": [],
   "source": [
    "optimizer = 'rmsprop'\n",
    "loss = 'categorical_crossentropy'\n",
    "model1.compile(optimizer=optimizer,\n",
    "              loss = loss)\n",
    "model2.compile(optimizer=optimizer,\n",
    "              loss = loss)\n",
    "model3.compile(optimizer=optimizer,\n",
    "              loss = loss)"
   ]
  },
  {
   "cell_type": "code",
   "execution_count": 191,
   "metadata": {},
   "outputs": [
    {
     "name": "stdout",
     "output_type": "stream",
     "text": [
      "313/313 [==============================] - 2s 5ms/step - loss: 0.0966\n",
      "0.09661896526813507\n",
      "313/313 [==============================] - 2s 5ms/step - loss: 0.0966\n",
      "0.09661896526813507\n",
      "313/313 [==============================] - 2s 5ms/step - loss: 0.0966\n",
      "0.09661896526813507\n"
     ]
    }
   ],
   "source": [
    "model1.fit(X_train, y_train,epochs= 10, batch_size=100,verbose=0)\n",
    "model2.fit(X_train, y_train,epochs= 10, batch_size=100,verbose=0)\n",
    "model3.fit(X_train, y_train,epochs= 10, batch_size=100,verbose=0)\n",
    "print(model1.evaluate(X_test,y_test))\n",
    "print(model2.evaluate(X_test,y_test))\n",
    "print(model3.evaluate(X_test,y_test))"
   ]
  },
  {
   "cell_type": "code",
   "execution_count": 192,
   "metadata": {},
   "outputs": [
    {
     "name": "stdout",
     "output_type": "stream",
     "text": [
      "313/313 [==============================] - 2s 5ms/step\n",
      "0.9751\n",
      "313/313 [==============================] - 2s 5ms/step\n",
      "0.9751\n",
      "313/313 [==============================] - 2s 5ms/step\n",
      "0.9751\n"
     ]
    }
   ],
   "source": [
    "print(np.sum(np.argmax(model1.predict(X_test),axis=1) == np.argmax(y_test,axis=1))/len(y_test))\n",
    "print(np.sum(np.argmax(model2.predict(X_test),axis=1) == np.argmax(y_test,axis=1))/len(y_test))\n",
    "print(np.sum(np.argmax(model3.predict(X_test),axis=1) == np.argmax(y_test,axis=1))/len(y_test))"
   ]
  },
  {
   "cell_type": "code",
   "execution_count": 193,
   "metadata": {},
   "outputs": [],
   "source": [
    "l_1_w = model1.layers[0].get_weights()[0]\n",
    "l_1_b = model1.layers[0].get_weights()[1]\n",
    "#sigmoid\n",
    "l_2_w = model1.layers[1].get_weights()[0]\n",
    "l_2_b = model1.layers[1].get_weights()[1]\n",
    "#sigmoid\n",
    "l_3_w = model1.layers[2].get_weights()[0]\n",
    "l_3_b = model1.layers[2].get_weights()[1]"
   ]
  },
  {
   "cell_type": "code",
   "execution_count": 195,
   "metadata": {},
   "outputs": [
    {
     "name": "stderr",
     "output_type": "stream",
     "text": [
      "<ipython-input-195-2b869c389bc7>:2: RuntimeWarning: overflow encountered in exp\n",
      "  a = 1/(1+np.exp(-a))\n"
     ]
    }
   ],
   "source": [
    "a = np.dot(X_test,l_1_w)+l_1_b\n",
    "a = 1/(1+np.exp(-a))\n",
    "a = np.dot(a,l_2_w) + l_2_b\n",
    "a = 1/(1+np.exp(-a))\n",
    "a = np.dot(a,l_3_w) + l_3_b"
   ]
  },
  {
   "cell_type": "code",
   "execution_count": 197,
   "metadata": {},
   "outputs": [
    {
     "data": {
      "text/plain": [
       "0.9751"
      ]
     },
     "execution_count": 197,
     "metadata": {},
     "output_type": "execute_result"
    }
   ],
   "source": [
    "np.sum(np.argmax(a,axis=1) == np.argmax(y_test,axis=1))/len(y_test)"
   ]
  },
  {
   "cell_type": "code",
   "execution_count": 202,
   "metadata": {},
   "outputs": [],
   "source": [
    "from keras.models import load_model, save_model"
   ]
  },
  {
   "cell_type": "code",
   "execution_count": 204,
   "metadata": {},
   "outputs": [
    {
     "name": "stdout",
     "output_type": "stream",
     "text": [
      "INFO:tensorflow:Assets written to: model1.h6\\assets\n"
     ]
    }
   ],
   "source": [
    "save_model(model1,'model1.h6')\n",
    "save_model(model2,'model2.h5')"
   ]
  },
  {
   "cell_type": "code",
   "execution_count": 205,
   "metadata": {},
   "outputs": [],
   "source": [
    "model1_1 = load_model('model1.h6')\n",
    "model2_1 = load_model('model2.h5')"
   ]
  },
  {
   "cell_type": "code",
   "execution_count": 206,
   "metadata": {},
   "outputs": [
    {
     "name": "stdout",
     "output_type": "stream",
     "text": [
      "313/313 [==============================] - 2s 5ms/step - loss: 0.0966\n"
     ]
    },
    {
     "data": {
      "text/plain": [
       "0.09661896526813507"
      ]
     },
     "execution_count": 206,
     "metadata": {},
     "output_type": "execute_result"
    }
   ],
   "source": [
    "model1_1.evaluate(X_test,y_test)"
   ]
  },
  {
   "cell_type": "code",
   "execution_count": 207,
   "metadata": {},
   "outputs": [
    {
     "name": "stdout",
     "output_type": "stream",
     "text": [
      "313/313 [==============================] - 2s 5ms/step - loss: 0.0966\n"
     ]
    },
    {
     "data": {
      "text/plain": [
       "0.09661896526813507"
      ]
     },
     "execution_count": 207,
     "metadata": {},
     "output_type": "execute_result"
    }
   ],
   "source": [
    "model2_1.evaluate(X_test,y_test)"
   ]
  },
  {
   "cell_type": "code",
   "execution_count": 208,
   "metadata": {},
   "outputs": [
    {
     "name": "stdout",
     "output_type": "stream",
     "text": [
      "INFO:tensorflow:Assets written to: model3.h7\\assets\n"
     ]
    }
   ],
   "source": [
    "save_model(model3,'model3.h7')"
   ]
  },
  {
   "cell_type": "code",
   "execution_count": 222,
   "metadata": {},
   "outputs": [],
   "source": [
    "input_shape = X_train.shape[1:]\n",
    "output_shape = y_train.shape[1]\n",
    "model1 = Sequential(\n",
    "    [\n",
    "      Dense(1024,input_shape=input_shape,activation='relu'),\n",
    "      Dense(512,activation='relu'),\n",
    "      Dense(output_shape,activation='softmax')   \n",
    "    ]\n",
    ")\n",
    "model2 = Sequential(\n",
    "    [\n",
    "      Dense(1024,input_shape=input_shape,activation='relu'),\n",
    "      Dense(512,activation='relu'),\n",
    "      Dense(output_shape,activation='softmax')   \n",
    "    ]\n",
    ")\n",
    "model3 = Sequential(\n",
    "    [\n",
    "      Dense(1024,input_shape=input_shape,activation='relu'),\n",
    "      Dense(512,activation='relu'),\n",
    "      Dense(output_shape,activation='softmax')   \n",
    "    ]\n",
    ")"
   ]
  },
  {
   "cell_type": "code",
   "execution_count": 213,
   "metadata": {},
   "outputs": [
    {
     "data": {
      "text/plain": [
       "array([[0., 0., 0., ..., 0., 0., 0.],\n",
       "       [0., 0., 0., ..., 0., 0., 0.],\n",
       "       [0., 0., 0., ..., 0., 0., 0.],\n",
       "       ...,\n",
       "       [0., 0., 0., ..., 0., 0., 0.],\n",
       "       [0., 0., 0., ..., 0., 0., 0.],\n",
       "       [0., 0., 0., ..., 0., 0., 0.]], dtype=float32)"
      ]
     },
     "execution_count": 213,
     "metadata": {},
     "output_type": "execute_result"
    }
   ],
   "source": [
    "np.zeros_like(model1.layers[0].get_weights()[0])"
   ]
  },
  {
   "cell_type": "code",
   "execution_count": 223,
   "metadata": {},
   "outputs": [],
   "source": [
    "model1.layers[0].set_weights([np.ones_like(model1.layers[0].get_weights()[0]),\n",
    "                             np.zeros_like(model1.layers[0].get_weights()[1])])"
   ]
  },
  {
   "cell_type": "code",
   "execution_count": 224,
   "metadata": {},
   "outputs": [],
   "source": [
    "model2.layers[1].set_weights([np.ones_like(model2.layers[1].get_weights()[0]),\n",
    "                             np.zeros_like(model2.layers[1].get_weights()[1])])"
   ]
  },
  {
   "cell_type": "code",
   "execution_count": 219,
   "metadata": {},
   "outputs": [
    {
     "data": {
      "text/plain": [
       "True"
      ]
     },
     "execution_count": 219,
     "metadata": {},
     "output_type": "execute_result"
    }
   ],
   "source": [
    "np.sum(model2.layers[1].get_weights()[0]) == model2.layers[1].get_weights()[0].size"
   ]
  },
  {
   "cell_type": "code",
   "execution_count": 225,
   "metadata": {},
   "outputs": [],
   "source": [
    "optimizer = 'rmsprop'\n",
    "loss = 'categorical_crossentropy'\n",
    "metrics = ['accuracy']\n",
    "model1.compile(optimizer=optimizer,\n",
    "              loss=loss,\n",
    "              metrics=metrics)\n",
    "model2.compile(optimizer=optimizer,\n",
    "              loss=loss,\n",
    "              metrics=metrics)\n",
    "model3.compile(optimizer=optimizer,\n",
    "              loss=loss,\n",
    "              metrics=metrics)"
   ]
  },
  {
   "cell_type": "code",
   "execution_count": 226,
   "metadata": {},
   "outputs": [
    {
     "name": "stdout",
     "output_type": "stream",
     "text": [
      "313/313 [==============================] - 2s 4ms/step - loss: 2.3010 - accuracy: 0.1135\n",
      "[2.301032781600952, 0.11349999904632568]\n",
      "313/313 [==============================] - 2s 5ms/step - loss: 1.7891 - accuracy: 0.3751\n",
      "[1.7891172170639038, 0.3750999867916107]\n",
      "313/313 [==============================] - 2s 4ms/step - loss: 0.3844 - accuracy: 0.9700\n",
      "[0.384392648935318, 0.9700000286102295]\n"
     ]
    }
   ],
   "source": [
    "model1.fit(X_train,\n",
    "          y_train,\n",
    "          epochs=10,\n",
    "          batch_size=400,\n",
    "          verbose=0)\n",
    "model2.fit(X_train,\n",
    "          y_train,\n",
    "          epochs=10,\n",
    "          batch_size=400,\n",
    "          verbose=0)\n",
    "model3.fit(X_train,\n",
    "          y_train,\n",
    "          epochs=10,\n",
    "          batch_size=400,\n",
    "          verbose=0)\n",
    "print(model1.evaluate(X_test,y_test))\n",
    "print(model2.evaluate(X_test,y_test))\n",
    "print(model3.evaluate(X_test,y_test))"
   ]
  },
  {
   "cell_type": "code",
   "execution_count": 227,
   "metadata": {},
   "outputs": [],
   "source": [
    "from keras.datasets import fashion_mnist"
   ]
  },
  {
   "cell_type": "code",
   "execution_count": 228,
   "metadata": {},
   "outputs": [],
   "source": [
    "fashion_dict = {0 : \"T-shirt/top\",\n",
    "1 : \"Trouser\",\n",
    "2 : \"Pullover\",\n",
    "3 : \"Dress\",\n",
    "4 : \"Coat\",\n",
    "5 : \"Sandal\",\n",
    "6 : \"Shirt\",\n",
    "7 : \"Sneaker\",\n",
    "8 : \"Bag\",\n",
    "9 : \"Ankel boot\",}"
   ]
  },
  {
   "cell_type": "code",
   "execution_count": 240,
   "metadata": {},
   "outputs": [],
   "source": [
    "(X_train_full, y_train_full), (X_test,y_test) = fashion_mnist.load_data()"
   ]
  },
  {
   "cell_type": "code",
   "execution_count": 241,
   "metadata": {},
   "outputs": [],
   "source": [
    "X_train, X_val, y_train, y_val = train_test_split(X_train_full, y_train_full)"
   ]
  },
  {
   "cell_type": "code",
   "execution_count": 242,
   "metadata": {},
   "outputs": [
    {
     "name": "stdout",
     "output_type": "stream",
     "text": [
      "Pullover\n"
     ]
    },
    {
     "data": {
      "image/png": "[encoded data removed]",
      "text/plain": [
       "<Figure size 432x288 with 1 Axes>"
      ]
     },
     "metadata": {
      "needs_background": "light"
     },
     "output_type": "display_data"
    }
   ],
   "source": [
    "plt.imshow(X_train[0])\n",
    "print(fashion_dict[y_train[0]])"
   ]
  },
  {
   "cell_type": "code",
   "execution_count": 243,
   "metadata": {},
   "outputs": [],
   "source": [
    "from keras.layers import Flatten"
   ]
  },
  {
   "cell_type": "raw",
   "metadata": {},
   "source": [
    "X_train --> Flatten --> Dense --> Dense--> Dense--> Dense"
   ]
  },
  {
   "cell_type": "code",
   "execution_count": 244,
   "metadata": {},
   "outputs": [],
   "source": [
    "y_train = to_categorical(y_train) \n",
    "y_val = to_categorical(y_val)\n",
    "y_test = to_categorical(y_test)"
   ]
  },
  {
   "cell_type": "code",
   "execution_count": 255,
   "metadata": {},
   "outputs": [],
   "source": [
    "input_shape = X_train.shape[1:]\n",
    "output_shape = y_train.shape[1]\n",
    "model1 = Sequential(\n",
    "    [\n",
    "        Flatten(input_shape=input_shape),\n",
    "        Dense(2048,activation='relu'),\n",
    "        Dense(1024,activation='relu'),\n",
    "        Dense(512,activation='relu'),\n",
    "        Dense(output_shape,activation='softmax')\n",
    "    ]\n",
    ")\n",
    "\n",
    "model2 = Sequential(\n",
    "    [\n",
    "        Flatten(input_shape=input_shape),\n",
    "        Dense(2048,activation='relu'),\n",
    "        Dense(1024,activation='relu'),\n",
    "        Dense(512,activation='relu'),\n",
    "        Dense(256,activation='relu'),\n",
    "        Dense(128,activation='relu'),\n",
    "        Dense(output_shape,activation='softmax')\n",
    "    ]\n",
    ")\n",
    "\n"
   ]
  },
  {
   "cell_type": "code",
   "execution_count": 256,
   "metadata": {},
   "outputs": [
    {
     "data": {
      "text/plain": [
       "<keras.callbacks.History at 0x2a0816e3310>"
      ]
     },
     "execution_count": 256,
     "metadata": {},
     "output_type": "execute_result"
    }
   ],
   "source": [
    "optimizer = 'rmsprop'\n",
    "loss = 'categorical_crossentropy'\n",
    "metrics = ['accuracy']\n",
    "\n",
    "model1.compile(optimizer=optimizer,\n",
    "              loss=loss,\n",
    "              metrics=metrics)\n",
    "model2.compile(optimizer=optimizer,\n",
    "              loss=loss,\n",
    "              metrics=metrics)\n",
    "\n",
    "\n",
    "model1.fit(X_train,\n",
    "              y_train,\n",
    "              epochs=10,\n",
    "              batch_size=400,\n",
    "            verbose=0\n",
    "          )\n",
    "model2.fit(X_train,\n",
    "              y_train,\n",
    "              epochs=10,\n",
    "              batch_size=400,\n",
    "          verbose=0)"
   ]
  },
  {
   "cell_type": "code",
   "execution_count": 257,
   "metadata": {},
   "outputs": [
    {
     "name": "stdout",
     "output_type": "stream",
     "text": [
      "313/313 [==============================] - 3s 9ms/step - loss: 0.5742 - accuracy: 0.8120\n",
      "[0.5741887092590332, 0.8119999766349792]\n",
      "313/313 [==============================] - 3s 10ms/step - loss: 0.4505 - accuracy: 0.8516\n",
      "[0.4505331516265869, 0.8515999913215637]\n"
     ]
    }
   ],
   "source": [
    "print(model1.evaluate(X_test,y_test))\n",
    "print(model2.evaluate(X_test,y_test))"
   ]
  },
  {
   "cell_type": "code",
   "execution_count": 264,
   "metadata": {},
   "outputs": [],
   "source": [
    "model1 = Sequential()\n",
    "model1.add(Flatten(input_shape=input_shape))\n",
    "model1.add(Dense(1024,activation='relu'))\n",
    "model1.add(Dense(512,activation='relu'))\n",
    "model1.add(Dense(256,activation='relu'))\n",
    "model1.add(Dense(output_shape,activation='softmax'))\n",
    "\n",
    "model2 = Sequential()\n",
    "model2.add(Flatten(input_shape=input_shape))\n",
    "model2.add(Dense(1024,activation='relu'))\n",
    "model2.add(Dense(512,activation='relu'))\n",
    "model2.add(Dense(256,activation='relu'))\n",
    "model2.add(Dense(output_shape,activation='softmax'))"
   ]
  },
  {
   "cell_type": "code",
   "execution_count": 265,
   "metadata": {},
   "outputs": [],
   "source": [
    "optimizer = 'adam'\n",
    "loss = 'categorical_crossentropy'\n",
    "metrics = ['accuracy']\n",
    "model1.compile(\n",
    "    optimizer=optimizer,\n",
    "    loss = loss,\n",
    "    metrics= metrics\n",
    ")\n",
    "model2.compile(\n",
    "    optimizer=optimizer,\n",
    "    loss = loss,\n",
    "    metrics= metrics\n",
    ")"
   ]
  },
  {
   "cell_type": "code",
   "execution_count": 272,
   "metadata": {},
   "outputs": [
    {
     "name": "stdout",
     "output_type": "stream",
     "text": [
      "313/313 [==============================] - 2s 5ms/step - loss: 1.3103 - accuracy: 0.7850\n",
      "[1.3102736473083496, 0.7850000262260437]\n",
      "313/313 [==============================] - 2s 5ms/step - loss: 0.4801 - accuracy: 0.8774\n",
      "[0.480099618434906, 0.8773999810218811]\n",
      "0:01:00.765404 \n",
      "\n",
      "0:01:44.038159\n"
     ]
    }
   ],
   "source": [
    "model1_s = datetime.now()\n",
    "model1.fit(X_train,\n",
    "          y_train,\n",
    "          epochs=30,\n",
    "          batch_size=len(X_train),\n",
    "          verbose=0)\n",
    "model1_e = datetime.now()\n",
    "model1_t = model1_e - model1_s\n",
    "\n",
    "model2_s = datetime.now()\n",
    "model2.fit(X_train,\n",
    "          y_train,\n",
    "          epochs=30,\n",
    "          batch_size=400,\n",
    "          verbose=0)\n",
    "model2_e = datetime.now()\n",
    "model2_t = model2_e - model2_s\n",
    "\n",
    "print(model1.evaluate(X_test,y_test))\n",
    "print(model2.evaluate(X_test,y_test))\n",
    "print(model1_t,\"\\n\")\n",
    "print(model2_t)"
   ]
  },
  {
   "cell_type": "code",
   "execution_count": 275,
   "metadata": {},
   "outputs": [
    {
     "data": {
      "text/plain": [
       "[array([[ 0.03098395,  0.03863452, -0.04675616, ..., -0.0179703 ,\n",
       "         -0.01537847,  0.02312119],\n",
       "        [-0.05232899,  0.00252084, -0.00076674, ...,  0.03409579,\n",
       "          0.02484371, -0.0392061 ],\n",
       "        [ 0.00936682, -0.03116682, -0.04974407, ..., -0.01114193,\n",
       "          0.01781254,  0.02298941],\n",
       "        ...,\n",
       "        [ 0.01405911,  0.05653923, -0.05633693, ...,  0.03443453,\n",
       "          0.04091217,  0.00708621],\n",
       "        [ 0.02278691,  0.02413591, -0.01519307, ..., -0.04748338,\n",
       "          0.03720074, -0.00878951],\n",
       "        [ 0.01062496, -0.03481041, -0.02014375, ..., -0.05644866,\n",
       "         -0.02163725,  0.00929066]], dtype=float32),\n",
       " array([0., 0., 0., ..., 0., 0., 0.], dtype=float32)]"
      ]
     },
     "execution_count": 275,
     "metadata": {},
     "output_type": "execute_result"
    }
   ],
   "source": [
    "l1"
   ]
  },
  {
   "cell_type": "code",
   "execution_count": 277,
   "metadata": {},
   "outputs": [
    {
     "name": "stdout",
     "output_type": "stream",
     "text": [
      "313/313 [==============================] - 2s 5ms/step\n",
      "313/313 [==============================] - 2s 5ms/step\n",
      "313/313 [==============================] - 2s 5ms/step\n",
      "313/313 [==============================] - 2s 5ms/step\n",
      "313/313 [==============================] - 2s 5ms/step\n"
     ]
    }
   ],
   "source": [
    "model = Sequential(\n",
    "    [\n",
    "        Flatten(input_shape=input_shape),\n",
    "    Dense(1024,activation='relu'),\n",
    "    Dense(512,activation='relu'),\n",
    "    Dense(256,activation='relu'),\n",
    "    Dense(output_shape,activation='softmax'),]\n",
    ")\n",
    "batch_size = [len(X_train),int(len(X_train)/2),int(len(X_train)/4),\n",
    "             int(len(X_train)/8),int(len(X_train)/16)]\n",
    "\n",
    "elapse_time = []\n",
    "accuracy = []\n",
    "l1 = [model.layers[1].get_weights()[0],model.layers[1].get_weights()[1]] \n",
    "l2 = [model.layers[2].get_weights()[0],model.layers[2].get_weights()[1]]\n",
    "l3 = [model.layers[3].get_weights()[0],model.layers[3].get_weights()[1]]\n",
    "l4 = [model.layers[4].get_weights()[0],model.layers[4].get_weights()[1]]\n",
    "\n",
    "for i in range(len(batch_size)):\n",
    "    model.layers[1].set_weights(l1)\n",
    "    model.layers[2].set_weights(l2)\n",
    "    model.layers[3].set_weights(l3)\n",
    "    model.layers[4].set_weights(l4)\n",
    "    optimizer = 'adam'\n",
    "    loss = 'categorical_crossentropy'\n",
    "    metrics = ['accuracy']\n",
    "    model.compile(optimizer=optimizer,\n",
    "                 loss=loss,\n",
    "                 metrics=metrics)\n",
    "    st_time = datetime.now()\n",
    "    model.fit(X_train, \n",
    "             y_train,\n",
    "             epochs=20,\n",
    "             batch_size=batch_size[i],\n",
    "             verbose=0)\n",
    "    ed_time = datetime.now()\n",
    "    elapse_time.append(ed_time-st_time)\n",
    "    acc = np.sum(np.argmax(model.predict(X_test),axis=1) == np.argmax(y_test,axis=1))/len(y_test)\n",
    "    accuracy.append(acc)\n",
    "\n",
    "result = {'batch_size':batch_size,'time':elapse_time,'accuracy':accuracy}"
   ]
  },
  {
   "cell_type": "code",
   "execution_count": 278,
   "metadata": {},
   "outputs": [
    {
     "data": {
      "text/html": [
       "<div>\n",
       "<style scoped>\n",
       "    .dataframe tbody tr th:only-of-type {\n",
       "        vertical-align: middle;\n",
       "    }\n",
       "\n",
       "    .dataframe tbody tr th {\n",
       "        vertical-align: top;\n",
       "    }\n",
       "\n",
       "    .dataframe thead th {\n",
       "        text-align: right;\n",
       "    }\n",
       "</style>\n",
       "<table border=\"1\" class=\"dataframe\">\n",
       "  <thead>\n",
       "    <tr style=\"text-align: right;\">\n",
       "      <th></th>\n",
       "      <th>batch_size</th>\n",
       "      <th>time</th>\n",
       "      <th>accuracy</th>\n",
       "    </tr>\n",
       "  </thead>\n",
       "  <tbody>\n",
       "    <tr>\n",
       "      <th>0</th>\n",
       "      <td>45000</td>\n",
       "      <td>0 days 00:00:41.274426</td>\n",
       "      <td>0.6689</td>\n",
       "    </tr>\n",
       "    <tr>\n",
       "      <th>1</th>\n",
       "      <td>22500</td>\n",
       "      <td>0 days 00:00:43.189994</td>\n",
       "      <td>0.7470</td>\n",
       "    </tr>\n",
       "    <tr>\n",
       "      <th>2</th>\n",
       "      <td>11250</td>\n",
       "      <td>0 days 00:00:45.275403</td>\n",
       "      <td>0.7440</td>\n",
       "    </tr>\n",
       "    <tr>\n",
       "      <th>3</th>\n",
       "      <td>5625</td>\n",
       "      <td>0 days 00:00:47.147404</td>\n",
       "      <td>0.8224</td>\n",
       "    </tr>\n",
       "    <tr>\n",
       "      <th>4</th>\n",
       "      <td>2812</td>\n",
       "      <td>0 days 00:00:49.993741</td>\n",
       "      <td>0.8258</td>\n",
       "    </tr>\n",
       "  </tbody>\n",
       "</table>\n",
       "</div>"
      ],
      "text/plain": [
       "   batch_size                   time  accuracy\n",
       "0       45000 0 days 00:00:41.274426    0.6689\n",
       "1       22500 0 days 00:00:43.189994    0.7470\n",
       "2       11250 0 days 00:00:45.275403    0.7440\n",
       "3        5625 0 days 00:00:47.147404    0.8224\n",
       "4        2812 0 days 00:00:49.993741    0.8258"
      ]
     },
     "execution_count": 278,
     "metadata": {},
     "output_type": "execute_result"
    }
   ],
   "source": [
    "pd.DataFrame(result)"
   ]
  },
  {
   "cell_type": "code",
   "execution_count": null,
   "metadata": {},
   "outputs": [],
   "source": [
    "model.layers[1].set_weights(l1)\n",
    "model.layers[2].set_weights(l2)\n",
    "model.layers[3].set_weights(l3)\n",
    "model.layers[4].set_weights(l4)\n",
    "optimizer = 'adam'\n",
    "loss = 'categorical_crossentropy'\n",
    "metrics = ['accuracy']\n",
    "model.compile(optimizer=optimizer,\n",
    "             loss=loss,\n",
    "             metrics=metrics)\n",
    "st_time = datetime.now()\n",
    "model.fit(X_train, \n",
    "         y_train,\n",
    "         epochs=20,\n",
    "         batch_size=1,\n",
    "         verbose=0)\n",
    "ed_time = datetime.now()\n",
    "elaps = ed_time - st_time"
   ]
  },
  {
   "cell_type": "code",
   "execution_count": 270,
   "metadata": {},
   "outputs": [],
   "source": [
    "model = Sequential(\n",
    "    [\n",
    "        Flatten(input_shape=input_shape),\n",
    "        Dense(1024,activation='relu'),\n",
    "        Dense(512,activation='relu'),\n",
    "        Dense(256,activation='relu'),\n",
    "        Dense(128,activation='relu'),\n",
    "        Dense(output_shape,activation='softmax'),\n",
    "    ]\n",
    ")"
   ]
  },
  {
   "cell_type": "code",
   "execution_count": 271,
   "metadata": {},
   "outputs": [
    {
     "data": {
      "text/plain": [
       "datetime.timedelta(seconds=3, microseconds=37487)"
      ]
     },
     "execution_count": 271,
     "metadata": {},
     "output_type": "execute_result"
    }
   ],
   "source": [
    "optimizer = 'adam'\n",
    "loss = 'categorical_crossentropy'\n",
    "metrics = accuracy\n",
    "model.compile(optimizer = optimizer,\n",
    "              loss = loss,\n",
    "              metrics = metrics)"
   ]
  },
  {
   "cell_type": "code",
   "execution_count": null,
   "metadata": {},
   "outputs": [],
   "source": [
    "model.fit(X_train,y_train,epochs = 30,validation_data = (X_val, y_val), batch_size=1000)"
   ]
  },
  {
   "cell_type": "code",
   "execution_count": null,
   "metadata": {},
   "outputs": [],
   "source": [
    "plt.plot(np.arange(1,31), model.history.history['accuracy'])\n",
    "plt.plot(np.arange(1,31), model.history.history['val_accuracy'])\n",
    "plt.show()"
   ]
  },
  {
   "cell_type": "code",
   "execution_count": null,
   "metadata": {},
   "outputs": [],
   "source": []
  }
 ],
 "metadata": {
  "kernelspec": {
   "display_name": "Python 3.9.12 ('base')",
   "language": "python",
   "name": "python3"
  },
  "language_info": {
   "codemirror_mode": {
    "name": "ipython",
    "version": 3
   },
   "file_extension": ".py",
   "mimetype": "text/x-python",
   "name": "python",
   "nbconvert_exporter": "python",
   "pygments_lexer": "ipython3",
   "version": "3.9.12"
  },
  "vscode": {
   "interpreter": {
    "hash": "610a6f344c2137faf927ea819c63f6cee33a2c04455044b28099f39fe9722347"
   }
  }
 },
 "nbformat": 4,
 "nbformat_minor": 4
}
