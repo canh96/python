{
 "cells": [
  {
   "cell_type": "code",
   "execution_count": 1,
   "id": "d3f51144",
   "metadata": {},
   "outputs": [],
   "source": [
    "import numpy as np"
   ]
  },
  {
   "cell_type": "code",
   "execution_count": 2,
   "id": "0e5389a0",
   "metadata": {},
   "outputs": [
    {
     "name": "stdout",
     "output_type": "stream",
     "text": [
      "[[ 0.53059301  1.03789048 -1.2484819   1.66990217 -0.65732666]\n",
      " [-0.69940247 -0.88872504 -0.91353899  0.26905104  0.21578227]\n",
      " [ 1.03148934 -0.30352477  1.32050385 -0.07147526  0.15874125]]\n"
     ]
    }
   ],
   "source": [
    "n = np.random.randn(3,5)\n",
    "print(n)"
   ]
  },
  {
   "cell_type": "code",
   "execution_count": 3,
   "id": "5dbc88b5",
   "metadata": {},
   "outputs": [],
   "source": [
    "n.tofile('n.npy')"
   ]
  },
  {
   "cell_type": "code",
   "execution_count": 4,
   "id": "66240fe4",
   "metadata": {},
   "outputs": [
    {
     "name": "stdout",
     "output_type": "stream",
     "text": [
      "[ 0.53059301  1.03789048 -1.2484819   1.66990217 -0.65732666 -0.69940247\n",
      " -0.88872504 -0.91353899  0.26905104  0.21578227  1.03148934 -0.30352477\n",
      "  1.32050385 -0.07147526  0.15874125]\n"
     ]
    }
   ],
   "source": [
    "m = np.fromfile('C:/STUDY/Python/n.npy')  # shape(3,5)\n",
    "print(m)"
   ]
  },
  {
   "cell_type": "code",
   "execution_count": 5,
   "id": "35dd8b25",
   "metadata": {},
   "outputs": [
    {
     "name": "stdout",
     "output_type": "stream",
     "text": [
      "[[ 0.53059301  1.03789048 -1.2484819   1.66990217 -0.65732666]\n",
      " [-0.69940247 -0.88872504 -0.91353899  0.26905104  0.21578227]\n",
      " [ 1.03148934 -0.30352477  1.32050385 -0.07147526  0.15874125]]\n"
     ]
    }
   ],
   "source": [
    "np.save('n1.npy',n)\n",
    "m1 = np.load('n1.npy')\n",
    "print(m1)"
   ]
  },
  {
   "cell_type": "code",
   "execution_count": 6,
   "id": "f2861705",
   "metadata": {},
   "outputs": [
    {
     "ename": "ValueError",
     "evalue": "Cannot load file containing pickled data when allow_pickle=False",
     "output_type": "error",
     "traceback": [
      "\u001b[1;31m---------------------------------------------------------------------------\u001b[0m",
      "\u001b[1;31mValueError\u001b[0m                                Traceback (most recent call last)",
      "Input \u001b[1;32mIn [6]\u001b[0m, in \u001b[0;36m<cell line: 3>\u001b[1;34m()\u001b[0m\n\u001b[0;32m      1\u001b[0m \u001b[38;5;66;03m# n.tofile  >  n.npy\u001b[39;00m\n\u001b[0;32m      2\u001b[0m \u001b[38;5;66;03m# np.load('n.npy')\u001b[39;00m\n\u001b[1;32m----> 3\u001b[0m \u001b[43mnp\u001b[49m\u001b[38;5;241;43m.\u001b[39;49m\u001b[43mload\u001b[49m\u001b[43m(\u001b[49m\u001b[38;5;124;43m'\u001b[39;49m\u001b[38;5;124;43mn.npy\u001b[39;49m\u001b[38;5;124;43m'\u001b[39;49m\u001b[43m)\u001b[49m\n",
      "File \u001b[1;32m~\\anaconda3\\lib\\site-packages\\numpy\\lib\\npyio.py:445\u001b[0m, in \u001b[0;36mload\u001b[1;34m(file, mmap_mode, allow_pickle, fix_imports, encoding)\u001b[0m\n\u001b[0;32m    442\u001b[0m \u001b[38;5;28;01melse\u001b[39;00m:\n\u001b[0;32m    443\u001b[0m     \u001b[38;5;66;03m# Try a pickle\u001b[39;00m\n\u001b[0;32m    444\u001b[0m     \u001b[38;5;28;01mif\u001b[39;00m \u001b[38;5;129;01mnot\u001b[39;00m allow_pickle:\n\u001b[1;32m--> 445\u001b[0m         \u001b[38;5;28;01mraise\u001b[39;00m \u001b[38;5;167;01mValueError\u001b[39;00m(\u001b[38;5;124m\"\u001b[39m\u001b[38;5;124mCannot load file containing pickled data \u001b[39m\u001b[38;5;124m\"\u001b[39m\n\u001b[0;32m    446\u001b[0m                          \u001b[38;5;124m\"\u001b[39m\u001b[38;5;124mwhen allow_pickle=False\u001b[39m\u001b[38;5;124m\"\u001b[39m)\n\u001b[0;32m    447\u001b[0m     \u001b[38;5;28;01mtry\u001b[39;00m:\n\u001b[0;32m    448\u001b[0m         \u001b[38;5;28;01mreturn\u001b[39;00m pickle\u001b[38;5;241m.\u001b[39mload(fid, \u001b[38;5;241m*\u001b[39m\u001b[38;5;241m*\u001b[39mpickle_kwargs)\n",
      "\u001b[1;31mValueError\u001b[0m: Cannot load file containing pickled data when allow_pickle=False"
     ]
    }
   ],
   "source": [
    "# n.tofile  >  n.npy\n",
    "# np.load('n.npy')\n",
    "np.load('n.npy')"
   ]
  },
  {
   "cell_type": "code",
   "execution_count": 7,
   "id": "700eb7cf",
   "metadata": {},
   "outputs": [],
   "source": [
    "np.savetxt('n.txt',n)"
   ]
  },
  {
   "cell_type": "code",
   "execution_count": 8,
   "id": "421c0237",
   "metadata": {},
   "outputs": [
    {
     "data": {
      "text/plain": [
       "array([[ 0.53059301,  1.03789048, -1.2484819 ,  1.66990217, -0.65732666],\n",
       "       [-0.69940247, -0.88872504, -0.91353899,  0.26905104,  0.21578227],\n",
       "       [ 1.03148934, -0.30352477,  1.32050385, -0.07147526,  0.15874125]])"
      ]
     },
     "execution_count": 8,
     "metadata": {},
     "output_type": "execute_result"
    }
   ],
   "source": [
    "np.loadtxt('./data/n.txt')"
   ]
  },
  {
   "cell_type": "code",
   "execution_count": 16,
   "id": "6a3c3350",
   "metadata": {},
   "outputs": [],
   "source": [
    "np.savetxt('n.csv',n, delimiter=  ',' )"
   ]
  },
  {
   "cell_type": "code",
   "execution_count": 17,
   "id": "a20d2c29",
   "metadata": {},
   "outputs": [
    {
     "data": {
      "text/plain": [
       "array([['5.305930085592863721e-01', '1.037890484223708221e+00',\n",
       "        '-1.248481898085396891e+00', '1.669902172463105128e+00',\n",
       "        '-6.573266610255257270e-01'],\n",
       "       ['-6.994024732143292455e-01', '-8.887250367472011581e-01',\n",
       "        '-9.135389886706444251e-01', '2.690510400871876651e-01',\n",
       "        '2.157822715821887394e-01'],\n",
       "       ['1.031489340528059628e+00', '-3.035247702613738108e-01',\n",
       "        '1.320503850307412241e+00', '-7.147525743705127055e-02',\n",
       "        '1.587412483501480231e-01']], dtype='<U25')"
      ]
     },
     "execution_count": 17,
     "metadata": {},
     "output_type": "execute_result"
    }
   ],
   "source": [
    "np.loadtxt('n.csv', delimiter=',', dtype=str)"
   ]
  },
  {
   "cell_type": "code",
   "execution_count": 13,
   "id": "e7fe1321",
   "metadata": {},
   "outputs": [],
   "source": [
    "np.savetxt('n.csv',n, delimiter=  '***' )"
   ]
  },
  {
   "cell_type": "code",
   "execution_count": 14,
   "id": "819d8944",
   "metadata": {},
   "outputs": [
    {
     "data": {
      "text/plain": [
       "array([[ 0.53059301,  1.03789048, -1.2484819 ,  1.66990217, -0.65732666],\n",
       "       [-0.69940247, -0.88872504, -0.91353899,  0.26905104,  0.21578227],\n",
       "       [ 1.03148934, -0.30352477,  1.32050385, -0.07147526,  0.15874125]])"
      ]
     },
     "execution_count": 14,
     "metadata": {},
     "output_type": "execute_result"
    }
   ],
   "source": [
    "np.loadtxt('n.csv', delimiter='***')"
   ]
  },
  {
   "cell_type": "code",
   "execution_count": 18,
   "id": "a8d80f4c",
   "metadata": {},
   "outputs": [
    {
     "data": {
      "text/plain": [
       "array([[ 1,  2,  3,  4,  5],\n",
       "       [ 6,  7,  8,  9, 10],\n",
       "       [11, 12, 13, 14, 15],\n",
       "       [16, 17, 18, 19, 20],\n",
       "       [21, 22, 23, 24, 25]])"
      ]
     },
     "execution_count": 18,
     "metadata": {},
     "output_type": "execute_result"
    }
   ],
   "source": [
    "arr = np.arange(1,26).reshape(5,5)\n",
    "arr"
   ]
  },
  {
   "cell_type": "code",
   "execution_count": 19,
   "id": "9b5f9223",
   "metadata": {},
   "outputs": [],
   "source": [
    "np.savetxt('data.csv',arr,delimiter=',')"
   ]
  },
  {
   "cell_type": "code",
   "execution_count": 21,
   "id": "a792e5a9",
   "metadata": {},
   "outputs": [
    {
     "data": {
      "text/plain": [
       "array([[ 1,  2,  3,  4,  5],\n",
       "       [ 6,  7,  8,  9, 10],\n",
       "       [11, 12, 13, 14, 15],\n",
       "       [16, 17, 18, 19, 20],\n",
       "       [21, 22, 23, 24, 25]], dtype=int8)"
      ]
     },
     "execution_count": 21,
     "metadata": {},
     "output_type": "execute_result"
    }
   ],
   "source": [
    "np.loadtxt('data.csv',delimiter=',',dtype=np.int8)"
   ]
  },
  {
   "cell_type": "code",
   "execution_count": 24,
   "id": "d635fdb8",
   "metadata": {},
   "outputs": [
    {
     "data": {
      "text/plain": [
       "array([['1', '15', '14', '4'],\n",
       "       ['12', '6', '7', '9'],\n",
       "       ['8', '10', '11', '5'],\n",
       "       ['13', '3', '2', '16']], dtype='<U2')"
      ]
     },
     "execution_count": 24,
     "metadata": {},
     "output_type": "execute_result"
    }
   ],
   "source": [
    "np.loadtxt('./data/06_data1.txt', dtype=np.str_)"
   ]
  },
  {
   "cell_type": "code",
   "execution_count": 25,
   "id": "08b20915",
   "metadata": {},
   "outputs": [
    {
     "data": {
      "text/plain": [
       "array([['1', '15', '14', '4'],\n",
       "       ['12', '6', '7', '9'],\n",
       "       ['8', '10', '11', '5'],\n",
       "       ['13', '3', '2', '16']], dtype='<U2')"
      ]
     },
     "execution_count": 25,
     "metadata": {},
     "output_type": "execute_result"
    }
   ],
   "source": [
    "np.loadtxt('./data/06_data1.txt',delimiter='\\t', dtype=np.str_)"
   ]
  },
  {
   "cell_type": "code",
   "execution_count": 29,
   "id": "74b156ba",
   "metadata": {},
   "outputs": [],
   "source": [
    "arr2 = np.loadtxt('./data/06_data2.txt', delimiter=',', dtype=np.int8)"
   ]
  },
  {
   "cell_type": "code",
   "execution_count": 30,
   "id": "82ffbab7",
   "metadata": {},
   "outputs": [
    {
     "name": "stdout",
     "output_type": "stream",
     "text": [
      "[[ 1 15 14  4]\n",
      " [12  6  7  9]\n",
      " [ 8 10 11  5]\n",
      " [13  3  2 16]]\n"
     ]
    }
   ],
   "source": [
    "print(arr2)"
   ]
  },
  {
   "cell_type": "code",
   "execution_count": 31,
   "id": "2acb366b",
   "metadata": {},
   "outputs": [],
   "source": [
    "np.savetxt('data.csv',np.arange(1,26,dtype=np.int8).reshape(5,5),delimiter=',')"
   ]
  },
  {
   "cell_type": "code",
   "execution_count": 32,
   "id": "d1769b3c",
   "metadata": {},
   "outputs": [
    {
     "data": {
      "text/plain": [
       "array([[ 1.,  2.,  3.,  4.,  5.],\n",
       "       [ 6.,  7.,  8.,  9., 10.],\n",
       "       [11., 12., 13., 14., 15.],\n",
       "       [16., 17., 18., 19., 20.],\n",
       "       [21., 22., 23., 24., 25.]])"
      ]
     },
     "execution_count": 32,
     "metadata": {},
     "output_type": "execute_result"
    }
   ],
   "source": [
    "np.loadtxt('data.csv',delimiter=',')"
   ]
  },
  {
   "cell_type": "code",
   "execution_count": 35,
   "id": "016ee2df",
   "metadata": {},
   "outputs": [],
   "source": [
    "data = np.loadtxt('./data/ex1_지역별전기요금.csv', delimiter=',', dtype=int)"
   ]
  },
  {
   "cell_type": "code",
   "execution_count": 36,
   "id": "393f53a5",
   "metadata": {},
   "outputs": [
    {
     "name": "stdout",
     "output_type": "stream",
     "text": [
      "[[      1  565082     273   27177]\n",
      " [      2 2827233     444   45111]\n",
      " [      3 1144913     289   29043]\n",
      " [      4 1131034     230   22436]\n",
      " [      5  380425     391   38020]]\n"
     ]
    }
   ],
   "source": [
    "print(data[  :5  ,  : ])"
   ]
  },
  {
   "cell_type": "code",
   "execution_count": 37,
   "id": "6fa8666f",
   "metadata": {},
   "outputs": [
    {
     "data": {
      "text/plain": [
       "(17, 4)"
      ]
     },
     "execution_count": 37,
     "metadata": {},
     "output_type": "execute_result"
    }
   ],
   "source": [
    "data.shape"
   ]
  },
  {
   "cell_type": "code",
   "execution_count": 38,
   "id": "6ddd2564",
   "metadata": {},
   "outputs": [
    {
     "name": "stdout",
     "output_type": "stream",
     "text": [
      "[ 1  2  3  4  5  6  7  8  9 10 11 12 13 14 15 16 17]\n"
     ]
    }
   ],
   "source": [
    "print(np.unique( data[:,0]  ))"
   ]
  },
  {
   "cell_type": "code",
   "execution_count": 45,
   "id": "dff3c952",
   "metadata": {
    "scrolled": true
   },
   "outputs": [
    {
     "name": "stdout",
     "output_type": "stream",
     "text": [
      "[[      1   49394     221   22180]\n",
      " [      2  258605     230   22436]\n",
      " [      3  323151     249   25120]\n",
      " [      4  380425     268   26899]\n",
      " [      5  425659     273   27177]\n",
      " [      6  565082     282   27901]\n",
      " [      7  584500     285   28556]\n",
      " [      8  634696     289   29043]\n",
      " [      9  668623     344   32331]\n",
      " [     10  726699     353   35245]\n",
      " [     11  734723     361   35470]\n",
      " [     12  742285     364   36274]\n",
      " [     13  947300     366   36569]\n",
      " [     14 1131034     391   38020]\n",
      " [     15 1144913     398   40049]\n",
      " [     16 2737725     444   45111]\n",
      " [     17 2827233     580   57091]]\n"
     ]
    }
   ],
   "source": [
    "print(np.sort(data,axis=0))"
   ]
  },
  {
   "cell_type": "code",
   "execution_count": 42,
   "id": "b95d93be",
   "metadata": {},
   "outputs": [
    {
     "name": "stdout",
     "output_type": "stream",
     "text": [
      "[ 9 14 10  4  6  0 16 13  5 12 11 15  7  3  2  8  1]\n"
     ]
    }
   ],
   "source": [
    "print(data[:,1].argsort())"
   ]
  },
  {
   "cell_type": "code",
   "execution_count": 43,
   "id": "d9a7c1f0",
   "metadata": {
    "collapsed": true
   },
   "outputs": [
    {
     "name": "stdout",
     "output_type": "stream",
     "text": [
      "[[     10   49394     580   57091]\n",
      " [     15  258605     221   22180]\n",
      " [     11  323151     353   35470]\n",
      " [      5  380425     391   38020]\n",
      " [      7  425659     344   32331]\n",
      " [      1  565082     273   27177]\n",
      " [     17  584500     268   26899]\n",
      " [     14  634696     285   28556]\n",
      " [      6  668623     364   35245]\n",
      " [     13  726699     249   25120]\n",
      " [     12  734723     398   40049]\n",
      " [     16  742285     282   27901]\n",
      " [      8  947300     366   36274]\n",
      " [      4 1131034     230   22436]\n",
      " [      3 1144913     289   29043]\n",
      " [      9 2737725     361   36569]\n",
      " [      2 2827233     444   45111]]\n"
     ]
    }
   ],
   "source": [
    "print(data[data[:,1].argsort()])"
   ]
  },
  {
   "cell_type": "code",
   "execution_count": 48,
   "id": "a76f385a",
   "metadata": {},
   "outputs": [
    {
     "name": "stdout",
     "output_type": "stream",
     "text": [
      "[[      2 2827233     444   45111]\n",
      " [      9 2737725     361   36569]\n",
      " [      3 1144913     289   29043]\n",
      " [      4 1131034     230   22436]\n",
      " [      8  947300     366   36274]\n",
      " [     16  742285     282   27901]\n",
      " [     12  734723     398   40049]\n",
      " [     13  726699     249   25120]\n",
      " [      6  668623     364   35245]\n",
      " [     14  634696     285   28556]\n",
      " [     17  584500     268   26899]\n",
      " [      1  565082     273   27177]\n",
      " [      7  425659     344   32331]\n",
      " [      5  380425     391   38020]\n",
      " [     11  323151     353   35470]\n",
      " [     15  258605     221   22180]\n",
      " [     10   49394     580   57091]]\n"
     ]
    }
   ],
   "source": [
    "print(data[ data[:,1].argsort()[::-1] ])"
   ]
  },
  {
   "cell_type": "code",
   "execution_count": 50,
   "id": "e3e835e5",
   "metadata": {},
   "outputs": [
    {
     "data": {
      "text/plain": [
       "14882047"
      ]
     },
     "execution_count": 50,
     "metadata": {},
     "output_type": "execute_result"
    }
   ],
   "source": [
    "# 전국 대상 가구수의 합\n",
    "\n",
    "data[:,1].sum()    # np.sum(data[:,1])"
   ]
  },
  {
   "cell_type": "code",
   "execution_count": 51,
   "id": "f1b255e8",
   "metadata": {},
   "outputs": [
    {
     "data": {
      "text/plain": [
       "335.1764705882353"
      ]
     },
     "execution_count": 51,
     "metadata": {},
     "output_type": "execute_result"
    }
   ],
   "source": [
    "# 가구당 평균 전력 사용량의 전국 평균값\n",
    "\n",
    "np.mean(data[:,2])      # data[:,2].mean()"
   ]
  },
  {
   "cell_type": "code",
   "execution_count": 53,
   "id": "0ddebbc5",
   "metadata": {},
   "outputs": [
    {
     "data": {
      "text/plain": [
       "335.18"
      ]
     },
     "execution_count": 53,
     "metadata": {},
     "output_type": "execute_result"
    }
   ],
   "source": [
    "round(np.mean(data[:,2]), 2)"
   ]
  },
  {
   "cell_type": "code",
   "execution_count": 60,
   "id": "f91e8c9c",
   "metadata": {},
   "outputs": [
    {
     "name": "stdout",
     "output_type": "stream",
     "text": [
      "가구당 평균 전력 사용량의 전국 평균값 : 335.18\n"
     ]
    }
   ],
   "source": [
    "# 무식하게 평균 구하기\n",
    "e_sum = np.sum(data[:,2])\n",
    "e_sum\n",
    "\n",
    "n_rows = data.shape[0]\n",
    "n_rows\n",
    "\n",
    "print('가구당 평균 전력 사용량의 전국 평균값 :', round(e_sum / n_rows , 2)   )"
   ]
  },
  {
   "cell_type": "code",
   "execution_count": 61,
   "id": "8aa93eae",
   "metadata": {},
   "outputs": [
    {
     "data": {
      "text/plain": [
       "335.1764705882353"
      ]
     },
     "execution_count": 61,
     "metadata": {},
     "output_type": "execute_result"
    }
   ],
   "source": [
    "avg_ = np.mean(data[:,2])\n",
    "avg_"
   ]
  },
  {
   "cell_type": "code",
   "execution_count": 66,
   "id": "d6173029",
   "metadata": {},
   "outputs": [
    {
     "name": "stdout",
     "output_type": "stream",
     "text": [
      "[[      2 2827233]\n",
      " [      5  380425]\n",
      " [      6  668623]\n",
      " [      7  425659]\n",
      " [      8  947300]\n",
      " [      9 2737725]\n",
      " [     10   49394]\n",
      " [     11  323151]\n",
      " [     12  734723]]\n"
     ]
    }
   ],
   "source": [
    "print(data[data[:,2] > avg_][ : , :2 ])"
   ]
  },
  {
   "cell_type": "code",
   "execution_count": 70,
   "id": "3b1957cb",
   "metadata": {},
   "outputs": [
    {
     "data": {
      "text/plain": [
       "array([[    2, 45111],\n",
       "       [    5, 38020],\n",
       "       [    6, 35245],\n",
       "       [    7, 32331],\n",
       "       [    8, 36274],\n",
       "       [    9, 36569],\n",
       "       [   10, 57091],\n",
       "       [   11, 35470],\n",
       "       [   12, 40049]])"
      ]
     },
     "execution_count": 70,
     "metadata": {},
     "output_type": "execute_result"
    }
   ],
   "source": [
    "data[data[:,2] > avg_][ :, [0,3]]"
   ]
  },
  {
   "cell_type": "code",
   "execution_count": 71,
   "id": "a1040209",
   "metadata": {},
   "outputs": [
    {
     "name": "stdout",
     "output_type": "stream",
     "text": [
      "[[ 2.014e+03  1.000e+00  2.180e+02  4.800e+00 -9.000e+00 -4.000e+00]\n",
      " [ 2.014e+03  2.000e+00  8.720e+02  1.900e+01 -4.500e+01 -4.900e+00]\n",
      " [ 2.014e+03  3.000e+00  4.010e+02  8.700e+00 -4.500e+01 -1.010e+01]\n",
      " [ 2.014e+03  4.000e+00  4.640e+02  1.010e+01 -4.100e+01 -8.100e+00]\n",
      " [ 2.014e+03  5.000e+00  9.900e+01  2.200e+00 -5.000e+00 -4.800e+00]\n",
      " [ 2.014e+03  6.000e+00  1.820e+02  4.000e+00  1.900e+01  1.170e+01]\n",
      " [ 2.014e+03  7.000e+00  9.900e+01  2.200e+00  8.000e+00  8.800e+00]\n",
      " [ 2.014e+03  8.000e+00  1.630e+02  3.600e+00 -4.700e+01 -2.240e+01]\n",
      " [ 2.014e+03  9.000e+00  3.860e+02  8.400e+00  1.400e+01  3.800e+00]\n",
      " [ 2.014e+03  1.000e+01  2.000e+01  4.000e-01  0.000e+00  0.000e+00]\n",
      " [ 2.014e+03  1.100e+01  1.030e+02  2.200e+00 -1.600e+01 -1.340e+01]\n",
      " [ 2.014e+03  1.200e+01  1.440e+02  3.100e+00 -6.000e+00 -4.000e+00]\n",
      " [ 2.014e+03  1.300e+01  4.000e+02  8.700e+00 -3.500e+01 -8.000e+00]\n",
      " [ 2.014e+03  1.400e+01  3.170e+02  6.900e+00 -3.500e+01 -9.900e+00]\n",
      " [ 2.014e+03  1.500e+01  8.600e+01  1.900e+00 -1.400e+01 -1.400e+01]\n",
      " [ 2.014e+03  1.600e+01  3.870e+02  8.400e+00 -5.000e+00 -1.300e+00]\n",
      " [ 2.014e+03  1.700e+01  2.420e+02  5.300e+00 -3.100e+01 -1.140e+01]]\n"
     ]
    }
   ],
   "source": [
    "data = np.loadtxt('./data/ex2_전년대비_시도별_교통사망사고.csv', delimiter=',', dtype=float)\n",
    "print(data)"
   ]
  },
  {
   "cell_type": "code",
   "execution_count": 72,
   "id": "08676bca",
   "metadata": {},
   "outputs": [
    {
     "data": {
      "text/plain": [
       "(17, 6)"
      ]
     },
     "execution_count": 72,
     "metadata": {},
     "output_type": "execute_result"
    }
   ],
   "source": [
    "data.shape"
   ]
  },
  {
   "cell_type": "code",
   "execution_count": 73,
   "id": "186668a8",
   "metadata": {},
   "outputs": [
    {
     "data": {
      "text/plain": [
       "array([ 1.,  2.,  3.,  4.,  5.,  6.,  7.,  8.,  9., 10., 11., 12., 13.,\n",
       "       14., 15., 16., 17.])"
      ]
     },
     "execution_count": 73,
     "metadata": {},
     "output_type": "execute_result"
    }
   ],
   "source": [
    "np.unique(data[:,1])"
   ]
  },
  {
   "cell_type": "code",
   "execution_count": 74,
   "id": "24711f00",
   "metadata": {},
   "outputs": [
    {
     "name": "stdout",
     "output_type": "stream",
     "text": [
      "[[2014.   218.     4.8]\n",
      " [2014.   872.    19. ]\n",
      " [2014.   401.     8.7]]\n"
     ]
    }
   ],
   "source": [
    "print(data[:3,[0,2,3] ])"
   ]
  },
  {
   "cell_type": "code",
   "execution_count": 85,
   "id": "b539b6e1",
   "metadata": {},
   "outputs": [
    {
     "name": "stdout",
     "output_type": "stream",
     "text": [
      "[2014.     8.   163.     3.6  -47.   -22.4]\n"
     ]
    }
   ],
   "source": [
    "print(data[ 7])"
   ]
  },
  {
   "cell_type": "code",
   "execution_count": 84,
   "id": "5c683503",
   "metadata": {},
   "outputs": [
    {
     "name": "stdout",
     "output_type": "stream",
     "text": [
      "[[2014.     8.   163.     3.6  -47.   -22.4]]\n"
     ]
    }
   ],
   "source": [
    "print(data[data[:,1] == 8])"
   ]
  },
  {
   "cell_type": "code",
   "execution_count": 88,
   "id": "9b43e617",
   "metadata": {},
   "outputs": [
    {
     "name": "stdout",
     "output_type": "stream",
     "text": [
      "전국 사고 발생건수의 총합 : 4583.0\n"
     ]
    }
   ],
   "source": [
    "print('전국 사고 발생건수의 총합 :',data[:,2].sum())"
   ]
  },
  {
   "cell_type": "code",
   "execution_count": 90,
   "id": "820c1827",
   "metadata": {},
   "outputs": [
    {
     "name": "stdout",
     "output_type": "stream",
     "text": [
      "전국 사고 발생건수의 평균 : 269.588\n"
     ]
    }
   ],
   "source": [
    "print('전국 사고 발생건수의 평균 :',round(data[:,2].mean(), 3 ) )"
   ]
  },
  {
   "cell_type": "code",
   "execution_count": 91,
   "id": "1bbb8ba6",
   "metadata": {},
   "outputs": [
    {
     "data": {
      "text/plain": [
       "19.0"
      ]
     },
     "execution_count": 91,
     "metadata": {},
     "output_type": "execute_result"
    }
   ],
   "source": [
    "max(data[:,4])"
   ]
  },
  {
   "cell_type": "code",
   "execution_count": 93,
   "id": "1fa0c70c",
   "metadata": {},
   "outputs": [
    {
     "name": "stdout",
     "output_type": "stream",
     "text": [
      "[[2014.     6.   182.     4.    19.    11.7]]\n"
     ]
    }
   ],
   "source": [
    "print(data[data[:,4] == max(data[:,4])])"
   ]
  },
  {
   "cell_type": "code",
   "execution_count": 94,
   "id": "5af14f66",
   "metadata": {},
   "outputs": [
    {
     "data": {
      "text/plain": [
       "5"
      ]
     },
     "execution_count": 94,
     "metadata": {},
     "output_type": "execute_result"
    }
   ],
   "source": [
    "np.argmax(data[:,4])"
   ]
  },
  {
   "cell_type": "code",
   "execution_count": 96,
   "id": "69dcc52f",
   "metadata": {},
   "outputs": [
    {
     "name": "stdout",
     "output_type": "stream",
     "text": [
      "[2014.     6.   182.     4.    19.    11.7]\n"
     ]
    }
   ],
   "source": [
    "print(data[ np.argmax(data[:,4]) ])"
   ]
  },
  {
   "cell_type": "code",
   "execution_count": 97,
   "id": "6504aaee",
   "metadata": {},
   "outputs": [
    {
     "data": {
      "text/plain": [
       "-22.4"
      ]
     },
     "execution_count": 97,
     "metadata": {},
     "output_type": "execute_result"
    }
   ],
   "source": [
    "min(data[:,5])"
   ]
  },
  {
   "cell_type": "code",
   "execution_count": 100,
   "id": "1ddf0935",
   "metadata": {},
   "outputs": [
    {
     "name": "stdout",
     "output_type": "stream",
     "text": [
      "[[2014.     8.   163.     3.6  -47.   -22.4]]\n"
     ]
    }
   ],
   "source": [
    "print(data[data[:,5] == min(data[:,5])])"
   ]
  },
  {
   "cell_type": "code",
   "execution_count": 102,
   "id": "2790f1a2",
   "metadata": {},
   "outputs": [
    {
     "name": "stdout",
     "output_type": "stream",
     "text": [
      "[2014.     8.   163.     3.6  -47.   -22.4]\n"
     ]
    }
   ],
   "source": [
    "print(data[ np.argmin(data[:,5]) ])"
   ]
  },
  {
   "cell_type": "code",
   "execution_count": 109,
   "id": "241aaa77",
   "metadata": {},
   "outputs": [
    {
     "data": {
      "text/plain": [
       "array([[ 2.014e+03,  2.000e+00,  8.720e+02,  1.900e+01, -4.500e+01,\n",
       "        -4.900e+00],\n",
       "       [ 2.014e+03,  3.000e+00,  4.010e+02,  8.700e+00, -4.500e+01,\n",
       "        -1.010e+01],\n",
       "       [ 2.014e+03,  4.000e+00,  4.640e+02,  1.010e+01, -4.100e+01,\n",
       "        -8.100e+00],\n",
       "       [ 2.014e+03,  1.300e+01,  4.000e+02,  8.700e+00, -3.500e+01,\n",
       "        -8.000e+00]])"
      ]
     },
     "execution_count": 109,
     "metadata": {},
     "output_type": "execute_result"
    }
   ],
   "source": [
    "data2 = data[data[:,2] >= 400]\n",
    "data2"
   ]
  },
  {
   "cell_type": "code",
   "execution_count": 111,
   "id": "86d2c28b",
   "metadata": {},
   "outputs": [
    {
     "name": "stdout",
     "output_type": "stream",
     "text": [
      "[[  2.  872.  -45.   -4.9]\n",
      " [  3.  401.  -45.  -10.1]\n",
      " [  4.  464.  -41.   -8.1]\n",
      " [ 13.  400.  -35.   -8. ]]\n"
     ]
    }
   ],
   "source": [
    "print(data2[ :  ,[1,2,4,5]])"
   ]
  },
  {
   "cell_type": "code",
   "execution_count": 112,
   "id": "5f7624e0",
   "metadata": {},
   "outputs": [
    {
     "name": "stdout",
     "output_type": "stream",
     "text": [
      "[[  2.  872.  -45.   -4.9]\n",
      " [  3.  401.  -45.  -10.1]\n",
      " [  4.  464.  -41.   -8.1]\n",
      " [ 13.  400.  -35.   -8. ]]\n"
     ]
    }
   ],
   "source": [
    "print(data[data[:,2] >= 400][:,[1,2,4,5]])"
   ]
  },
  {
   "cell_type": "code",
   "execution_count": null,
   "id": "da612596",
   "metadata": {},
   "outputs": [],
   "source": []
  }
 ],
 "metadata": {
  "kernelspec": {
   "display_name": "Python 3 (ipykernel)",
   "language": "python",
   "name": "python3"
  },
  "language_info": {
   "codemirror_mode": {
    "name": "ipython",
    "version": 3
   },
   "file_extension": ".py",
   "mimetype": "text/x-python",
   "name": "python",
   "nbconvert_exporter": "python",
   "pygments_lexer": "ipython3",
   "version": "3.9.12"
  }
 },
 "nbformat": 4,
 "nbformat_minor": 5
}
