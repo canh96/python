{
 "cells": [
  {
   "cell_type": "code",
   "execution_count": 1,
   "id": "d2f7cceb-c48d-4dcc-9e7b-eb1a52bbb6f2",
   "metadata": {},
   "outputs": [],
   "source": [
    "## 기본모듈\n",
    "import numpy as np\n",
    "import pandas as pd\n",
    "import matplotlib.pyplot as plt\n",
    "from sklearn.model_selection import train_test_split\n",
    "\n",
    "## 모듈 import\n",
    "from tensorflow import keras\n",
    "from keras.models import Sequential\n",
    "from keras.layers import Dense\n",
    "from keras.utils.np_utils import to_categorical\n",
    "from keras.utils import plot_model\n",
    "from keras.datasets import mnist"
   ]
  },
  {
   "cell_type": "code",
   "execution_count": 2,
   "id": "5cf91b87-6a4a-486c-bd80-c6abaf45c05e",
   "metadata": {},
   "outputs": [
    {
     "name": "stdout",
     "output_type": "stream",
     "text": [
      "Downloading data from https://storage.googleapis.com/tensorflow/tf-keras-datasets/mnist.npz\n",
      "11490434/11490434 [==============================] - 1s 0us/step\n"
     ]
    }
   ],
   "source": [
    "## dataset 정리\n",
    "(X_train_full, y_train_full), (X_test, y_test) = mnist.load_data()\n",
    "X_train, X_val, y_train, y_val = train_test_split(X_train_full, y_train_full, test_size = .2)"
   ]
  },
  {
   "cell_type": "code",
   "execution_count": 3,
   "id": "fb76f836-6933-4656-820c-ba94edd08563",
   "metadata": {},
   "outputs": [
    {
     "name": "stdout",
     "output_type": "stream",
     "text": [
      "(48000, 28, 28)\n",
      "(48000,)\n"
     ]
    }
   ],
   "source": [
    "print(X_train.shape)\n",
    "print(y_train.shape)"
   ]
  },
  {
   "cell_type": "code",
   "execution_count": 5,
   "id": "75db054f-2c65-4e35-847b-748d96c0d2ee",
   "metadata": {},
   "outputs": [
    {
     "data": {
      "text/plain": [
       "7"
      ]
     },
     "execution_count": 5,
     "metadata": {},
     "output_type": "execute_result"
    },
    {
     "data": {
      "image/png": "[encoded data removed]",
      "text/plain": [
       "<Figure size 432x288 with 1 Axes>"
      ]
     },
     "metadata": {
      "needs_background": "light"
     },
     "output_type": "display_data"
    }
   ],
   "source": [
    "plt.imshow(X_train[0])\n",
    "y_train[0]"
   ]
  },
  {
   "cell_type": "code",
   "execution_count": 6,
   "id": "f4f727bf-6e69-497a-a46b-d2ab860b1297",
   "metadata": {},
   "outputs": [
    {
     "data": {
      "text/plain": [
       "(48000, 28, 28)"
      ]
     },
     "execution_count": 6,
     "metadata": {},
     "output_type": "execute_result"
    }
   ],
   "source": [
    "X_train.shape"
   ]
  },
  {
   "cell_type": "code",
   "execution_count": 7,
   "id": "08ae79df-5cc4-4a1d-8e43-198f2de72726",
   "metadata": {},
   "outputs": [],
   "source": [
    "x = X_train.reshape(-1,784*1000)"
   ]
  },
  {
   "cell_type": "code",
   "execution_count": 8,
   "id": "88232936-c278-4d6d-aa52-b84fc0a8d2c5",
   "metadata": {},
   "outputs": [],
   "source": [
    "y = x.reshape(48000,28,28)"
   ]
  },
  {
   "cell_type": "code",
   "execution_count": 9,
   "id": "c1461dde-f9b0-4e5b-96c4-d8dc9c659a9f",
   "metadata": {},
   "outputs": [
    {
     "data": {
      "text/plain": [
       "<matplotlib.image.AxesImage at 0x20612158460>"
      ]
     },
     "execution_count": 9,
     "metadata": {},
     "output_type": "execute_result"
    },
    {
     "data": {
      "image/png": "[encoded data removed]",
      "text/plain": [
       "<Figure size 432x288 with 1 Axes>"
      ]
     },
     "metadata": {
      "needs_background": "light"
     },
     "output_type": "display_data"
    }
   ],
   "source": [
    "plt.imshow(y[0])"
   ]
  },
  {
   "cell_type": "code",
   "execution_count": 10,
   "id": "61646526-7a9d-49e3-8d12-e86697271edf",
   "metadata": {},
   "outputs": [],
   "source": [
    "# X 데이터 정리\n",
    "X_train = X_train.reshape(-1, 784)\n",
    "X_val = X_val.reshape(-1,784)\n",
    "X_test = X_test.reshape(-1, 784)"
   ]
  },
  {
   "cell_type": "code",
   "execution_count": 11,
   "id": "8b5efddb-06d4-4d77-9a51-f9ffc549213c",
   "metadata": {},
   "outputs": [],
   "source": [
    "# y 데이터 확인 정리\n",
    "np.unique(y_train).size\n",
    "# categorical 데이터 확인\n",
    "# one-hot 변환\n",
    "y_train = to_categorical(y_train)\n",
    "y_val = to_categorical(y_val)\n",
    "y_test = to_categorical(y_test)"
   ]
  },
  {
   "cell_type": "code",
   "execution_count": 12,
   "id": "2e03ef6d-18d9-46ab-8ce7-bcfb4fe512dd",
   "metadata": {},
   "outputs": [],
   "source": [
    "## 모델 생성\n",
    "model1 = Sequential()\n",
    "model1.add(Dense(1024,activation='relu',input_dim=784))\n",
    "model1.add(Dense(512,activation='sigmoid'))\n",
    "model1.add(Dense(10,activation='softmax'))"
   ]
  },
  {
   "cell_type": "code",
   "execution_count": 13,
   "id": "68484c06-7334-4554-a1db-9d51e4c6b7a2",
   "metadata": {
    "tags": []
   },
   "outputs": [
    {
     "name": "stdout",
     "output_type": "stream",
     "text": [
      "Model: \"sequential\"\n",
      "_________________________________________________________________\n",
      " Layer (type)                Output Shape              Param #   \n",
      "=================================================================\n",
      " dense (Dense)               (None, 1024)              803840    \n",
      "                                                                 \n",
      " dense_1 (Dense)             (None, 512)               524800    \n",
      "                                                                 \n",
      " dense_2 (Dense)             (None, 10)                5130      \n",
      "                                                                 \n",
      "=================================================================\n",
      "Total params: 1,333,770\n",
      "Trainable params: 1,333,770\n",
      "Non-trainable params: 0\n",
      "_________________________________________________________________\n"
     ]
    }
   ],
   "source": [
    "model1.summary()"
   ]
  },
  {
   "cell_type": "code",
   "execution_count": 14,
   "id": "b523a5d2-b93c-43b0-a69d-d7d76a3839df",
   "metadata": {},
   "outputs": [
    {
     "data": {
      "image/png": "[encoded data removed]",
      "text/plain": [
       "<IPython.core.display.Image object>"
      ]
     },
     "execution_count": 14,
     "metadata": {},
     "output_type": "execute_result"
    }
   ],
   "source": [
    "plot_model(model1)"
   ]
  },
  {
   "cell_type": "code",
   "execution_count": 15,
   "id": "447755cb-33c5-4895-9b4d-d72a7a8808b4",
   "metadata": {},
   "outputs": [],
   "source": [
    "## 모델 설정\n",
    "optimizer = 'sgd'\n",
    "loss = 'categorical_crossentropy'\n",
    "metrics = ['accuracy']\n",
    "model1.compile(\n",
    "    optimizer = optimizer,\n",
    "    loss = loss,\n",
    "    metrics = metrics\n",
    ")"
   ]
  },
  {
   "cell_type": "code",
   "execution_count": 16,
   "id": "9faaec54-77ab-41f1-9159-29c343acae06",
   "metadata": {},
   "outputs": [
    {
     "name": "stdout",
     "output_type": "stream",
     "text": [
      "Epoch 1/10\n",
      "1500/1500 [==============================] - 26s 16ms/step - loss: 0.4053 - accuracy: 0.8925 - val_loss: 0.2502 - val_accuracy: 0.9255\n",
      "Epoch 2/10\n",
      "1500/1500 [==============================] - 26s 17ms/step - loss: 0.2002 - accuracy: 0.9438 - val_loss: 0.1903 - val_accuracy: 0.9433\n",
      "Epoch 3/10\n",
      "1500/1500 [==============================] - 24s 16ms/step - loss: 0.1508 - accuracy: 0.9574 - val_loss: 0.1601 - val_accuracy: 0.9503\n",
      "Epoch 4/10\n",
      "1500/1500 [==============================] - 24s 16ms/step - loss: 0.1213 - accuracy: 0.9654 - val_loss: 0.1468 - val_accuracy: 0.9572\n",
      "Epoch 5/10\n",
      "1500/1500 [==============================] - 22s 15ms/step - loss: 0.0993 - accuracy: 0.9723 - val_loss: 0.1245 - val_accuracy: 0.9626\n",
      "Epoch 6/10\n",
      "1500/1500 [==============================] - 23s 15ms/step - loss: 0.0844 - accuracy: 0.9760 - val_loss: 0.1178 - val_accuracy: 0.9629\n",
      "Epoch 7/10\n",
      "1500/1500 [==============================] - 26s 17ms/step - loss: 0.0679 - accuracy: 0.9819 - val_loss: 0.1079 - val_accuracy: 0.9668\n",
      "Epoch 8/10\n",
      "1500/1500 [==============================] - 27s 18ms/step - loss: 0.0574 - accuracy: 0.9843 - val_loss: 0.0992 - val_accuracy: 0.9703\n",
      "Epoch 9/10\n",
      "1500/1500 [==============================] - 26s 17ms/step - loss: 0.0486 - accuracy: 0.9878 - val_loss: 0.0960 - val_accuracy: 0.9707\n",
      "Epoch 10/10\n",
      "1500/1500 [==============================] - 25s 16ms/step - loss: 0.0395 - accuracy: 0.9905 - val_loss: 0.0898 - val_accuracy: 0.9724\n"
     ]
    },
    {
     "data": {
      "text/plain": [
       "<keras.callbacks.History at 0x206126225e0>"
      ]
     },
     "execution_count": 16,
     "metadata": {},
     "output_type": "execute_result"
    }
   ],
   "source": [
    "### 모델 학습\n",
    "model1.fit(\n",
    "    X_train,\n",
    "    y_train,\n",
    "    epochs = 10,\n",
    "    validation_data = (X_val, y_val)\n",
    ")"
   ]
  },
  {
   "cell_type": "code",
   "execution_count": 17,
   "id": "63aa0d5c-f6e9-44c7-a65b-2426d17d00b8",
   "metadata": {},
   "outputs": [
    {
     "name": "stdout",
     "output_type": "stream",
     "text": [
      "313/313 [==============================] - 2s 6ms/step - loss: 0.0807 - accuracy: 0.9743\n"
     ]
    },
    {
     "data": {
      "text/plain": [
       "[0.08068614453077316, 0.9743000268936157]"
      ]
     },
     "execution_count": 17,
     "metadata": {},
     "output_type": "execute_result"
    }
   ],
   "source": [
    "## test 정확도 검증\n",
    "model1.evaluate(X_test,y_test)"
   ]
  },
  {
   "cell_type": "code",
   "execution_count": 18,
   "id": "0b4fbed2-7978-49d1-acd6-137af1b5fa65",
   "metadata": {},
   "outputs": [
    {
     "name": "stdout",
     "output_type": "stream",
     "text": [
      "313/313 [==============================] - 2s 6ms/step\n"
     ]
    },
    {
     "data": {
      "text/plain": [
       "0.09743"
      ]
     },
     "execution_count": 18,
     "metadata": {},
     "output_type": "execute_result"
    }
   ],
   "source": [
    "np.sum(np.argmax(model1.predict(X_test),axis=1) == np.argmax(y_test,axis=1))/y_test.size"
   ]
  },
  {
   "cell_type": "code",
   "execution_count": 19,
   "id": "b2b56760-b6bb-410f-a067-c8e084ab2e5c",
   "metadata": {},
   "outputs": [],
   "source": [
    "## 활용\n",
    "def mnist_test(x):\n",
    "    ind = np.random.choice(np.arange(len(X_test)),x,replace=False)\n",
    "    size = x\n",
    "    score = 0\n",
    "    for i in ind:\n",
    "        plt.imshow(X_test[i].reshape(28,28))\n",
    "        pred = np.argmax(model1.predict(X_test[[i]]))\n",
    "        real = np.argmax(y_test[i])\n",
    "        if pred == real:\n",
    "            result = '맞음'\n",
    "            score += 1\n",
    "        else:\n",
    "            result = '틀림'\n",
    "        score = (score/size)*100\n",
    "        print(f'정답은 ===> {real} 예측은 ===> {pred} 결과는 ===> {result}')\n",
    "        plt.show()\n",
    "    print('\\n',f' 총 {size}를 예측한 결과 예측율은 {score} %')"
   ]
  },
  {
   "cell_type": "code",
   "execution_count": 20,
   "id": "14502373-4bba-4a79-a9f4-f7d730c0cfc9",
   "metadata": {},
   "outputs": [
    {
     "name": "stdout",
     "output_type": "stream",
     "text": [
      "1/1 [==============================] - 0s 22ms/step\n",
      "정답은 ===> 1 예측은 ===> 1 결과는 ===> 맞음\n"
     ]
    },
    {
     "data": {
      "image/png": "[encoded data removed]",
      "text/plain": [
       "<Figure size 432x288 with 1 Axes>"
      ]
     },
     "metadata": {
      "needs_background": "light"
     },
     "output_type": "display_data"
    },
    {
     "name": "stdout",
     "output_type": "stream",
     "text": [
      "1/1 [==============================] - 0s 27ms/step\n",
      "정답은 ===> 5 예측은 ===> 5 결과는 ===> 맞음\n"
     ]
    },
    {
     "data": {
      "image/png": "[encoded data removed]",
      "text/plain": [
       "<Figure size 432x288 with 1 Axes>"
      ]
     },
     "metadata": {
      "needs_background": "light"
     },
     "output_type": "display_data"
    },
    {
     "name": "stdout",
     "output_type": "stream",
     "text": [
      "1/1 [==============================] - 0s 22ms/step\n",
      "정답은 ===> 7 예측은 ===> 7 결과는 ===> 맞음\n"
     ]
    },
    {
     "data": {
      "image/png": "[encoded data removed]",
      "text/plain": [
       "<Figure size 432x288 with 1 Axes>"
      ]
     },
     "metadata": {
      "needs_background": "light"
     },
     "output_type": "display_data"
    },
    {
     "name": "stdout",
     "output_type": "stream",
     "text": [
      "1/1 [==============================] - 0s 23ms/step\n",
      "정답은 ===> 8 예측은 ===> 8 결과는 ===> 맞음\n"
     ]
    },
    {
     "data": {
      "image/png": "[encoded data removed]",
      "text/plain": [
       "<Figure size 432x288 with 1 Axes>"
      ]
     },
     "metadata": {
      "needs_background": "light"
     },
     "output_type": "display_data"
    },
    {
     "name": "stdout",
     "output_type": "stream",
     "text": [
      "1/1 [==============================] - 0s 32ms/step\n",
      "정답은 ===> 9 예측은 ===> 9 결과는 ===> 맞음\n"
     ]
    },
    {
     "data": {
      "image/png": "[encoded data removed]",
      "text/plain": [
       "<Figure size 432x288 with 1 Axes>"
      ]
     },
     "metadata": {
      "needs_background": "light"
     },
     "output_type": "display_data"
    },
    {
     "name": "stdout",
     "output_type": "stream",
     "text": [
      "1/1 [==============================] - 0s 19ms/step\n",
      "정답은 ===> 2 예측은 ===> 2 결과는 ===> 맞음\n"
     ]
    },
    {
     "data": {
      "image/png": "[encoded data removed]",
      "text/plain": [
       "<Figure size 432x288 with 1 Axes>"
      ]
     },
     "metadata": {
      "needs_background": "light"
     },
     "output_type": "display_data"
    },
    {
     "name": "stdout",
     "output_type": "stream",
     "text": [
      "1/1 [==============================] - 0s 32ms/step\n",
      "정답은 ===> 7 예측은 ===> 7 결과는 ===> 맞음\n"
     ]
    },
    {
     "data": {
      "image/png": "[encoded data removed]",
      "text/plain": [
       "<Figure size 432x288 with 1 Axes>"
      ]
     },
     "metadata": {
      "needs_background": "light"
     },
     "output_type": "display_data"
    },
    {
     "name": "stdout",
     "output_type": "stream",
     "text": [
      "1/1 [==============================] - 0s 26ms/step\n",
      "정답은 ===> 6 예측은 ===> 6 결과는 ===> 맞음\n"
     ]
    },
    {
     "data": {
      "image/png": "[encoded data removed]",
      "text/plain": [
       "<Figure size 432x288 with 1 Axes>"
      ]
     },
     "metadata": {
      "needs_background": "light"
     },
     "output_type": "display_data"
    },
    {
     "name": "stdout",
     "output_type": "stream",
     "text": [
      "1/1 [==============================] - 0s 32ms/step\n",
      "정답은 ===> 9 예측은 ===> 9 결과는 ===> 맞음\n"
     ]
    },
    {
     "data": {
      "image/png": "[encoded data removed]",
      "text/plain": [
       "<Figure size 432x288 with 1 Axes>"
      ]
     },
     "metadata": {
      "needs_background": "light"
     },
     "output_type": "display_data"
    },
    {
     "name": "stdout",
     "output_type": "stream",
     "text": [
      "1/1 [==============================] - 0s 24ms/step\n",
      "정답은 ===> 6 예측은 ===> 6 결과는 ===> 맞음\n"
     ]
    },
    {
     "data": {
      "image/png": "[encoded data removed]",
      "text/plain": [
       "<Figure size 432x288 with 1 Axes>"
      ]
     },
     "metadata": {
      "needs_background": "light"
     },
     "output_type": "display_data"
    },
    {
     "name": "stdout",
     "output_type": "stream",
     "text": [
      "\n",
      "  총 10를 예측한 결과 예측율은 11111111110.000002 %\n"
     ]
    }
   ],
   "source": [
    "mnist_test(10)"
   ]
  },
  {
   "cell_type": "markdown",
   "id": "4b0fb035-7559-4d57-bdb7-bf8e9e882e6e",
   "metadata": {},
   "source": [
    "### val 데이터로 예측율 확인"
   ]
  },
  {
   "cell_type": "code",
   "execution_count": 21,
   "id": "27b477db-6d5b-4c06-a1eb-7b22a096ef59",
   "metadata": {},
   "outputs": [
    {
     "name": "stdout",
     "output_type": "stream",
     "text": [
      "Epoch 1/10\n",
      "375/375 [==============================] - 12s 31ms/step - loss: 0.0961 - accuracy: 0.9700 - val_loss: 0.0488 - val_accuracy: 0.9887\n",
      "Epoch 2/10\n",
      "375/375 [==============================] - 12s 32ms/step - loss: 0.0715 - accuracy: 0.9805 - val_loss: 0.0443 - val_accuracy: 0.9891\n",
      "Epoch 3/10\n",
      "375/375 [==============================] - 13s 34ms/step - loss: 0.0526 - accuracy: 0.9858 - val_loss: 0.0426 - val_accuracy: 0.9892\n",
      "Epoch 4/10\n",
      "375/375 [==============================] - 13s 34ms/step - loss: 0.0390 - accuracy: 0.9914 - val_loss: 0.0401 - val_accuracy: 0.9895\n",
      "Epoch 5/10\n",
      "375/375 [==============================] - 13s 34ms/step - loss: 0.0275 - accuracy: 0.9949 - val_loss: 0.0399 - val_accuracy: 0.9900\n",
      "Epoch 6/10\n",
      "375/375 [==============================] - 13s 34ms/step - loss: 0.0201 - accuracy: 0.9968 - val_loss: 0.0385 - val_accuracy: 0.9898\n",
      "Epoch 7/10\n",
      "375/375 [==============================] - 13s 35ms/step - loss: 0.0152 - accuracy: 0.9977 - val_loss: 0.0379 - val_accuracy: 0.9895\n",
      "Epoch 8/10\n",
      "375/375 [==============================] - 12s 33ms/step - loss: 0.0123 - accuracy: 0.9984 - val_loss: 0.0373 - val_accuracy: 0.9897\n",
      "Epoch 9/10\n",
      "375/375 [==============================] - 12s 33ms/step - loss: 0.0104 - accuracy: 0.9988 - val_loss: 0.0374 - val_accuracy: 0.9896\n",
      "Epoch 10/10\n",
      "375/375 [==============================] - 12s 32ms/step - loss: 0.0092 - accuracy: 0.9992 - val_loss: 0.0369 - val_accuracy: 0.9897\n"
     ]
    },
    {
     "data": {
      "text/plain": [
       "<keras.callbacks.History at 0x20614403a90>"
      ]
     },
     "execution_count": 21,
     "metadata": {},
     "output_type": "execute_result"
    }
   ],
   "source": [
    "### 모델 학습\n",
    "model1.fit(\n",
    "    X_val,\n",
    "    y_val,\n",
    "    epochs = 10,\n",
    "    validation_data = (X_train, y_train)\n",
    ")"
   ]
  },
  {
   "cell_type": "code",
   "execution_count": 22,
   "id": "a61518ab-6d6d-436a-b481-adc0634cdbd6",
   "metadata": {},
   "outputs": [
    {
     "name": "stdout",
     "output_type": "stream",
     "text": [
      "313/313 [==============================] - 2s 6ms/step - loss: 0.0776 - accuracy: 0.9752\n"
     ]
    },
    {
     "data": {
      "text/plain": [
       "[0.07756783068180084, 0.9751999974250793]"
      ]
     },
     "execution_count": 22,
     "metadata": {},
     "output_type": "execute_result"
    }
   ],
   "source": [
    "## test 정확도 검증\n",
    "model1.evaluate(X_test,y_test)"
   ]
  },
  {
   "cell_type": "code",
   "execution_count": 23,
   "id": "fd96a829-e436-407f-9faf-ca8ea8b159c0",
   "metadata": {},
   "outputs": [],
   "source": [
    "## 활용\n",
    "def mnist_val(x):\n",
    "    ind = np.random.choice(np.arange(len(X_val)),x,replace=False)\n",
    "    size = x\n",
    "    score = 0\n",
    "    for i in ind:\n",
    "        plt.imshow(X_val[i].reshape(28,28))\n",
    "        pred = np.argmax(model1.predict(X_val[[i]]))\n",
    "        real = np.argmax(y_val[i])\n",
    "        if pred == real:\n",
    "            result = '맞음'\n",
    "            score += 1\n",
    "        else:\n",
    "            result = '틀림'\n",
    "        score = (score/size)*100\n",
    "        print(f'정답은 ===> {real} 예측은 ===> {pred} 결과는 ===> {result}')\n",
    "        plt.show()\n",
    "    print('\\n',f' 총 {size}를 예측한 결과 예측율은 {score} %')"
   ]
  },
  {
   "cell_type": "code",
   "execution_count": 24,
   "id": "5488d500-172b-4485-9c19-7584f9a669ea",
   "metadata": {},
   "outputs": [
    {
     "name": "stdout",
     "output_type": "stream",
     "text": [
      "1/1 [==============================] - 0s 31ms/step\n",
      "정답은 ===> 3 예측은 ===> 3 결과는 ===> 맞음\n"
     ]
    },
    {
     "data": {
      "image/png": "[encoded data removed]",
      "text/plain": [
       "<Figure size 432x288 with 1 Axes>"
      ]
     },
     "metadata": {
      "needs_background": "light"
     },
     "output_type": "display_data"
    },
    {
     "name": "stdout",
     "output_type": "stream",
     "text": [
      "1/1 [==============================] - 0s 27ms/step\n",
      "정답은 ===> 5 예측은 ===> 5 결과는 ===> 맞음\n"
     ]
    },
    {
     "data": {
      "image/png": "[encoded data removed]",
      "text/plain": [
       "<Figure size 432x288 with 1 Axes>"
      ]
     },
     "metadata": {
      "needs_background": "light"
     },
     "output_type": "display_data"
    },
    {
     "name": "stdout",
     "output_type": "stream",
     "text": [
      "1/1 [==============================] - 0s 33ms/step\n",
      "정답은 ===> 7 예측은 ===> 7 결과는 ===> 맞음\n"
     ]
    },
    {
     "data": {
      "image/png": "[encoded data removed]",
      "text/plain": [
       "<Figure size 432x288 with 1 Axes>"
      ]
     },
     "metadata": {
      "needs_background": "light"
     },
     "output_type": "display_data"
    },
    {
     "name": "stdout",
     "output_type": "stream",
     "text": [
      "1/1 [==============================] - 0s 31ms/step\n",
      "정답은 ===> 1 예측은 ===> 1 결과는 ===> 맞음\n"
     ]
    },
    {
     "data": {
      "image/png": "[encoded data removed]",
      "text/plain": [
       "<Figure size 432x288 with 1 Axes>"
      ]
     },
     "metadata": {
      "needs_background": "light"
     },
     "output_type": "display_data"
    },
    {
     "name": "stdout",
     "output_type": "stream",
     "text": [
      "1/1 [==============================] - 0s 29ms/step\n",
      "정답은 ===> 8 예측은 ===> 8 결과는 ===> 맞음\n"
     ]
    },
    {
     "data": {
      "image/png": "[encoded data removed]",
      "text/plain": [
       "<Figure size 432x288 with 1 Axes>"
      ]
     },
     "metadata": {
      "needs_background": "light"
     },
     "output_type": "display_data"
    },
    {
     "name": "stdout",
     "output_type": "stream",
     "text": [
      "\n",
      "  총 5를 예측한 결과 예측율은 3368419.9999999995 %\n"
     ]
    }
   ],
   "source": [
    "mnist_val(5)"
   ]
  },
  {
   "cell_type": "markdown",
   "id": "a35da3b0-77b2-45eb-a0f9-e24eba9690d9",
   "metadata": {},
   "source": [
    "### model2(1, 7, 9를 기생충으로 판별)"
   ]
  },
  {
   "cell_type": "code",
   "execution_count": 25,
   "id": "fd5a7138-e17f-4420-8ae4-51795401c57d",
   "metadata": {},
   "outputs": [],
   "source": [
    "model2 = Sequential()"
   ]
  },
  {
   "cell_type": "code",
   "execution_count": 160,
   "id": "54250326-c5c0-4091-a294-b62af0d4d14a",
   "metadata": {},
   "outputs": [],
   "source": [
    "# model2.compile(optimizer=keras.optimizers.SGE(),\n",
    "#                loss = keras.losses.CategoricalCrossentropy())"
   ]
  },
  {
   "cell_type": "code",
   "execution_count": 26,
   "id": "481ea80c-86a2-4f73-8a26-a02c298b5a65",
   "metadata": {},
   "outputs": [],
   "source": [
    "model2.compile(optimizer='sgd',\n",
    "               loss = 'binary_crossentropy')"
   ]
  },
  {
   "cell_type": "code",
   "execution_count": 27,
   "id": "30dc1b8e-96c3-4232-af64-546c5512f9eb",
   "metadata": {
    "collapsed": true,
    "jupyter": {
     "outputs_hidden": true
    },
    "tags": []
   },
   "outputs": [
    {
     "data": {
      "text/plain": [
       "['BinaryCrossentropy',\n",
       " 'BinaryFocalCrossentropy',\n",
       " 'CategoricalCrossentropy',\n",
       " 'CategoricalHinge',\n",
       " 'CosineSimilarity',\n",
       " 'Hinge',\n",
       " 'Huber',\n",
       " 'KLD',\n",
       " 'KLDivergence',\n",
       " 'LogCosh',\n",
       " 'Loss',\n",
       " 'MAE',\n",
       " 'MAPE',\n",
       " 'MSE',\n",
       " 'MSLE',\n",
       " 'MeanAbsoluteError',\n",
       " 'MeanAbsolutePercentageError',\n",
       " 'MeanSquaredError',\n",
       " 'MeanSquaredLogarithmicError',\n",
       " 'Poisson',\n",
       " 'Reduction',\n",
       " 'SparseCategoricalCrossentropy',\n",
       " 'SquaredHinge',\n",
       " '__builtins__',\n",
       " '__cached__',\n",
       " '__doc__',\n",
       " '__file__',\n",
       " '__loader__',\n",
       " '__name__',\n",
       " '__package__',\n",
       " '__path__',\n",
       " '__spec__',\n",
       " '_sys',\n",
       " 'binary_crossentropy',\n",
       " 'binary_focal_crossentropy',\n",
       " 'categorical_crossentropy',\n",
       " 'categorical_hinge',\n",
       " 'cosine_similarity',\n",
       " 'deserialize',\n",
       " 'get',\n",
       " 'hinge',\n",
       " 'huber',\n",
       " 'kl_divergence',\n",
       " 'kld',\n",
       " 'kullback_leibler_divergence',\n",
       " 'log_cosh',\n",
       " 'logcosh',\n",
       " 'mae',\n",
       " 'mape',\n",
       " 'mean_absolute_error',\n",
       " 'mean_absolute_percentage_error',\n",
       " 'mean_squared_error',\n",
       " 'mean_squared_logarithmic_error',\n",
       " 'mse',\n",
       " 'msle',\n",
       " 'poisson',\n",
       " 'serialize',\n",
       " 'sparse_categorical_crossentropy',\n",
       " 'squared_hinge']"
      ]
     },
     "execution_count": 27,
     "metadata": {},
     "output_type": "execute_result"
    }
   ],
   "source": [
    "dir(keras.losses)"
   ]
  },
  {
   "cell_type": "code",
   "execution_count": 28,
   "id": "e73ac1ec-aba4-4dcf-a46b-813685d8059b",
   "metadata": {},
   "outputs": [],
   "source": [
    "from keras.datasets import mnist"
   ]
  },
  {
   "cell_type": "code",
   "execution_count": 29,
   "id": "1f5732a4-8a33-4b59-982d-688c041e7083",
   "metadata": {},
   "outputs": [],
   "source": [
    "(X_train_full, y_train_full), (X_test, y_test) = mnist.load_data()"
   ]
  },
  {
   "cell_type": "code",
   "execution_count": 30,
   "id": "3980b232-2ea1-4a39-a9e3-59d6d2120bb3",
   "metadata": {},
   "outputs": [],
   "source": [
    "y_train_full = np.where((y_train_full == 1) | (y_train_full == 7) | (y_train_full == 9)\n",
    "                        ,1,0)\n",
    "y_test = np.where((y_test == 1) | (y_test == 7) | (y_test == 9)\n",
    "                  ,1,0)"
   ]
  },
  {
   "cell_type": "code",
   "execution_count": 31,
   "id": "7046804f-15a1-46ae-831c-d4d0dcdbd8ee",
   "metadata": {},
   "outputs": [],
   "source": [
    "X_train, X_val, y_train, y_val = train_test_split(X_train_full, y_train_full, test_size=.2)"
   ]
  },
  {
   "cell_type": "code",
   "execution_count": 32,
   "id": "4fe58f63-76f2-469e-9c4d-d3e0c416a80e",
   "metadata": {},
   "outputs": [],
   "source": [
    "X_train = X_train.reshape(-1, 28*28)\n",
    "X_val = X_val.reshape(-1,28*28)\n",
    "X_test = X_test.reshape(-1,28*28)"
   ]
  },
  {
   "cell_type": "code",
   "execution_count": 33,
   "id": "c7bf5eee-ae71-4484-9cd2-65071441b376",
   "metadata": {},
   "outputs": [],
   "source": [
    "model2 = keras.Sequential()\n",
    "model2.add(Dense(1024,activation='relu', input_shape=(784,)))\n",
    "model2.add(keras.layers.BatchNormalization())\n",
    "model2.add(keras.layers.Dense(512,activation='relu'))\n",
    "model2.add(keras.layers.Dense(1,activation='sigmoid'))"
   ]
  },
  {
   "cell_type": "code",
   "execution_count": 34,
   "id": "239e0ab5-6b48-4f67-bdf7-8b36303ab3ac",
   "metadata": {},
   "outputs": [],
   "source": [
    "model2.compile(\n",
    "    optimizer = 'sgd',\n",
    "    loss = 'binary_crossentropy',\n",
    "    metrics = ['accuracy']\n",
    ")"
   ]
  },
  {
   "cell_type": "code",
   "execution_count": 35,
   "id": "a5626c14-5164-472b-9264-603fb77994c4",
   "metadata": {},
   "outputs": [
    {
     "name": "stdout",
     "output_type": "stream",
     "text": [
      "Epoch 1/10\n",
      "120/120 [==============================] - 9s 48ms/step - loss: 0.2092 - accuracy: 0.9236 - val_loss: 0.1291 - val_accuracy: 0.9561\n",
      "Epoch 2/10\n",
      "120/120 [==============================] - 5s 46ms/step - loss: 0.1137 - accuracy: 0.9631 - val_loss: 0.1007 - val_accuracy: 0.9668\n",
      "Epoch 3/10\n",
      "120/120 [==============================] - 6s 50ms/step - loss: 0.0936 - accuracy: 0.9703 - val_loss: 0.0892 - val_accuracy: 0.9701\n",
      "Epoch 4/10\n",
      "120/120 [==============================] - 6s 47ms/step - loss: 0.0824 - accuracy: 0.9735 - val_loss: 0.0818 - val_accuracy: 0.9725\n",
      "Epoch 5/10\n",
      "120/120 [==============================] - 6s 47ms/step - loss: 0.0748 - accuracy: 0.9761 - val_loss: 0.0758 - val_accuracy: 0.9747\n",
      "Epoch 6/10\n",
      "120/120 [==============================] - 6s 46ms/step - loss: 0.0689 - accuracy: 0.9782 - val_loss: 0.0713 - val_accuracy: 0.9762\n",
      "Epoch 7/10\n",
      "120/120 [==============================] - 5s 46ms/step - loss: 0.0640 - accuracy: 0.9801 - val_loss: 0.0674 - val_accuracy: 0.9776\n",
      "Epoch 8/10\n",
      "120/120 [==============================] - 6s 46ms/step - loss: 0.0597 - accuracy: 0.9811 - val_loss: 0.0638 - val_accuracy: 0.9787\n",
      "Epoch 9/10\n",
      "120/120 [==============================] - 6s 46ms/step - loss: 0.0563 - accuracy: 0.9821 - val_loss: 0.0613 - val_accuracy: 0.9791\n",
      "Epoch 10/10\n",
      "120/120 [==============================] - 6s 47ms/step - loss: 0.0531 - accuracy: 0.9833 - val_loss: 0.0589 - val_accuracy: 0.9801\n"
     ]
    },
    {
     "data": {
      "text/plain": [
       "<keras.callbacks.History at 0x206157b8040>"
      ]
     },
     "execution_count": 35,
     "metadata": {},
     "output_type": "execute_result"
    }
   ],
   "source": [
    "model2.fit(X_train,\n",
    "           y_train,\n",
    "           epochs=10,\n",
    "           batch_size = 400,\n",
    "           validation_data = (X_val,y_val),\n",
    "           verbose = 1)"
   ]
  },
  {
   "cell_type": "code",
   "execution_count": 36,
   "id": "9bba4d65-26c5-4940-ae1e-12bd338a21af",
   "metadata": {},
   "outputs": [],
   "source": [
    "## 활용\n",
    "def mnist_test2(x):\n",
    "    ind = np.random.choice(np.arange(len(X_test)),x,replace=False)\n",
    "    size = x\n",
    "    score = 0\n",
    "    for i in ind:\n",
    "        plt.imshow(X_test[i].reshape(28,28))\n",
    "        pred = np.where(model2.predict(X_test[[i]]) >0.5,1,0)\n",
    "        real = np.where(y_test[i]>0.5,1,0)\n",
    "        if pred == real:\n",
    "            result = '맞음'\n",
    "            score += 1\n",
    "        else:\n",
    "            result = '틀림'\n",
    "        score = (score/size)*100\n",
    "        print(f'정답은 ===> {real} 예측은 ===> {pred} 결과는 ===> {result}')\n",
    "        plt.show()\n",
    "    print('\\n',f' 총 {size}를 예측한 결과 예측율은 {score} %')"
   ]
  },
  {
   "cell_type": "code",
   "execution_count": 37,
   "id": "0c8e0e7b-0399-412c-8077-ed48058f1517",
   "metadata": {},
   "outputs": [
    {
     "name": "stdout",
     "output_type": "stream",
     "text": [
      "1/1 [==============================] - 0s 111ms/step\n"
     ]
    },
    {
     "data": {
      "text/plain": [
       "array([[0.9993255]], dtype=float32)"
      ]
     },
     "execution_count": 37,
     "metadata": {},
     "output_type": "execute_result"
    }
   ],
   "source": [
    "model2.predict(X_test[0:1])"
   ]
  },
  {
   "cell_type": "code",
   "execution_count": 38,
   "id": "13a5ccf9-12e4-456e-907f-5419c9cb7a77",
   "metadata": {},
   "outputs": [
    {
     "name": "stdout",
     "output_type": "stream",
     "text": [
      "1/1 [==============================] - 0s 25ms/step\n",
      "정답은 ===> 0 예측은 ===> [[0]] 결과는 ===> 맞음\n"
     ]
    },
    {
     "data": {
      "image/png": "[encoded data removed]",
      "text/plain": [
       "<Figure size 432x288 with 1 Axes>"
      ]
     },
     "metadata": {
      "needs_background": "light"
     },
     "output_type": "display_data"
    },
    {
     "name": "stdout",
     "output_type": "stream",
     "text": [
      "1/1 [==============================] - 0s 22ms/step\n",
      "정답은 ===> 1 예측은 ===> [[1]] 결과는 ===> 맞음\n"
     ]
    },
    {
     "data": {
      "image/png": "[encoded data removed]",
      "text/plain": [
       "<Figure size 432x288 with 1 Axes>"
      ]
     },
     "metadata": {
      "needs_background": "light"
     },
     "output_type": "display_data"
    },
    {
     "name": "stdout",
     "output_type": "stream",
     "text": [
      "1/1 [==============================] - 0s 24ms/step\n",
      "정답은 ===> 0 예측은 ===> [[0]] 결과는 ===> 맞음\n"
     ]
    },
    {
     "data": {
      "image/png": "[encoded data removed]",
      "text/plain": [
       "<Figure size 432x288 with 1 Axes>"
      ]
     },
     "metadata": {
      "needs_background": "light"
     },
     "output_type": "display_data"
    },
    {
     "name": "stdout",
     "output_type": "stream",
     "text": [
      "1/1 [==============================] - 0s 33ms/step\n",
      "정답은 ===> 1 예측은 ===> [[1]] 결과는 ===> 맞음\n"
     ]
    },
    {
     "data": {
      "image/png": "[encoded data removed]",
      "text/plain": [
       "<Figure size 432x288 with 1 Axes>"
      ]
     },
     "metadata": {
      "needs_background": "light"
     },
     "output_type": "display_data"
    },
    {
     "name": "stdout",
     "output_type": "stream",
     "text": [
      "1/1 [==============================] - 0s 30ms/step\n",
      "정답은 ===> 0 예측은 ===> [[0]] 결과는 ===> 맞음\n"
     ]
    },
    {
     "data": {
      "image/png": "[encoded data removed]",
      "text/plain": [
       "<Figure size 432x288 with 1 Axes>"
      ]
     },
     "metadata": {
      "needs_background": "light"
     },
     "output_type": "display_data"
    },
    {
     "name": "stdout",
     "output_type": "stream",
     "text": [
      "1/1 [==============================] - 0s 32ms/step\n",
      "정답은 ===> 1 예측은 ===> [[1]] 결과는 ===> 맞음\n"
     ]
    },
    {
     "data": {
      "image/png": "[encoded data removed]",
      "text/plain": [
       "<Figure size 432x288 with 1 Axes>"
      ]
     },
     "metadata": {
      "needs_background": "light"
     },
     "output_type": "display_data"
    },
    {
     "name": "stdout",
     "output_type": "stream",
     "text": [
      "1/1 [==============================] - 0s 29ms/step\n",
      "정답은 ===> 0 예측은 ===> [[0]] 결과는 ===> 맞음\n"
     ]
    },
    {
     "data": {
      "image/png": "[encoded data removed]",
      "text/plain": [
       "<Figure size 432x288 with 1 Axes>"
      ]
     },
     "metadata": {
      "needs_background": "light"
     },
     "output_type": "display_data"
    },
    {
     "name": "stdout",
     "output_type": "stream",
     "text": [
      "1/1 [==============================] - 0s 32ms/step\n",
      "정답은 ===> 0 예측은 ===> [[0]] 결과는 ===> 맞음\n"
     ]
    },
    {
     "data": {
      "image/png": "[encoded data removed]",
      "text/plain": [
       "<Figure size 432x288 with 1 Axes>"
      ]
     },
     "metadata": {
      "needs_background": "light"
     },
     "output_type": "display_data"
    },
    {
     "name": "stdout",
     "output_type": "stream",
     "text": [
      "1/1 [==============================] - 0s 26ms/step\n",
      "정답은 ===> 1 예측은 ===> [[1]] 결과는 ===> 맞음\n"
     ]
    },
    {
     "data": {
      "image/png": "[encoded data removed]",
      "text/plain": [
       "<Figure size 432x288 with 1 Axes>"
      ]
     },
     "metadata": {
      "needs_background": "light"
     },
     "output_type": "display_data"
    },
    {
     "name": "stdout",
     "output_type": "stream",
     "text": [
      "1/1 [==============================] - 0s 28ms/step\n",
      "정답은 ===> 1 예측은 ===> [[1]] 결과는 ===> 맞음\n"
     ]
    },
    {
     "data": {
      "image/png": "[encoded data removed]",
      "text/plain": [
       "<Figure size 432x288 with 1 Axes>"
      ]
     },
     "metadata": {
      "needs_background": "light"
     },
     "output_type": "display_data"
    },
    {
     "name": "stdout",
     "output_type": "stream",
     "text": [
      "\n",
      "  총 10를 예측한 결과 예측율은 11111111110.000002 %\n"
     ]
    }
   ],
   "source": [
    "mnist_test2(10)"
   ]
  },
  {
   "cell_type": "code",
   "execution_count": 39,
   "id": "d8dead83-57fa-4be6-9c17-724cd56840fb",
   "metadata": {},
   "outputs": [],
   "source": [
    "(X_train_full, y_train_full), (X_test,y_test) = mnist.load_data()"
   ]
  },
  {
   "cell_type": "code",
   "execution_count": 40,
   "id": "82ae489e-7375-4908-894d-69deee6e5919",
   "metadata": {},
   "outputs": [
    {
     "name": "stdout",
     "output_type": "stream",
     "text": [
      "(60000, 28, 28)\n",
      "(60000,)\n"
     ]
    }
   ],
   "source": [
    "print(X_train_full.shape)\n",
    "print(y_train_full.shape)"
   ]
  },
  {
   "cell_type": "code",
   "execution_count": 41,
   "id": "70560844-c495-45ff-8054-940385a2adcd",
   "metadata": {},
   "outputs": [],
   "source": [
    "X_train, X_val, y_train, y_val = train_test_split(X_train_full, y_train_full)"
   ]
  },
  {
   "cell_type": "code",
   "execution_count": 42,
   "id": "7f57f124-569f-4214-bd44-151274c31e38",
   "metadata": {},
   "outputs": [],
   "source": [
    "x1 = X_train.shape[1]\n",
    "x2 = X_train.shape[2]\n",
    "X_train = X_train.reshape(-1,x1*x2)\n",
    "X_val = X_val.reshape(-1,x1*x2)\n",
    "X_test = X_test.reshape(-1,x1*x2)"
   ]
  },
  {
   "cell_type": "code",
   "execution_count": 43,
   "id": "b528aebd-a2f5-4eb7-80cc-c5edcaf9931c",
   "metadata": {},
   "outputs": [],
   "source": [
    "y_train = to_categorical(y_train)\n",
    "y_test = to_categorical(y_test)\n",
    "y_val = to_categorical(y_val)"
   ]
  },
  {
   "cell_type": "code",
   "execution_count": 44,
   "id": "e30ff8eb-430e-47ae-8b08-0ab24ed2a489",
   "metadata": {},
   "outputs": [
    {
     "name": "stdout",
     "output_type": "stream",
     "text": [
      "(784,)\n",
      "10\n"
     ]
    }
   ],
   "source": [
    "input_shape = X_train.shape[1:]\n",
    "output_shape = y_train.shape[1]\n",
    "print(input_shape)\n",
    "print(output_shape)"
   ]
  },
  {
   "cell_type": "code",
   "execution_count": 45,
   "id": "6a300852-cfea-49b8-afe9-b82bf763999e",
   "metadata": {},
   "outputs": [],
   "source": [
    "# add\n",
    "model1 = Sequential()\n",
    "model1.add(Dense(1024, activation='relu', input_shape=input_shape))\n",
    "model1.add(Dense(512, activation='relu'))\n",
    "model1.add(Dense(output_shape, activation='softmax'))"
   ]
  },
  {
   "cell_type": "code",
   "execution_count": 46,
   "id": "935b1c03-a3a3-4ac8-9593-838b89a3fd14",
   "metadata": {},
   "outputs": [],
   "source": [
    "# 2번째 방법\n",
    "model2 = Sequential(\n",
    "    [\n",
    "        Dense(1024, activation='relu', input_shape=input_shape),\n",
    "        Dense(512, activation='relu'),\n",
    "        Dense(output_shape, activation='softmax')\n",
    "    ]\n",
    ")"
   ]
  },
  {
   "cell_type": "code",
   "execution_count": 47,
   "id": "d782c123-cab8-4258-b591-7b68ae21c6c2",
   "metadata": {},
   "outputs": [
    {
     "name": "stdout",
     "output_type": "stream",
     "text": [
      "Model: \"sequential_3\"\n",
      "_________________________________________________________________\n",
      " Layer (type)                Output Shape              Param #   \n",
      "=================================================================\n",
      " dense_6 (Dense)             (None, 1024)              803840    \n",
      "                                                                 \n",
      " dense_7 (Dense)             (None, 512)               524800    \n",
      "                                                                 \n",
      " dense_8 (Dense)             (None, 10)                5130      \n",
      "                                                                 \n",
      "=================================================================\n",
      "Total params: 1,333,770\n",
      "Trainable params: 1,333,770\n",
      "Non-trainable params: 0\n",
      "_________________________________________________________________\n"
     ]
    }
   ],
   "source": [
    "model1.summary()"
   ]
  },
  {
   "cell_type": "code",
   "execution_count": 48,
   "id": "9545d83b-e57d-41d1-8818-5c99bb3cca34",
   "metadata": {},
   "outputs": [
    {
     "name": "stdout",
     "output_type": "stream",
     "text": [
      "Model: \"sequential_4\"\n",
      "_________________________________________________________________\n",
      " Layer (type)                Output Shape              Param #   \n",
      "=================================================================\n",
      " dense_9 (Dense)             (None, 1024)              803840    \n",
      "                                                                 \n",
      " dense_10 (Dense)            (None, 512)               524800    \n",
      "                                                                 \n",
      " dense_11 (Dense)            (None, 10)                5130      \n",
      "                                                                 \n",
      "=================================================================\n",
      "Total params: 1,333,770\n",
      "Trainable params: 1,333,770\n",
      "Non-trainable params: 0\n",
      "_________________________________________________________________\n"
     ]
    }
   ],
   "source": [
    "model2.summary()"
   ]
  },
  {
   "cell_type": "code",
   "execution_count": 49,
   "id": "5ef0e8d5-4576-464f-8d05-25f0229a252d",
   "metadata": {},
   "outputs": [],
   "source": [
    "from tensorflow import keras\n",
    "from keras.models import Sequential, Model\n",
    "from keras.layers import Dense, Input\n",
    "from keras.optimizers import RMSprop\n",
    "from keras.losses import CategoricalCrossentropy"
   ]
  },
  {
   "cell_type": "code",
   "execution_count": 50,
   "id": "960f5b1a-8803-4954-8099-c25ee6b4dd11",
   "metadata": {},
   "outputs": [],
   "source": [
    "# 함수형\n",
    "input_ = Input(shape=input_shape)\n",
    "l1 = Dense(1024, activation='relu')(input_)\n",
    "l2 = Dense(512, activation='relu')(l1)\n",
    "output_ = Dense(output_shape, activation='softmax')(l2)\n",
    "model3 = Model([input_],outputs=[output_])"
   ]
  },
  {
   "cell_type": "code",
   "execution_count": 51,
   "id": "a7b6d73d-0ebc-47fb-8bec-761551577ddb",
   "metadata": {},
   "outputs": [
    {
     "name": "stdout",
     "output_type": "stream",
     "text": [
      "Model: \"model\"\n",
      "_________________________________________________________________\n",
      " Layer (type)                Output Shape              Param #   \n",
      "=================================================================\n",
      " input_1 (InputLayer)        [(None, 784)]             0         \n",
      "                                                                 \n",
      " dense_12 (Dense)            (None, 1024)              803840    \n",
      "                                                                 \n",
      " dense_13 (Dense)            (None, 512)               524800    \n",
      "                                                                 \n",
      " dense_14 (Dense)            (None, 10)                5130      \n",
      "                                                                 \n",
      "=================================================================\n",
      "Total params: 1,333,770\n",
      "Trainable params: 1,333,770\n",
      "Non-trainable params: 0\n",
      "_________________________________________________________________\n"
     ]
    }
   ],
   "source": [
    "model3.summary()"
   ]
  },
  {
   "cell_type": "code",
   "execution_count": 52,
   "id": "65854006-b74f-402b-851d-bff5db435008",
   "metadata": {},
   "outputs": [],
   "source": [
    "optimizer = RMSprop()\n",
    "loss = CategoricalCrossentropy()\n",
    "metrics = ['accuracy']"
   ]
  },
  {
   "cell_type": "code",
   "execution_count": 53,
   "id": "d46a0366-89bc-497c-b846-b69444476e08",
   "metadata": {},
   "outputs": [],
   "source": [
    "model1.compile(optimizer=optimizer,\n",
    "              loss = loss,\n",
    "              metrics=metrics)\n",
    "model2.compile(optimizer=optimizer,\n",
    "              loss = loss,\n",
    "              metrics=metrics)\n",
    "model3.compile(optimizer=optimizer,\n",
    "              loss = loss,\n",
    "              metrics=metrics)"
   ]
  },
  {
   "cell_type": "code",
   "execution_count": 54,
   "id": "dd7e35c9-3d14-4f20-8795-2ddab012732f",
   "metadata": {},
   "outputs": [
    {
     "name": "stdout",
     "output_type": "stream",
     "text": [
      "Epoch 1/10\n",
      "450/450 [==============================] - 17s 36ms/step - loss: 6.3678 - accuracy: 0.8753 - val_loss: 0.4775 - val_accuracy: 0.9326\n",
      "Epoch 2/10\n",
      "450/450 [==============================] - 16s 35ms/step - loss: 0.4509 - accuracy: 0.9313 - val_loss: 0.3056 - val_accuracy: 0.9419\n",
      "Epoch 3/10\n",
      "450/450 [==============================] - 16s 36ms/step - loss: 0.3127 - accuracy: 0.9460 - val_loss: 0.3145 - val_accuracy: 0.9462\n",
      "Epoch 4/10\n",
      "450/450 [==============================] - 15s 34ms/step - loss: 0.2616 - accuracy: 0.9558 - val_loss: 0.3309 - val_accuracy: 0.9554\n",
      "Epoch 5/10\n",
      "450/450 [==============================] - 16s 35ms/step - loss: 0.2496 - accuracy: 0.9608 - val_loss: 0.3415 - val_accuracy: 0.9589\n",
      "Epoch 6/10\n",
      "450/450 [==============================] - 16s 36ms/step - loss: 0.2261 - accuracy: 0.9668 - val_loss: 0.4919 - val_accuracy: 0.9523\n",
      "Epoch 7/10\n",
      "450/450 [==============================] - 16s 35ms/step - loss: 0.2004 - accuracy: 0.9705 - val_loss: 0.3415 - val_accuracy: 0.9643\n",
      "Epoch 8/10\n",
      "450/450 [==============================] - 16s 35ms/step - loss: 0.1912 - accuracy: 0.9722 - val_loss: 0.3282 - val_accuracy: 0.9623\n",
      "Epoch 9/10\n",
      "450/450 [==============================] - 15s 34ms/step - loss: 0.1794 - accuracy: 0.9746 - val_loss: 0.4068 - val_accuracy: 0.9619\n",
      "Epoch 10/10\n",
      "450/450 [==============================] - 16s 36ms/step - loss: 0.1653 - accuracy: 0.9774 - val_loss: 0.3021 - val_accuracy: 0.9726\n",
      "Epoch 1/10\n",
      "450/450 [==============================] - 16s 35ms/step - loss: 5.7686 - accuracy: 0.8773 - val_loss: 0.4713 - val_accuracy: 0.9171\n",
      "Epoch 2/10\n",
      "450/450 [==============================] - 16s 36ms/step - loss: 0.3981 - accuracy: 0.9333 - val_loss: 0.3589 - val_accuracy: 0.9317\n",
      "Epoch 3/10\n",
      "450/450 [==============================] - 17s 37ms/step - loss: 0.3144 - accuracy: 0.9492 - val_loss: 0.2702 - val_accuracy: 0.9493\n",
      "Epoch 4/10\n",
      "450/450 [==============================] - 16s 36ms/step - loss: 0.2705 - accuracy: 0.9568 - val_loss: 0.4002 - val_accuracy: 0.9498\n",
      "Epoch 5/10\n",
      "450/450 [==============================] - 16s 36ms/step - loss: 0.2200 - accuracy: 0.9626 - val_loss: 0.4292 - val_accuracy: 0.9359\n",
      "Epoch 6/10\n",
      "450/450 [==============================] - 15s 34ms/step - loss: 0.2113 - accuracy: 0.9659 - val_loss: 0.2941 - val_accuracy: 0.9600\n",
      "Epoch 7/10\n",
      "450/450 [==============================] - 15s 34ms/step - loss: 0.1985 - accuracy: 0.9684 - val_loss: 0.3836 - val_accuracy: 0.9587\n",
      "Epoch 8/10\n",
      "450/450 [==============================] - 15s 33ms/step - loss: 0.1754 - accuracy: 0.9726 - val_loss: 0.4670 - val_accuracy: 0.9546\n",
      "Epoch 9/10\n",
      "450/450 [==============================] - 15s 33ms/step - loss: 0.1657 - accuracy: 0.9757 - val_loss: 0.4336 - val_accuracy: 0.9609\n",
      "Epoch 10/10\n",
      "450/450 [==============================] - 15s 33ms/step - loss: 0.1613 - accuracy: 0.9760 - val_loss: 0.3426 - val_accuracy: 0.9683\n",
      "Epoch 1/10\n",
      "450/450 [==============================] - 16s 34ms/step - loss: 6.0903 - accuracy: 0.8808 - val_loss: 0.4872 - val_accuracy: 0.9228\n",
      "Epoch 2/10\n",
      "450/450 [==============================] - 15s 34ms/step - loss: 0.4135 - accuracy: 0.9381 - val_loss: 0.3403 - val_accuracy: 0.9375\n",
      "Epoch 3/10\n",
      "450/450 [==============================] - 15s 34ms/step - loss: 0.3066 - accuracy: 0.9509 - val_loss: 0.3152 - val_accuracy: 0.9557\n",
      "Epoch 4/10\n",
      "450/450 [==============================] - 15s 34ms/step - loss: 0.2537 - accuracy: 0.9589 - val_loss: 0.2319 - val_accuracy: 0.9541\n",
      "Epoch 5/10\n",
      "450/450 [==============================] - 15s 33ms/step - loss: 0.2358 - accuracy: 0.9620 - val_loss: 0.2732 - val_accuracy: 0.9612\n",
      "Epoch 6/10\n",
      "450/450 [==============================] - 15s 34ms/step - loss: 0.2169 - accuracy: 0.9675 - val_loss: 0.3832 - val_accuracy: 0.9523\n",
      "Epoch 7/10\n",
      "450/450 [==============================] - 16s 36ms/step - loss: 0.1777 - accuracy: 0.9710 - val_loss: 0.3186 - val_accuracy: 0.9665\n",
      "Epoch 8/10\n",
      "450/450 [==============================] - 17s 38ms/step - loss: 0.1924 - accuracy: 0.9730 - val_loss: 0.3343 - val_accuracy: 0.9619\n",
      "Epoch 9/10\n",
      "450/450 [==============================] - 16s 36ms/step - loss: 0.1807 - accuracy: 0.9742 - val_loss: 0.2183 - val_accuracy: 0.9721\n",
      "Epoch 10/10\n",
      "450/450 [==============================] - 16s 37ms/step - loss: 0.1502 - accuracy: 0.9773 - val_loss: 0.3788 - val_accuracy: 0.9662\n",
      "313/313 [==============================] - 3s 7ms/step - loss: 0.3490 - accuracy: 0.9708\n",
      "313/313 [==============================] - 2s 7ms/step - loss: 0.3490 - accuracy: 0.9708\n",
      "313/313 [==============================] - 2s 6ms/step - loss: 0.3490 - accuracy: 0.9708\n"
     ]
    }
   ],
   "source": [
    "model1.fit(X_train,\n",
    "           y_train,\n",
    "           epochs=10,\n",
    "           batch_size=100,\n",
    "           validation_data=(X_val,y_val))\n",
    "model2.fit(X_train,\n",
    "           y_train,\n",
    "           epochs=10,\n",
    "           batch_size=100,\n",
    "           validation_data=(X_val,y_val))\n",
    "model3.fit(X_train,\n",
    "           y_train,\n",
    "           epochs=10,\n",
    "           batch_size=100,\n",
    "           validation_data=(X_val,y_val))\n",
    "\n",
    "model1_result = model1.evaluate(X_test,y_test)\n",
    "model2_result = model1.evaluate(X_test,y_test)\n",
    "model3_result = model1.evaluate(X_test,y_test)"
   ]
  },
  {
   "cell_type": "code",
   "execution_count": 55,
   "id": "69752429-04c5-4fe1-af76-7a30b6e6a6c5",
   "metadata": {},
   "outputs": [
    {
     "data": {
      "text/plain": [
       "(45000, 784)"
      ]
     },
     "execution_count": 55,
     "metadata": {},
     "output_type": "execute_result"
    }
   ],
   "source": [
    "X_train.shape"
   ]
  },
  {
   "cell_type": "code",
   "execution_count": 56,
   "id": "5c2067f3-798e-470a-99bb-db0935718812",
   "metadata": {},
   "outputs": [],
   "source": [
    "input_shape = X_train.shape[1:]\n",
    "output_shape = y_train.shape[1]\n",
    "model1 = Sequential()\n",
    "l1 = Dense(1024, input_shape=input_shape,activation='sigmoid')\n",
    "l2 = Dense(512,activation='sigmoid')\n",
    "out = Dense(output_shape,activation='softmax')\n",
    "model1.add(l1)\n",
    "model1.add(l2)\n",
    "model1.add(out)\n",
    "\n",
    "model2 = Sequential(\n",
    "    [\n",
    "        l1,\n",
    "        l2,\n",
    "        out\n",
    "    ]\n",
    ")\n",
    "input_ = Input(shape=input_shape)\n",
    "layer1 = l1(input_)\n",
    "layer2 = l2(layer1)\n",
    "output = out(layer2)\n",
    "model3 = Model(inputs=[input_], outputs=[output])"
   ]
  },
  {
   "cell_type": "code",
   "execution_count": 57,
   "id": "9335ba00-a58c-455d-b52d-84ded31674fc",
   "metadata": {},
   "outputs": [
    {
     "data": {
      "text/plain": [
       "[array([[ 0.03212943,  0.05370308,  0.04350345, ...,  0.03405982,\n",
       "          0.05182795,  0.04546354],\n",
       "        [ 0.03674358,  0.0264985 ,  0.01318844, ..., -0.01852404,\n",
       "         -0.01363496, -0.045563  ],\n",
       "        [ 0.03181487, -0.04386853,  0.03841902, ..., -0.00278714,\n",
       "         -0.023902  , -0.00323936],\n",
       "        ...,\n",
       "        [-0.01218318, -0.03084797,  0.02835209, ..., -0.01049498,\n",
       "         -0.03248797,  0.0201778 ],\n",
       "        [-0.02246623, -0.00717933,  0.03927913, ...,  0.05655155,\n",
       "         -0.02881693,  0.02389235],\n",
       "        [-0.00094338,  0.04770896,  0.0381614 , ..., -0.05416999,\n",
       "         -0.01651218, -0.04751   ]], dtype=float32),\n",
       " array([0., 0., 0., ..., 0., 0., 0.], dtype=float32)]"
      ]
     },
     "execution_count": 57,
     "metadata": {},
     "output_type": "execute_result"
    }
   ],
   "source": [
    "model1.layers[0].get_weights()"
   ]
  },
  {
   "cell_type": "code",
   "execution_count": 58,
   "id": "8cf0ec97-1338-415b-8371-2d06060848d5",
   "metadata": {},
   "outputs": [],
   "source": [
    "model2.layers[0].set_weights([model1.layers[0].get_weights()[0],\n",
    "                             model1.layers[0].get_weights()[1]])"
   ]
  },
  {
   "cell_type": "code",
   "execution_count": 59,
   "id": "e9a66059-9e88-424b-9ebc-232aeb0f357d",
   "metadata": {},
   "outputs": [],
   "source": [
    "for i in range(len(model1.layers)):\n",
    "    model2.layers[i].set_weights([model1.layers[i].get_weights()[0],\n",
    "                                model1.layers[i].get_weights()[1]])\n",
    "    model3.layers[i+1].set_weights([model1.layers[i].get_weights()[0],\n",
    "                                model1.layers[i].get_weights()[1]])"
   ]
  },
  {
   "cell_type": "code",
   "execution_count": 60,
   "id": "f6b20b4d-2fae-4df4-a766-f6e7bf26a759",
   "metadata": {},
   "outputs": [],
   "source": [
    "optimizer = 'rmsprop'\n",
    "loss = 'categorical_crossentropy'\n",
    "model1.compile(optimizer=optimizer,\n",
    "               loss=loss)\n",
    "model2.compile(optimizer=optimizer,\n",
    "               loss=loss)\n",
    "model3.compile(optimizer=optimizer,\n",
    "               loss=loss)"
   ]
  },
  {
   "cell_type": "code",
   "execution_count": 61,
   "id": "b5df86f5-ebea-4a3c-a358-c5a65a7b793a",
   "metadata": {},
   "outputs": [
    {
     "name": "stdout",
     "output_type": "stream",
     "text": [
      "313/313 [==============================] - 2s 6ms/step - loss: 0.1031\n",
      "0.10308229923248291\n",
      "313/313 [==============================] - 2s 6ms/step - loss: 0.1031\n",
      "0.10308229923248291\n",
      "313/313 [==============================] - 2s 7ms/step - loss: 0.1031\n",
      "0.10308229923248291\n"
     ]
    }
   ],
   "source": [
    "model1.fit(X_train, y_train, epochs=10, batch_size=100, verbose=0)\n",
    "model2.fit(X_train, y_train, epochs=10, batch_size=100, verbose=0)\n",
    "model3.fit(X_train, y_train, epochs=10, batch_size=100, verbose=0)\n",
    "print(model1.evaluate(X_test,y_test))\n",
    "print(model2.evaluate(X_test,y_test))\n",
    "print(model3.evaluate(X_test,y_test))"
   ]
  },
  {
   "cell_type": "code",
   "execution_count": 62,
   "id": "036fcfd0-a751-4dee-8091-8ca230331cae",
   "metadata": {},
   "outputs": [
    {
     "name": "stdout",
     "output_type": "stream",
     "text": [
      "313/313 [==============================] - 2s 6ms/step\n",
      "0.9717\n",
      "313/313 [==============================] - 2s 6ms/step\n",
      "0.9717\n",
      "313/313 [==============================] - 2s 6ms/step\n",
      "0.9717\n"
     ]
    }
   ],
   "source": [
    "print(np.sum(np.argmax(model1.predict(X_test),axis=1) == np.argmax(y_test,axis=1))/len(y_test))\n",
    "print(np.sum(np.argmax(model2.predict(X_test),axis=1) == np.argmax(y_test,axis=1))/len(y_test))\n",
    "print(np.sum(np.argmax(model3.predict(X_test),axis=1) == np.argmax(y_test,axis=1))/len(y_test))"
   ]
  },
  {
   "cell_type": "code",
   "execution_count": 63,
   "id": "9af41117-cfb0-454a-becd-259d5a33ffb0",
   "metadata": {},
   "outputs": [],
   "source": [
    "l_1_w = model1.layers[0].get_weights()[0]\n",
    "l_1_b = model1.layers[0].get_weights()[1]\n",
    "#sigmoid\n",
    "l_2_w = model1.layers[1].get_weights()[0]\n",
    "l_2_b = model1.layers[1].get_weights()[1]\n",
    "#sigmoid\n",
    "l_3_w = model1.layers[2].get_weights()[0]\n",
    "l_3_b = model1.layers[2].get_weights()[1]"
   ]
  },
  {
   "cell_type": "code",
   "execution_count": 64,
   "id": "14f79c54-cc6d-488e-923f-d5b66fc1ec71",
   "metadata": {},
   "outputs": [
    {
     "name": "stderr",
     "output_type": "stream",
     "text": [
      "C:\\Users\\admin\\AppData\\Local\\Temp\\ipykernel_9436\\879591150.py:2: RuntimeWarning: overflow encountered in exp\n",
      "  a = 1/(1+np.exp(-a))\n"
     ]
    }
   ],
   "source": [
    "a = np.dot(X_test,l_1_w) + l_1_b\n",
    "a = 1/(1+np.exp(-a))\n",
    "a = np.dot(a,l_2_w) + l_2_b\n",
    "a = 1/(1+np.exp(-5))\n",
    "a = np.dot(a,l_3_w) + l_3_b"
   ]
  },
  {
   "cell_type": "code",
   "execution_count": 65,
   "id": "2c67ead6-7289-481b-b06b-9745895b5f38",
   "metadata": {},
   "outputs": [
    {
     "name": "stderr",
     "output_type": "stream",
     "text": [
      "C:\\Users\\admin\\AppData\\Local\\Temp\\ipykernel_9436\\1721024450.py:1: DeprecationWarning: elementwise comparison failed; this will raise an error in the future.\n",
      "  np.sum(np.argmax(a,axis=1) == np.argmax(y_test,axis=1))/len(y_test)\n"
     ]
    },
    {
     "data": {
      "text/plain": [
       "0.0"
      ]
     },
     "execution_count": 65,
     "metadata": {},
     "output_type": "execute_result"
    }
   ],
   "source": [
    "np.sum(np.argmax(a,axis=1) == np.argmax(y_test,axis=1))/len(y_test)"
   ]
  },
  {
   "cell_type": "code",
   "execution_count": 66,
   "id": "dd28abcf-9c0c-4266-88f9-76ff7a9fc871",
   "metadata": {},
   "outputs": [
    {
     "data": {
      "text/plain": [
       "numpy.ndarray"
      ]
     },
     "execution_count": 66,
     "metadata": {},
     "output_type": "execute_result"
    }
   ],
   "source": [
    "type(l_1_w)"
   ]
  },
  {
   "cell_type": "code",
   "execution_count": 67,
   "id": "72742aef-a13c-4f7e-86f2-99ed8f759700",
   "metadata": {},
   "outputs": [],
   "source": [
    "from keras.models import load_model, save_model"
   ]
  },
  {
   "cell_type": "code",
   "execution_count": 68,
   "id": "29df7dcd-5495-4a88-98e2-32fe03094bf5",
   "metadata": {},
   "outputs": [
    {
     "name": "stdout",
     "output_type": "stream",
     "text": [
      "INFO:tensorflow:Assets written to: model1.h6\\assets\n"
     ]
    }
   ],
   "source": [
    "save_model(model1,'model1.h6')\n",
    "save_model(model2,'model2.h5')"
   ]
  },
  {
   "cell_type": "code",
   "execution_count": 69,
   "id": "32c1c089-784e-490b-8795-af8b9ed7ce25",
   "metadata": {},
   "outputs": [],
   "source": [
    "model1_1 = load_model('model1.h6')\n",
    "model2_1 = load_model('model2.h5')"
   ]
  },
  {
   "cell_type": "code",
   "execution_count": 70,
   "id": "e56728e8-d865-4f12-991c-832d861f2204",
   "metadata": {},
   "outputs": [
    {
     "name": "stdout",
     "output_type": "stream",
     "text": [
      "313/313 [==============================] - 2s 6ms/step - loss: 0.1031\n"
     ]
    },
    {
     "data": {
      "text/plain": [
       "0.10308229923248291"
      ]
     },
     "execution_count": 70,
     "metadata": {},
     "output_type": "execute_result"
    }
   ],
   "source": [
    "model1_1.evaluate(X_test,y_test)"
   ]
  },
  {
   "cell_type": "code",
   "execution_count": 71,
   "id": "b2ef0c0f-3283-4df3-85ff-dd42657e3c32",
   "metadata": {},
   "outputs": [
    {
     "name": "stdout",
     "output_type": "stream",
     "text": [
      "313/313 [==============================] - 2s 6ms/step - loss: 0.1031\n"
     ]
    },
    {
     "data": {
      "text/plain": [
       "0.10308229923248291"
      ]
     },
     "execution_count": 71,
     "metadata": {},
     "output_type": "execute_result"
    }
   ],
   "source": [
    "model2_1.evaluate(X_test,y_test)"
   ]
  },
  {
   "cell_type": "code",
   "execution_count": 72,
   "id": "896f3120-6c60-4eb9-9378-6bab6861e7c5",
   "metadata": {},
   "outputs": [
    {
     "name": "stdout",
     "output_type": "stream",
     "text": [
      "INFO:tensorflow:Assets written to: model3.h7\\assets\n"
     ]
    }
   ],
   "source": [
    "save_model(model3,'model3.h7')"
   ]
  },
  {
   "cell_type": "code",
   "execution_count": 73,
   "id": "4cb4faf7-d712-4677-9253-cbd13d65bac5",
   "metadata": {},
   "outputs": [
    {
     "ename": "TypeError",
     "evalue": "only size-1 arrays can be converted to Python scalars",
     "output_type": "error",
     "traceback": [
      "\u001b[1;31m---------------------------------------------------------------------------\u001b[0m",
      "\u001b[1;31mTypeError\u001b[0m                                 Traceback (most recent call last)",
      "\u001b[1;32mc:\\Users\\admin\\STUDY\\딥러닝\\1day\\Untitled.ipynb 셀 75\u001b[0m in \u001b[0;36m<cell line: 3>\u001b[1;34m()\u001b[0m\n\u001b[0;32m      <a href='vscode-notebook-cell:/c%3A/Users/admin/STUDY/%EB%94%A5%EB%9F%AC%EB%8B%9D/1day/Untitled.ipynb#Y134sZmlsZQ%3D%3D?line=0'>1</a>\u001b[0m input_shape \u001b[39m=\u001b[39m X_train\u001b[39m.\u001b[39mshape[\u001b[39m1\u001b[39m:]\n\u001b[0;32m      <a href='vscode-notebook-cell:/c%3A/Users/admin/STUDY/%EB%94%A5%EB%9F%AC%EB%8B%9D/1day/Untitled.ipynb#Y134sZmlsZQ%3D%3D?line=1'>2</a>\u001b[0m output_shape \u001b[39m=\u001b[39m y_train[\u001b[39m1\u001b[39m]\n\u001b[0;32m      <a href='vscode-notebook-cell:/c%3A/Users/admin/STUDY/%EB%94%A5%EB%9F%AC%EB%8B%9D/1day/Untitled.ipynb#Y134sZmlsZQ%3D%3D?line=2'>3</a>\u001b[0m model1 \u001b[39m=\u001b[39m Sequential(\n\u001b[0;32m      <a href='vscode-notebook-cell:/c%3A/Users/admin/STUDY/%EB%94%A5%EB%9F%AC%EB%8B%9D/1day/Untitled.ipynb#Y134sZmlsZQ%3D%3D?line=3'>4</a>\u001b[0m     Dense(\u001b[39m1024\u001b[39m,input_shape\u001b[39m=\u001b[39minput_shape,activation\u001b[39m=\u001b[39m\u001b[39m'\u001b[39m\u001b[39mrelu\u001b[39m\u001b[39m'\u001b[39m),\n\u001b[0;32m      <a href='vscode-notebook-cell:/c%3A/Users/admin/STUDY/%EB%94%A5%EB%9F%AC%EB%8B%9D/1day/Untitled.ipynb#Y134sZmlsZQ%3D%3D?line=4'>5</a>\u001b[0m     Dense(\u001b[39m512\u001b[39m, activation\u001b[39m=\u001b[39m\u001b[39m'\u001b[39m\u001b[39mrelu\u001b[39m\u001b[39m'\u001b[39m),\n\u001b[1;32m----> <a href='vscode-notebook-cell:/c%3A/Users/admin/STUDY/%EB%94%A5%EB%9F%AC%EB%8B%9D/1day/Untitled.ipynb#Y134sZmlsZQ%3D%3D?line=5'>6</a>\u001b[0m     Dense(output_shape,activation\u001b[39m=\u001b[39;49m\u001b[39m'\u001b[39;49m\u001b[39msoftmax\u001b[39;49m\u001b[39m'\u001b[39;49m)\n\u001b[0;32m      <a href='vscode-notebook-cell:/c%3A/Users/admin/STUDY/%EB%94%A5%EB%9F%AC%EB%8B%9D/1day/Untitled.ipynb#Y134sZmlsZQ%3D%3D?line=6'>7</a>\u001b[0m )\n",
      "File \u001b[1;32mc:\\Users\\admin\\anaconda3\\lib\\site-packages\\keras\\dtensor\\utils.py:95\u001b[0m, in \u001b[0;36mallow_initializer_layout.<locals>._wrap_function\u001b[1;34m(layer_instance, *args, **kwargs)\u001b[0m\n\u001b[0;32m     92\u001b[0m     \u001b[39mif\u001b[39;00m layout:\n\u001b[0;32m     93\u001b[0m       layout_args[variable_name \u001b[39m+\u001b[39m \u001b[39m\"\u001b[39m\u001b[39m_layout\u001b[39m\u001b[39m\"\u001b[39m] \u001b[39m=\u001b[39m layout\n\u001b[1;32m---> 95\u001b[0m init_method(layer_instance, \u001b[39m*\u001b[39margs, \u001b[39m*\u001b[39m\u001b[39m*\u001b[39mkwargs)\n\u001b[0;32m     97\u001b[0m \u001b[39m# Inject the layout parameter after the invocation of __init__()\u001b[39;00m\n\u001b[0;32m     98\u001b[0m \u001b[39mfor\u001b[39;00m layout_param_name, layout \u001b[39min\u001b[39;00m layout_args\u001b[39m.\u001b[39mitems():\n",
      "File \u001b[1;32mc:\\Users\\admin\\anaconda3\\lib\\site-packages\\keras\\layers\\core\\dense.py:116\u001b[0m, in \u001b[0;36mDense.__init__\u001b[1;34m(self, units, activation, use_bias, kernel_initializer, bias_initializer, kernel_regularizer, bias_regularizer, activity_regularizer, kernel_constraint, bias_constraint, **kwargs)\u001b[0m\n\u001b[0;32m    100\u001b[0m \u001b[39m@utils\u001b[39m\u001b[39m.\u001b[39mallow_initializer_layout\n\u001b[0;32m    101\u001b[0m \u001b[39mdef\u001b[39;00m \u001b[39m__init__\u001b[39m(\u001b[39mself\u001b[39m,\n\u001b[0;32m    102\u001b[0m              units,\n\u001b[1;32m   (...)\u001b[0m\n\u001b[0;32m    111\u001b[0m              bias_constraint\u001b[39m=\u001b[39m\u001b[39mNone\u001b[39;00m,\n\u001b[0;32m    112\u001b[0m              \u001b[39m*\u001b[39m\u001b[39m*\u001b[39mkwargs):\n\u001b[0;32m    113\u001b[0m   \u001b[39msuper\u001b[39m(Dense, \u001b[39mself\u001b[39m)\u001b[39m.\u001b[39m\u001b[39m__init__\u001b[39m(\n\u001b[0;32m    114\u001b[0m       activity_regularizer\u001b[39m=\u001b[39mactivity_regularizer, \u001b[39m*\u001b[39m\u001b[39m*\u001b[39mkwargs)\n\u001b[1;32m--> 116\u001b[0m   \u001b[39mself\u001b[39m\u001b[39m.\u001b[39munits \u001b[39m=\u001b[39m \u001b[39mint\u001b[39;49m(units) \u001b[39mif\u001b[39;00m \u001b[39mnot\u001b[39;00m \u001b[39misinstance\u001b[39m(units, \u001b[39mint\u001b[39m) \u001b[39melse\u001b[39;00m units\n\u001b[0;32m    117\u001b[0m   \u001b[39mif\u001b[39;00m \u001b[39mself\u001b[39m\u001b[39m.\u001b[39munits \u001b[39m<\u001b[39m \u001b[39m0\u001b[39m:\n\u001b[0;32m    118\u001b[0m     \u001b[39mraise\u001b[39;00m \u001b[39mValueError\u001b[39;00m(\u001b[39mf\u001b[39m\u001b[39m'\u001b[39m\u001b[39mReceived an invalid value for `units`, expected \u001b[39m\u001b[39m'\u001b[39m\n\u001b[0;32m    119\u001b[0m                      \u001b[39mf\u001b[39m\u001b[39m'\u001b[39m\u001b[39ma positive integer. Received: units=\u001b[39m\u001b[39m{\u001b[39;00munits\u001b[39m}\u001b[39;00m\u001b[39m'\u001b[39m)\n",
      "\u001b[1;31mTypeError\u001b[0m: only size-1 arrays can be converted to Python scalars"
     ]
    }
   ],
   "source": [
    "input_shape = X_train.shape[1:]\n",
    "output_shape = y_train[1]\n",
    "model1 = Sequential(\n",
    "    Dense(1024,input_shape=input_shape,activation='relu'),\n",
    "    Dense(512, activation='relu'),\n",
    "    Dense(output_shape,activation='softmax')\n",
    ")"
   ]
  }
 ],
 "metadata": {
  "kernelspec": {
   "display_name": "Python 3.9.12 ('base')",
   "language": "python",
   "name": "python3"
  },
  "language_info": {
   "codemirror_mode": {
    "name": "ipython",
    "version": 3
   },
   "file_extension": ".py",
   "mimetype": "text/x-python",
   "name": "python",
   "nbconvert_exporter": "python",
   "pygments_lexer": "ipython3",
   "version": "3.9.12"
  },
  "vscode": {
   "interpreter": {
    "hash": "610a6f344c2137faf927ea819c63f6cee33a2c04455044b28099f39fe9722347"
   }
  }
 },
 "nbformat": 4,
 "nbformat_minor": 5
}
