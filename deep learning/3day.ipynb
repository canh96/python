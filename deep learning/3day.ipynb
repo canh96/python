{
 "cells": [
  {
   "cell_type": "code",
   "execution_count": 1,
   "metadata": {},
   "outputs": [],
   "source": [
    "import numpy as np\n",
    "import pandas as pd"
   ]
  },
  {
   "cell_type": "code",
   "execution_count": 2,
   "metadata": {},
   "outputs": [],
   "source": [
    "## 1 NAND w1, w2, theta\n",
    "## 2. AND w1, w2, theta\n",
    "## 3. OR w1, w2, theta\n",
    "## 함수를 and논리를 출력하는 함수\n",
    "## 함수를 nand논리를 출력하는 함수\n",
    "## 함수를 or논리를 출력하는 함수\n",
    "## 함수를 xor논리를 출력하는 함수"
   ]
  },
  {
   "cell_type": "code",
   "execution_count": 4,
   "metadata": {},
   "outputs": [],
   "source": [
    "X = np.array([[0,0,1,1],[0,1,0,1]]).T"
   ]
  },
  {
   "cell_type": "code",
   "execution_count": 23,
   "metadata": {},
   "outputs": [
    {
     "data": {
      "text/plain": [
       "array([[0, 0],\n",
       "       [0, 1],\n",
       "       [1, 0],\n",
       "       [1, 1]])"
      ]
     },
     "execution_count": 23,
     "metadata": {},
     "output_type": "execute_result"
    }
   ],
   "source": [
    "X"
   ]
  },
  {
   "cell_type": "code",
   "execution_count": 117,
   "metadata": {},
   "outputs": [],
   "source": [
    "\n",
    "\n",
    "\n",
    "def AND(X) :\n",
    "    W = np.array([[0.1], [0.1]])\n",
    "    theta = 0.111111111111111\n",
    "    return np.where(np.dot(X,W) > theta,1,0)\n",
    "def OR(X) :\n",
    "    W = np.array([[0.1], [0.1]])\n",
    "    theta = 0.1\n",
    "    return np.where(np.dot(X,W) > theta,1,0)\n",
    "def NAND(X) :\n",
    "    W = np.array([[0.1], [0.1]])\n",
    "    theta = 0.17\n",
    "    return np.where(np.dot(X,W) > theta,1,0)\n",
    "def XOR(X) :\n",
    "    x = np.c_[NAND(X),OR(X)]\n",
    "    return AND(x)\n"
   ]
  },
  {
   "cell_type": "code",
   "execution_count": 116,
   "metadata": {},
   "outputs": [
    {
     "data": {
      "text/plain": [
       "array([[0],\n",
       "       [0],\n",
       "       [0],\n",
       "       [1]])"
      ]
     },
     "execution_count": 116,
     "metadata": {},
     "output_type": "execute_result"
    }
   ],
   "source": [
    "NAND(X)"
   ]
  },
  {
   "cell_type": "code",
   "execution_count": 118,
   "metadata": {},
   "outputs": [
    {
     "data": {
      "text/plain": [
       "array([[0],\n",
       "       [0],\n",
       "       [0],\n",
       "       [1]])"
      ]
     },
     "execution_count": 118,
     "metadata": {},
     "output_type": "execute_result"
    }
   ],
   "source": [
    "OR(X)"
   ]
  },
  {
   "cell_type": "code",
   "execution_count": 48,
   "metadata": {},
   "outputs": [
    {
     "data": {
      "text/plain": [
       "array([[0, 0],\n",
       "       [0, 1],\n",
       "       [1, 0],\n",
       "       [1, 1]])"
      ]
     },
     "execution_count": 48,
     "metadata": {},
     "output_type": "execute_result"
    }
   ],
   "source": [
    "X"
   ]
  },
  {
   "cell_type": "code",
   "execution_count": 77,
   "metadata": {},
   "outputs": [
    {
     "data": {
      "text/plain": [
       "array([[ 0. ,  0. ],\n",
       "       [ 0.1,  0.1],\n",
       "       [ 0.2, -0.1],\n",
       "       [ 0.3,  0. ]])"
      ]
     },
     "execution_count": 77,
     "metadata": {},
     "output_type": "execute_result"
    }
   ],
   "source": [
    "W1 = np.array([[0.2,-0.1],[0.1,0.1]])\n",
    "np.dot(X,W1)\n"
   ]
  },
  {
   "cell_type": "code",
   "execution_count": 104,
   "metadata": {},
   "outputs": [],
   "source": [
    "def XOR(X) : \n",
    "    W1 = np.array([[0.1,-0.2],[0.1,0.2]])\n",
    "    W2 = np.array([[0.2],[0.1]])\n",
    "    b1 = 0.1\n",
    "    b2 = 0.1\n",
    "    # layer1 = np.where(np.dot(X,W1) > b1,1,0)\n",
    "    # layer2 = np.where(np.dot(layer1,W2) > b2,1,0)\n",
    "    layer1 = np.dot(X,W1) - b1\n",
    "    layer2 = np.dot(layer1,W2) - b2\n",
    "    return layer1, layer2\n",
    "    "
   ]
  },
  {
   "cell_type": "code",
   "execution_count": 133,
   "metadata": {},
   "outputs": [],
   "source": [
    "def XOR(x) : \n",
    "    W1 = np.array([[0.1,0.1], [0.1,0.1]])\n",
    "    W2 = np.array([[0.03],[0.1]])\n",
    "    b1 = 0.17\n",
    "    b2 = 0.03\n",
    "    b3 = 0.10\n",
    "    s1 = np.where(np.dot(x,W1[:,0]) < b1, 1, 0)\n",
    "    s2 = np.where(np.dot(x,W1[:,1]) > b2, 1, 0)\n",
    "    s = np.c_[s1,s2]\n",
    "    return np.where(np.dot(s,W2) > b3,1,0)"
   ]
  },
  {
   "cell_type": "code",
   "execution_count": 134,
   "metadata": {},
   "outputs": [
    {
     "data": {
      "text/plain": [
       "array([[0],\n",
       "       [1],\n",
       "       [1],\n",
       "       [0]])"
      ]
     },
     "execution_count": 134,
     "metadata": {},
     "output_type": "execute_result"
    }
   ],
   "source": [
    "XOR(X)"
   ]
  },
  {
   "cell_type": "code",
   "execution_count": 62,
   "metadata": {},
   "outputs": [
    {
     "name": "stdout",
     "output_type": "stream",
     "text": [
      "-0.7777777777777778 -0.7777777777777778 -1.0\n",
      "-0.7777777777777778 -0.7777777777777778 -0.9797979797979798\n",
      "-0.7777777777777778 -0.7777777777777778 -0.9595959595959596\n",
      "-0.7777777777777778 -0.7777777777777778 -0.9393939393939394\n",
      "-0.7777777777777778 -0.7777777777777778 -0.9191919191919192\n",
      "-0.7777777777777778 -0.7777777777777778 -0.898989898989899\n",
      "-0.7777777777777778 -0.7777777777777778 -0.8787878787878788\n",
      "-0.7777777777777778 -0.7777777777777778 -0.8585858585858586\n",
      "-0.7777777777777778 -0.7777777777777778 -0.8383838383838383\n",
      "-0.7777777777777778 -0.7777777777777778 -0.8181818181818181\n",
      "-0.7777777777777778 -0.7777777777777778 -0.797979797979798\n",
      "-0.7777777777777778 -0.5555555555555556 -1.0\n",
      "-0.7777777777777778 -0.5555555555555556 -0.9797979797979798\n",
      "-0.7777777777777778 -0.5555555555555556 -0.9595959595959596\n",
      "-0.7777777777777778 -0.5555555555555556 -0.9393939393939394\n",
      "-0.7777777777777778 -0.5555555555555556 -0.9191919191919192\n",
      "-0.7777777777777778 -0.5555555555555556 -0.898989898989899\n",
      "-0.7777777777777778 -0.5555555555555556 -0.8787878787878788\n",
      "-0.7777777777777778 -0.5555555555555556 -0.8585858585858586\n",
      "-0.7777777777777778 -0.5555555555555556 -0.8383838383838383\n",
      "-0.7777777777777778 -0.5555555555555556 -0.8181818181818181\n",
      "-0.7777777777777778 -0.5555555555555556 -0.797979797979798\n",
      "-0.7777777777777778 -0.33333333333333337 -1.0\n",
      "-0.7777777777777778 -0.33333333333333337 -0.9797979797979798\n",
      "-0.7777777777777778 -0.33333333333333337 -0.9595959595959596\n",
      "-0.7777777777777778 -0.33333333333333337 -0.9393939393939394\n",
      "-0.7777777777777778 -0.33333333333333337 -0.9191919191919192\n",
      "-0.7777777777777778 -0.33333333333333337 -0.898989898989899\n",
      "-0.7777777777777778 -0.33333333333333337 -0.8787878787878788\n",
      "-0.7777777777777778 -0.33333333333333337 -0.8585858585858586\n",
      "-0.7777777777777778 -0.33333333333333337 -0.8383838383838383\n",
      "-0.7777777777777778 -0.33333333333333337 -0.8181818181818181\n",
      "-0.7777777777777778 -0.33333333333333337 -0.797979797979798\n",
      "-0.7777777777777778 -0.11111111111111116 -0.8787878787878788\n",
      "-0.7777777777777778 -0.11111111111111116 -0.8585858585858586\n",
      "-0.7777777777777778 -0.11111111111111116 -0.8383838383838383\n",
      "-0.7777777777777778 -0.11111111111111116 -0.8181818181818181\n",
      "-0.7777777777777778 -0.11111111111111116 -0.797979797979798\n",
      "-0.5555555555555556 -0.7777777777777778 -1.0\n",
      "-0.5555555555555556 -0.7777777777777778 -0.9797979797979798\n",
      "-0.5555555555555556 -0.7777777777777778 -0.9595959595959596\n",
      "-0.5555555555555556 -0.7777777777777778 -0.9393939393939394\n",
      "-0.5555555555555556 -0.7777777777777778 -0.9191919191919192\n",
      "-0.5555555555555556 -0.7777777777777778 -0.898989898989899\n",
      "-0.5555555555555556 -0.7777777777777778 -0.8787878787878788\n",
      "-0.5555555555555556 -0.7777777777777778 -0.8585858585858586\n",
      "-0.5555555555555556 -0.7777777777777778 -0.8383838383838383\n",
      "-0.5555555555555556 -0.7777777777777778 -0.8181818181818181\n",
      "-0.5555555555555556 -0.7777777777777778 -0.797979797979798\n",
      "-0.5555555555555556 -0.5555555555555556 -1.0\n",
      "-0.5555555555555556 -0.5555555555555556 -0.9797979797979798\n",
      "-0.5555555555555556 -0.5555555555555556 -0.9595959595959596\n",
      "-0.5555555555555556 -0.5555555555555556 -0.9393939393939394\n",
      "-0.5555555555555556 -0.5555555555555556 -0.9191919191919192\n",
      "-0.5555555555555556 -0.5555555555555556 -0.898989898989899\n",
      "-0.5555555555555556 -0.5555555555555556 -0.8787878787878788\n",
      "-0.5555555555555556 -0.5555555555555556 -0.8585858585858586\n",
      "-0.5555555555555556 -0.5555555555555556 -0.8383838383838383\n",
      "-0.5555555555555556 -0.5555555555555556 -0.8181818181818181\n",
      "-0.5555555555555556 -0.5555555555555556 -0.797979797979798\n",
      "-0.5555555555555556 -0.5555555555555556 -0.7777777777777778\n",
      "-0.5555555555555556 -0.5555555555555556 -0.7575757575757576\n",
      "-0.5555555555555556 -0.5555555555555556 -0.7373737373737373\n",
      "-0.5555555555555556 -0.5555555555555556 -0.7171717171717171\n",
      "-0.5555555555555556 -0.5555555555555556 -0.696969696969697\n",
      "-0.5555555555555556 -0.5555555555555556 -0.6767676767676767\n",
      "-0.5555555555555556 -0.5555555555555556 -0.6565656565656566\n",
      "-0.5555555555555556 -0.5555555555555556 -0.6363636363636364\n",
      "-0.5555555555555556 -0.5555555555555556 -0.6161616161616161\n",
      "-0.5555555555555556 -0.5555555555555556 -0.5959595959595959\n",
      "-0.5555555555555556 -0.5555555555555556 -0.5757575757575757\n",
      "-0.5555555555555556 -0.33333333333333337 -0.8787878787878788\n",
      "-0.5555555555555556 -0.33333333333333337 -0.8585858585858586\n",
      "-0.5555555555555556 -0.33333333333333337 -0.8383838383838383\n",
      "-0.5555555555555556 -0.33333333333333337 -0.8181818181818181\n",
      "-0.5555555555555556 -0.33333333333333337 -0.797979797979798\n",
      "-0.5555555555555556 -0.33333333333333337 -0.7777777777777778\n",
      "-0.5555555555555556 -0.33333333333333337 -0.7575757575757576\n",
      "-0.5555555555555556 -0.33333333333333337 -0.7373737373737373\n",
      "-0.5555555555555556 -0.33333333333333337 -0.7171717171717171\n",
      "-0.5555555555555556 -0.33333333333333337 -0.696969696969697\n",
      "-0.5555555555555556 -0.33333333333333337 -0.6767676767676767\n",
      "-0.5555555555555556 -0.33333333333333337 -0.6565656565656566\n",
      "-0.5555555555555556 -0.33333333333333337 -0.6363636363636364\n",
      "-0.5555555555555556 -0.33333333333333337 -0.6161616161616161\n",
      "-0.5555555555555556 -0.33333333333333337 -0.5959595959595959\n",
      "-0.5555555555555556 -0.33333333333333337 -0.5757575757575757\n",
      "-0.5555555555555556 -0.11111111111111116 -0.6565656565656566\n",
      "-0.5555555555555556 -0.11111111111111116 -0.6363636363636364\n",
      "-0.5555555555555556 -0.11111111111111116 -0.6161616161616161\n",
      "-0.5555555555555556 -0.11111111111111116 -0.5959595959595959\n",
      "-0.5555555555555556 -0.11111111111111116 -0.5757575757575757\n",
      "-0.33333333333333337 -0.7777777777777778 -1.0\n",
      "-0.33333333333333337 -0.7777777777777778 -0.9797979797979798\n",
      "-0.33333333333333337 -0.7777777777777778 -0.9595959595959596\n",
      "-0.33333333333333337 -0.7777777777777778 -0.9393939393939394\n",
      "-0.33333333333333337 -0.7777777777777778 -0.9191919191919192\n",
      "-0.33333333333333337 -0.7777777777777778 -0.898989898989899\n",
      "-0.33333333333333337 -0.7777777777777778 -0.8787878787878788\n",
      "-0.33333333333333337 -0.7777777777777778 -0.8585858585858586\n",
      "-0.33333333333333337 -0.7777777777777778 -0.8383838383838383\n",
      "-0.33333333333333337 -0.7777777777777778 -0.8181818181818181\n",
      "-0.33333333333333337 -0.7777777777777778 -0.797979797979798\n",
      "-0.33333333333333337 -0.5555555555555556 -0.8787878787878788\n",
      "-0.33333333333333337 -0.5555555555555556 -0.8585858585858586\n",
      "-0.33333333333333337 -0.5555555555555556 -0.8383838383838383\n",
      "-0.33333333333333337 -0.5555555555555556 -0.8181818181818181\n",
      "-0.33333333333333337 -0.5555555555555556 -0.797979797979798\n",
      "-0.33333333333333337 -0.5555555555555556 -0.7777777777777778\n",
      "-0.33333333333333337 -0.5555555555555556 -0.7575757575757576\n",
      "-0.33333333333333337 -0.5555555555555556 -0.7373737373737373\n",
      "-0.33333333333333337 -0.5555555555555556 -0.7171717171717171\n",
      "-0.33333333333333337 -0.5555555555555556 -0.696969696969697\n",
      "-0.33333333333333337 -0.5555555555555556 -0.6767676767676767\n",
      "-0.33333333333333337 -0.5555555555555556 -0.6565656565656566\n",
      "-0.33333333333333337 -0.5555555555555556 -0.6363636363636364\n",
      "-0.33333333333333337 -0.5555555555555556 -0.6161616161616161\n",
      "-0.33333333333333337 -0.5555555555555556 -0.5959595959595959\n",
      "-0.33333333333333337 -0.5555555555555556 -0.5757575757575757\n",
      "-0.33333333333333337 -0.33333333333333337 -0.6565656565656566\n",
      "-0.33333333333333337 -0.33333333333333337 -0.6363636363636364\n",
      "-0.33333333333333337 -0.33333333333333337 -0.6161616161616161\n",
      "-0.33333333333333337 -0.33333333333333337 -0.5959595959595959\n",
      "-0.33333333333333337 -0.33333333333333337 -0.5757575757575757\n",
      "-0.33333333333333337 -0.33333333333333337 -0.5555555555555556\n",
      "-0.33333333333333337 -0.33333333333333337 -0.5353535353535352\n",
      "-0.33333333333333337 -0.33333333333333337 -0.5151515151515151\n",
      "-0.33333333333333337 -0.33333333333333337 -0.4949494949494949\n",
      "-0.33333333333333337 -0.33333333333333337 -0.4747474747474747\n",
      "-0.33333333333333337 -0.33333333333333337 -0.4545454545454545\n",
      "-0.33333333333333337 -0.33333333333333337 -0.43434343434343425\n",
      "-0.33333333333333337 -0.33333333333333337 -0.41414141414141414\n",
      "-0.33333333333333337 -0.33333333333333337 -0.3939393939393939\n",
      "-0.33333333333333337 -0.33333333333333337 -0.3737373737373737\n",
      "-0.33333333333333337 -0.33333333333333337 -0.3535353535353535\n",
      "-0.33333333333333337 -0.11111111111111116 -0.43434343434343425\n",
      "-0.33333333333333337 -0.11111111111111116 -0.41414141414141414\n",
      "-0.33333333333333337 -0.11111111111111116 -0.3939393939393939\n",
      "-0.33333333333333337 -0.11111111111111116 -0.3737373737373737\n",
      "-0.33333333333333337 -0.11111111111111116 -0.3535353535353535\n",
      "-0.11111111111111116 -0.7777777777777778 -0.8787878787878788\n",
      "-0.11111111111111116 -0.7777777777777778 -0.8585858585858586\n",
      "-0.11111111111111116 -0.7777777777777778 -0.8383838383838383\n",
      "-0.11111111111111116 -0.7777777777777778 -0.8181818181818181\n",
      "-0.11111111111111116 -0.7777777777777778 -0.797979797979798\n",
      "-0.11111111111111116 -0.5555555555555556 -0.6565656565656566\n",
      "-0.11111111111111116 -0.5555555555555556 -0.6363636363636364\n",
      "-0.11111111111111116 -0.5555555555555556 -0.6161616161616161\n",
      "-0.11111111111111116 -0.5555555555555556 -0.5959595959595959\n",
      "-0.11111111111111116 -0.5555555555555556 -0.5757575757575757\n",
      "-0.11111111111111116 -0.33333333333333337 -0.43434343434343425\n",
      "-0.11111111111111116 -0.33333333333333337 -0.41414141414141414\n",
      "-0.11111111111111116 -0.33333333333333337 -0.3939393939393939\n",
      "-0.11111111111111116 -0.33333333333333337 -0.3737373737373737\n",
      "-0.11111111111111116 -0.33333333333333337 -0.3535353535353535\n",
      "-0.11111111111111116 -0.11111111111111116 -0.21212121212121204\n",
      "-0.11111111111111116 -0.11111111111111116 -0.19191919191919182\n",
      "-0.11111111111111116 -0.11111111111111116 -0.1717171717171716\n",
      "-0.11111111111111116 -0.11111111111111116 -0.1515151515151515\n",
      "-0.11111111111111116 -0.11111111111111116 -0.13131313131313127\n"
     ]
    }
   ],
   "source": [
    "w1s = np.linspace(-1,1,10)\n",
    "w2s = np.linspace(-1,1,10)\n",
    "thetas = np.linspace(-1,1,100)\n",
    "for w1 in w1s:\n",
    "    for w2 in w2s:\n",
    "        for theta in thetas :\n",
    "            result = np.where(X[:,0]*w1+X[:,1]*w2 > theta, 1, 0)\n",
    "            if np.sum(result == np.array([1,1,1,0])) == 4:\n",
    "                \n",
    "                print(w1,w2,theta)\n",
    "        \n",
    "    "
   ]
  },
  {
   "cell_type": "code",
   "execution_count": 137,
   "metadata": {},
   "outputs": [],
   "source": [
    "import numpy as np\n",
    "import matplotlib.pyplot as plt"
   ]
  },
  {
   "cell_type": "code",
   "execution_count": 136,
   "metadata": {},
   "outputs": [],
   "source": [
    "def step(x) :\n",
    "    return np.where(x > 0,1,0)"
   ]
  },
  {
   "cell_type": "code",
   "execution_count": 138,
   "metadata": {},
   "outputs": [],
   "source": [
    "x = np.arange(-5,5,0.1)"
   ]
  },
  {
   "cell_type": "code",
   "execution_count": 140,
   "metadata": {},
   "outputs": [
    {
     "data": {
      "text/plain": [
       "[<matplotlib.lines.Line2D at 0x1aceac84910>]"
      ]
     },
     "execution_count": 140,
     "metadata": {},
     "output_type": "execute_result"
    },
    {
     "data": {
      "image/png": "[encoded data removed]",
      "text/plain": [
       "<Figure size 432x288 with 1 Axes>"
      ]
     },
     "metadata": {
      "needs_background": "light"
     },
     "output_type": "display_data"
    }
   ],
   "source": [
    "plt.plot(step(x))"
   ]
  },
  {
   "cell_type": "code",
   "execution_count": 141,
   "metadata": {},
   "outputs": [],
   "source": [
    "def sigmoid(x) :\n",
    "    return 1/(1+np.exp(-x))"
   ]
  },
  {
   "cell_type": "code",
   "execution_count": 142,
   "metadata": {},
   "outputs": [
    {
     "data": {
      "text/plain": [
       "[<matplotlib.lines.Line2D at 0x1aceacfc3a0>]"
      ]
     },
     "execution_count": 142,
     "metadata": {},
     "output_type": "execute_result"
    },
    {
     "data": {
      "image/png": "[encoded data removed]",
      "text/plain": [
       "<Figure size 432x288 with 1 Axes>"
      ]
     },
     "metadata": {
      "needs_background": "light"
     },
     "output_type": "display_data"
    }
   ],
   "source": [
    "plt.plot(sigmoid(x))"
   ]
  },
  {
   "cell_type": "code",
   "execution_count": 182,
   "metadata": {},
   "outputs": [],
   "source": [
    "def relu1(x) :\n",
    "    return np.where(x > 0, x, 0)"
   ]
  },
  {
   "cell_type": "code",
   "execution_count": 155,
   "metadata": {},
   "outputs": [],
   "source": [
    "def relu2(x) :\n",
    "    return np.maximum(0,x)"
   ]
  },
  {
   "cell_type": "code",
   "execution_count": 177,
   "metadata": {},
   "outputs": [],
   "source": [
    "x = np.random.randn(100,100)"
   ]
  },
  {
   "cell_type": "code",
   "execution_count": 178,
   "metadata": {},
   "outputs": [
    {
     "name": "stdout",
     "output_type": "stream",
     "text": [
      "CPU times: total: 0 ns\n",
      "Wall time: 1.06 ms\n"
     ]
    },
    {
     "data": {
      "text/plain": [
       "4016.257759583681"
      ]
     },
     "execution_count": 178,
     "metadata": {},
     "output_type": "execute_result"
    }
   ],
   "source": [
    "%%time\n",
    "np.sum(relu1(x))\n"
   ]
  },
  {
   "cell_type": "code",
   "execution_count": 156,
   "metadata": {},
   "outputs": [
    {
     "name": "stdout",
     "output_type": "stream",
     "text": [
      "CPU times: total: 46.9 ms\n",
      "Wall time: 27.1 ms\n"
     ]
    },
    {
     "data": {
      "text/plain": [
       "399360.6905338022"
      ]
     },
     "execution_count": 156,
     "metadata": {},
     "output_type": "execute_result"
    }
   ],
   "source": [
    "%%time\n",
    "np.sum(relu2(x))"
   ]
  },
  {
   "cell_type": "code",
   "execution_count": 180,
   "metadata": {},
   "outputs": [
    {
     "data": {
      "text/plain": [
       "[<matplotlib.lines.Line2D at 0x1acf5357730>,\n",
       " <matplotlib.lines.Line2D at 0x1acf5357790>,\n",
       " <matplotlib.lines.Line2D at 0x1acf53578b0>,\n",
       " <matplotlib.lines.Line2D at 0x1acf53579d0>,\n",
       " <matplotlib.lines.Line2D at 0x1acf5357af0>,\n",
       " <matplotlib.lines.Line2D at 0x1acf5357c10>,\n",
       " <matplotlib.lines.Line2D at 0x1acf5357d30>,\n",
       " <matplotlib.lines.Line2D at 0x1acf5357e50>,\n",
       " <matplotlib.lines.Line2D at 0x1acf5357f70>,\n",
       " <matplotlib.lines.Line2D at 0x1acf53620d0>,\n",
       " <matplotlib.lines.Line2D at 0x1acf5357760>,\n",
       " <matplotlib.lines.Line2D at 0x1acf53621f0>,\n",
       " <matplotlib.lines.Line2D at 0x1acf5362400>,\n",
       " <matplotlib.lines.Line2D at 0x1acf5362520>,\n",
       " <matplotlib.lines.Line2D at 0x1acf5362640>,\n",
       " <matplotlib.lines.Line2D at 0x1acf5362760>,\n",
       " <matplotlib.lines.Line2D at 0x1acf5362880>,\n",
       " <matplotlib.lines.Line2D at 0x1acf53629a0>,\n",
       " <matplotlib.lines.Line2D at 0x1acf5362ac0>,\n",
       " <matplotlib.lines.Line2D at 0x1acf5362be0>,\n",
       " <matplotlib.lines.Line2D at 0x1acf5362d00>,\n",
       " <matplotlib.lines.Line2D at 0x1acf5362e20>,\n",
       " <matplotlib.lines.Line2D at 0x1acf5362f40>,\n",
       " <matplotlib.lines.Line2D at 0x1acf53680a0>,\n",
       " <matplotlib.lines.Line2D at 0x1acf53681c0>,\n",
       " <matplotlib.lines.Line2D at 0x1acf53682e0>,\n",
       " <matplotlib.lines.Line2D at 0x1acf5368400>,\n",
       " <matplotlib.lines.Line2D at 0x1acf5368520>,\n",
       " <matplotlib.lines.Line2D at 0x1acf5368640>,\n",
       " <matplotlib.lines.Line2D at 0x1acf5368760>,\n",
       " <matplotlib.lines.Line2D at 0x1acf5368880>,\n",
       " <matplotlib.lines.Line2D at 0x1acf53689a0>,\n",
       " <matplotlib.lines.Line2D at 0x1acf5368ac0>,\n",
       " <matplotlib.lines.Line2D at 0x1acf5368be0>,\n",
       " <matplotlib.lines.Line2D at 0x1acf5368d00>,\n",
       " <matplotlib.lines.Line2D at 0x1acf5368e20>,\n",
       " <matplotlib.lines.Line2D at 0x1acf5368f40>,\n",
       " <matplotlib.lines.Line2D at 0x1acf53700a0>,\n",
       " <matplotlib.lines.Line2D at 0x1acf53701c0>,\n",
       " <matplotlib.lines.Line2D at 0x1acf53702e0>,\n",
       " <matplotlib.lines.Line2D at 0x1acf5370400>,\n",
       " <matplotlib.lines.Line2D at 0x1acf5370520>,\n",
       " <matplotlib.lines.Line2D at 0x1acf5370640>,\n",
       " <matplotlib.lines.Line2D at 0x1acf5370760>,\n",
       " <matplotlib.lines.Line2D at 0x1acf5370880>,\n",
       " <matplotlib.lines.Line2D at 0x1acf53709a0>,\n",
       " <matplotlib.lines.Line2D at 0x1acf5370ac0>,\n",
       " <matplotlib.lines.Line2D at 0x1acf5370be0>,\n",
       " <matplotlib.lines.Line2D at 0x1acf5370d00>,\n",
       " <matplotlib.lines.Line2D at 0x1acf5370e20>,\n",
       " <matplotlib.lines.Line2D at 0x1acf5370f40>,\n",
       " <matplotlib.lines.Line2D at 0x1acf53750a0>,\n",
       " <matplotlib.lines.Line2D at 0x1acf53751c0>,\n",
       " <matplotlib.lines.Line2D at 0x1acf53752e0>,\n",
       " <matplotlib.lines.Line2D at 0x1acf5375400>,\n",
       " <matplotlib.lines.Line2D at 0x1acf5375520>,\n",
       " <matplotlib.lines.Line2D at 0x1acf5375640>,\n",
       " <matplotlib.lines.Line2D at 0x1acf5375760>,\n",
       " <matplotlib.lines.Line2D at 0x1acf5375880>,\n",
       " <matplotlib.lines.Line2D at 0x1acf53759a0>,\n",
       " <matplotlib.lines.Line2D at 0x1acf5375ac0>,\n",
       " <matplotlib.lines.Line2D at 0x1acf5375be0>,\n",
       " <matplotlib.lines.Line2D at 0x1acf5375d00>,\n",
       " <matplotlib.lines.Line2D at 0x1acf5375e20>,\n",
       " <matplotlib.lines.Line2D at 0x1acf5375f40>,\n",
       " <matplotlib.lines.Line2D at 0x1acf537b0a0>,\n",
       " <matplotlib.lines.Line2D at 0x1acf537b1c0>,\n",
       " <matplotlib.lines.Line2D at 0x1acf537b2e0>,\n",
       " <matplotlib.lines.Line2D at 0x1acf537b400>,\n",
       " <matplotlib.lines.Line2D at 0x1acf537b520>,\n",
       " <matplotlib.lines.Line2D at 0x1acf537b640>,\n",
       " <matplotlib.lines.Line2D at 0x1acf537b760>,\n",
       " <matplotlib.lines.Line2D at 0x1acf537b880>,\n",
       " <matplotlib.lines.Line2D at 0x1acf537b9a0>,\n",
       " <matplotlib.lines.Line2D at 0x1acf537bac0>,\n",
       " <matplotlib.lines.Line2D at 0x1acf537bbe0>,\n",
       " <matplotlib.lines.Line2D at 0x1acf537bd00>,\n",
       " <matplotlib.lines.Line2D at 0x1acf537be20>,\n",
       " <matplotlib.lines.Line2D at 0x1acf537bf40>,\n",
       " <matplotlib.lines.Line2D at 0x1acf53820a0>,\n",
       " <matplotlib.lines.Line2D at 0x1acf53821c0>,\n",
       " <matplotlib.lines.Line2D at 0x1acf53822e0>,\n",
       " <matplotlib.lines.Line2D at 0x1acf5382400>,\n",
       " <matplotlib.lines.Line2D at 0x1acf5382520>,\n",
       " <matplotlib.lines.Line2D at 0x1acf5382640>,\n",
       " <matplotlib.lines.Line2D at 0x1acf5382760>,\n",
       " <matplotlib.lines.Line2D at 0x1acf5382880>,\n",
       " <matplotlib.lines.Line2D at 0x1acf53829a0>,\n",
       " <matplotlib.lines.Line2D at 0x1acf5382ac0>,\n",
       " <matplotlib.lines.Line2D at 0x1acf5382be0>,\n",
       " <matplotlib.lines.Line2D at 0x1acf5382d00>,\n",
       " <matplotlib.lines.Line2D at 0x1acf5382e20>,\n",
       " <matplotlib.lines.Line2D at 0x1acf5382f40>,\n",
       " <matplotlib.lines.Line2D at 0x1acf53880a0>,\n",
       " <matplotlib.lines.Line2D at 0x1acf53881c0>,\n",
       " <matplotlib.lines.Line2D at 0x1acf53882e0>,\n",
       " <matplotlib.lines.Line2D at 0x1acf5388400>,\n",
       " <matplotlib.lines.Line2D at 0x1acf5388520>,\n",
       " <matplotlib.lines.Line2D at 0x1acf5388640>,\n",
       " <matplotlib.lines.Line2D at 0x1acf5388760>]"
      ]
     },
     "execution_count": 180,
     "metadata": {},
     "output_type": "execute_result"
    },
    {
     "data": {
      "image/png": "[encoded data removed]",
      "text/plain": [
       "<Figure size 432x288 with 1 Axes>"
      ]
     },
     "metadata": {
      "needs_background": "light"
     },
     "output_type": "display_data"
    }
   ],
   "source": [
    "plt.plot(relu1(x))"
   ]
  },
  {
   "cell_type": "code",
   "execution_count": 164,
   "metadata": {},
   "outputs": [],
   "source": [
    "def softmax(x) :\n",
    "    c = np.max(x)\n",
    "    x = x - c\n",
    "    return np.exp(x) / np.sum(np.exp(x))"
   ]
  },
  {
   "cell_type": "code",
   "execution_count": 165,
   "metadata": {},
   "outputs": [
    {
     "data": {
      "text/plain": [
       "array([1., 0., 0.])"
      ]
     },
     "execution_count": 165,
     "metadata": {},
     "output_type": "execute_result"
    }
   ],
   "source": [
    "softmax(np.array([1000,2,3]))"
   ]
  },
  {
   "cell_type": "code",
   "execution_count": 167,
   "metadata": {},
   "outputs": [],
   "source": [
    "\n",
    "from sklearn.datasets import load_iris"
   ]
  },
  {
   "cell_type": "code",
   "execution_count": 217,
   "metadata": {},
   "outputs": [],
   "source": [
    "X = load_iris()['data']\n",
    "y = load_iris()['target']"
   ]
  },
  {
   "cell_type": "code",
   "execution_count": 218,
   "metadata": {},
   "outputs": [
    {
     "data": {
      "text/plain": [
       "(150, 4)"
      ]
     },
     "execution_count": 218,
     "metadata": {},
     "output_type": "execute_result"
    }
   ],
   "source": [
    "X.shape"
   ]
  },
  {
   "cell_type": "code",
   "execution_count": null,
   "metadata": {},
   "outputs": [],
   "source": [
    "y"
   ]
  },
  {
   "cell_type": "code",
   "execution_count": 219,
   "metadata": {},
   "outputs": [],
   "source": [
    "W1 = np.random.randn(4,128)\n",
    "b1 = np.zeros(128)\n",
    "W2 = np.random.randn(128,64)\n",
    "b2 = np.zeros(64)\n",
    "W3 = np.random.randn(64,3)\n",
    "b3 = np.zeros(3)\n",
    "layer1 = np.dot(X, W1) + b1\n",
    "z1 = sigmoid(layer1)\n",
    "layer2 = np.dot(z1, W2) + b2\n",
    "z2 = relu1(layer2)\n",
    "layer3 = np.dot(z2,W3) + b3\n",
    "output = softmax(layer3)"
   ]
  },
  {
   "cell_type": "code",
   "execution_count": 220,
   "metadata": {},
   "outputs": [
    {
     "data": {
      "text/plain": [
       "3"
      ]
     },
     "execution_count": 220,
     "metadata": {},
     "output_type": "execute_result"
    }
   ],
   "source": [
    "np.unique(y).size"
   ]
  },
  {
   "cell_type": "code",
   "execution_count": 221,
   "metadata": {},
   "outputs": [],
   "source": [
    "def make_one(x) :\n",
    "    result = np.zeros((x.size,np.unique(x).size))\n",
    "    for idx1, idx2 in enumerate(x):\n",
    "        result[idx1, idx2] = 1\n",
    "    return result\n",
    "\n"
   ]
  },
  {
   "cell_type": "code",
   "execution_count": 222,
   "metadata": {},
   "outputs": [],
   "source": [
    "y= make_one(y)"
   ]
  },
  {
   "cell_type": "code",
   "execution_count": 223,
   "metadata": {},
   "outputs": [
    {
     "data": {
      "text/plain": [
       "array([[1., 0., 0.],\n",
       "       [1., 0., 0.],\n",
       "       [1., 0., 0.],\n",
       "       [1., 0., 0.],\n",
       "       [1., 0., 0.],\n",
       "       [1., 0., 0.],\n",
       "       [1., 0., 0.],\n",
       "       [1., 0., 0.],\n",
       "       [1., 0., 0.],\n",
       "       [1., 0., 0.],\n",
       "       [1., 0., 0.],\n",
       "       [1., 0., 0.],\n",
       "       [1., 0., 0.],\n",
       "       [1., 0., 0.],\n",
       "       [1., 0., 0.],\n",
       "       [1., 0., 0.],\n",
       "       [1., 0., 0.],\n",
       "       [1., 0., 0.],\n",
       "       [1., 0., 0.],\n",
       "       [1., 0., 0.],\n",
       "       [1., 0., 0.],\n",
       "       [1., 0., 0.],\n",
       "       [1., 0., 0.],\n",
       "       [1., 0., 0.],\n",
       "       [1., 0., 0.],\n",
       "       [1., 0., 0.],\n",
       "       [1., 0., 0.],\n",
       "       [1., 0., 0.],\n",
       "       [1., 0., 0.],\n",
       "       [1., 0., 0.],\n",
       "       [1., 0., 0.],\n",
       "       [1., 0., 0.],\n",
       "       [1., 0., 0.],\n",
       "       [1., 0., 0.],\n",
       "       [1., 0., 0.],\n",
       "       [1., 0., 0.],\n",
       "       [1., 0., 0.],\n",
       "       [1., 0., 0.],\n",
       "       [1., 0., 0.],\n",
       "       [1., 0., 0.],\n",
       "       [1., 0., 0.],\n",
       "       [1., 0., 0.],\n",
       "       [1., 0., 0.],\n",
       "       [1., 0., 0.],\n",
       "       [1., 0., 0.],\n",
       "       [1., 0., 0.],\n",
       "       [1., 0., 0.],\n",
       "       [1., 0., 0.],\n",
       "       [1., 0., 0.],\n",
       "       [1., 0., 0.],\n",
       "       [0., 1., 0.],\n",
       "       [0., 1., 0.],\n",
       "       [0., 1., 0.],\n",
       "       [0., 1., 0.],\n",
       "       [0., 1., 0.],\n",
       "       [0., 1., 0.],\n",
       "       [0., 1., 0.],\n",
       "       [0., 1., 0.],\n",
       "       [0., 1., 0.],\n",
       "       [0., 1., 0.],\n",
       "       [0., 1., 0.],\n",
       "       [0., 1., 0.],\n",
       "       [0., 1., 0.],\n",
       "       [0., 1., 0.],\n",
       "       [0., 1., 0.],\n",
       "       [0., 1., 0.],\n",
       "       [0., 1., 0.],\n",
       "       [0., 1., 0.],\n",
       "       [0., 1., 0.],\n",
       "       [0., 1., 0.],\n",
       "       [0., 1., 0.],\n",
       "       [0., 1., 0.],\n",
       "       [0., 1., 0.],\n",
       "       [0., 1., 0.],\n",
       "       [0., 1., 0.],\n",
       "       [0., 1., 0.],\n",
       "       [0., 1., 0.],\n",
       "       [0., 1., 0.],\n",
       "       [0., 1., 0.],\n",
       "       [0., 1., 0.],\n",
       "       [0., 1., 0.],\n",
       "       [0., 1., 0.],\n",
       "       [0., 1., 0.],\n",
       "       [0., 1., 0.],\n",
       "       [0., 1., 0.],\n",
       "       [0., 1., 0.],\n",
       "       [0., 1., 0.],\n",
       "       [0., 1., 0.],\n",
       "       [0., 1., 0.],\n",
       "       [0., 1., 0.],\n",
       "       [0., 1., 0.],\n",
       "       [0., 1., 0.],\n",
       "       [0., 1., 0.],\n",
       "       [0., 1., 0.],\n",
       "       [0., 1., 0.],\n",
       "       [0., 1., 0.],\n",
       "       [0., 1., 0.],\n",
       "       [0., 1., 0.],\n",
       "       [0., 1., 0.],\n",
       "       [0., 1., 0.],\n",
       "       [0., 0., 1.],\n",
       "       [0., 0., 1.],\n",
       "       [0., 0., 1.],\n",
       "       [0., 0., 1.],\n",
       "       [0., 0., 1.],\n",
       "       [0., 0., 1.],\n",
       "       [0., 0., 1.],\n",
       "       [0., 0., 1.],\n",
       "       [0., 0., 1.],\n",
       "       [0., 0., 1.],\n",
       "       [0., 0., 1.],\n",
       "       [0., 0., 1.],\n",
       "       [0., 0., 1.],\n",
       "       [0., 0., 1.],\n",
       "       [0., 0., 1.],\n",
       "       [0., 0., 1.],\n",
       "       [0., 0., 1.],\n",
       "       [0., 0., 1.],\n",
       "       [0., 0., 1.],\n",
       "       [0., 0., 1.],\n",
       "       [0., 0., 1.],\n",
       "       [0., 0., 1.],\n",
       "       [0., 0., 1.],\n",
       "       [0., 0., 1.],\n",
       "       [0., 0., 1.],\n",
       "       [0., 0., 1.],\n",
       "       [0., 0., 1.],\n",
       "       [0., 0., 1.],\n",
       "       [0., 0., 1.],\n",
       "       [0., 0., 1.],\n",
       "       [0., 0., 1.],\n",
       "       [0., 0., 1.],\n",
       "       [0., 0., 1.],\n",
       "       [0., 0., 1.],\n",
       "       [0., 0., 1.],\n",
       "       [0., 0., 1.],\n",
       "       [0., 0., 1.],\n",
       "       [0., 0., 1.],\n",
       "       [0., 0., 1.],\n",
       "       [0., 0., 1.],\n",
       "       [0., 0., 1.],\n",
       "       [0., 0., 1.],\n",
       "       [0., 0., 1.],\n",
       "       [0., 0., 1.],\n",
       "       [0., 0., 1.],\n",
       "       [0., 0., 1.],\n",
       "       [0., 0., 1.],\n",
       "       [0., 0., 1.],\n",
       "       [0., 0., 1.],\n",
       "       [0., 0., 1.]])"
      ]
     },
     "execution_count": 223,
     "metadata": {},
     "output_type": "execute_result"
    }
   ],
   "source": [
    "y"
   ]
  },
  {
   "cell_type": "code",
   "execution_count": 224,
   "metadata": {},
   "outputs": [
    {
     "data": {
      "text/plain": [
       "array([[2.91521125e-03, 2.43592649e-27, 3.97730229e-10],\n",
       "       [1.23206533e-02, 7.50284642e-27, 1.35512492e-11],\n",
       "       [6.97207653e-03, 2.87294438e-27, 1.83135400e-10],\n",
       "       [3.62029792e-03, 1.87706232e-27, 4.40914897e-11],\n",
       "       [2.01316710e-03, 1.08998209e-27, 1.09763372e-09],\n",
       "       [2.66456843e-04, 1.74442951e-27, 1.18268575e-10],\n",
       "       [1.85948563e-03, 1.14870455e-27, 2.17892659e-10],\n",
       "       [2.38460006e-03, 2.13018481e-27, 1.61600431e-10],\n",
       "       [7.98045340e-03, 2.57095466e-27, 2.28718192e-11],\n",
       "       [7.63600341e-03, 2.87487745e-27, 6.18161277e-11],\n",
       "       [1.60522136e-03, 2.29731244e-27, 5.04544932e-10],\n",
       "       [1.35825014e-03, 9.97096881e-28, 1.57598425e-10],\n",
       "       [1.38082305e-02, 4.02164648e-27, 5.25906082e-11],\n",
       "       [3.14549952e-02, 1.88477431e-27, 9.28688960e-10],\n",
       "       [2.97550081e-03, 3.38616286e-27, 6.35149757e-09],\n",
       "       [2.81700090e-04, 5.65953013e-28, 4.63494760e-09],\n",
       "       [1.21362029e-03, 2.48586021e-27, 9.67358141e-10],\n",
       "       [2.16833500e-03, 3.55441128e-27, 1.48268294e-10],\n",
       "       [6.61820154e-04, 3.50437990e-27, 9.57385998e-11],\n",
       "       [7.04188934e-04, 8.34005903e-28, 7.95844283e-10],\n",
       "       [2.31068345e-03, 3.76907277e-27, 3.02100567e-11],\n",
       "       [6.74972071e-04, 1.95446427e-27, 1.46350473e-10],\n",
       "       [1.24568906e-02, 5.41959463e-28, 2.60316138e-08],\n",
       "       [6.48913990e-04, 6.90719880e-27, 7.65979427e-13],\n",
       "       [5.18584024e-04, 5.84745826e-28, 4.19234004e-11],\n",
       "       [7.13032240e-03, 5.03154853e-27, 5.02026878e-12],\n",
       "       [8.94875430e-04, 3.68249577e-27, 1.30245966e-11],\n",
       "       [2.26011622e-03, 2.67062868e-27, 2.04681358e-10],\n",
       "       [4.64367680e-03, 5.14964409e-27, 1.37288328e-10],\n",
       "       [2.07043576e-03, 1.41239871e-27, 4.93094290e-11],\n",
       "       [3.26010502e-03, 2.37080747e-27, 1.94402652e-11],\n",
       "       [2.57501230e-03, 1.34544491e-26, 7.10585841e-12],\n",
       "       [9.11466030e-04, 1.13852645e-28, 2.67472595e-08],\n",
       "       [7.91846392e-04, 3.13337581e-28, 1.98927566e-08],\n",
       "       [5.58411840e-03, 4.12362327e-27, 2.17267363e-11],\n",
       "       [1.64432524e-02, 1.00513566e-26, 1.19456032e-10],\n",
       "       [7.90760591e-03, 1.23754619e-26, 1.82537269e-10],\n",
       "       [2.76416218e-03, 5.21675266e-28, 3.49607052e-09],\n",
       "       [9.49958378e-03, 2.53213551e-27, 7.75535281e-11],\n",
       "       [2.70078764e-03, 2.83315652e-27, 1.27779097e-10],\n",
       "       [2.93418529e-03, 2.93968905e-27, 3.30884067e-10],\n",
       "       [1.50490264e-01, 1.26616452e-26, 2.68489128e-14],\n",
       "       [5.59138884e-03, 1.11791652e-27, 3.74275029e-10],\n",
       "       [2.72146641e-04, 3.22046468e-27, 4.42300496e-12],\n",
       "       [1.33870256e-04, 9.51269158e-28, 3.60340445e-11],\n",
       "       [7.73936917e-03, 7.88184573e-27, 6.13481165e-12],\n",
       "       [6.88116009e-04, 4.98724106e-28, 1.25261757e-09],\n",
       "       [4.23110833e-03, 1.79407942e-27, 1.36046403e-10],\n",
       "       [1.41900902e-03, 1.63462662e-27, 6.64486394e-10],\n",
       "       [4.85011604e-03, 3.98547644e-27, 1.11819829e-10],\n",
       "       [4.27984979e-03, 1.90822869e-29, 2.03469746e-24],\n",
       "       [1.42990458e-04, 3.39895992e-29, 2.17904735e-24],\n",
       "       [4.96367875e-03, 6.84303727e-30, 2.22155657e-25],\n",
       "       [1.76037612e-03, 7.81565417e-30, 1.31200905e-26],\n",
       "       [5.35803471e-03, 5.44985051e-30, 4.79927179e-26],\n",
       "       [1.18431726e-04, 1.35743471e-29, 1.81201604e-25],\n",
       "       [3.28254434e-05, 3.48164503e-29, 7.44303171e-25],\n",
       "       [1.55949508e-04, 8.77466535e-29, 1.18086161e-23],\n",
       "       [7.79330735e-03, 1.29561693e-29, 4.94647194e-25],\n",
       "       [7.64434144e-06, 3.44415157e-29, 5.29010418e-25],\n",
       "       [2.59437133e-03, 1.31950303e-29, 6.62934178e-26],\n",
       "       [3.28017428e-05, 3.78776928e-29, 1.29411854e-24],\n",
       "       [6.76577860e-02, 6.78318077e-30, 5.71097245e-26],\n",
       "       [3.82357351e-04, 8.70243783e-30, 1.22504655e-25],\n",
       "       [4.17037323e-05, 1.31875893e-28, 3.14716767e-23],\n",
       "       [2.05854808e-03, 3.27963730e-29, 2.47228075e-24],\n",
       "       [9.07916795e-06, 3.19199974e-29, 1.52446052e-25],\n",
       "       [1.05084019e-03, 3.85271544e-29, 5.31932754e-24],\n",
       "       [4.42504102e-02, 1.05675599e-30, 1.84708913e-28],\n",
       "       [1.50828655e-03, 3.20683915e-29, 7.74159388e-25],\n",
       "       [1.96127111e-06, 3.09894666e-29, 2.27723967e-26],\n",
       "       [1.19465050e-03, 4.08739337e-29, 1.60718813e-24],\n",
       "       [1.30487866e-02, 1.24267570e-30, 7.07996075e-28],\n",
       "       [1.40814466e-03, 9.58408355e-30, 2.35264104e-25],\n",
       "       [2.70601267e-03, 2.56220410e-29, 1.29585887e-24],\n",
       "       [2.64394179e-03, 2.07490363e-29, 9.91369886e-25],\n",
       "       [4.05144043e-02, 4.97435765e-30, 4.36546170e-26],\n",
       "       [1.69946336e-03, 2.68664785e-30, 1.31990683e-26],\n",
       "       [1.25529259e-04, 1.10882007e-29, 1.24023365e-25],\n",
       "       [2.83102062e-03, 1.40961202e-28, 1.58538769e-23],\n",
       "       [2.10472301e-03, 3.09255534e-29, 3.95418257e-25],\n",
       "       [2.58230467e-03, 4.38225818e-29, 1.46959162e-24],\n",
       "       [7.27937593e-04, 4.28923000e-29, 2.37578441e-24],\n",
       "       [3.73075585e-04, 1.50503785e-30, 6.64965231e-28],\n",
       "       [3.24553777e-06, 4.67056230e-29, 1.00114372e-25],\n",
       "       [3.87254425e-06, 9.92293147e-29, 2.14567660e-24],\n",
       "       [1.48226854e-03, 1.05145714e-29, 4.32615367e-25],\n",
       "       [9.58900096e-02, 2.52670375e-30, 2.88802343e-27],\n",
       "       [2.37453096e-05, 7.14149891e-29, 6.95199933e-24],\n",
       "       [3.23424370e-04, 1.35629878e-29, 1.24968926e-25],\n",
       "       [2.41939429e-04, 1.05730849e-29, 9.32579794e-26],\n",
       "       [1.77618948e-04, 1.70250747e-29, 4.48260167e-25],\n",
       "       [1.51147930e-03, 2.63894537e-29, 6.10626635e-25],\n",
       "       [5.49898160e-04, 6.61280580e-29, 2.97984643e-24],\n",
       "       [1.24538618e-04, 1.71006140e-29, 3.24959461e-25],\n",
       "       [6.25316899e-05, 6.43924056e-29, 9.76832973e-24],\n",
       "       [7.08569536e-05, 3.72467443e-29, 2.05635199e-24],\n",
       "       [7.71677515e-04, 2.47975679e-29, 1.75432798e-24],\n",
       "       [2.08359385e-04, 2.25042877e-28, 4.71372710e-23],\n",
       "       [1.18705893e-04, 3.06616540e-29, 1.53799227e-24],\n",
       "       [4.38380836e-08, 3.53199400e-30, 1.32057907e-30],\n",
       "       [1.30309696e-05, 1.23696122e-30, 3.83378046e-29],\n",
       "       [1.92658032e-03, 2.52788929e-31, 2.90515321e-29],\n",
       "       [1.87298324e-04, 9.19895758e-31, 1.36173550e-28],\n",
       "       [2.12651279e-05, 5.87131293e-31, 6.36015816e-30],\n",
       "       [1.69058355e-02, 6.71567013e-32, 5.21716502e-30],\n",
       "       [3.42211868e-07, 4.54092215e-30, 1.29182110e-28],\n",
       "       [2.51404595e-02, 1.22176730e-31, 3.81259496e-29],\n",
       "       [1.39838986e-02, 1.43577457e-31, 2.89919065e-30],\n",
       "       [3.79094634e-06, 1.90471299e-30, 3.46105625e-29],\n",
       "       [1.78360347e-05, 4.04723939e-30, 2.58682235e-27],\n",
       "       [7.03269728e-04, 5.02992217e-31, 4.29906398e-29],\n",
       "       [3.03377427e-04, 5.72096546e-31, 7.83205492e-29],\n",
       "       [7.94026771e-06, 5.12986981e-31, 5.14336253e-30],\n",
       "       [1.75809307e-08, 6.82122722e-31, 3.87504155e-30],\n",
       "       [6.78222356e-07, 2.45665564e-30, 7.55298210e-29],\n",
       "       [3.36975709e-04, 1.25579044e-30, 6.56085600e-28],\n",
       "       [2.04097823e-04, 1.25092524e-30, 7.28170994e-28],\n",
       "       [4.12229921e-02, 4.00776842e-32, 2.67355716e-32],\n",
       "       [8.63214442e-03, 3.52260752e-31, 1.96638679e-29],\n",
       "       [3.22253193e-05, 7.22594865e-31, 3.43523322e-29],\n",
       "       [4.97064639e-07, 2.97213304e-30, 7.03921752e-29],\n",
       "       [8.27483998e-02, 4.70959235e-32, 1.37068610e-30],\n",
       "       [7.17014463e-04, 1.17455354e-30, 4.46285905e-28],\n",
       "       [2.41524898e-05, 2.22214389e-30, 2.81599201e-28],\n",
       "       [3.89240865e-03, 5.75176051e-31, 1.41649913e-27],\n",
       "       [1.76277277e-04, 2.08351009e-30, 1.43196609e-27],\n",
       "       [2.28938600e-05, 4.81109785e-30, 3.96927693e-27],\n",
       "       [8.24746585e-05, 3.75820259e-31, 5.90283246e-30],\n",
       "       [2.79901525e-02, 5.81888273e-31, 2.21290230e-27],\n",
       "       [6.57834414e-02, 1.28438676e-31, 1.63419186e-29],\n",
       "       [1.31345584e-03, 1.27425357e-30, 1.28514652e-26],\n",
       "       [3.36862861e-05, 3.30062722e-31, 2.76628118e-30],\n",
       "       [1.68933893e-03, 2.08279466e-30, 5.43231186e-27],\n",
       "       [1.58352303e-03, 4.67018591e-31, 1.56759500e-28],\n",
       "       [1.61312554e-02, 1.05878572e-31, 7.43378378e-30],\n",
       "       [5.02698079e-08, 1.01032041e-29, 3.26842790e-29],\n",
       "       [9.60645529e-05, 2.36077417e-30, 1.18180437e-27],\n",
       "       [1.12716225e-05, 6.64606062e-30, 5.46932279e-27],\n",
       "       [2.70351974e-04, 8.38924602e-31, 2.81253545e-28],\n",
       "       [5.34990485e-06, 5.90768840e-31, 8.10485363e-30],\n",
       "       [2.60333955e-05, 6.79115834e-31, 1.75987586e-28],\n",
       "       [1.30309696e-05, 1.23696122e-30, 3.83378046e-29],\n",
       "       [1.94218814e-05, 7.58056537e-31, 1.37104867e-29],\n",
       "       [5.45374998e-07, 1.36420025e-30, 9.69303856e-30],\n",
       "       [1.90136274e-05, 5.94944049e-31, 4.28099097e-29],\n",
       "       [1.29277937e-03, 4.66404133e-31, 2.31998773e-29],\n",
       "       [8.24775542e-05, 1.38412892e-30, 3.72950958e-28],\n",
       "       [6.35200142e-08, 1.92418009e-29, 1.59609396e-28],\n",
       "       [7.72444766e-06, 5.66203159e-30, 1.08354702e-27]])"
      ]
     },
     "execution_count": 224,
     "metadata": {},
     "output_type": "execute_result"
    }
   ],
   "source": [
    "output"
   ]
  },
  {
   "cell_type": "code",
   "execution_count": 225,
   "metadata": {},
   "outputs": [],
   "source": [
    "def binary_entropy(y,t) :\n",
    "    return np.mean(t*np.log(y) + (1-t) * np.log(1-y)) * -1"
   ]
  },
  {
   "cell_type": "code",
   "execution_count": 226,
   "metadata": {},
   "outputs": [],
   "source": [
    "def categorical_crossentropy(y,t):\n",
    "    return np.mean(-t*np.log(y))"
   ]
  },
  {
   "cell_type": "code",
   "execution_count": 227,
   "metadata": {},
   "outputs": [
    {
     "data": {
      "text/plain": [
       "15.21117625739861"
      ]
     },
     "execution_count": 227,
     "metadata": {},
     "output_type": "execute_result"
    }
   ],
   "source": [
    "categorical_crossentropy(output,y)"
   ]
  },
  {
   "cell_type": "code",
   "execution_count": null,
   "metadata": {},
   "outputs": [],
   "source": []
  },
  {
   "cell_type": "code",
   "execution_count": 191,
   "metadata": {},
   "outputs": [],
   "source": [
    "result = np.zeros((y.size,np.unique(y).size))"
   ]
  },
  {
   "cell_type": "code",
   "execution_count": 231,
   "metadata": {},
   "outputs": [],
   "source": [
    "def grad(f,x) :\n",
    "    h = 1e-4\n",
    "    x = float(x)\n",
    "    fxh = f(x+h)\n",
    "    fx = f(x)\n",
    "    return (fxh-fx)/h"
   ]
  },
  {
   "cell_type": "code",
   "execution_count": 232,
   "metadata": {},
   "outputs": [
    {
     "data": {
      "text/plain": [
       "6.000100000012054"
      ]
     },
     "execution_count": 232,
     "metadata": {},
     "output_type": "execute_result"
    }
   ],
   "source": [
    "f = lambda x : x**2\n",
    "grad(f, 3)"
   ]
  },
  {
   "cell_type": "code",
   "execution_count": 236,
   "metadata": {},
   "outputs": [],
   "source": [
    "x = np.array([2.,1.])"
   ]
  },
  {
   "cell_type": "code",
   "execution_count": 237,
   "metadata": {},
   "outputs": [],
   "source": [
    "def f(x) :\n",
    "    return x[0]**3 + x[1]**2"
   ]
  },
  {
   "cell_type": "code",
   "execution_count": 239,
   "metadata": {},
   "outputs": [
    {
     "data": {
      "text/plain": [
       "(12, 2)"
      ]
     },
     "execution_count": 239,
     "metadata": {},
     "output_type": "execute_result"
    }
   ],
   "source": [
    "(3*2**2, 2*1)"
   ]
  },
  {
   "cell_type": "code",
   "execution_count": 247,
   "metadata": {},
   "outputs": [],
   "source": [
    "x = np.array([2.,3.,2.,4.])"
   ]
  },
  {
   "cell_type": "code",
   "execution_count": 244,
   "metadata": {},
   "outputs": [
    {
     "data": {
      "text/plain": [
       "array([0., 0.])"
      ]
     },
     "execution_count": 244,
     "metadata": {},
     "output_type": "execute_result"
    }
   ],
   "source": [
    "np.zeros_like(x)"
   ]
  },
  {
   "cell_type": "code",
   "execution_count": 267,
   "metadata": {},
   "outputs": [],
   "source": [
    "def par_grad(f,x):\n",
    "    h = 1e-4\n",
    "    grad = np.zeros_like(x)\n",
    "    it = np.nditer(x,flags=[\"multi_index\"], op_flags=['readwrite'])\n",
    "    \n",
    "    while not it.finished:\n",
    "        idx = it.multi_index\n",
    "        tmp = x[idx]\n",
    "        x[idx] = tmp+h\n",
    "        fxh = f(x)\n",
    "        x[idx] = tmp\n",
    "        fx = f(x)\n",
    "        grad[idx] = (fxh - fx) / h\n",
    "        it.iternext()\n",
    "    return grad"
   ]
  },
  {
   "cell_type": "code",
   "execution_count": 270,
   "metadata": {},
   "outputs": [
    {
     "ename": "NameError",
     "evalue": "name 'f9' is not defined",
     "output_type": "error",
     "traceback": [
      "\u001b[1;31m---------------------------------------------------------------------------\u001b[0m",
      "\u001b[1;31mNameError\u001b[0m                                 Traceback (most recent call last)",
      "\u001b[1;32mc:\\Users\\admin\\STUDY\\딥러닝\\1day\\3day.ipynb 셀 51\u001b[0m in \u001b[0;36m<cell line: 1>\u001b[1;34m()\u001b[0m\n\u001b[1;32m----> <a href='vscode-notebook-cell:/c%3A/Users/admin/STUDY/%EB%94%A5%EB%9F%AC%EB%8B%9D/1day/3day.ipynb#Y110sZmlsZQ%3D%3D?line=0'>1</a>\u001b[0m par_grad(f9,x)\n",
      "\u001b[1;31mNameError\u001b[0m: name 'f9' is not defined"
     ]
    }
   ],
   "source": []
  },
  {
   "cell_type": "code",
   "execution_count": 265,
   "metadata": {},
   "outputs": [],
   "source": [
    "x = np.array([2.,1.])"
   ]
  },
  {
   "cell_type": "code",
   "execution_count": 266,
   "metadata": {},
   "outputs": [
    {
     "data": {
      "text/plain": [
       "array([2., 1.])"
      ]
     },
     "execution_count": 266,
     "metadata": {},
     "output_type": "execute_result"
    }
   ],
   "source": [
    "x"
   ]
  },
  {
   "cell_type": "code",
   "execution_count": 269,
   "metadata": {},
   "outputs": [
    {
     "data": {
      "text/plain": [
       "array([12.00060001,  2.0001    ])"
      ]
     },
     "execution_count": 269,
     "metadata": {},
     "output_type": "execute_result"
    }
   ],
   "source": [
    "\n",
    "par_grad(f,x)"
   ]
  },
  {
   "cell_type": "code",
   "execution_count": 264,
   "metadata": {},
   "outputs": [
    {
     "name": "stdout",
     "output_type": "stream",
     "text": [
      "0\n",
      "1\n",
      "2\n",
      "3\n",
      "4\n",
      "5\n",
      "6\n",
      "7\n",
      "8\n",
      "9\n",
      "10\n",
      "11\n",
      "12\n",
      "13\n",
      "14\n",
      "15\n",
      "16\n",
      "17\n",
      "18\n",
      "19\n"
     ]
    }
   ],
   "source": [
    "it = np.nditer(x, flags=['multi_index'], op_flags = ['readwrite'])\n",
    "while not it.finished : \n",
    "    idx = it.multi_index\n",
    "    print(x[idx])\n",
    "    it.iternext()"
   ]
  },
  {
   "cell_type": "code",
   "execution_count": 259,
   "metadata": {},
   "outputs": [
    {
     "data": {
      "text/plain": [
       "True"
      ]
     },
     "execution_count": 259,
     "metadata": {},
     "output_type": "execute_result"
    }
   ],
   "source": [
    "it.multi_index\n",
    "it.iternext()"
   ]
  },
  {
   "cell_type": "code",
   "execution_count": 260,
   "metadata": {},
   "outputs": [
    {
     "data": {
      "text/plain": [
       "(0, 2)"
      ]
     },
     "execution_count": 260,
     "metadata": {},
     "output_type": "execute_result"
    }
   ],
   "source": [
    "it.multi_index"
   ]
  },
  {
   "cell_type": "code",
   "execution_count": 261,
   "metadata": {},
   "outputs": [
    {
     "data": {
      "text/plain": [
       "False"
      ]
     },
     "execution_count": 261,
     "metadata": {},
     "output_type": "execute_result"
    }
   ],
   "source": [
    "it.finished"
   ]
  },
  {
   "cell_type": "code",
   "execution_count": null,
   "metadata": {},
   "outputs": [],
   "source": [
    "i = 0\n",
    "while i <10:\n",
    "    print(i)\n",
    "    i +="
   ]
  },
  {
   "cell_type": "code",
   "execution_count": null,
   "metadata": {},
   "outputs": [],
   "source": [
    "# 1. Network 설계\n",
    "# 2. "
   ]
  }
 ],
 "metadata": {
  "kernelspec": {
   "display_name": "Python 3.9.12 ('base')",
   "language": "python",
   "name": "python3"
  },
  "language_info": {
   "codemirror_mode": {
    "name": "ipython",
    "version": 3
   },
   "file_extension": ".py",
   "mimetype": "text/x-python",
   "name": "python",
   "nbconvert_exporter": "python",
   "pygments_lexer": "ipython3",
   "version": "3.9.12"
  },
  "orig_nbformat": 4,
  "vscode": {
   "interpreter": {
    "hash": "610a6f344c2137faf927ea819c63f6cee33a2c04455044b28099f39fe9722347"
   }
  }
 },
 "nbformat": 4,
 "nbformat_minor": 2
}
