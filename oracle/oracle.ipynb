{
 "cells": [
  {
   "cell_type": "code",
   "execution_count": 1,
   "metadata": {},
   "outputs": [],
   "source": [
    "import cx_Oracle\n",
    "import pandas as pd"
   ]
  },
  {
   "cell_type": "code",
   "execution_count": 17,
   "metadata": {},
   "outputs": [],
   "source": [
    "\n",
    "\n",
    "\n",
    "dsn = cx_Oracle.makedsn('localhost', 1521, service_name = 'orcl')\n",
    "\n",
    "conn = cx_Oracle.connect(user = 'busan06', password = 'dbdb', dsn = dsn, encoding = 'utf-8')\n",
    "\n",
    "cur = conn.cursor() \n",
    "sql= \"\"\"SELECT A.mem_id, A.mem_name, sum(nvl(B.cart_qty,0))as qtyCnt\n",
    "from member A left outer join cart B\n",
    "        on(A.mem_id = B.cart_member\n",
    "            and substr(B.cart_no, 0, 6) = '200504')\n",
    "group by A.mem_id, A.mem_name\n",
    "order by A.mem_id, A.mem_name\"\"\"\n",
    "\n",
    "cur.execute(sql)\n",
    "row = cur.fetchall()    \n",
    "coldes = colname = cur.description\n",
    "cur.close()\n",
    "conn.close()"
   ]
  },
  {
   "cell_type": "code",
   "execution_count": 20,
   "metadata": {},
   "outputs": [
    {
     "ename": "TypeError",
     "evalue": "Index(...) must be called with a collection of some kind, \"SELECT A.mem_id, A.mem_name, sum(nvl(B.cart_qty,0))as qtyCnt\\nfrom member A left outer join cart B\\n        on(A.mem_id = B.cart_member\\n            and substr(B.cart_no, 0, 6) = '200504')\\ngroup by A.mem_id, A.mem_name\\norder by A.mem_id, A.mem_name\" was passed",
     "output_type": "error",
     "traceback": [
      "\u001b[1;31m---------------------------------------------------------------------------\u001b[0m",
      "\u001b[1;31mTypeError\u001b[0m                                 Traceback (most recent call last)",
      "\u001b[1;32mc:\\STUDY\\StudyPython22\\new_jupyter\\oracle.ipynb Cell 3'\u001b[0m in \u001b[0;36m<cell line: 1>\u001b[1;34m()\u001b[0m\n\u001b[1;32m----> <a href='vscode-notebook-cell:/c%3A/STUDY/StudyPython22/new_jupyter/oracle.ipynb#ch0000002?line=0'>1</a>\u001b[0m df \u001b[39m=\u001b[39mpd\u001b[39m.\u001b[39;49mDataFrame(row, columns\u001b[39m=\u001b[39;49msql)\n",
      "File \u001b[1;32mc:\\Users\\admin\\anaconda3\\lib\\site-packages\\pandas\\core\\frame.py:720\u001b[0m, in \u001b[0;36mDataFrame.__init__\u001b[1;34m(self, data, index, columns, dtype, copy)\u001b[0m\n\u001b[0;32m    714\u001b[0m \u001b[39mif\u001b[39;00m \u001b[39mnot\u001b[39;00m \u001b[39misinstance\u001b[39m(data, np\u001b[39m.\u001b[39mndarray) \u001b[39mand\u001b[39;00m treat_as_nested(data):\n\u001b[0;32m    715\u001b[0m     \u001b[39m# exclude ndarray as we may have cast it a few lines above\u001b[39;00m\n\u001b[0;32m    716\u001b[0m     \u001b[39mif\u001b[39;00m columns \u001b[39mis\u001b[39;00m \u001b[39mnot\u001b[39;00m \u001b[39mNone\u001b[39;00m:\n\u001b[0;32m    717\u001b[0m         \u001b[39m# error: Argument 1 to \"ensure_index\" has incompatible type\u001b[39;00m\n\u001b[0;32m    718\u001b[0m         \u001b[39m# \"Collection[Any]\"; expected \"Union[Union[Union[ExtensionArray,\u001b[39;00m\n\u001b[0;32m    719\u001b[0m         \u001b[39m# ndarray], Index, Series], Sequence[Any]]\"\u001b[39;00m\n\u001b[1;32m--> 720\u001b[0m         columns \u001b[39m=\u001b[39m ensure_index(columns)  \u001b[39m# type: ignore[arg-type]\u001b[39;00m\n\u001b[0;32m    721\u001b[0m     arrays, columns, index \u001b[39m=\u001b[39m nested_data_to_arrays(\n\u001b[0;32m    722\u001b[0m         \u001b[39m# error: Argument 3 to \"nested_data_to_arrays\" has incompatible\u001b[39;00m\n\u001b[0;32m    723\u001b[0m         \u001b[39m# type \"Optional[Collection[Any]]\"; expected \"Optional[Index]\"\u001b[39;00m\n\u001b[1;32m   (...)\u001b[0m\n\u001b[0;32m    727\u001b[0m         dtype,\n\u001b[0;32m    728\u001b[0m     )\n\u001b[0;32m    729\u001b[0m     mgr \u001b[39m=\u001b[39m arrays_to_mgr(\n\u001b[0;32m    730\u001b[0m         arrays,\n\u001b[0;32m    731\u001b[0m         columns,\n\u001b[1;32m   (...)\u001b[0m\n\u001b[0;32m    734\u001b[0m         typ\u001b[39m=\u001b[39mmanager,\n\u001b[0;32m    735\u001b[0m     )\n",
      "File \u001b[1;32mc:\\Users\\admin\\anaconda3\\lib\\site-packages\\pandas\\core\\indexes\\base.py:7043\u001b[0m, in \u001b[0;36mensure_index\u001b[1;34m(index_like, copy)\u001b[0m\n\u001b[0;32m   7041\u001b[0m         \u001b[39mreturn\u001b[39;00m Index\u001b[39m.\u001b[39m_with_infer(index_like, copy\u001b[39m=\u001b[39mcopy, tupleize_cols\u001b[39m=\u001b[39m\u001b[39mFalse\u001b[39;00m)\n\u001b[0;32m   7042\u001b[0m \u001b[39melse\u001b[39;00m:\n\u001b[1;32m-> 7043\u001b[0m     \u001b[39mreturn\u001b[39;00m Index\u001b[39m.\u001b[39;49m_with_infer(index_like, copy\u001b[39m=\u001b[39;49mcopy)\n",
      "File \u001b[1;32mc:\\Users\\admin\\anaconda3\\lib\\site-packages\\pandas\\core\\indexes\\base.py:680\u001b[0m, in \u001b[0;36mIndex._with_infer\u001b[1;34m(cls, *args, **kwargs)\u001b[0m\n\u001b[0;32m    678\u001b[0m \u001b[39mwith\u001b[39;00m warnings\u001b[39m.\u001b[39mcatch_warnings():\n\u001b[0;32m    679\u001b[0m     warnings\u001b[39m.\u001b[39mfilterwarnings(\u001b[39m\"\u001b[39m\u001b[39mignore\u001b[39m\u001b[39m\"\u001b[39m, \u001b[39m\"\u001b[39m\u001b[39m.*the Index constructor\u001b[39m\u001b[39m\"\u001b[39m, \u001b[39mFutureWarning\u001b[39;00m)\n\u001b[1;32m--> 680\u001b[0m     result \u001b[39m=\u001b[39m \u001b[39mcls\u001b[39m(\u001b[39m*\u001b[39margs, \u001b[39m*\u001b[39m\u001b[39m*\u001b[39mkwargs)\n\u001b[0;32m    682\u001b[0m \u001b[39mif\u001b[39;00m result\u001b[39m.\u001b[39mdtype \u001b[39m==\u001b[39m _dtype_obj \u001b[39mand\u001b[39;00m \u001b[39mnot\u001b[39;00m result\u001b[39m.\u001b[39m_is_multi:\n\u001b[0;32m    683\u001b[0m     \u001b[39m# error: Argument 1 to \"maybe_convert_objects\" has incompatible type\u001b[39;00m\n\u001b[0;32m    684\u001b[0m     \u001b[39m# \"Union[ExtensionArray, ndarray[Any, Any]]\"; expected\u001b[39;00m\n\u001b[0;32m    685\u001b[0m     \u001b[39m# \"ndarray[Any, Any]\"\u001b[39;00m\n\u001b[0;32m    686\u001b[0m     values \u001b[39m=\u001b[39m lib\u001b[39m.\u001b[39mmaybe_convert_objects(result\u001b[39m.\u001b[39m_values)  \u001b[39m# type: ignore[arg-type]\u001b[39;00m\n",
      "File \u001b[1;32mc:\\Users\\admin\\anaconda3\\lib\\site-packages\\pandas\\core\\indexes\\base.py:508\u001b[0m, in \u001b[0;36mIndex.__new__\u001b[1;34m(cls, data, dtype, copy, name, tupleize_cols, **kwargs)\u001b[0m\n\u001b[0;32m    505\u001b[0m     \u001b[39mreturn\u001b[39;00m klass\u001b[39m.\u001b[39m_simple_new(arr, name)\n\u001b[0;32m    507\u001b[0m \u001b[39melif\u001b[39;00m is_scalar(data):\n\u001b[1;32m--> 508\u001b[0m     \u001b[39mraise\u001b[39;00m \u001b[39mcls\u001b[39m\u001b[39m.\u001b[39m_scalar_data_error(data)\n\u001b[0;32m    509\u001b[0m \u001b[39melif\u001b[39;00m \u001b[39mhasattr\u001b[39m(data, \u001b[39m\"\u001b[39m\u001b[39m__array__\u001b[39m\u001b[39m\"\u001b[39m):\n\u001b[0;32m    510\u001b[0m     \u001b[39mreturn\u001b[39;00m Index(np\u001b[39m.\u001b[39masarray(data), dtype\u001b[39m=\u001b[39mdtype, copy\u001b[39m=\u001b[39mcopy, name\u001b[39m=\u001b[39mname, \u001b[39m*\u001b[39m\u001b[39m*\u001b[39mkwargs)\n",
      "\u001b[1;31mTypeError\u001b[0m: Index(...) must be called with a collection of some kind, \"SELECT A.mem_id, A.mem_name, sum(nvl(B.cart_qty,0))as qtyCnt\\nfrom member A left outer join cart B\\n        on(A.mem_id = B.cart_member\\n            and substr(B.cart_no, 0, 6) = '200504')\\ngroup by A.mem_id, A.mem_name\\norder by A.mem_id, A.mem_name\" was passed"
     ]
    }
   ],
   "source": [
    "df =pd.DataFrame(row, columns=col)"
   ]
  },
  {
   "cell_type": "markdown",
   "metadata": {},
   "source": [
    "##  위에껄 함수로 만들어보기"
   ]
  },
  {
   "cell_type": "code",
   "execution_count": null,
   "metadata": {},
   "outputs": [],
   "source": []
  },
  {
   "cell_type": "code",
   "execution_count": 23,
   "metadata": {},
   "outputs": [],
   "source": [
    "\n",
    "def setDsn():\n",
    "    return cx_Oracle.makedsn('localhost', 1521, service_name = 'orcl')\n",
    "  \n",
    "\n",
    "def setConn(dsn):\n",
    "    return cx_Oracle.connect(user = 'busan06', password = 'dbdb', dsn = dsn, encoding = 'utf-8')\n",
    "    \n",
    "def setCursor(conn):\n",
    "    return conn.cursor() \n",
    "\n",
    "    \n",
    "\n",
    "def initracle():\n",
    "    cursor.close()\n",
    "    conn.close()\n",
    "\n",
    "def getFetchAll():\n",
    "    cursor.excute(sql)\n",
    "    return cursor.fetchall()\n",
    "\n",
    "def getColumn():\n",
    "    colname = cursor.description\n",
    "\n",
    "    col = []\n",
    "    for i in cursor.descriptions:\n",
    "        col.append(i[0])\n",
    "    \n",
    "    return col\n",
    "\n",
    "def getDataFrame():\n",
    "    return pd.DataFrame(row,columns =col)\n",
    "\n",
    "def getMemAllGroup(sql):\n",
    "    dsn = setDsn()\n",
    "    conn = setConn(dsn)\n",
    "    cursor = setCursor(conn)\n",
    "    row = getFetchAll(sql,cursor)\n",
    "    col = getColumn(cursor, conn)\n",
    "    closeOracle(cursor,conn)\n",
    "    return getDataFrame(row,col)"
   ]
  },
  {
   "cell_type": "code",
   "execution_count": 24,
   "metadata": {},
   "outputs": [],
   "source": []
  },
  {
   "cell_type": "code",
   "execution_count": 25,
   "metadata": {},
   "outputs": [
    {
     "data": {
      "text/plain": [
       "\"SELECT A.mem_id, A.mem_name, sum(nvl(B.cart_qty,0))as qtyCnt\\nfrom member A left outer join cart B\\n        on(A.mem_id = B.cart_member\\n            and substr(B.cart_no, 0, 6) = '200504')\\ngroup by A.mem_id, A.mem_name\\norder by A.mem_id, A.mem_name\""
      ]
     },
     "execution_count": 25,
     "metadata": {},
     "output_type": "execute_result"
    }
   ],
   "source": [
    "sql= \"\"\"SELECT A.mem_id, A.mem_name, sum(nvl(B.cart_qty,0))as qtyCnt\n",
    "from member A left outer join cart B\n",
    "        on(A.mem_id = B.cart_member\n",
    "            and substr(B.cart_no, 0, 6) = '200504')\n",
    "group by A.mem_id, A.mem_name\n",
    "order by A.mem_id, A.mem_name\"\"\"\n",
    "sql\n"
   ]
  },
  {
   "cell_type": "code",
   "execution_count": 26,
   "metadata": {},
   "outputs": [],
   "source": [
    "def getFetchAll():\n",
    "    cursor.excute(sql)\n",
    "    return cursor.fetchall()\n",
    "    "
   ]
  },
  {
   "cell_type": "code",
   "execution_count": 27,
   "metadata": {},
   "outputs": [
    {
     "ename": "TypeError",
     "evalue": "getFetchAll() takes 0 positional arguments but 2 were given",
     "output_type": "error",
     "traceback": [
      "\u001b[1;31m---------------------------------------------------------------------------\u001b[0m",
      "\u001b[1;31mTypeError\u001b[0m                                 Traceback (most recent call last)",
      "\u001b[1;32mc:\\STUDY\\StudyPython22\\new_jupyter\\oracle.ipynb Cell 10'\u001b[0m in \u001b[0;36m<cell line: 1>\u001b[1;34m()\u001b[0m\n\u001b[1;32m----> <a href='vscode-notebook-cell:/c%3A/STUDY/StudyPython22/new_jupyter/oracle.ipynb#ch0000006?line=0'>1</a>\u001b[0m row \u001b[39m=\u001b[39m getFetchAll(sql,cursor)\n\u001b[0;32m      <a href='vscode-notebook-cell:/c%3A/STUDY/StudyPython22/new_jupyter/oracle.ipynb#ch0000006?line=1'>2</a>\u001b[0m row\n",
      "\u001b[1;31mTypeError\u001b[0m: getFetchAll() takes 0 positional arguments but 2 were given"
     ]
    }
   ],
   "source": [
    "def getMemAllGroup(sql):\n",
    "    dsn = setDsn()\n",
    "    conn = setConn(dsn)\n",
    "    cursor = setCursor(conn)\n",
    "    row = getFetchAll(sql,cursor)\n",
    "    col = getColumn(cursor, conn)\n",
    "    closeOracle(cursor,conn)\n",
    "    return getDataFrame(row,col)\n",
    "\n",
    "    "
   ]
  },
  {
   "cell_type": "code",
   "execution_count": null,
   "metadata": {},
   "outputs": [],
   "source": [
    "colname = cursor.description"
   ]
  },
  {
   "cell_type": "code",
   "execution_count": 28,
   "metadata": {},
   "outputs": [],
   "source": [
    "def getColumn():\n",
    "    colname = cursor.description\n",
    "\n",
    "    col1 = []\n",
    "    for i in coldes:\n",
    "        col1.append(coldes[0])\n",
    "    \n",
    "    return col1"
   ]
  },
  {
   "cell_type": "code",
   "execution_count": null,
   "metadata": {},
   "outputs": [],
   "source": [
    "def getDataFrame():\n",
    "    return pd.DataFrame(row,col1)"
   ]
  }
 ],
 "metadata": {
  "kernelspec": {
   "display_name": "Python 3.9.12 ('base')",
   "language": "python",
   "name": "python3"
  },
  "language_info": {
   "codemirror_mode": {
    "name": "ipython",
    "version": 3
   },
   "file_extension": ".py",
   "mimetype": "text/x-python",
   "name": "python",
   "nbconvert_exporter": "python",
   "pygments_lexer": "ipython3",
   "version": "3.9.12"
  },
  "orig_nbformat": 4,
  "vscode": {
   "interpreter": {
    "hash": "610a6f344c2137faf927ea819c63f6cee33a2c04455044b28099f39fe9722347"
   }
  }
 },
 "nbformat": 4,
 "nbformat_minor": 2
}
