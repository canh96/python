{
 "cells": [
  {
   "cell_type": "code",
   "execution_count": 5,
   "metadata": {},
   "outputs": [],
   "source": [
    "\n",
    "import numpy as np\n",
    "import pandas as pd\n",
    "import matplotlib.pyplot as plt\n",
    "from sklearn.neighbors import KNeighborsClassifier\n",
    "from sklearn.model_selection import train_test_split"
   ]
  },
  {
   "cell_type": "code",
   "execution_count": 6,
   "metadata": {},
   "outputs": [],
   "source": [
    "perch_length= np.array(\n",
    "    [8.4, 13.7, 15.0, 16.2, 17.4, 18.0, 18.7, 19.0, 19.6, 20.0, \n",
    "     21.0, 21.0, 21.0, 21.3, 22.0, 22.0, 22.0, 22.0, 22.0, 22.5, \n",
    "     22.5, 22.7, 23.0, 23.5, 24.0, 24.0, 24.6, 25.0, 25.6, 26.5, \n",
    "     27.3, 27.5, 27.5, 27.5, 28.0, 28.7, 30.0, 32.8, 34.5, 35.0, \n",
    "     36.5, 36.0, 37.0, 37.0, 39.0, 39.0, 39.0, 40.0, 40.0, 40.0, \n",
    "     40.0, 42.0, 43.0, 43.0, 43.5, 44.0]\n",
    "     )\n",
    "perch_weight= np.array(\n",
    "    [5.9, 32.0, 40.0, 51.5, 70.0, 100.0, 78.0, 80.0, 85.0, 85.0, \n",
    "     110.0, 115.0, 125.0, 130.0, 120.0, 120.0, 130.0, 135.0, 110.0, \n",
    "     130.0, 150.0, 145.0, 150.0, 170.0, 225.0, 145.0, 188.0, 180.0, \n",
    "     197.0, 218.0, 300.0, 260.0, 265.0, 250.0, 250.0, 300.0, 320.0, \n",
    "     514.0, 556.0, 840.0, 685.0, 700.0, 700.0, 690.0, 900.0, 650.0, \n",
    "     820.0, 850.0, 900.0, 1015.0, 820.0, 1100.0, 1000.0, 1100.0, \n",
    "     1000.0, 1000.0])"
   ]
  },
  {
   "cell_type": "code",
   "execution_count": 7,
   "metadata": {},
   "outputs": [],
   "source": [
    "train_input,test_input, train_target,test_target = train_test_split(perch_length, perch_weight, random_state=42)"
   ]
  },
  {
   "cell_type": "code",
   "execution_count": 10,
   "metadata": {},
   "outputs": [],
   "source": [
    "train_input = train_input.reshape(-1,1)\n",
    "test_input = test_input.reshape(-1,1)"
   ]
  },
  {
   "cell_type": "code",
   "execution_count": 11,
   "metadata": {},
   "outputs": [],
   "source": [
    "from sklearn.neighbors import KNeighborsRegressor\n",
    "\n",
    "\n",
    "knr = KNeighborsRegressor(n_neighbors=3)\n",
    "# knr.n_neighbors=5"
   ]
  },
  {
   "cell_type": "code",
   "execution_count": 12,
   "metadata": {},
   "outputs": [
    {
     "data": {
      "text/plain": [
       "KNeighborsRegressor(n_neighbors=3)"
      ]
     },
     "execution_count": 12,
     "metadata": {},
     "output_type": "execute_result"
    }
   ],
   "source": [
    "knr.fit(train_input, train_target)\n"
   ]
  },
  {
   "cell_type": "code",
   "execution_count": 13,
   "metadata": {},
   "outputs": [
    {
     "name": "stdout",
     "output_type": "stream",
     "text": [
      "0.9804899950518966\n"
     ]
    }
   ],
   "source": [
    "print(knr.score(train_input, train_target))"
   ]
  },
  {
   "cell_type": "code",
   "execution_count": 14,
   "metadata": {},
   "outputs": [
    {
     "name": "stdout",
     "output_type": "stream",
     "text": [
      "0.9746459963987609\n"
     ]
    }
   ],
   "source": [
    "print(knr.score(test_input, test_target))"
   ]
  },
  {
   "cell_type": "code",
   "execution_count": 15,
   "metadata": {},
   "outputs": [
    {
     "data": {
      "text/plain": [
       "array([1033.33333333])"
      ]
     },
     "execution_count": 15,
     "metadata": {},
     "output_type": "execute_result"
    }
   ],
   "source": [
    "knr.predict([[100]])"
   ]
  },
  {
   "cell_type": "code",
   "execution_count": 16,
   "metadata": {},
   "outputs": [
    {
     "data": {
      "text/plain": [
       "array([[34,  8, 14]], dtype=int64)"
      ]
     },
     "execution_count": 16,
     "metadata": {},
     "output_type": "execute_result"
    }
   ],
   "source": [
    "distances,indexes = knr.kneighbors([[100]])\n",
    "indexes"
   ]
  },
  {
   "cell_type": "code",
   "execution_count": 17,
   "metadata": {},
   "outputs": [
    {
     "data": {
      "image/png": "[encoded data removed]",
      "text/plain": [
       "<Figure size 432x288 with 1 Axes>"
      ]
     },
     "metadata": {
      "needs_background": "light"
     },
     "output_type": "display_data"
    }
   ],
   "source": [
    "plt.scatter(train_input,train_target)\n",
    "plt.scatter(train_input[indexes],train_target[indexes],marker='D')\n",
    "plt.scatter(100,1033,c='red')\n",
    "plt.xlabel('length')\n",
    "plt.ylabel('weight')\n",
    "\n",
    "plt.show()"
   ]
  },
  {
   "cell_type": "markdown",
   "metadata": {},
   "source": [
    "### 선형회귀(Linear Regression)\n",
    "###### - 많이 사용되는 대표적인 회귀 알고리즘\n",
    "###### - 비교적 간단하고, 성능이 뛰어나기 떄문에 회귀모델 수행시 초반에 주로 진행합니다.\n",
    "###### - 선형회귀의 역할 : 하나의 특성을 가장 잘 나타내는 직선을 찾아내는 것이 주 역할\n",
    "###### -직선을 '추세선' 이라고 합니다.\n",
    "###### -선형회귀 알고리즘 : 1차 방정식(y=ax+b)\n",
    "###### - 선형회귀 클래스(모델) : LinearRegresin\n",
    "###### - 사용되는 패키지 : sklearn.linear_model"
   ]
  },
  {
   "cell_type": "code",
   "execution_count": 18,
   "metadata": {},
   "outputs": [],
   "source": [
    "### 선형회귀 클래스(모델) 생성하기\n",
    "from sklearn.linear_model import LinearRegression\n",
    "lr = LinearRegression()"
   ]
  },
  {
   "cell_type": "code",
   "execution_count": 19,
   "metadata": {},
   "outputs": [],
   "source": [
    "### 사용 데이터 : train_input, train_target, test_input, test_target\n",
    "### 예측 데이터 : 길이 50cm\n",
    "\n",
    "# lr 모델 훈련 > 예측데이터 예측하기..\n"
   ]
  },
  {
   "cell_type": "code",
   "execution_count": 23,
   "metadata": {},
   "outputs": [
    {
     "data": {
      "text/plain": [
       "LinearRegression()"
      ]
     },
     "execution_count": 23,
     "metadata": {},
     "output_type": "execute_result"
    }
   ],
   "source": [
    "lr.fit(train_input, train_target)"
   ]
  },
  {
   "cell_type": "code",
   "execution_count": 27,
   "metadata": {},
   "outputs": [
    {
     "data": {
      "text/plain": [
       "array([1241.83860323])"
      ]
     },
     "execution_count": 27,
     "metadata": {},
     "output_type": "execute_result"
    }
   ],
   "source": [
    "lr.predict([[50]])"
   ]
  },
  {
   "cell_type": "code",
   "execution_count": 29,
   "metadata": {},
   "outputs": [
    {
     "name": "stdout",
     "output_type": "stream",
     "text": [
      "[39.01714496] -709.0186449535477\n"
     ]
    }
   ],
   "source": [
    "### 일차 방정식의 기울기와 y절편값 확인하기\n",
    "#일차 방정식 : y =ax+b\n",
    "#a : 기울기(coef_)\n",
    "#b : y절편(intercept)\n",
    "print(lr.coef_, lr.intercept_)"
   ]
  },
  {
   "cell_type": "code",
   "execution_count": 34,
   "metadata": {},
   "outputs": [
    {
     "data": {
      "image/png": "[encoded data removed]",
      "text/plain": [
       "<Figure size 432x288 with 1 Axes>"
      ]
     },
     "metadata": {
      "needs_background": "light"
     },
     "output_type": "display_data"
    }
   ],
   "source": [
    "### 추세선을 이용하여 예측데이 예측가능한지 확인하기\n",
    "#- 예측데이터로 사용할 수 있을지 확인\n",
    "#- 산점도를 이용해서 확인하기\n",
    "# - 훈련데이터, 예측데이터 산점도로 그리기,\n",
    "\n",
    "plt.scatter(train_input,train_target)\n",
    "plt.scatter(50,1241,c='red',marker='^')\n",
    "\n",
    "#추세선 그리기\n",
    "# 추세선 : 선형회귀 알고리즘 (1차 방정식)이 훈련데이터에서 찾은 최적의 직선을 의미함\n",
    "plt.plot([15,50],[lr.coef_ *15 + lr.intercept_, lr.coef_* 50 + lr.intercept_])    \n",
    "    \n",
    "plt.show()"
   ]
  },
  {
   "cell_type": "code",
   "execution_count": 35,
   "metadata": {},
   "outputs": [
    {
     "name": "stdout",
     "output_type": "stream",
     "text": [
      "0.939846333997604\n",
      "0.8247503123313558\n"
     ]
    }
   ],
   "source": [
    "###훈련데이터와 테스트데이터의 과적합여부 확인하기.\n",
    "# - knn은 과소적합이 나왔었습니다.\n",
    "# - lr모델은 개선이 되었는지 확인\n",
    "print(lr.score(train_input,train_target))\n",
    "print(lr.score(test_input,test_target)) \n",
    "\n",
    "## (해석)\n",
    "# - 테스트 결과가 다소 낮게 나왔으며, 훈련데이터는 높은편,\n",
    "# - 다소 차이는 있으나 우수한 모델로 평가는 할 수 있음\n",
    "# - 단, 훈련데이터와 테스트데이터의 결정계수의 차이는\n",
    "#    의심을 해봐야 합니다.\n",
    "\n",
    "### 그래프 왼쪽 하단의 산점도 분포가 조금 특이합니다.\n",
    "# - 약간의 round(곡선)을 띄고 있습니다.\n",
    "# - 추세선의 왼쪽 하단으로 직선을 연장 했을 때,\n",
    "# y 축 0이하로 넘어갑니다. 무게는 0보다 작을 수 없습니다.\n",
    "# 음수를 예측하면 잘 못된 모델 입니다."
   ]
  },
  {
   "cell_type": "code",
   "execution_count": 53,
   "metadata": {},
   "outputs": [
    {
     "data": {
      "image/png": "[encoded data removed]",
      "text/plain": [
       "<Figure size 432x288 with 1 Axes>"
      ]
     },
     "metadata": {
      "needs_background": "light"
     },
     "output_type": "display_data"
    }
   ],
   "source": [
    "plt.scatter(train_input,train_target)\n",
    "plt.scatter(50,1241,c='red',marker='^')\n",
    "\n",
    "#추세선 그리기\n",
    "# 추세선 : 선형회귀 알고리즘 (1차 방정식)이 훈련데이터에서 찾은 최적의 직선을 의미함\n",
    "plt.plot([0,50],[lr.coef_ *0 + lr.intercept_, lr.coef_* 50 + lr.intercept_])    \n",
    "    \n",
    "plt.show()"
   ]
  },
  {
   "cell_type": "markdown",
   "metadata": {},
   "source": [
    "## 다항회귀분석\n",
    "##### - 다항식을 사용한 선형회귀를 '다항회귀'라고도 합니다.\n",
    "##### - 다항식(이차방정식): y = ax^2 +bx +c\n",
    "##### - a와 b : 계수라고 칭합니다.(기울기 포함)\n",
    "##### - c : y 절편"
   ]
  },
  {
   "cell_type": "code",
   "execution_count": 49,
   "metadata": {},
   "outputs": [
    {
     "data": {
      "text/plain": [
       "(42, 2)"
      ]
     },
     "execution_count": 49,
     "metadata": {},
     "output_type": "execute_result"
    }
   ],
   "source": [
    "### 훈련데이터 train_input을 [[제곱된값 1개, 원래값 1개], [], []]\n",
    "### 변수 : train_poly\n",
    "train_poly = np.column_stack((train_input**2,train_input))\n",
    "train_poly.shape"
   ]
  },
  {
   "cell_type": "code",
   "execution_count": 51,
   "metadata": {},
   "outputs": [
    {
     "data": {
      "text/plain": [
       "(14, 2)"
      ]
     },
     "execution_count": 51,
     "metadata": {},
     "output_type": "execute_result"
    }
   ],
   "source": [
    "test_poly = np.column_stack((test_input**2,test_input))\n",
    "test_poly.shape"
   ]
  },
  {
   "cell_type": "code",
   "execution_count": 64,
   "metadata": {},
   "outputs": [
    {
     "name": "stdout",
     "output_type": "stream",
     "text": [
      "[1573.98423528]\n",
      "[  1.01433211 -21.55792498] 116.05021078278259\n"
     ]
    },
    {
     "data": {
      "image/png": "[encoded data removed]",
      "text/plain": [
       "<Figure size 432x288 with 1 Axes>"
      ]
     },
     "metadata": {
      "needs_background": "light"
     },
     "output_type": "display_data"
    }
   ],
   "source": [
    "# - 객체(모델) 생성\n",
    "lr=LinearRegression()\n",
    "# 훈련모델 생성\n",
    "lr.fit(train_poly,train_target)\n",
    "# - 예측데이터 : 길이 50으로 무게 예측\n",
    "print(lr.predict([[50**2,50]]))\n",
    "# - 계수 확인(coef_, intercept_)\n",
    "print(lr.coef_,lr.intercept_)\n",
    "# - 산점도 그리기 : 훈련데이터, 예측데이터, 추세선\n",
    "plt.scatter(train_input,train_target)\n",
    "plt.scatter([50],[1573.98],c='red',marker='^')\n",
    "\n",
    "#추세선 그리기\n",
    "point = np.arange(15,51)\n",
    "plt.plot(point,1.01*point**2 - 21.6*point +116.05)\n",
    "\n",
    "   \n",
    "    \n",
    "plt.show()"
   ]
  },
  {
   "cell_type": "code",
   "execution_count": 55,
   "metadata": {},
   "outputs": [
    {
     "data": {
      "text/plain": [
       "array([15, 16, 17, 18, 19, 20, 21, 22, 23, 24, 25, 26, 27, 28, 29, 30, 31,\n",
       "       32, 33, 34, 35, 36, 37, 38, 39, 40, 41, 42, 43, 44, 45, 46, 47, 48,\n",
       "       49, 50])"
      ]
     },
     "execution_count": 55,
     "metadata": {},
     "output_type": "execute_result"
    }
   ],
   "source": [
    "np.arange(15,51)"
   ]
  },
  {
   "cell_type": "code",
   "execution_count": 67,
   "metadata": {},
   "outputs": [
    {
     "name": "stdout",
     "output_type": "stream",
     "text": [
      "훈련 = 0.9706807451768623\n",
      "테스트 = 0.9775935108325121\n"
     ]
    }
   ],
   "source": [
    "### 과적합 확인하기..(과대/과소)\n",
    "print('훈련 =',lr.score(train_poly,train_target))\n",
    "print('테스트 =',lr.score(test_poly,test_target))\n",
    "#테스트가 훈련보다 높은 수치가 나오면 사용할 수 없음(훈련데이터가 높아야한다)"
   ]
  },
  {
   "cell_type": "code",
   "execution_count": null,
   "metadata": {},
   "outputs": [],
   "source": [
    "### (해석)\n",
    "# 전체적으로 정확도는 낮아짐\n",
    "# 그렇지만, 훈련/테스트의 결정계수는 유사하게 가까워졌기에,\n",
    "# 우수한 모델이라고 할 수 있습니다.\n",
    "\n",
    "#다만, 아직 훈련이 테스트보다 낮은 과소적합을 보입니다.\n",
    "\n",
    "### 그럼 어떻게?\n",
    "# -복잡도를 줄 수 있는 모델을 찾아야 합니다.(과소적합을 해결하려면)\n"
   ]
  }
 ],
 "metadata": {
  "kernelspec": {
   "display_name": "ml_kernel",
   "language": "python",
   "name": "django"
  },
  "language_info": {
   "codemirror_mode": {
    "name": "ipython",
    "version": 3
   },
   "file_extension": ".py",
   "mimetype": "text/x-python",
   "name": "python",
   "nbconvert_exporter": "python",
   "pygments_lexer": "ipython3",
   "version": "3.9.12"
  },
  "orig_nbformat": 4
 },
 "nbformat": 4,
 "nbformat_minor": 2
}
