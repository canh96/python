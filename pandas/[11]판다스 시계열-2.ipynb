{
 "cells": [
  {
   "cell_type": "markdown",
   "metadata": {},
   "source": [
    "### 시계열 데이터"
   ]
  },
  {
   "cell_type": "code",
   "execution_count": 1,
   "metadata": {},
   "outputs": [],
   "source": [
    "from datetime import datetime"
   ]
  },
  {
   "cell_type": "code",
   "execution_count": 10,
   "metadata": {},
   "outputs": [
    {
     "name": "stdout",
     "output_type": "stream",
     "text": [
      "2022-06-03 09:48:59.756943\n"
     ]
    }
   ],
   "source": [
    "now1 = datetime.now()\n",
    "print(now1)\n"
   ]
  },
  {
   "cell_type": "code",
   "execution_count": 11,
   "metadata": {},
   "outputs": [
    {
     "name": "stdout",
     "output_type": "stream",
     "text": [
      "2022-06-03 09:49:45.825376\n"
     ]
    }
   ],
   "source": [
    "now2 = datetime.today()\n",
    "print(now2)"
   ]
  },
  {
   "cell_type": "code",
   "execution_count": null,
   "metadata": {},
   "outputs": [],
   "source": [
    "t1 = datetime.now()\n",
    "t2 = datetime(1970,1,1)\n",
    "t3 = datetime(1970.12.12.13.24.34)\n",
    "print(t1)\n",
    "print(t2)\n",
    "print(t3)"
   ]
  },
  {
   "cell_type": "code",
   "execution_count": null,
   "metadata": {},
   "outputs": [],
   "source": [
    "diff1 = t1 - t2\n",
    "print(diff1)"
   ]
  },
  {
   "cell_type": "code",
   "execution_count": 1,
   "metadata": {},
   "outputs": [
    {
     "name": "stdout",
     "output_type": "stream",
     "text": [
      "<class 'pandas.core.frame.DataFrame'>\n",
      "RangeIndex: 122 entries, 0 to 121\n",
      "Data columns (total 18 columns):\n",
      " #   Column               Non-Null Count  Dtype  \n",
      "---  ------               --------------  -----  \n",
      " 0   Date                 122 non-null    object \n",
      " 1   Day                  122 non-null    int64  \n",
      " 2   Cases_Guinea         93 non-null     float64\n",
      " 3   Cases_Liberia        83 non-null     float64\n",
      " 4   Cases_SierraLeone    87 non-null     float64\n",
      " 5   Cases_Nigeria        38 non-null     float64\n",
      " 6   Cases_Senegal        25 non-null     float64\n",
      " 7   Cases_UnitedStates   18 non-null     float64\n",
      " 8   Cases_Spain          16 non-null     float64\n",
      " 9   Cases_Mali           12 non-null     float64\n",
      " 10  Deaths_Guinea        92 non-null     float64\n",
      " 11  Deaths_Liberia       81 non-null     float64\n",
      " 12  Deaths_SierraLeone   87 non-null     float64\n",
      " 13  Deaths_Nigeria       38 non-null     float64\n",
      " 14  Deaths_Senegal       22 non-null     float64\n",
      " 15  Deaths_UnitedStates  18 non-null     float64\n",
      " 16  Deaths_Spain         16 non-null     float64\n",
      " 17  Deaths_Mali          12 non-null     float64\n",
      "dtypes: float64(16), int64(1), object(1)\n",
      "memory usage: 17.3+ KB\n",
      "None\n",
      "       Date  Day  Cases_Guinea  Cases_Liberia  Cases_SierraLeone  \\\n",
      "0  1/5/2015  289        2776.0            NaN            10030.0   \n",
      "1  1/4/2015  288        2775.0            NaN             9780.0   \n",
      "\n",
      "   Cases_Nigeria  Cases_Senegal  Cases_UnitedStates  Cases_Spain  Cases_Mali  \\\n",
      "0            NaN            NaN                 NaN          NaN         NaN   \n",
      "1            NaN            NaN                 NaN          NaN         NaN   \n",
      "\n",
      "   Deaths_Guinea  Deaths_Liberia  Deaths_SierraLeone  Deaths_Nigeria  \\\n",
      "0         1786.0             NaN              2977.0             NaN   \n",
      "1         1781.0             NaN              2943.0             NaN   \n",
      "\n",
      "   Deaths_Senegal  Deaths_UnitedStates  Deaths_Spain  Deaths_Mali  \n",
      "0             NaN                  NaN           NaN          NaN  \n",
      "1             NaN                  NaN           NaN          NaN  \n"
     ]
    }
   ],
   "source": [
    "import pandas as pd\n",
    "ebola = pd.read_csv('./country_timeseries.csv')\n",
    "print(ebola.info())\n",
    "print(ebola.head(2))"
   ]
  },
  {
   "cell_type": "code",
   "execution_count": null,
   "metadata": {},
   "outputs": [],
   "source": [
    "ebola['date_dt'] = pd.to_datetime(ebola['Date'])\n",
    "print(ebola.info())\n",
    "print(ebola.head(2))"
   ]
  },
  {
   "cell_type": "code",
   "execution_count": 5,
   "metadata": {},
   "outputs": [
    {
     "name": "stdout",
     "output_type": "stream",
     "text": [
      "  order_day   date_df1   date_df2   date_df3\n",
      "0  01/01/15 2015-01-01 2015-01-01 2015-01-01\n",
      "1  02/01/15 2015-01-02 2015-01-02 2015-01-02\n",
      "2  03/01/15 2015-01-03 2015-01-03 2015-01-03\n"
     ]
    }
   ],
   "source": [
    "test_df1 = pd.DataFrame({'order_day':['01/01/15','02/01/15','03/01/15']})\n",
    "\n",
    "test_df1['date_df1'] = pd.to_datetime(test_df1['order_day'], format ='%d/%m/%y')\n",
    "test_df1['date_df2'] = pd.to_datetime(test_df1['order_day'], format ='%d/%m/%y')\n",
    "test_df1['date_df3'] = pd.to_datetime(test_df1['order_day'], format ='%d/%m/%y')\n",
    "print(test_df1)"
   ]
  },
  {
   "cell_type": "code",
   "execution_count": null,
   "metadata": {},
   "outputs": [],
   "source": [
    "now = datetime.now()\n",
    "nowDate = now.strftime('%Y-%m-%d')\n",
    "nowTime = now.strftime('%H:%M:%S')\n",
    "nowWeek= now.strftime('%W요일')\n",
    "\n",
    "print(now)\n",
    "print(nowDate)\n",
    "print(nowTime)\n",
    "print(nowWeek)"
   ]
  },
  {
   "cell_type": "code",
   "execution_count": 7,
   "metadata": {},
   "outputs": [
    {
     "name": "stdout",
     "output_type": "stream",
     "text": [
      "<class 'pandas.core.frame.DataFrame'>\n",
      "RangeIndex: 122 entries, 0 to 121\n",
      "Data columns (total 18 columns):\n",
      " #   Column               Non-Null Count  Dtype         \n",
      "---  ------               --------------  -----         \n",
      " 0   Date                 122 non-null    datetime64[ns]\n",
      " 1   Day                  122 non-null    int64         \n",
      " 2   Cases_Guinea         93 non-null     float64       \n",
      " 3   Cases_Liberia        83 non-null     float64       \n",
      " 4   Cases_SierraLeone    87 non-null     float64       \n",
      " 5   Cases_Nigeria        38 non-null     float64       \n",
      " 6   Cases_Senegal        25 non-null     float64       \n",
      " 7   Cases_UnitedStates   18 non-null     float64       \n",
      " 8   Cases_Spain          16 non-null     float64       \n",
      " 9   Cases_Mali           12 non-null     float64       \n",
      " 10  Deaths_Guinea        92 non-null     float64       \n",
      " 11  Deaths_Liberia       81 non-null     float64       \n",
      " 12  Deaths_SierraLeone   87 non-null     float64       \n",
      " 13  Deaths_Nigeria       38 non-null     float64       \n",
      " 14  Deaths_Senegal       22 non-null     float64       \n",
      " 15  Deaths_UnitedStates  18 non-null     float64       \n",
      " 16  Deaths_Spain         16 non-null     float64       \n",
      " 17  Deaths_Mali          12 non-null     float64       \n",
      "dtypes: datetime64[ns](1), float64(16), int64(1)\n",
      "memory usage: 17.3 KB\n"
     ]
    }
   ],
   "source": [
    "ebola1 = pd.read_csv('./country_timeseries.csv', parse_dates = ['Date'])\n",
    "ebola1.info()"
   ]
  },
  {
   "cell_type": "code",
   "execution_count": 8,
   "metadata": {},
   "outputs": [
    {
     "name": "stdout",
     "output_type": "stream",
     "text": [
      "2015\n",
      "1\n",
      "5\n"
     ]
    }
   ],
   "source": [
    "print(ebola1['Date'][0].year)\n",
    "print(ebola1['Date'][0].month)\n",
    "print(ebola1['Date'][0].day)"
   ]
  },
  {
   "cell_type": "code",
   "execution_count": 10,
   "metadata": {},
   "outputs": [
    {
     "data": {
      "text/html": [
       "<div>\n",
       "<style scoped>\n",
       "    .dataframe tbody tr th:only-of-type {\n",
       "        vertical-align: middle;\n",
       "    }\n",
       "\n",
       "    .dataframe tbody tr th {\n",
       "        vertical-align: top;\n",
       "    }\n",
       "\n",
       "    .dataframe thead th {\n",
       "        text-align: right;\n",
       "    }\n",
       "</style>\n",
       "<table border=\"1\" class=\"dataframe\">\n",
       "  <thead>\n",
       "    <tr style=\"text-align: right;\">\n",
       "      <th></th>\n",
       "      <th>Date</th>\n",
       "      <th>date_dt</th>\n",
       "      <th>year</th>\n",
       "      <th>month</th>\n",
       "      <th>day</th>\n",
       "    </tr>\n",
       "  </thead>\n",
       "  <tbody>\n",
       "    <tr>\n",
       "      <th>0</th>\n",
       "      <td>1/5/2015</td>\n",
       "      <td>2015-01-05</td>\n",
       "      <td>2015</td>\n",
       "      <td>2015</td>\n",
       "      <td>2015</td>\n",
       "    </tr>\n",
       "    <tr>\n",
       "      <th>1</th>\n",
       "      <td>1/4/2015</td>\n",
       "      <td>2015-01-04</td>\n",
       "      <td>2015</td>\n",
       "      <td>2015</td>\n",
       "      <td>2015</td>\n",
       "    </tr>\n",
       "    <tr>\n",
       "      <th>2</th>\n",
       "      <td>1/3/2015</td>\n",
       "      <td>2015-01-03</td>\n",
       "      <td>2015</td>\n",
       "      <td>2015</td>\n",
       "      <td>2015</td>\n",
       "    </tr>\n",
       "    <tr>\n",
       "      <th>3</th>\n",
       "      <td>1/2/2015</td>\n",
       "      <td>2015-01-02</td>\n",
       "      <td>2015</td>\n",
       "      <td>2015</td>\n",
       "      <td>2015</td>\n",
       "    </tr>\n",
       "    <tr>\n",
       "      <th>4</th>\n",
       "      <td>12/31/2014</td>\n",
       "      <td>2014-12-31</td>\n",
       "      <td>2014</td>\n",
       "      <td>2014</td>\n",
       "      <td>2014</td>\n",
       "    </tr>\n",
       "  </tbody>\n",
       "</table>\n",
       "</div>"
      ],
      "text/plain": [
       "         Date    date_dt  year  month   day\n",
       "0    1/5/2015 2015-01-05  2015   2015  2015\n",
       "1    1/4/2015 2015-01-04  2015   2015  2015\n",
       "2    1/3/2015 2015-01-03  2015   2015  2015\n",
       "3    1/2/2015 2015-01-02  2015   2015  2015\n",
       "4  12/31/2014 2014-12-31  2014   2014  2014"
      ]
     },
     "execution_count": 10,
     "metadata": {},
     "output_type": "execute_result"
    }
   ],
   "source": [
    "ebola = pd.read_csv('./country_timeseries.csv')\n",
    "ebola['date_dt'] = pd.to_datetime(ebola['Date'])\n",
    "ebola['year'] = ebola['date_dt'].dt.year\n",
    "ebola['month'] = ebola['date_dt'].dt.year\n",
    "ebola['day'] = ebola['date_dt'].dt.year\n",
    "\n",
    "ebola[['Date','date_dt','year','month','day']].head()"
   ]
  },
  {
   "cell_type": "code",
   "execution_count": 11,
   "metadata": {},
   "outputs": [
    {
     "name": "stdout",
     "output_type": "stream",
     "text": [
      "2014-03-22 00:00:00\n",
      "          Date  Day  Cases_Guinea  Cases_Liberia  Cases_SierraLeone  \\\n",
      "121  3/22/2014    0          49.0            NaN                NaN   \n",
      "\n",
      "     Cases_Nigeria  Cases_Senegal  Cases_UnitedStates  Cases_Spain  \\\n",
      "121            NaN            NaN                 NaN          NaN   \n",
      "\n",
      "     Cases_Mali  ...  Deaths_SierraLeone  Deaths_Nigeria  Deaths_Senegal  \\\n",
      "121         NaN  ...                 NaN             NaN             NaN   \n",
      "\n",
      "     Deaths_UnitedStates  Deaths_Spain  Deaths_Mali    date_dt  year month  \\\n",
      "121                  NaN           NaN          NaN 2014-03-22  2014  2014   \n",
      "\n",
      "      day  \n",
      "121  2014  \n",
      "\n",
      "[1 rows x 22 columns]\n"
     ]
    }
   ],
   "source": [
    "print(ebola['date_dt'].min())\n",
    "print(ebola.loc[ebola['date_dt'] == ebola['date_dt'].min()])"
   ]
  },
  {
   "cell_type": "code",
   "execution_count": 12,
   "metadata": {},
   "outputs": [
    {
     "name": "stdout",
     "output_type": "stream",
     "text": [
      "         Date  Day outbreak_d\n",
      "0    1/5/2015  289   289 days\n",
      "1    1/4/2015  288   288 days\n",
      "2    1/3/2015  287   287 days\n",
      "3    1/2/2015  286   286 days\n",
      "4  12/31/2014  284   284 days\n"
     ]
    }
   ],
   "source": [
    "ebola['outbreak_d']=ebola['date_dt']-ebola['date_dt'].min()\n",
    "print(ebola[['Date','Day','outbreak_d']].head())"
   ]
  },
  {
   "cell_type": "code",
   "execution_count": 14,
   "metadata": {},
   "outputs": [
    {
     "data": {
      "text/plain": [
       "0      False\n",
       "1      False\n",
       "2      False\n",
       "3      False\n",
       "4      False\n",
       "       ...  \n",
       "117    False\n",
       "118    False\n",
       "119    False\n",
       "120    False\n",
       "121     True\n",
       "Name: date_dt, Length: 122, dtype: bool"
      ]
     },
     "execution_count": 14,
     "metadata": {},
     "output_type": "execute_result"
    }
   ],
   "source": [
    "ebola['date_dt'] ==ebola['date_dt'].min()"
   ]
  },
  {
   "cell_type": "code",
   "execution_count": 16,
   "metadata": {},
   "outputs": [
    {
     "name": "stdout",
     "output_type": "stream",
     "text": [
      "<class 'pandas.core.frame.DataFrame'>\n",
      "RangeIndex: 555 entries, 0 to 554\n",
      "Data columns (total 7 columns):\n",
      " #   Column                 Non-Null Count  Dtype         \n",
      "---  ------                 --------------  -----         \n",
      " 0   Bank Name              555 non-null    object        \n",
      " 1   City                   555 non-null    object        \n",
      " 2   ST                     555 non-null    object        \n",
      " 3   CERT                   555 non-null    int64         \n",
      " 4   Acquiring Institution  555 non-null    object        \n",
      " 5   Closing Date           555 non-null    datetime64[ns]\n",
      " 6   Updated Date           555 non-null    datetime64[ns]\n",
      "dtypes: datetime64[ns](2), int64(1), object(4)\n",
      "memory usage: 30.5+ KB\n",
      "None\n"
     ]
    }
   ],
   "source": [
    "banks = pd.read_csv('./banklist.csv',parse_dates = [5,6])\n",
    "print(banks.info())"
   ]
  },
  {
   "cell_type": "code",
   "execution_count": 17,
   "metadata": {},
   "outputs": [
    {
     "data": {
      "text/html": [
       "<div>\n",
       "<style scoped>\n",
       "    .dataframe tbody tr th:only-of-type {\n",
       "        vertical-align: middle;\n",
       "    }\n",
       "\n",
       "    .dataframe tbody tr th {\n",
       "        vertical-align: top;\n",
       "    }\n",
       "\n",
       "    .dataframe thead th {\n",
       "        text-align: right;\n",
       "    }\n",
       "</style>\n",
       "<table border=\"1\" class=\"dataframe\">\n",
       "  <thead>\n",
       "    <tr style=\"text-align: right;\">\n",
       "      <th></th>\n",
       "      <th>Bank Name</th>\n",
       "      <th>City</th>\n",
       "      <th>ST</th>\n",
       "      <th>CERT</th>\n",
       "      <th>Acquiring Institution</th>\n",
       "      <th>Closing Date</th>\n",
       "      <th>Updated Date</th>\n",
       "      <th>closing_quarter</th>\n",
       "      <th>closing_year</th>\n",
       "    </tr>\n",
       "  </thead>\n",
       "  <tbody>\n",
       "    <tr>\n",
       "      <th>0</th>\n",
       "      <td>Washington Federal Bank for Savings</td>\n",
       "      <td>Chicago</td>\n",
       "      <td>IL</td>\n",
       "      <td>30570</td>\n",
       "      <td>Royal Savings Bank</td>\n",
       "      <td>2017-12-15</td>\n",
       "      <td>2017-12-20</td>\n",
       "      <td>4</td>\n",
       "      <td>2017</td>\n",
       "    </tr>\n",
       "    <tr>\n",
       "      <th>1</th>\n",
       "      <td>The Farmers and Merchants State Bank of Argonia</td>\n",
       "      <td>Argonia</td>\n",
       "      <td>KS</td>\n",
       "      <td>17719</td>\n",
       "      <td>Conway Bank</td>\n",
       "      <td>2017-10-13</td>\n",
       "      <td>2017-10-20</td>\n",
       "      <td>4</td>\n",
       "      <td>2017</td>\n",
       "    </tr>\n",
       "    <tr>\n",
       "      <th>2</th>\n",
       "      <td>Fayette County Bank</td>\n",
       "      <td>Saint Elmo</td>\n",
       "      <td>IL</td>\n",
       "      <td>1802</td>\n",
       "      <td>United Fidelity Bank, fsb</td>\n",
       "      <td>2017-05-26</td>\n",
       "      <td>2017-07-26</td>\n",
       "      <td>2</td>\n",
       "      <td>2017</td>\n",
       "    </tr>\n",
       "    <tr>\n",
       "      <th>3</th>\n",
       "      <td>Guaranty Bank, (d/b/a BestBank in Georgia &amp; Mi...</td>\n",
       "      <td>Milwaukee</td>\n",
       "      <td>WI</td>\n",
       "      <td>30003</td>\n",
       "      <td>First-Citizens Bank &amp; Trust Company</td>\n",
       "      <td>2017-05-05</td>\n",
       "      <td>2017-07-26</td>\n",
       "      <td>2</td>\n",
       "      <td>2017</td>\n",
       "    </tr>\n",
       "    <tr>\n",
       "      <th>4</th>\n",
       "      <td>First NBC Bank</td>\n",
       "      <td>New Orleans</td>\n",
       "      <td>LA</td>\n",
       "      <td>58302</td>\n",
       "      <td>Whitney Bank</td>\n",
       "      <td>2017-04-28</td>\n",
       "      <td>2017-12-05</td>\n",
       "      <td>2</td>\n",
       "      <td>2017</td>\n",
       "    </tr>\n",
       "  </tbody>\n",
       "</table>\n",
       "</div>"
      ],
      "text/plain": [
       "                                           Bank Name         City  ST   CERT  \\\n",
       "0                Washington Federal Bank for Savings      Chicago  IL  30570   \n",
       "1    The Farmers and Merchants State Bank of Argonia      Argonia  KS  17719   \n",
       "2                                Fayette County Bank   Saint Elmo  IL   1802   \n",
       "3  Guaranty Bank, (d/b/a BestBank in Georgia & Mi...    Milwaukee  WI  30003   \n",
       "4                                     First NBC Bank  New Orleans  LA  58302   \n",
       "\n",
       "                 Acquiring Institution Closing Date Updated Date  \\\n",
       "0                   Royal Savings Bank   2017-12-15   2017-12-20   \n",
       "1                          Conway Bank   2017-10-13   2017-10-20   \n",
       "2            United Fidelity Bank, fsb   2017-05-26   2017-07-26   \n",
       "3  First-Citizens Bank & Trust Company   2017-05-05   2017-07-26   \n",
       "4                         Whitney Bank   2017-04-28   2017-12-05   \n",
       "\n",
       "   closing_quarter  closing_year  \n",
       "0                4          2017  \n",
       "1                4          2017  \n",
       "2                2          2017  \n",
       "3                2          2017  \n",
       "4                2          2017  "
      ]
     },
     "execution_count": 17,
     "metadata": {},
     "output_type": "execute_result"
    }
   ],
   "source": [
    "banks['closing_quarter'] = banks['Closing Date'].dt.quarter #분기\n",
    "banks['closing_year'] = banks['Closing Date'].dt.year\n",
    "\n",
    "banks.head()"
   ]
  },
  {
   "cell_type": "code",
   "execution_count": 19,
   "metadata": {},
   "outputs": [
    {
     "data": {
      "text/plain": [
       "2010    157\n",
       "2009    140\n",
       "2011     92\n",
       "2012     51\n",
       "2008     25\n",
       "Name: closing_year, dtype: int64"
      ]
     },
     "execution_count": 19,
     "metadata": {},
     "output_type": "execute_result"
    }
   ],
   "source": [
    "banks['closing_year'].value_counts().head()"
   ]
  },
  {
   "cell_type": "code",
   "execution_count": 22,
   "metadata": {},
   "outputs": [
    {
     "data": {
      "text/plain": [
       "closing_year  closing_quarter\n",
       "2000          4                  2\n",
       "2001          1                  1\n",
       "              2                  1\n",
       "              3                  2\n",
       "2002          1                  6\n",
       "dtype: int64"
      ]
     },
     "execution_count": 22,
     "metadata": {},
     "output_type": "execute_result"
    }
   ],
   "source": [
    "closing_year = banks.groupby('closing_year').size()\n",
    "\n",
    "closing_year_q = banks.groupby(\n",
    "    ['closing_year','closing_quarter']).size()\n",
    "closing_year_q.head()"
   ]
  },
  {
   "cell_type": "code",
   "execution_count": null,
   "metadata": {},
   "outputs": [],
   "source": [
    "%matplotlib inline\n"
   ]
  },
  {
   "cell_type": "code",
   "execution_count": 23,
   "metadata": {},
   "outputs": [
    {
     "data": {
      "image/png": "[encoded data removed]",
      "text/plain": [
       "<Figure size 432x288 with 1 Axes>"
      ]
     },
     "metadata": {
      "needs_background": "light"
     },
     "output_type": "display_data"
    }
   ],
   "source": [
    "ax = closing_year_q.plot()"
   ]
  },
  {
   "cell_type": "code",
   "execution_count": null,
   "metadata": {},
   "outputs": [],
   "source": [
    "closing_q = banks.group"
   ]
  },
  {
   "cell_type": "code",
   "execution_count": 26,
   "metadata": {},
   "outputs": [],
   "source": [
    "tesla = pd.read_csv('./tesla_stock_quandl.csv', parse_dates=['Date'])"
   ]
  },
  {
   "cell_type": "code",
   "execution_count": 34,
   "metadata": {},
   "outputs": [
    {
     "data": {
      "text/html": [
       "<div>\n",
       "<style scoped>\n",
       "    .dataframe tbody tr th:only-of-type {\n",
       "        vertical-align: middle;\n",
       "    }\n",
       "\n",
       "    .dataframe tbody tr th {\n",
       "        vertical-align: top;\n",
       "    }\n",
       "\n",
       "    .dataframe thead th {\n",
       "        text-align: right;\n",
       "    }\n",
       "</style>\n",
       "<table border=\"1\" class=\"dataframe\">\n",
       "  <thead>\n",
       "    <tr style=\"text-align: right;\">\n",
       "      <th></th>\n",
       "      <th>Date</th>\n",
       "      <th>Open</th>\n",
       "      <th>High</th>\n",
       "      <th>Low</th>\n",
       "      <th>Close</th>\n",
       "      <th>Volume</th>\n",
       "      <th>ExDividend</th>\n",
       "      <th>SplitRatio</th>\n",
       "      <th>AdjOpen</th>\n",
       "      <th>AdjHigh</th>\n",
       "      <th>AdjLow</th>\n",
       "      <th>AdjClose</th>\n",
       "      <th>AdjVolume</th>\n",
       "    </tr>\n",
       "  </thead>\n",
       "  <tbody>\n",
       "    <tr>\n",
       "      <th>1947</th>\n",
       "      <td>2010-06-30</td>\n",
       "      <td>25.79</td>\n",
       "      <td>30.4192</td>\n",
       "      <td>23.30</td>\n",
       "      <td>23.83</td>\n",
       "      <td>17187100.0</td>\n",
       "      <td>0.0</td>\n",
       "      <td>1.0</td>\n",
       "      <td>25.79</td>\n",
       "      <td>30.4192</td>\n",
       "      <td>23.30</td>\n",
       "      <td>23.83</td>\n",
       "      <td>17187100.0</td>\n",
       "    </tr>\n",
       "    <tr>\n",
       "      <th>1948</th>\n",
       "      <td>2010-06-29</td>\n",
       "      <td>19.00</td>\n",
       "      <td>25.0000</td>\n",
       "      <td>17.54</td>\n",
       "      <td>23.89</td>\n",
       "      <td>18766300.0</td>\n",
       "      <td>0.0</td>\n",
       "      <td>1.0</td>\n",
       "      <td>19.00</td>\n",
       "      <td>25.0000</td>\n",
       "      <td>17.54</td>\n",
       "      <td>23.89</td>\n",
       "      <td>18766300.0</td>\n",
       "    </tr>\n",
       "  </tbody>\n",
       "</table>\n",
       "</div>"
      ],
      "text/plain": [
       "           Date   Open     High    Low  Close      Volume  ExDividend  \\\n",
       "1947 2010-06-30  25.79  30.4192  23.30  23.83  17187100.0         0.0   \n",
       "1948 2010-06-29  19.00  25.0000  17.54  23.89  18766300.0         0.0   \n",
       "\n",
       "      SplitRatio  AdjOpen  AdjHigh  AdjLow  AdjClose   AdjVolume  \n",
       "1947         1.0    25.79  30.4192   23.30     23.83  17187100.0  \n",
       "1948         1.0    19.00  25.0000   17.54     23.89  18766300.0  "
      ]
     },
     "execution_count": 34,
     "metadata": {},
     "output_type": "execute_result"
    }
   ],
   "source": [
    "tesla[(tesla.Date.dt.year ==2010) & (tesla.Date.dt.quarter ==2)] "
   ]
  },
  {
   "cell_type": "code",
   "execution_count": 35,
   "metadata": {},
   "outputs": [
    {
     "data": {
      "text/plain": [
       "array([False, False, False, ..., False, False, False])"
      ]
     },
     "execution_count": 35,
     "metadata": {},
     "output_type": "execute_result"
    }
   ],
   "source": [
    "tesla.index ==tesla['Date']"
   ]
  },
  {
   "cell_type": "code",
   "execution_count": 36,
   "metadata": {},
   "outputs": [
    {
     "data": {
      "text/plain": [
       "RangeIndex(start=0, stop=1949, step=1)"
      ]
     },
     "execution_count": 36,
     "metadata": {},
     "output_type": "execute_result"
    }
   ],
   "source": [
    "tesla.index"
   ]
  },
  {
   "cell_type": "code",
   "execution_count": 43,
   "metadata": {},
   "outputs": [
    {
     "data": {
      "text/plain": [
       "DatetimeIndex(['2015-01-01', '2015-01-02', '2015-01-05', '2015-01-06',\n",
       "               '2015-01-07', '2015-01-08', '2015-01-09', '2015-01-12',\n",
       "               '2015-01-13', '2015-01-14',\n",
       "               ...\n",
       "               '2015-12-18', '2015-12-21', '2015-12-22', '2015-12-23',\n",
       "               '2015-12-24', '2015-12-25', '2015-12-28', '2015-12-29',\n",
       "               '2015-12-30', '2015-12-31'],\n",
       "              dtype='datetime64[ns]', length=261, freq='B')"
      ]
     },
     "execution_count": 43,
     "metadata": {},
     "output_type": "execute_result"
    }
   ],
   "source": [
    "pd.date_range(start = '2015-01-01', end = '2015-12-31', freq = 'B')"
   ]
  },
  {
   "cell_type": "code",
   "execution_count": 4,
   "metadata": {},
   "outputs": [
    {
     "data": {
      "text/html": [
       "<div>\n",
       "<style scoped>\n",
       "    .dataframe tbody tr th:only-of-type {\n",
       "        vertical-align: middle;\n",
       "    }\n",
       "\n",
       "    .dataframe tbody tr th {\n",
       "        vertical-align: top;\n",
       "    }\n",
       "\n",
       "    .dataframe thead th {\n",
       "        text-align: right;\n",
       "    }\n",
       "</style>\n",
       "<table border=\"1\" class=\"dataframe\">\n",
       "  <thead>\n",
       "    <tr style=\"text-align: right;\">\n",
       "      <th></th>\n",
       "      <th>사용월</th>\n",
       "      <th>호선명</th>\n",
       "      <th>역ID</th>\n",
       "      <th>지하철역</th>\n",
       "      <th>유임승차</th>\n",
       "      <th>유임하차</th>\n",
       "      <th>무임승차</th>\n",
       "      <th>무임하차</th>\n",
       "      <th>작업일시</th>\n",
       "    </tr>\n",
       "  </thead>\n",
       "  <tbody>\n",
       "    <tr>\n",
       "      <th>0</th>\n",
       "      <td>2021-01</td>\n",
       "      <td>1호선</td>\n",
       "      <td>1</td>\n",
       "      <td>서울역</td>\n",
       "      <td>731660</td>\n",
       "      <td>678117</td>\n",
       "      <td>127534</td>\n",
       "      <td>118937</td>\n",
       "      <td>2021-02-03 09:49:34</td>\n",
       "    </tr>\n",
       "    <tr>\n",
       "      <th>1</th>\n",
       "      <td>2021-01</td>\n",
       "      <td>1호선</td>\n",
       "      <td>10</td>\n",
       "      <td>동묘앞</td>\n",
       "      <td>98645</td>\n",
       "      <td>105308</td>\n",
       "      <td>113919</td>\n",
       "      <td>115644</td>\n",
       "      <td>2021-02-03 09:49:34</td>\n",
       "    </tr>\n",
       "    <tr>\n",
       "      <th>2</th>\n",
       "      <td>2021-01</td>\n",
       "      <td>1호선</td>\n",
       "      <td>2</td>\n",
       "      <td>시청</td>\n",
       "      <td>371942</td>\n",
       "      <td>366139</td>\n",
       "      <td>46231</td>\n",
       "      <td>43433</td>\n",
       "      <td>2021-02-03 09:49:34</td>\n",
       "    </tr>\n",
       "    <tr>\n",
       "      <th>3</th>\n",
       "      <td>2021-01</td>\n",
       "      <td>1호선</td>\n",
       "      <td>3</td>\n",
       "      <td>종각</td>\n",
       "      <td>598363</td>\n",
       "      <td>567563</td>\n",
       "      <td>84544</td>\n",
       "      <td>78565</td>\n",
       "      <td>2021-02-03 09:49:34</td>\n",
       "    </tr>\n",
       "    <tr>\n",
       "      <th>4</th>\n",
       "      <td>2021-01</td>\n",
       "      <td>1호선</td>\n",
       "      <td>4</td>\n",
       "      <td>종로3가</td>\n",
       "      <td>313943</td>\n",
       "      <td>281737</td>\n",
       "      <td>187603</td>\n",
       "      <td>175431</td>\n",
       "      <td>2021-02-03 09:49:34</td>\n",
       "    </tr>\n",
       "  </tbody>\n",
       "</table>\n",
       "</div>"
      ],
      "text/plain": [
       "       사용월  호선명  역ID  지하철역    유임승차    유임하차    무임승차    무임하차  \\\n",
       "0  2021-01  1호선    1   서울역  731660  678117  127534  118937   \n",
       "1  2021-01  1호선   10   동묘앞   98645  105308  113919  115644   \n",
       "2  2021-01  1호선    2    시청  371942  366139   46231   43433   \n",
       "3  2021-01  1호선    3    종각  598363  567563   84544   78565   \n",
       "4  2021-01  1호선    4  종로3가  313943  281737  187603  175431   \n",
       "\n",
       "                  작업일시  \n",
       "0  2021-02-03 09:49:34  \n",
       "1  2021-02-03 09:49:34  \n",
       "2  2021-02-03 09:49:34  \n",
       "3  2021-02-03 09:49:34  \n",
       "4  2021-02-03 09:49:34  "
      ]
     },
     "execution_count": 4,
     "metadata": {},
     "output_type": "execute_result"
    }
   ],
   "source": [
    "import pandas as pd\n",
    "df = pd.read_csv('./subway_202101.csv', thousands = ',')\n",
    "df.head()"
   ]
  },
  {
   "cell_type": "code",
   "execution_count": null,
   "metadata": {},
   "outputs": [],
   "source": []
  },
  {
   "cell_type": "code",
   "execution_count": null,
   "metadata": {},
   "outputs": [],
   "source": []
  },
  {
   "cell_type": "code",
   "execution_count": 7,
   "metadata": {},
   "outputs": [
    {
     "data": {
      "text/html": [
       "<div>\n",
       "<style scoped>\n",
       "    .dataframe tbody tr th:only-of-type {\n",
       "        vertical-align: middle;\n",
       "    }\n",
       "\n",
       "    .dataframe tbody tr th {\n",
       "        vertical-align: top;\n",
       "    }\n",
       "\n",
       "    .dataframe thead th {\n",
       "        text-align: right;\n",
       "    }\n",
       "</style>\n",
       "<table border=\"1\" class=\"dataframe\">\n",
       "  <thead>\n",
       "    <tr style=\"text-align: right;\">\n",
       "      <th></th>\n",
       "      <th>사용월</th>\n",
       "      <th>호선명</th>\n",
       "      <th>역ID</th>\n",
       "      <th>지하철역</th>\n",
       "      <th>유임승차</th>\n",
       "      <th>유임하차</th>\n",
       "      <th>무임승차</th>\n",
       "      <th>무임하차</th>\n",
       "      <th>작업일시</th>\n",
       "      <th>무임승차비율</th>\n",
       "    </tr>\n",
       "  </thead>\n",
       "  <tbody>\n",
       "    <tr>\n",
       "      <th>0</th>\n",
       "      <td>2021-01</td>\n",
       "      <td>1호선</td>\n",
       "      <td>1</td>\n",
       "      <td>서울역</td>\n",
       "      <td>731660</td>\n",
       "      <td>678117</td>\n",
       "      <td>127534</td>\n",
       "      <td>118937</td>\n",
       "      <td>2021-02-03 09:49:34</td>\n",
       "      <td>0.148434</td>\n",
       "    </tr>\n",
       "    <tr>\n",
       "      <th>1</th>\n",
       "      <td>2021-01</td>\n",
       "      <td>1호선</td>\n",
       "      <td>10</td>\n",
       "      <td>동묘앞</td>\n",
       "      <td>98645</td>\n",
       "      <td>105308</td>\n",
       "      <td>113919</td>\n",
       "      <td>115644</td>\n",
       "      <td>2021-02-03 09:49:34</td>\n",
       "      <td>0.535928</td>\n",
       "    </tr>\n",
       "    <tr>\n",
       "      <th>2</th>\n",
       "      <td>2021-01</td>\n",
       "      <td>1호선</td>\n",
       "      <td>2</td>\n",
       "      <td>시청</td>\n",
       "      <td>371942</td>\n",
       "      <td>366139</td>\n",
       "      <td>46231</td>\n",
       "      <td>43433</td>\n",
       "      <td>2021-02-03 09:49:34</td>\n",
       "      <td>0.110555</td>\n",
       "    </tr>\n",
       "    <tr>\n",
       "      <th>3</th>\n",
       "      <td>2021-01</td>\n",
       "      <td>1호선</td>\n",
       "      <td>3</td>\n",
       "      <td>종각</td>\n",
       "      <td>598363</td>\n",
       "      <td>567563</td>\n",
       "      <td>84544</td>\n",
       "      <td>78565</td>\n",
       "      <td>2021-02-03 09:49:34</td>\n",
       "      <td>0.123800</td>\n",
       "    </tr>\n",
       "    <tr>\n",
       "      <th>4</th>\n",
       "      <td>2021-01</td>\n",
       "      <td>1호선</td>\n",
       "      <td>4</td>\n",
       "      <td>종로3가</td>\n",
       "      <td>313943</td>\n",
       "      <td>281737</td>\n",
       "      <td>187603</td>\n",
       "      <td>175431</td>\n",
       "      <td>2021-02-03 09:49:34</td>\n",
       "      <td>0.374049</td>\n",
       "    </tr>\n",
       "    <tr>\n",
       "      <th>...</th>\n",
       "      <td>...</td>\n",
       "      <td>...</td>\n",
       "      <td>...</td>\n",
       "      <td>...</td>\n",
       "      <td>...</td>\n",
       "      <td>...</td>\n",
       "      <td>...</td>\n",
       "      <td>...</td>\n",
       "      <td>...</td>\n",
       "      <td>...</td>\n",
       "    </tr>\n",
       "    <tr>\n",
       "      <th>599</th>\n",
       "      <td>2021-01</td>\n",
       "      <td>우이신설선</td>\n",
       "      <td>705</td>\n",
       "      <td>북한산보국문</td>\n",
       "      <td>99921</td>\n",
       "      <td>97636</td>\n",
       "      <td>28310</td>\n",
       "      <td>29192</td>\n",
       "      <td>2021-02-03 09:49:34</td>\n",
       "      <td>0.220773</td>\n",
       "    </tr>\n",
       "    <tr>\n",
       "      <th>600</th>\n",
       "      <td>2021-01</td>\n",
       "      <td>우이신설선</td>\n",
       "      <td>706</td>\n",
       "      <td>정릉</td>\n",
       "      <td>67390</td>\n",
       "      <td>63786</td>\n",
       "      <td>30469</td>\n",
       "      <td>29394</td>\n",
       "      <td>2021-02-03 09:49:34</td>\n",
       "      <td>0.311356</td>\n",
       "    </tr>\n",
       "    <tr>\n",
       "      <th>601</th>\n",
       "      <td>2021-01</td>\n",
       "      <td>우이신설선</td>\n",
       "      <td>707</td>\n",
       "      <td>성신여대입구(돈암)</td>\n",
       "      <td>50177</td>\n",
       "      <td>58328</td>\n",
       "      <td>19635</td>\n",
       "      <td>18769</td>\n",
       "      <td>2021-02-03 09:49:34</td>\n",
       "      <td>0.281255</td>\n",
       "    </tr>\n",
       "    <tr>\n",
       "      <th>602</th>\n",
       "      <td>2021-01</td>\n",
       "      <td>우이신설선</td>\n",
       "      <td>708</td>\n",
       "      <td>보문</td>\n",
       "      <td>22999</td>\n",
       "      <td>23078</td>\n",
       "      <td>10301</td>\n",
       "      <td>10532</td>\n",
       "      <td>2021-02-03 09:49:34</td>\n",
       "      <td>0.309339</td>\n",
       "    </tr>\n",
       "    <tr>\n",
       "      <th>603</th>\n",
       "      <td>2021-01</td>\n",
       "      <td>우이신설선</td>\n",
       "      <td>709</td>\n",
       "      <td>신설동</td>\n",
       "      <td>30026</td>\n",
       "      <td>29762</td>\n",
       "      <td>17589</td>\n",
       "      <td>15356</td>\n",
       "      <td>2021-02-03 09:49:34</td>\n",
       "      <td>0.369400</td>\n",
       "    </tr>\n",
       "  </tbody>\n",
       "</table>\n",
       "<p>604 rows × 10 columns</p>\n",
       "</div>"
      ],
      "text/plain": [
       "         사용월    호선명  역ID        지하철역    유임승차    유임하차    무임승차    무임하차  \\\n",
       "0    2021-01    1호선    1         서울역  731660  678117  127534  118937   \n",
       "1    2021-01    1호선   10         동묘앞   98645  105308  113919  115644   \n",
       "2    2021-01    1호선    2          시청  371942  366139   46231   43433   \n",
       "3    2021-01    1호선    3          종각  598363  567563   84544   78565   \n",
       "4    2021-01    1호선    4        종로3가  313943  281737  187603  175431   \n",
       "..       ...    ...  ...         ...     ...     ...     ...     ...   \n",
       "599  2021-01  우이신설선  705      북한산보국문   99921   97636   28310   29192   \n",
       "600  2021-01  우이신설선  706          정릉   67390   63786   30469   29394   \n",
       "601  2021-01  우이신설선  707  성신여대입구(돈암)   50177   58328   19635   18769   \n",
       "602  2021-01  우이신설선  708          보문   22999   23078   10301   10532   \n",
       "603  2021-01  우이신설선  709         신설동   30026   29762   17589   15356   \n",
       "\n",
       "                    작업일시    무임승차비율  \n",
       "0    2021-02-03 09:49:34  0.148434  \n",
       "1    2021-02-03 09:49:34  0.535928  \n",
       "2    2021-02-03 09:49:34  0.110555  \n",
       "3    2021-02-03 09:49:34  0.123800  \n",
       "4    2021-02-03 09:49:34  0.374049  \n",
       "..                   ...       ...  \n",
       "599  2021-02-03 09:49:34  0.220773  \n",
       "600  2021-02-03 09:49:34  0.311356  \n",
       "601  2021-02-03 09:49:34  0.281255  \n",
       "602  2021-02-03 09:49:34  0.309339  \n",
       "603  2021-02-03 09:49:34  0.369400  \n",
       "\n",
       "[604 rows x 10 columns]"
      ]
     },
     "execution_count": 7,
     "metadata": {},
     "output_type": "execute_result"
    }
   ],
   "source": [
    "df['무임승차비율'] = df['무임승차']/ (df['무임승차']+ df['유임승차'])\n",
    "df"
   ]
  },
  {
   "cell_type": "code",
   "execution_count": null,
   "metadata": {},
   "outputs": [],
   "source": []
  },
  {
   "cell_type": "code",
   "execution_count": 8,
   "metadata": {},
   "outputs": [
    {
     "data": {
      "text/plain": [
       "유임승차    21105\n",
       "유임하차    16051\n",
       "무임승차    38785\n",
       "무임하차    35334\n",
       "Name: 208, dtype: object"
      ]
     },
     "execution_count": 8,
     "metadata": {},
     "output_type": "execute_result"
    }
   ],
   "source": [
    "df[df['무임승차비율'] ==df['무임승차비율'].max() ].iloc[0, 4:8]"
   ]
  },
  {
   "cell_type": "code",
   "execution_count": 9,
   "metadata": {},
   "outputs": [
    {
     "name": "stdout",
     "output_type": "stream",
     "text": [
      "111275\n"
     ]
    }
   ],
   "source": [
    "station= df[df['무임승차비율'] ==df['무임승차비율'].max() ]\n",
    "유임승차 =  station['유임승차']\n",
    "유임하차 =  station['유임하차']\n",
    "무임승차=  station['무임승차']\n",
    "무임하차=  station['무임하차']\n",
    "\n",
    "total = df[\n",
    "    df['무임승차비율']==df['무임승차비율'].max()\n",
    "].iloc[0,4:8].sum(axis=0)\n",
    "print(total)"
   ]
  },
  {
   "cell_type": "code",
   "execution_count": 14,
   "metadata": {},
   "outputs": [
    {
     "data": {
      "image/png": "[encoded data removed]",
      "text/plain": [
       "<Figure size 432x288 with 1 Axes>"
      ]
     },
     "metadata": {},
     "output_type": "display_data"
    }
   ],
   "source": [
    "import matplotlib.pyplot as plt\n",
    "\n",
    "plt.rc('font', family = 'Malgun Gothic')\n",
    "plt.pie(\n",
    "    [\n",
    "        유임승차.sum() / total *100,유임하차.sum() / total *100,\n",
    "        무임승차.sum() / total *100,무임하차.sum() / total *100\n",
    "    ],\n",
    "    labels = ['유임승차','유임하차','무임승차','무임하차'],\n",
    "    autopct = '%.1f%%',)\n",
    "plt.show()"
   ]
  },
  {
   "cell_type": "code",
   "execution_count": 28,
   "metadata": {},
   "outputs": [
    {
     "data": {
      "text/html": [
       "<div>\n",
       "<style scoped>\n",
       "    .dataframe tbody tr th:only-of-type {\n",
       "        vertical-align: middle;\n",
       "    }\n",
       "\n",
       "    .dataframe tbody tr th {\n",
       "        vertical-align: top;\n",
       "    }\n",
       "\n",
       "    .dataframe thead th {\n",
       "        text-align: right;\n",
       "    }\n",
       "</style>\n",
       "<table border=\"1\" class=\"dataframe\">\n",
       "  <thead>\n",
       "    <tr style=\"text-align: right;\">\n",
       "      <th></th>\n",
       "      <th>Unnamed: 0</th>\n",
       "      <th>Unnamed: 1</th>\n",
       "      <th>Unnamed: 2</th>\n",
       "      <th>Unnamed: 3</th>\n",
       "      <th>승차</th>\n",
       "      <th>하차</th>\n",
       "      <th>승차.1</th>\n",
       "      <th>하차.1</th>\n",
       "      <th>승차.2</th>\n",
       "      <th>하차.2</th>\n",
       "      <th>...</th>\n",
       "      <th>하차.19</th>\n",
       "      <th>승차.20</th>\n",
       "      <th>하차.20</th>\n",
       "      <th>승차.21</th>\n",
       "      <th>하차.21</th>\n",
       "      <th>승차.22</th>\n",
       "      <th>하차.22</th>\n",
       "      <th>승차.23</th>\n",
       "      <th>하차.23</th>\n",
       "      <th>Unnamed: 52</th>\n",
       "    </tr>\n",
       "  </thead>\n",
       "  <tbody>\n",
       "    <tr>\n",
       "      <th>0</th>\n",
       "      <td>2021-01</td>\n",
       "      <td>1호선</td>\n",
       "      <td>1</td>\n",
       "      <td>서울역</td>\n",
       "      <td>445</td>\n",
       "      <td>8</td>\n",
       "      <td>6832</td>\n",
       "      <td>4781</td>\n",
       "      <td>8835</td>\n",
       "      <td>24937</td>\n",
       "      <td>...</td>\n",
       "      <td>3751</td>\n",
       "      <td>32</td>\n",
       "      <td>398</td>\n",
       "      <td>0</td>\n",
       "      <td>2</td>\n",
       "      <td>0</td>\n",
       "      <td>0</td>\n",
       "      <td>0</td>\n",
       "      <td>0</td>\n",
       "      <td>2021-02-03 09:49:40</td>\n",
       "    </tr>\n",
       "    <tr>\n",
       "      <th>1</th>\n",
       "      <td>2021-01</td>\n",
       "      <td>1호선</td>\n",
       "      <td>10</td>\n",
       "      <td>동묘앞</td>\n",
       "      <td>78</td>\n",
       "      <td>2</td>\n",
       "      <td>2391</td>\n",
       "      <td>738</td>\n",
       "      <td>2761</td>\n",
       "      <td>3527</td>\n",
       "      <td>...</td>\n",
       "      <td>1502</td>\n",
       "      <td>1</td>\n",
       "      <td>704</td>\n",
       "      <td>0</td>\n",
       "      <td>8</td>\n",
       "      <td>0</td>\n",
       "      <td>0</td>\n",
       "      <td>0</td>\n",
       "      <td>0</td>\n",
       "      <td>2021-02-03 09:49:40</td>\n",
       "    </tr>\n",
       "    <tr>\n",
       "      <th>2</th>\n",
       "      <td>2021-01</td>\n",
       "      <td>1호선</td>\n",
       "      <td>2</td>\n",
       "      <td>시청</td>\n",
       "      <td>18</td>\n",
       "      <td>1</td>\n",
       "      <td>1489</td>\n",
       "      <td>2990</td>\n",
       "      <td>2235</td>\n",
       "      <td>14570</td>\n",
       "      <td>...</td>\n",
       "      <td>629</td>\n",
       "      <td>4</td>\n",
       "      <td>48</td>\n",
       "      <td>0</td>\n",
       "      <td>1</td>\n",
       "      <td>0</td>\n",
       "      <td>0</td>\n",
       "      <td>0</td>\n",
       "      <td>0</td>\n",
       "      <td>2021-02-03 09:49:40</td>\n",
       "    </tr>\n",
       "    <tr>\n",
       "      <th>3</th>\n",
       "      <td>2021-01</td>\n",
       "      <td>1호선</td>\n",
       "      <td>3</td>\n",
       "      <td>종각</td>\n",
       "      <td>113</td>\n",
       "      <td>1</td>\n",
       "      <td>1852</td>\n",
       "      <td>3464</td>\n",
       "      <td>2578</td>\n",
       "      <td>18288</td>\n",
       "      <td>...</td>\n",
       "      <td>785</td>\n",
       "      <td>10</td>\n",
       "      <td>100</td>\n",
       "      <td>1</td>\n",
       "      <td>1</td>\n",
       "      <td>0</td>\n",
       "      <td>0</td>\n",
       "      <td>0</td>\n",
       "      <td>0</td>\n",
       "      <td>2021-02-03 09:49:40</td>\n",
       "    </tr>\n",
       "    <tr>\n",
       "      <th>4</th>\n",
       "      <td>2021-01</td>\n",
       "      <td>1호선</td>\n",
       "      <td>4</td>\n",
       "      <td>종로3가</td>\n",
       "      <td>109</td>\n",
       "      <td>4</td>\n",
       "      <td>2187</td>\n",
       "      <td>2427</td>\n",
       "      <td>2374</td>\n",
       "      <td>8473</td>\n",
       "      <td>...</td>\n",
       "      <td>1104</td>\n",
       "      <td>7</td>\n",
       "      <td>194</td>\n",
       "      <td>0</td>\n",
       "      <td>3</td>\n",
       "      <td>0</td>\n",
       "      <td>0</td>\n",
       "      <td>0</td>\n",
       "      <td>0</td>\n",
       "      <td>2021-02-03 09:49:40</td>\n",
       "    </tr>\n",
       "  </tbody>\n",
       "</table>\n",
       "<p>5 rows × 53 columns</p>\n",
       "</div>"
      ],
      "text/plain": [
       "  Unnamed: 0 Unnamed: 1  Unnamed: 2 Unnamed: 3   승차  하차  승차.1  하차.1  승차.2  \\\n",
       "0    2021-01        1호선           1        서울역  445   8  6832  4781  8835   \n",
       "1    2021-01        1호선          10        동묘앞   78   2  2391   738  2761   \n",
       "2    2021-01        1호선           2         시청   18   1  1489  2990  2235   \n",
       "3    2021-01        1호선           3         종각  113   1  1852  3464  2578   \n",
       "4    2021-01        1호선           4       종로3가  109   4  2187  2427  2374   \n",
       "\n",
       "    하차.2  ...  하차.19  승차.20  하차.20  승차.21  하차.21  승차.22  하차.22  승차.23  하차.23  \\\n",
       "0  24937  ...   3751     32    398      0      2      0      0      0      0   \n",
       "1   3527  ...   1502      1    704      0      8      0      0      0      0   \n",
       "2  14570  ...    629      4     48      0      1      0      0      0      0   \n",
       "3  18288  ...    785     10    100      1      1      0      0      0      0   \n",
       "4   8473  ...   1104      7    194      0      3      0      0      0      0   \n",
       "\n",
       "           Unnamed: 52  \n",
       "0  2021-02-03 09:49:40  \n",
       "1  2021-02-03 09:49:40  \n",
       "2  2021-02-03 09:49:40  \n",
       "3  2021-02-03 09:49:40  \n",
       "4  2021-02-03 09:49:40  \n",
       "\n",
       "[5 rows x 53 columns]"
      ]
     },
     "execution_count": 28,
     "metadata": {},
     "output_type": "execute_result"
    }
   ],
   "source": [
    "import pandas as pd\n",
    "df = pd.read_csv('./subway_2_202101.csv', thousands = ',',skiprows=1) #thousands = 원하는 값 없애고 인트형으로 바꿔주는 옵션\n",
    "df.head()"
   ]
  },
  {
   "cell_type": "code",
   "execution_count": 40,
   "metadata": {},
   "outputs": [
    {
     "ename": "AttributeError",
     "evalue": "'DataFrame' object has no attribute 'cloumns'",
     "output_type": "error",
     "traceback": [
      "\u001b[1;31m---------------------------------------------------------------------------\u001b[0m",
      "\u001b[1;31mAttributeError\u001b[0m                            Traceback (most recent call last)",
      "\u001b[1;32mc:\\STUDY\\StudyPython22\\pandas\\[11]판다스 시계열-2.ipynb Cell 38'\u001b[0m in \u001b[0;36m<cell line: 1>\u001b[1;34m()\u001b[0m\n\u001b[1;32m----> <a href='vscode-notebook-cell:/c%3A/STUDY/StudyPython22/pandas/%5B11%5D%ED%8C%90%EB%8B%A4%EC%8A%A4%20%EC%8B%9C%EA%B3%84%EC%97%B4-2.ipynb#ch0000052?line=0'>1</a>\u001b[0m cloumns \u001b[39m=\u001b[39m pd\u001b[39m.\u001b[39;49mread_csv(\u001b[39m'\u001b[39;49m\u001b[39m./subway_2_202101.csv\u001b[39;49m\u001b[39m'\u001b[39;49m)\u001b[39m.\u001b[39;49mcloumns\n",
      "File \u001b[1;32mc:\\Users\\admin\\anaconda3\\lib\\site-packages\\pandas\\core\\generic.py:5575\u001b[0m, in \u001b[0;36mNDFrame.__getattr__\u001b[1;34m(self, name)\u001b[0m\n\u001b[0;32m   <a href='file:///c%3A/Users/admin/anaconda3/lib/site-packages/pandas/core/generic.py?line=5567'>5568</a>\u001b[0m \u001b[39mif\u001b[39;00m (\n\u001b[0;32m   <a href='file:///c%3A/Users/admin/anaconda3/lib/site-packages/pandas/core/generic.py?line=5568'>5569</a>\u001b[0m     name \u001b[39mnot\u001b[39;00m \u001b[39min\u001b[39;00m \u001b[39mself\u001b[39m\u001b[39m.\u001b[39m_internal_names_set\n\u001b[0;32m   <a href='file:///c%3A/Users/admin/anaconda3/lib/site-packages/pandas/core/generic.py?line=5569'>5570</a>\u001b[0m     \u001b[39mand\u001b[39;00m name \u001b[39mnot\u001b[39;00m \u001b[39min\u001b[39;00m \u001b[39mself\u001b[39m\u001b[39m.\u001b[39m_metadata\n\u001b[0;32m   <a href='file:///c%3A/Users/admin/anaconda3/lib/site-packages/pandas/core/generic.py?line=5570'>5571</a>\u001b[0m     \u001b[39mand\u001b[39;00m name \u001b[39mnot\u001b[39;00m \u001b[39min\u001b[39;00m \u001b[39mself\u001b[39m\u001b[39m.\u001b[39m_accessors\n\u001b[0;32m   <a href='file:///c%3A/Users/admin/anaconda3/lib/site-packages/pandas/core/generic.py?line=5571'>5572</a>\u001b[0m     \u001b[39mand\u001b[39;00m \u001b[39mself\u001b[39m\u001b[39m.\u001b[39m_info_axis\u001b[39m.\u001b[39m_can_hold_identifiers_and_holds_name(name)\n\u001b[0;32m   <a href='file:///c%3A/Users/admin/anaconda3/lib/site-packages/pandas/core/generic.py?line=5572'>5573</a>\u001b[0m ):\n\u001b[0;32m   <a href='file:///c%3A/Users/admin/anaconda3/lib/site-packages/pandas/core/generic.py?line=5573'>5574</a>\u001b[0m     \u001b[39mreturn\u001b[39;00m \u001b[39mself\u001b[39m[name]\n\u001b[1;32m-> <a href='file:///c%3A/Users/admin/anaconda3/lib/site-packages/pandas/core/generic.py?line=5574'>5575</a>\u001b[0m \u001b[39mreturn\u001b[39;00m \u001b[39mobject\u001b[39;49m\u001b[39m.\u001b[39;49m\u001b[39m__getattribute__\u001b[39;49m(\u001b[39mself\u001b[39;49m, name)\n",
      "\u001b[1;31mAttributeError\u001b[0m: 'DataFrame' object has no attribute 'cloumns'"
     ]
    }
   ],
   "source": [
    "cloumns = pd.read_csv('./subway_2_202101.csv').cloumns"
   ]
  },
  {
   "cell_type": "code",
   "execution_count": null,
   "metadata": {},
   "outputs": [],
   "source": []
  },
  {
   "cell_type": "code",
   "execution_count": 31,
   "metadata": {},
   "outputs": [
    {
     "data": {
      "text/html": [
       "<div>\n",
       "<style scoped>\n",
       "    .dataframe tbody tr th:only-of-type {\n",
       "        vertical-align: middle;\n",
       "    }\n",
       "\n",
       "    .dataframe tbody tr th {\n",
       "        vertical-align: top;\n",
       "    }\n",
       "\n",
       "    .dataframe thead th {\n",
       "        text-align: right;\n",
       "    }\n",
       "</style>\n",
       "<table border=\"1\" class=\"dataframe\">\n",
       "  <thead>\n",
       "    <tr style=\"text-align: right;\">\n",
       "      <th></th>\n",
       "      <th>Unnamed: 3</th>\n",
       "      <th>승차.3</th>\n",
       "      <th>하차.3</th>\n",
       "      <th>승차.4</th>\n",
       "      <th>하차.4</th>\n",
       "      <th>승차.5</th>\n",
       "      <th>하차.5</th>\n",
       "      <th>승차.6</th>\n",
       "      <th>하차.6</th>\n",
       "    </tr>\n",
       "  </thead>\n",
       "  <tbody>\n",
       "    <tr>\n",
       "      <th>0</th>\n",
       "      <td>서울역</td>\n",
       "      <td>27116</td>\n",
       "      <td>66431</td>\n",
       "      <td>43277</td>\n",
       "      <td>145325</td>\n",
       "      <td>31927</td>\n",
       "      <td>91672</td>\n",
       "      <td>29589</td>\n",
       "      <td>44874</td>\n",
       "    </tr>\n",
       "    <tr>\n",
       "      <th>1</th>\n",
       "      <td>동묘앞</td>\n",
       "      <td>4457</td>\n",
       "      <td>5734</td>\n",
       "      <td>6977</td>\n",
       "      <td>14687</td>\n",
       "      <td>5588</td>\n",
       "      <td>13409</td>\n",
       "      <td>6386</td>\n",
       "      <td>14013</td>\n",
       "    </tr>\n",
       "    <tr>\n",
       "      <th>2</th>\n",
       "      <td>시청</td>\n",
       "      <td>4971</td>\n",
       "      <td>47793</td>\n",
       "      <td>6119</td>\n",
       "      <td>131340</td>\n",
       "      <td>6335</td>\n",
       "      <td>62133</td>\n",
       "      <td>7012</td>\n",
       "      <td>23760</td>\n",
       "    </tr>\n",
       "    <tr>\n",
       "      <th>3</th>\n",
       "      <td>종각</td>\n",
       "      <td>4413</td>\n",
       "      <td>77560</td>\n",
       "      <td>6631</td>\n",
       "      <td>165202</td>\n",
       "      <td>7997</td>\n",
       "      <td>100421</td>\n",
       "      <td>10911</td>\n",
       "      <td>42055</td>\n",
       "    </tr>\n",
       "    <tr>\n",
       "      <th>4</th>\n",
       "      <td>종로3가</td>\n",
       "      <td>3297</td>\n",
       "      <td>18316</td>\n",
       "      <td>5367</td>\n",
       "      <td>52803</td>\n",
       "      <td>7144</td>\n",
       "      <td>54311</td>\n",
       "      <td>13136</td>\n",
       "      <td>42285</td>\n",
       "    </tr>\n",
       "  </tbody>\n",
       "</table>\n",
       "</div>"
      ],
      "text/plain": [
       "  Unnamed: 3   승차.3   하차.3   승차.4    하차.4   승차.5    하차.5   승차.6   하차.6\n",
       "0        서울역  27116  66431  43277  145325  31927   91672  29589  44874\n",
       "1        동묘앞   4457   5734   6977   14687   5588   13409   6386  14013\n",
       "2         시청   4971  47793   6119  131340   6335   62133   7012  23760\n",
       "3         종각   4413  77560   6631  165202   7997  100421  10911  42055\n",
       "4       종로3가   3297  18316   5367   52803   7144   54311  13136  42285"
      ]
     },
     "execution_count": 31,
     "metadata": {},
     "output_type": "execute_result"
    }
   ],
   "source": [
    "df2 = df.iloc[:, [3,10,11,12,13,14,15,16,17]]\n",
    "df2.head()"
   ]
  },
  {
   "cell_type": "code",
   "execution_count": 32,
   "metadata": {},
   "outputs": [
    {
     "name": "stderr",
     "output_type": "stream",
     "text": [
      "C:\\Users\\admin\\AppData\\Local\\Temp\\ipykernel_2700\\2323746355.py:1: SettingWithCopyWarning: \n",
      "A value is trying to be set on a copy of a slice from a DataFrame.\n",
      "Try using .loc[row_indexer,col_indexer] = value instead\n",
      "\n",
      "See the caveats in the documentation: https://pandas.pydata.org/pandas-docs/stable/user_guide/indexing.html#returning-a-view-versus-a-copy\n",
      "  df2['출근'] = df2.iloc[:, 1:].sum(axis = 1)\n"
     ]
    },
    {
     "data": {
      "text/html": [
       "<div>\n",
       "<style scoped>\n",
       "    .dataframe tbody tr th:only-of-type {\n",
       "        vertical-align: middle;\n",
       "    }\n",
       "\n",
       "    .dataframe tbody tr th {\n",
       "        vertical-align: top;\n",
       "    }\n",
       "\n",
       "    .dataframe thead th {\n",
       "        text-align: right;\n",
       "    }\n",
       "</style>\n",
       "<table border=\"1\" class=\"dataframe\">\n",
       "  <thead>\n",
       "    <tr style=\"text-align: right;\">\n",
       "      <th></th>\n",
       "      <th>Unnamed: 3</th>\n",
       "      <th>승차.3</th>\n",
       "      <th>하차.3</th>\n",
       "      <th>승차.4</th>\n",
       "      <th>하차.4</th>\n",
       "      <th>승차.5</th>\n",
       "      <th>하차.5</th>\n",
       "      <th>승차.6</th>\n",
       "      <th>하차.6</th>\n",
       "      <th>출근</th>\n",
       "    </tr>\n",
       "  </thead>\n",
       "  <tbody>\n",
       "    <tr>\n",
       "      <th>0</th>\n",
       "      <td>서울역</td>\n",
       "      <td>27116</td>\n",
       "      <td>66431</td>\n",
       "      <td>43277</td>\n",
       "      <td>145325</td>\n",
       "      <td>31927</td>\n",
       "      <td>91672</td>\n",
       "      <td>29589</td>\n",
       "      <td>44874</td>\n",
       "      <td>480211</td>\n",
       "    </tr>\n",
       "    <tr>\n",
       "      <th>1</th>\n",
       "      <td>동묘앞</td>\n",
       "      <td>4457</td>\n",
       "      <td>5734</td>\n",
       "      <td>6977</td>\n",
       "      <td>14687</td>\n",
       "      <td>5588</td>\n",
       "      <td>13409</td>\n",
       "      <td>6386</td>\n",
       "      <td>14013</td>\n",
       "      <td>71251</td>\n",
       "    </tr>\n",
       "    <tr>\n",
       "      <th>2</th>\n",
       "      <td>시청</td>\n",
       "      <td>4971</td>\n",
       "      <td>47793</td>\n",
       "      <td>6119</td>\n",
       "      <td>131340</td>\n",
       "      <td>6335</td>\n",
       "      <td>62133</td>\n",
       "      <td>7012</td>\n",
       "      <td>23760</td>\n",
       "      <td>289463</td>\n",
       "    </tr>\n",
       "    <tr>\n",
       "      <th>3</th>\n",
       "      <td>종각</td>\n",
       "      <td>4413</td>\n",
       "      <td>77560</td>\n",
       "      <td>6631</td>\n",
       "      <td>165202</td>\n",
       "      <td>7997</td>\n",
       "      <td>100421</td>\n",
       "      <td>10911</td>\n",
       "      <td>42055</td>\n",
       "      <td>415190</td>\n",
       "    </tr>\n",
       "    <tr>\n",
       "      <th>4</th>\n",
       "      <td>종로3가</td>\n",
       "      <td>3297</td>\n",
       "      <td>18316</td>\n",
       "      <td>5367</td>\n",
       "      <td>52803</td>\n",
       "      <td>7144</td>\n",
       "      <td>54311</td>\n",
       "      <td>13136</td>\n",
       "      <td>42285</td>\n",
       "      <td>196659</td>\n",
       "    </tr>\n",
       "  </tbody>\n",
       "</table>\n",
       "</div>"
      ],
      "text/plain": [
       "  Unnamed: 3   승차.3   하차.3   승차.4    하차.4   승차.5    하차.5   승차.6   하차.6      출근\n",
       "0        서울역  27116  66431  43277  145325  31927   91672  29589  44874  480211\n",
       "1        동묘앞   4457   5734   6977   14687   5588   13409   6386  14013   71251\n",
       "2         시청   4971  47793   6119  131340   6335   62133   7012  23760  289463\n",
       "3         종각   4413  77560   6631  165202   7997  100421  10911  42055  415190\n",
       "4       종로3가   3297  18316   5367   52803   7144   54311  13136  42285  196659"
      ]
     },
     "execution_count": 32,
     "metadata": {},
     "output_type": "execute_result"
    }
   ],
   "source": [
    "df2['출근'] = df2.iloc[:, 1:].sum(axis = 1)\n",
    "df2.head()"
   ]
  },
  {
   "cell_type": "code",
   "execution_count": 33,
   "metadata": {},
   "outputs": [
    {
     "data": {
      "text/html": [
       "<div>\n",
       "<style scoped>\n",
       "    .dataframe tbody tr th:only-of-type {\n",
       "        vertical-align: middle;\n",
       "    }\n",
       "\n",
       "    .dataframe tbody tr th {\n",
       "        vertical-align: top;\n",
       "    }\n",
       "\n",
       "    .dataframe thead th {\n",
       "        text-align: right;\n",
       "    }\n",
       "</style>\n",
       "<table border=\"1\" class=\"dataframe\">\n",
       "  <thead>\n",
       "    <tr style=\"text-align: right;\">\n",
       "      <th></th>\n",
       "      <th>Unnamed: 3</th>\n",
       "      <th>승차.3</th>\n",
       "      <th>하차.3</th>\n",
       "      <th>승차.4</th>\n",
       "      <th>하차.4</th>\n",
       "      <th>승차.5</th>\n",
       "      <th>하차.5</th>\n",
       "      <th>승차.6</th>\n",
       "      <th>하차.6</th>\n",
       "      <th>출근</th>\n",
       "    </tr>\n",
       "  </thead>\n",
       "  <tbody>\n",
       "    <tr>\n",
       "      <th>31</th>\n",
       "      <td>강남</td>\n",
       "      <td>29652</td>\n",
       "      <td>120313</td>\n",
       "      <td>46525</td>\n",
       "      <td>260062</td>\n",
       "      <td>37172</td>\n",
       "      <td>253781</td>\n",
       "      <td>37419</td>\n",
       "      <td>121344</td>\n",
       "      <td>906268</td>\n",
       "    </tr>\n",
       "    <tr>\n",
       "      <th>41</th>\n",
       "      <td>구로디지털단지</td>\n",
       "      <td>111142</td>\n",
       "      <td>69658</td>\n",
       "      <td>154198</td>\n",
       "      <td>211123</td>\n",
       "      <td>92286</td>\n",
       "      <td>127296</td>\n",
       "      <td>51478</td>\n",
       "      <td>48906</td>\n",
       "      <td>866087</td>\n",
       "    </tr>\n",
       "    <tr>\n",
       "      <th>39</th>\n",
       "      <td>신림</td>\n",
       "      <td>169189</td>\n",
       "      <td>26855</td>\n",
       "      <td>259505</td>\n",
       "      <td>50025</td>\n",
       "      <td>152632</td>\n",
       "      <td>42542</td>\n",
       "      <td>76710</td>\n",
       "      <td>35268</td>\n",
       "      <td>812726</td>\n",
       "    </tr>\n",
       "    <tr>\n",
       "      <th>508</th>\n",
       "      <td>가산디지털단지</td>\n",
       "      <td>17159</td>\n",
       "      <td>105504</td>\n",
       "      <td>20214</td>\n",
       "      <td>343504</td>\n",
       "      <td>13738</td>\n",
       "      <td>198778</td>\n",
       "      <td>13331</td>\n",
       "      <td>53880</td>\n",
       "      <td>766108</td>\n",
       "    </tr>\n",
       "    <tr>\n",
       "      <th>30</th>\n",
       "      <td>역삼</td>\n",
       "      <td>11073</td>\n",
       "      <td>105499</td>\n",
       "      <td>19280</td>\n",
       "      <td>267827</td>\n",
       "      <td>18175</td>\n",
       "      <td>218403</td>\n",
       "      <td>17670</td>\n",
       "      <td>82553</td>\n",
       "      <td>740480</td>\n",
       "    </tr>\n",
       "  </tbody>\n",
       "</table>\n",
       "</div>"
      ],
      "text/plain": [
       "    Unnamed: 3    승차.3    하차.3    승차.4    하차.4    승차.5    하차.5   승차.6    하차.6  \\\n",
       "31          강남   29652  120313   46525  260062   37172  253781  37419  121344   \n",
       "41     구로디지털단지  111142   69658  154198  211123   92286  127296  51478   48906   \n",
       "39          신림  169189   26855  259505   50025  152632   42542  76710   35268   \n",
       "508    가산디지털단지   17159  105504   20214  343504   13738  198778  13331   53880   \n",
       "30          역삼   11073  105499   19280  267827   18175  218403  17670   82553   \n",
       "\n",
       "         출근  \n",
       "31   906268  \n",
       "41   866087  \n",
       "39   812726  \n",
       "508  766108  \n",
       "30   740480  "
      ]
     },
     "execution_count": 33,
     "metadata": {},
     "output_type": "execute_result"
    }
   ],
   "source": [
    "df3 = df2.sort_values(by='출근',ascending=False)\n",
    "df3.head()"
   ]
  },
  {
   "cell_type": "code",
   "execution_count": 34,
   "metadata": {},
   "outputs": [
    {
     "name": "stdout",
     "output_type": "stream",
     "text": [
      "[7312, 32431, 62867, 169189, 259505, 152632, 76710, 64159, 66910, 74938, 86107, 111104, 125759, 190350, 283331, 177478, 159575, 189419, 43747, 11496, 496, 3, 5, 0]\n"
     ]
    }
   ],
   "source": [
    "mx = df.iloc[:, range(4,52,2)].max(axis = 0).tolist()\n",
    "print(mx)"
   ]
  },
  {
   "cell_type": "code",
   "execution_count": 37,
   "metadata": {},
   "outputs": [
    {
     "ename": "KeyError",
     "evalue": "'지하철역'",
     "output_type": "error",
     "traceback": [
      "\u001b[1;31m---------------------------------------------------------------------------\u001b[0m",
      "\u001b[1;31mKeyError\u001b[0m                                  Traceback (most recent call last)",
      "File \u001b[1;32mc:\\Users\\admin\\anaconda3\\lib\\site-packages\\pandas\\core\\indexes\\base.py:3621\u001b[0m, in \u001b[0;36mIndex.get_loc\u001b[1;34m(self, key, method, tolerance)\u001b[0m\n\u001b[0;32m   <a href='file:///c%3A/Users/admin/anaconda3/lib/site-packages/pandas/core/indexes/base.py?line=3619'>3620</a>\u001b[0m \u001b[39mtry\u001b[39;00m:\n\u001b[1;32m-> <a href='file:///c%3A/Users/admin/anaconda3/lib/site-packages/pandas/core/indexes/base.py?line=3620'>3621</a>\u001b[0m     \u001b[39mreturn\u001b[39;00m \u001b[39mself\u001b[39;49m\u001b[39m.\u001b[39;49m_engine\u001b[39m.\u001b[39;49mget_loc(casted_key)\n\u001b[0;32m   <a href='file:///c%3A/Users/admin/anaconda3/lib/site-packages/pandas/core/indexes/base.py?line=3621'>3622</a>\u001b[0m \u001b[39mexcept\u001b[39;00m \u001b[39mKeyError\u001b[39;00m \u001b[39mas\u001b[39;00m err:\n",
      "File \u001b[1;32mc:\\Users\\admin\\anaconda3\\lib\\site-packages\\pandas\\_libs\\index.pyx:136\u001b[0m, in \u001b[0;36mpandas._libs.index.IndexEngine.get_loc\u001b[1;34m()\u001b[0m\n",
      "File \u001b[1;32mc:\\Users\\admin\\anaconda3\\lib\\site-packages\\pandas\\_libs\\index.pyx:163\u001b[0m, in \u001b[0;36mpandas._libs.index.IndexEngine.get_loc\u001b[1;34m()\u001b[0m\n",
      "File \u001b[1;32mpandas\\_libs\\hashtable_class_helper.pxi:5198\u001b[0m, in \u001b[0;36mpandas._libs.hashtable.PyObjectHashTable.get_item\u001b[1;34m()\u001b[0m\n",
      "File \u001b[1;32mpandas\\_libs\\hashtable_class_helper.pxi:5206\u001b[0m, in \u001b[0;36mpandas._libs.hashtable.PyObjectHashTable.get_item\u001b[1;34m()\u001b[0m\n",
      "\u001b[1;31mKeyError\u001b[0m: '지하철역'",
      "\nThe above exception was the direct cause of the following exception:\n",
      "\u001b[1;31mKeyError\u001b[0m                                  Traceback (most recent call last)",
      "\u001b[1;32mc:\\STUDY\\StudyPython22\\pandas\\[11]판다스 시계열-2.ipynb Cell 43'\u001b[0m in \u001b[0;36m<cell line: 2>\u001b[1;34m()\u001b[0m\n\u001b[0;32m      <a href='vscode-notebook-cell:/c%3A/STUDY/StudyPython22/pandas/%5B11%5D%ED%8C%90%EB%8B%A4%EC%8A%A4%20%EC%8B%9C%EA%B3%84%EC%97%B4-2.ipynb#ch0000051?line=1'>2</a>\u001b[0m \u001b[39mfor\u001b[39;00m i, e \u001b[39min\u001b[39;00m \u001b[39menumerate\u001b[39m(mx):\n\u001b[0;32m      <a href='vscode-notebook-cell:/c%3A/STUDY/StudyPython22/pandas/%5B11%5D%ED%8C%90%EB%8B%A4%EC%8A%A4%20%EC%8B%9C%EA%B3%84%EC%97%B4-2.ipynb#ch0000051?line=2'>3</a>\u001b[0m     \u001b[39mif\u001b[39;00m e:\n\u001b[0;32m      <a href='vscode-notebook-cell:/c%3A/STUDY/StudyPython22/pandas/%5B11%5D%ED%8C%90%EB%8B%A4%EC%8A%A4%20%EC%8B%9C%EA%B3%84%EC%97%B4-2.ipynb#ch0000051?line=3'>4</a>\u001b[0m         mx_station\u001b[39m.\u001b[39mappend(\u001b[39m'\u001b[39m\u001b[39m%s\u001b[39;00m\u001b[39m (\u001b[39m\u001b[39m%s\u001b[39;00m\u001b[39m)\u001b[39m\u001b[39m'\u001b[39m\n\u001b[1;32m----> <a href='vscode-notebook-cell:/c%3A/STUDY/StudyPython22/pandas/%5B11%5D%ED%8C%90%EB%8B%A4%EC%8A%A4%20%EC%8B%9C%EA%B3%84%EC%97%B4-2.ipynb#ch0000051?line=4'>5</a>\u001b[0m         \u001b[39m%\u001b[39m(df[df\u001b[39m.\u001b[39;49miloc[:,i\u001b[39m*\u001b[39;49m\u001b[39m2\u001b[39;49m\u001b[39m+\u001b[39;49m\u001b[39m4\u001b[39;49m] \u001b[39m==\u001b[39;49me][\u001b[39m'\u001b[39;49m\u001b[39m지하철역\u001b[39;49m\u001b[39m'\u001b[39;49m]\u001b[39m.\u001b[39miloc[\u001b[39m0\u001b[39m], i\u001b[39m+\u001b[39m\u001b[39m4\u001b[39m))\n",
      "File \u001b[1;32mc:\\Users\\admin\\anaconda3\\lib\\site-packages\\pandas\\core\\frame.py:3505\u001b[0m, in \u001b[0;36mDataFrame.__getitem__\u001b[1;34m(self, key)\u001b[0m\n\u001b[0;32m   <a href='file:///c%3A/Users/admin/anaconda3/lib/site-packages/pandas/core/frame.py?line=3502'>3503</a>\u001b[0m \u001b[39mif\u001b[39;00m \u001b[39mself\u001b[39m\u001b[39m.\u001b[39mcolumns\u001b[39m.\u001b[39mnlevels \u001b[39m>\u001b[39m \u001b[39m1\u001b[39m:\n\u001b[0;32m   <a href='file:///c%3A/Users/admin/anaconda3/lib/site-packages/pandas/core/frame.py?line=3503'>3504</a>\u001b[0m     \u001b[39mreturn\u001b[39;00m \u001b[39mself\u001b[39m\u001b[39m.\u001b[39m_getitem_multilevel(key)\n\u001b[1;32m-> <a href='file:///c%3A/Users/admin/anaconda3/lib/site-packages/pandas/core/frame.py?line=3504'>3505</a>\u001b[0m indexer \u001b[39m=\u001b[39m \u001b[39mself\u001b[39;49m\u001b[39m.\u001b[39;49mcolumns\u001b[39m.\u001b[39;49mget_loc(key)\n\u001b[0;32m   <a href='file:///c%3A/Users/admin/anaconda3/lib/site-packages/pandas/core/frame.py?line=3505'>3506</a>\u001b[0m \u001b[39mif\u001b[39;00m is_integer(indexer):\n\u001b[0;32m   <a href='file:///c%3A/Users/admin/anaconda3/lib/site-packages/pandas/core/frame.py?line=3506'>3507</a>\u001b[0m     indexer \u001b[39m=\u001b[39m [indexer]\n",
      "File \u001b[1;32mc:\\Users\\admin\\anaconda3\\lib\\site-packages\\pandas\\core\\indexes\\base.py:3623\u001b[0m, in \u001b[0;36mIndex.get_loc\u001b[1;34m(self, key, method, tolerance)\u001b[0m\n\u001b[0;32m   <a href='file:///c%3A/Users/admin/anaconda3/lib/site-packages/pandas/core/indexes/base.py?line=3620'>3621</a>\u001b[0m     \u001b[39mreturn\u001b[39;00m \u001b[39mself\u001b[39m\u001b[39m.\u001b[39m_engine\u001b[39m.\u001b[39mget_loc(casted_key)\n\u001b[0;32m   <a href='file:///c%3A/Users/admin/anaconda3/lib/site-packages/pandas/core/indexes/base.py?line=3621'>3622</a>\u001b[0m \u001b[39mexcept\u001b[39;00m \u001b[39mKeyError\u001b[39;00m \u001b[39mas\u001b[39;00m err:\n\u001b[1;32m-> <a href='file:///c%3A/Users/admin/anaconda3/lib/site-packages/pandas/core/indexes/base.py?line=3622'>3623</a>\u001b[0m     \u001b[39mraise\u001b[39;00m \u001b[39mKeyError\u001b[39;00m(key) \u001b[39mfrom\u001b[39;00m \u001b[39merr\u001b[39;00m\n\u001b[0;32m   <a href='file:///c%3A/Users/admin/anaconda3/lib/site-packages/pandas/core/indexes/base.py?line=3623'>3624</a>\u001b[0m \u001b[39mexcept\u001b[39;00m \u001b[39mTypeError\u001b[39;00m:\n\u001b[0;32m   <a href='file:///c%3A/Users/admin/anaconda3/lib/site-packages/pandas/core/indexes/base.py?line=3624'>3625</a>\u001b[0m     \u001b[39m# If we have a listlike key, _check_indexing_error will raise\u001b[39;00m\n\u001b[0;32m   <a href='file:///c%3A/Users/admin/anaconda3/lib/site-packages/pandas/core/indexes/base.py?line=3625'>3626</a>\u001b[0m     \u001b[39m#  InvalidIndexError. Otherwise we fall through and re-raise\u001b[39;00m\n\u001b[0;32m   <a href='file:///c%3A/Users/admin/anaconda3/lib/site-packages/pandas/core/indexes/base.py?line=3626'>3627</a>\u001b[0m     \u001b[39m#  the TypeError.\u001b[39;00m\n\u001b[0;32m   <a href='file:///c%3A/Users/admin/anaconda3/lib/site-packages/pandas/core/indexes/base.py?line=3627'>3628</a>\u001b[0m     \u001b[39mself\u001b[39m\u001b[39m.\u001b[39m_check_indexing_error(key)\n",
      "\u001b[1;31mKeyError\u001b[0m: '지하철역'"
     ]
    }
   ],
   "source": [
    "mx_station = []\n",
    "for i, e in enumerate(mx):\n",
    "    if e:\n",
    "        mx_station.append('%s (%s)'\n",
    "            %(df[df.iloc[:,i*2+4] ==e]['지하철역'].iloc[0], i+4))"
   ]
  },
  {
   "cell_type": "code",
   "execution_count": 38,
   "metadata": {},
   "outputs": [
    {
     "ename": "ValueError",
     "evalue": "shape mismatch: objects cannot be broadcast to a single shape",
     "output_type": "error",
     "traceback": [
      "\u001b[1;31m---------------------------------------------------------------------------\u001b[0m",
      "\u001b[1;31mValueError\u001b[0m                                Traceback (most recent call last)",
      "\u001b[1;32mc:\\STUDY\\StudyPython22\\pandas\\[11]판다스 시계열-2.ipynb Cell 44'\u001b[0m in \u001b[0;36m<cell line: 5>\u001b[1;34m()\u001b[0m\n\u001b[0;32m      <a href='vscode-notebook-cell:/c%3A/STUDY/StudyPython22/pandas/%5B11%5D%ED%8C%90%EB%8B%A4%EC%8A%A4%20%EC%8B%9C%EA%B3%84%EC%97%B4-2.ipynb#ch0000063?line=1'>2</a>\u001b[0m plt\u001b[39m.\u001b[39mrc(\u001b[39m'\u001b[39m\u001b[39mfont\u001b[39m\u001b[39m'\u001b[39m, family \u001b[39m=\u001b[39m \u001b[39m'\u001b[39m\u001b[39mMalgun Gothic\u001b[39m\u001b[39m'\u001b[39m)\n\u001b[0;32m      <a href='vscode-notebook-cell:/c%3A/STUDY/StudyPython22/pandas/%5B11%5D%ED%8C%90%EB%8B%A4%EC%8A%A4%20%EC%8B%9C%EA%B3%84%EC%97%B4-2.ipynb#ch0000063?line=2'>3</a>\u001b[0m plt\u001b[39m.\u001b[39mrcParams[\u001b[39m'\u001b[39m\u001b[39maxes.unicode_minus\u001b[39m\u001b[39m'\u001b[39m] \u001b[39m==\u001b[39m \u001b[39mFalse\u001b[39;00m\n\u001b[1;32m----> <a href='vscode-notebook-cell:/c%3A/STUDY/StudyPython22/pandas/%5B11%5D%ED%8C%90%EB%8B%A4%EC%8A%A4%20%EC%8B%9C%EA%B3%84%EC%97%B4-2.ipynb#ch0000063?line=4'>5</a>\u001b[0m plt\u001b[39m.\u001b[39;49mbar(\u001b[39mrange\u001b[39;49m(\u001b[39mlen\u001b[39;49m(mx_station)), mx, color \u001b[39m=\u001b[39;49m\u001b[39m'\u001b[39;49m\u001b[39mblue\u001b[39;49m\u001b[39m'\u001b[39;49m)\n\u001b[0;32m      <a href='vscode-notebook-cell:/c%3A/STUDY/StudyPython22/pandas/%5B11%5D%ED%8C%90%EB%8B%A4%EC%8A%A4%20%EC%8B%9C%EA%B3%84%EC%97%B4-2.ipynb#ch0000063?line=5'>6</a>\u001b[0m plt\u001b[39m.\u001b[39mxticks(\u001b[39mrange\u001b[39m(\u001b[39mlen\u001b[39m(mx_station)), mx_station, rotation\u001b[39m=\u001b[39m\u001b[39m90\u001b[39m)\n\u001b[0;32m      <a href='vscode-notebook-cell:/c%3A/STUDY/StudyPython22/pandas/%5B11%5D%ED%8C%90%EB%8B%A4%EC%8A%A4%20%EC%8B%9C%EA%B3%84%EC%97%B4-2.ipynb#ch0000063?line=6'>7</a>\u001b[0m plt\u001b[39m.\u001b[39mshow()\n",
      "File \u001b[1;32mc:\\Users\\admin\\anaconda3\\lib\\site-packages\\matplotlib\\pyplot.py:2387\u001b[0m, in \u001b[0;36mbar\u001b[1;34m(x, height, width, bottom, align, data, **kwargs)\u001b[0m\n\u001b[0;32m   <a href='file:///c%3A/Users/admin/anaconda3/lib/site-packages/matplotlib/pyplot.py?line=2382'>2383</a>\u001b[0m \u001b[39m@_copy_docstring_and_deprecators\u001b[39m(Axes\u001b[39m.\u001b[39mbar)\n\u001b[0;32m   <a href='file:///c%3A/Users/admin/anaconda3/lib/site-packages/matplotlib/pyplot.py?line=2383'>2384</a>\u001b[0m \u001b[39mdef\u001b[39;00m \u001b[39mbar\u001b[39m(\n\u001b[0;32m   <a href='file:///c%3A/Users/admin/anaconda3/lib/site-packages/matplotlib/pyplot.py?line=2384'>2385</a>\u001b[0m         x, height, width\u001b[39m=\u001b[39m\u001b[39m0.8\u001b[39m, bottom\u001b[39m=\u001b[39m\u001b[39mNone\u001b[39;00m, \u001b[39m*\u001b[39m, align\u001b[39m=\u001b[39m\u001b[39m'\u001b[39m\u001b[39mcenter\u001b[39m\u001b[39m'\u001b[39m,\n\u001b[0;32m   <a href='file:///c%3A/Users/admin/anaconda3/lib/site-packages/matplotlib/pyplot.py?line=2385'>2386</a>\u001b[0m         data\u001b[39m=\u001b[39m\u001b[39mNone\u001b[39;00m, \u001b[39m*\u001b[39m\u001b[39m*\u001b[39mkwargs):\n\u001b[1;32m-> <a href='file:///c%3A/Users/admin/anaconda3/lib/site-packages/matplotlib/pyplot.py?line=2386'>2387</a>\u001b[0m     \u001b[39mreturn\u001b[39;00m gca()\u001b[39m.\u001b[39mbar(\n\u001b[0;32m   <a href='file:///c%3A/Users/admin/anaconda3/lib/site-packages/matplotlib/pyplot.py?line=2387'>2388</a>\u001b[0m         x, height, width\u001b[39m=\u001b[39mwidth, bottom\u001b[39m=\u001b[39mbottom, align\u001b[39m=\u001b[39malign,\n\u001b[0;32m   <a href='file:///c%3A/Users/admin/anaconda3/lib/site-packages/matplotlib/pyplot.py?line=2388'>2389</a>\u001b[0m         \u001b[39m*\u001b[39m\u001b[39m*\u001b[39m({\u001b[39m\"\u001b[39m\u001b[39mdata\u001b[39m\u001b[39m\"\u001b[39m: data} \u001b[39mif\u001b[39;00m data \u001b[39mis\u001b[39;00m \u001b[39mnot\u001b[39;00m \u001b[39mNone\u001b[39;00m \u001b[39melse\u001b[39;00m {}), \u001b[39m*\u001b[39m\u001b[39m*\u001b[39mkwargs)\n",
      "File \u001b[1;32mc:\\Users\\admin\\anaconda3\\lib\\site-packages\\matplotlib\\__init__.py:1412\u001b[0m, in \u001b[0;36m_preprocess_data.<locals>.inner\u001b[1;34m(ax, data, *args, **kwargs)\u001b[0m\n\u001b[0;32m   <a href='file:///c%3A/Users/admin/anaconda3/lib/site-packages/matplotlib/__init__.py?line=1408'>1409</a>\u001b[0m \u001b[39m@functools\u001b[39m\u001b[39m.\u001b[39mwraps(func)\n\u001b[0;32m   <a href='file:///c%3A/Users/admin/anaconda3/lib/site-packages/matplotlib/__init__.py?line=1409'>1410</a>\u001b[0m \u001b[39mdef\u001b[39;00m \u001b[39minner\u001b[39m(ax, \u001b[39m*\u001b[39margs, data\u001b[39m=\u001b[39m\u001b[39mNone\u001b[39;00m, \u001b[39m*\u001b[39m\u001b[39m*\u001b[39mkwargs):\n\u001b[0;32m   <a href='file:///c%3A/Users/admin/anaconda3/lib/site-packages/matplotlib/__init__.py?line=1410'>1411</a>\u001b[0m     \u001b[39mif\u001b[39;00m data \u001b[39mis\u001b[39;00m \u001b[39mNone\u001b[39;00m:\n\u001b[1;32m-> <a href='file:///c%3A/Users/admin/anaconda3/lib/site-packages/matplotlib/__init__.py?line=1411'>1412</a>\u001b[0m         \u001b[39mreturn\u001b[39;00m func(ax, \u001b[39m*\u001b[39m\u001b[39mmap\u001b[39m(sanitize_sequence, args), \u001b[39m*\u001b[39m\u001b[39m*\u001b[39mkwargs)\n\u001b[0;32m   <a href='file:///c%3A/Users/admin/anaconda3/lib/site-packages/matplotlib/__init__.py?line=1413'>1414</a>\u001b[0m     bound \u001b[39m=\u001b[39m new_sig\u001b[39m.\u001b[39mbind(ax, \u001b[39m*\u001b[39margs, \u001b[39m*\u001b[39m\u001b[39m*\u001b[39mkwargs)\n\u001b[0;32m   <a href='file:///c%3A/Users/admin/anaconda3/lib/site-packages/matplotlib/__init__.py?line=1414'>1415</a>\u001b[0m     auto_label \u001b[39m=\u001b[39m (bound\u001b[39m.\u001b[39marguments\u001b[39m.\u001b[39mget(label_namer)\n\u001b[0;32m   <a href='file:///c%3A/Users/admin/anaconda3/lib/site-packages/matplotlib/__init__.py?line=1415'>1416</a>\u001b[0m                   \u001b[39mor\u001b[39;00m bound\u001b[39m.\u001b[39mkwargs\u001b[39m.\u001b[39mget(label_namer))\n",
      "File \u001b[1;32mc:\\Users\\admin\\anaconda3\\lib\\site-packages\\matplotlib\\axes\\_axes.py:2342\u001b[0m, in \u001b[0;36mAxes.bar\u001b[1;34m(self, x, height, width, bottom, align, **kwargs)\u001b[0m\n\u001b[0;32m   <a href='file:///c%3A/Users/admin/anaconda3/lib/site-packages/matplotlib/axes/_axes.py?line=2338'>2339</a>\u001b[0m     \u001b[39mif\u001b[39;00m yerr \u001b[39mis\u001b[39;00m \u001b[39mnot\u001b[39;00m \u001b[39mNone\u001b[39;00m:\n\u001b[0;32m   <a href='file:///c%3A/Users/admin/anaconda3/lib/site-packages/matplotlib/axes/_axes.py?line=2339'>2340</a>\u001b[0m         yerr \u001b[39m=\u001b[39m \u001b[39mself\u001b[39m\u001b[39m.\u001b[39m_convert_dx(yerr, y0, y, \u001b[39mself\u001b[39m\u001b[39m.\u001b[39mconvert_yunits)\n\u001b[1;32m-> <a href='file:///c%3A/Users/admin/anaconda3/lib/site-packages/matplotlib/axes/_axes.py?line=2341'>2342</a>\u001b[0m x, height, width, y, linewidth, hatch \u001b[39m=\u001b[39m np\u001b[39m.\u001b[39;49mbroadcast_arrays(\n\u001b[0;32m   <a href='file:///c%3A/Users/admin/anaconda3/lib/site-packages/matplotlib/axes/_axes.py?line=2342'>2343</a>\u001b[0m     \u001b[39m# Make args iterable too.\u001b[39;49;00m\n\u001b[0;32m   <a href='file:///c%3A/Users/admin/anaconda3/lib/site-packages/matplotlib/axes/_axes.py?line=2343'>2344</a>\u001b[0m     np\u001b[39m.\u001b[39;49matleast_1d(x), height, width, y, linewidth, hatch)\n\u001b[0;32m   <a href='file:///c%3A/Users/admin/anaconda3/lib/site-packages/matplotlib/axes/_axes.py?line=2345'>2346</a>\u001b[0m \u001b[39m# Now that units have been converted, set the tick locations.\u001b[39;00m\n\u001b[0;32m   <a href='file:///c%3A/Users/admin/anaconda3/lib/site-packages/matplotlib/axes/_axes.py?line=2346'>2347</a>\u001b[0m \u001b[39mif\u001b[39;00m orientation \u001b[39m==\u001b[39m \u001b[39m'\u001b[39m\u001b[39mvertical\u001b[39m\u001b[39m'\u001b[39m:\n",
      "File \u001b[1;32m<__array_function__ internals>:5\u001b[0m, in \u001b[0;36mbroadcast_arrays\u001b[1;34m(*args, **kwargs)\u001b[0m\n",
      "File \u001b[1;32mc:\\Users\\admin\\anaconda3\\lib\\site-packages\\numpy\\lib\\stride_tricks.py:538\u001b[0m, in \u001b[0;36mbroadcast_arrays\u001b[1;34m(subok, *args)\u001b[0m\n\u001b[0;32m    <a href='file:///c%3A/Users/admin/anaconda3/lib/site-packages/numpy/lib/stride_tricks.py?line=530'>531</a>\u001b[0m \u001b[39m# nditer is not used here to avoid the limit of 32 arrays.\u001b[39;00m\n\u001b[0;32m    <a href='file:///c%3A/Users/admin/anaconda3/lib/site-packages/numpy/lib/stride_tricks.py?line=531'>532</a>\u001b[0m \u001b[39m# Otherwise, something like the following one-liner would suffice:\u001b[39;00m\n\u001b[0;32m    <a href='file:///c%3A/Users/admin/anaconda3/lib/site-packages/numpy/lib/stride_tricks.py?line=532'>533</a>\u001b[0m \u001b[39m# return np.nditer(args, flags=['multi_index', 'zerosize_ok'],\u001b[39;00m\n\u001b[0;32m    <a href='file:///c%3A/Users/admin/anaconda3/lib/site-packages/numpy/lib/stride_tricks.py?line=533'>534</a>\u001b[0m \u001b[39m#                  order='C').itviews\u001b[39;00m\n\u001b[0;32m    <a href='file:///c%3A/Users/admin/anaconda3/lib/site-packages/numpy/lib/stride_tricks.py?line=535'>536</a>\u001b[0m args \u001b[39m=\u001b[39m [np\u001b[39m.\u001b[39marray(_m, copy\u001b[39m=\u001b[39m\u001b[39mFalse\u001b[39;00m, subok\u001b[39m=\u001b[39msubok) \u001b[39mfor\u001b[39;00m _m \u001b[39min\u001b[39;00m args]\n\u001b[1;32m--> <a href='file:///c%3A/Users/admin/anaconda3/lib/site-packages/numpy/lib/stride_tricks.py?line=537'>538</a>\u001b[0m shape \u001b[39m=\u001b[39m _broadcast_shape(\u001b[39m*\u001b[39;49margs)\n\u001b[0;32m    <a href='file:///c%3A/Users/admin/anaconda3/lib/site-packages/numpy/lib/stride_tricks.py?line=539'>540</a>\u001b[0m \u001b[39mif\u001b[39;00m \u001b[39mall\u001b[39m(array\u001b[39m.\u001b[39mshape \u001b[39m==\u001b[39m shape \u001b[39mfor\u001b[39;00m array \u001b[39min\u001b[39;00m args):\n\u001b[0;32m    <a href='file:///c%3A/Users/admin/anaconda3/lib/site-packages/numpy/lib/stride_tricks.py?line=540'>541</a>\u001b[0m     \u001b[39m# Common case where nothing needs to be broadcasted.\u001b[39;00m\n\u001b[0;32m    <a href='file:///c%3A/Users/admin/anaconda3/lib/site-packages/numpy/lib/stride_tricks.py?line=541'>542</a>\u001b[0m     \u001b[39mreturn\u001b[39;00m args\n",
      "File \u001b[1;32mc:\\Users\\admin\\anaconda3\\lib\\site-packages\\numpy\\lib\\stride_tricks.py:420\u001b[0m, in \u001b[0;36m_broadcast_shape\u001b[1;34m(*args)\u001b[0m\n\u001b[0;32m    <a href='file:///c%3A/Users/admin/anaconda3/lib/site-packages/numpy/lib/stride_tricks.py?line=414'>415</a>\u001b[0m \u001b[39m\"\"\"Returns the shape of the arrays that would result from broadcasting the\u001b[39;00m\n\u001b[0;32m    <a href='file:///c%3A/Users/admin/anaconda3/lib/site-packages/numpy/lib/stride_tricks.py?line=415'>416</a>\u001b[0m \u001b[39msupplied arrays against each other.\u001b[39;00m\n\u001b[0;32m    <a href='file:///c%3A/Users/admin/anaconda3/lib/site-packages/numpy/lib/stride_tricks.py?line=416'>417</a>\u001b[0m \u001b[39m\"\"\"\u001b[39;00m\n\u001b[0;32m    <a href='file:///c%3A/Users/admin/anaconda3/lib/site-packages/numpy/lib/stride_tricks.py?line=417'>418</a>\u001b[0m \u001b[39m# use the old-iterator because np.nditer does not handle size 0 arrays\u001b[39;00m\n\u001b[0;32m    <a href='file:///c%3A/Users/admin/anaconda3/lib/site-packages/numpy/lib/stride_tricks.py?line=418'>419</a>\u001b[0m \u001b[39m# consistently\u001b[39;00m\n\u001b[1;32m--> <a href='file:///c%3A/Users/admin/anaconda3/lib/site-packages/numpy/lib/stride_tricks.py?line=419'>420</a>\u001b[0m b \u001b[39m=\u001b[39m np\u001b[39m.\u001b[39;49mbroadcast(\u001b[39m*\u001b[39;49margs[:\u001b[39m32\u001b[39;49m])\n\u001b[0;32m    <a href='file:///c%3A/Users/admin/anaconda3/lib/site-packages/numpy/lib/stride_tricks.py?line=420'>421</a>\u001b[0m \u001b[39m# unfortunately, it cannot handle 32 or more arguments directly\u001b[39;00m\n\u001b[0;32m    <a href='file:///c%3A/Users/admin/anaconda3/lib/site-packages/numpy/lib/stride_tricks.py?line=421'>422</a>\u001b[0m \u001b[39mfor\u001b[39;00m pos \u001b[39min\u001b[39;00m \u001b[39mrange\u001b[39m(\u001b[39m32\u001b[39m, \u001b[39mlen\u001b[39m(args), \u001b[39m31\u001b[39m):\n\u001b[0;32m    <a href='file:///c%3A/Users/admin/anaconda3/lib/site-packages/numpy/lib/stride_tricks.py?line=422'>423</a>\u001b[0m     \u001b[39m# ironically, np.broadcast does not properly handle np.broadcast\u001b[39;00m\n\u001b[0;32m    <a href='file:///c%3A/Users/admin/anaconda3/lib/site-packages/numpy/lib/stride_tricks.py?line=423'>424</a>\u001b[0m     \u001b[39m# objects (it treats them as scalars)\u001b[39;00m\n\u001b[0;32m    <a href='file:///c%3A/Users/admin/anaconda3/lib/site-packages/numpy/lib/stride_tricks.py?line=424'>425</a>\u001b[0m     \u001b[39m# use broadcasting to avoid allocating the full array\u001b[39;00m\n",
      "\u001b[1;31mValueError\u001b[0m: shape mismatch: objects cannot be broadcast to a single shape"
     ]
    },
    {
     "data": {
      "image/png": "[encoded data removed]",
      "text/plain": [
       "<Figure size 432x288 with 1 Axes>"
      ]
     },
     "metadata": {
      "needs_background": "light"
     },
     "output_type": "display_data"
    }
   ],
   "source": [
    "import matplotlib.pyplot as plt\n",
    "plt.rc('font', family = 'Malgun Gothic')\n",
    "plt.rcParams['axes.unicode_minus'] == False\n",
    "\n",
    "plt.bar(range(len(mx_station)), mx, color ='blue')\n",
    "plt.xticks(range(len(mx_station)), mx_station, rotation=90)\n",
    "plt.show()"
   ]
  },
  {
   "cell_type": "code",
   "execution_count": 39,
   "metadata": {},
   "outputs": [
    {
     "data": {
      "text/plain": [
       "(24, 0)"
      ]
     },
     "execution_count": 39,
     "metadata": {},
     "output_type": "execute_result"
    }
   ],
   "source": [
    "len(mx), len(mx_station)"
   ]
  },
  {
   "cell_type": "code",
   "execution_count": null,
   "metadata": {},
   "outputs": [],
   "source": []
  },
  {
   "cell_type": "code",
   "execution_count": null,
   "metadata": {},
   "outputs": [],
   "source": []
  },
  {
   "cell_type": "code",
   "execution_count": null,
   "metadata": {},
   "outputs": [],
   "source": []
  },
  {
   "cell_type": "code",
   "execution_count": null,
   "metadata": {},
   "outputs": [],
   "source": []
  },
  {
   "cell_type": "code",
   "execution_count": null,
   "metadata": {},
   "outputs": [],
   "source": []
  },
  {
   "cell_type": "code",
   "execution_count": null,
   "metadata": {},
   "outputs": [],
   "source": []
  },
  {
   "cell_type": "code",
   "execution_count": 12,
   "metadata": {},
   "outputs": [],
   "source": []
  },
  {
   "cell_type": "code",
   "execution_count": null,
   "metadata": {},
   "outputs": [],
   "source": []
  },
  {
   "cell_type": "code",
   "execution_count": null,
   "metadata": {},
   "outputs": [],
   "source": []
  },
  {
   "cell_type": "code",
   "execution_count": null,
   "metadata": {},
   "outputs": [],
   "source": []
  },
  {
   "cell_type": "code",
   "execution_count": null,
   "metadata": {},
   "outputs": [],
   "source": []
  }
 ],
 "metadata": {
  "interpreter": {
   "hash": "610a6f344c2137faf927ea819c63f6cee33a2c04455044b28099f39fe9722347"
  },
  "kernelspec": {
   "display_name": "Python 3.9.12 ('base')",
   "language": "python",
   "name": "python3"
  },
  "language_info": {
   "codemirror_mode": {
    "name": "ipython",
    "version": 3
   },
   "file_extension": ".py",
   "mimetype": "text/x-python",
   "name": "python",
   "nbconvert_exporter": "python",
   "pygments_lexer": "ipython3",
   "version": "3.9.12"
  },
  "orig_nbformat": 4
 },
 "nbformat": 4,
 "nbformat_minor": 2
}
